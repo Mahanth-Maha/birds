{
 "cells": [
  {
   "cell_type": "code",
   "execution_count": 8,
   "metadata": {},
   "outputs": [
    {
     "data": {
      "text/plain": [
       "{'auditory system': 'tympanic middle ear',\n",
       " 'biogeographic realm': 'the indo-malayan realm',\n",
       " 'body mass': '27 g',\n",
       " 'eats': 'Mastixia pentandra Blume',\n",
       " 'geographic distribution includes': 'Indonesia',\n",
       " 'habitat': 'river,terrestrial',\n",
       " 'hearing threshold': '10 dB',\n",
       " 'locomotion': 'flight',\n",
       " 'mineralized skeleton contains': 'apatite',\n",
       " 'population trend': 'Stable',\n",
       " 'visual system': 'corneal eyes'}"
      ]
     },
     "execution_count": 8,
     "metadata": {},
     "output_type": "execute_result"
    }
   ],
   "source": [
    "from bs4 import BeautifulSoup\n",
    "from selenium import webdriver\n",
    "import scrapy\n",
    "import pandas as pd\n",
    "import csv\n",
    "import pandas as pd\n",
    "from selenium import webdriver\n",
    "from selenium.webdriver.common.keys import Keys\n",
    "from selenium.webdriver.support import expected_conditions as EC\n",
    "from selenium.webdriver.common.by import By\n",
    "from selenium.webdriver.support.wait import WebDriverWait\n",
    "import time\n",
    "import os\n",
    "import requests\n",
    "from bs4 import BeautifulSoup\n",
    "from datetime import datetime\n",
    "\n",
    "\n",
    "def get_page_of_bird(bird_name):\n",
    "    driver.get('https://eol.org/')\n",
    "    input_eol = WebDriverWait(driver,10).until(EC.element_to_be_clickable((By.CSS_SELECTOR,\"input[name='q']\")))\n",
    "    input_eol.send_keys(bird_name)\n",
    "    input_eol.send_keys(u'\\ue007')\n",
    "    try:\n",
    "        ps = driver.find_element(by=By.CLASS_NAME, value=\"uk-link-reset\")\n",
    "        return ps.get_attribute('href')\n",
    "    except Exception:\n",
    "        return None\n",
    "\n",
    "def scrape_v_2(URL):\n",
    "    if URL :\n",
    "        d = {}\n",
    "        page = requests.get(URL)\n",
    "        soup = BeautifulSoup(page.content, \"html.parser\")\n",
    "        keys = soup.find_all(\"div\",class_=\"sample-trait-key\")\n",
    "        values = soup.find_all([\"div\",\"a\"],class_=\"sample-trait-val\")\n",
    "        \n",
    "        for i,j in zip(keys,values):\n",
    "            key = i.get_text()\n",
    "            value = j.get_text()\n",
    "            if key in d:\n",
    "                d[key] = str(d[key]) + \",\" + str(value)\n",
    "            else:\n",
    "                d[key] = value\n",
    "        return d\n",
    "    return 'NODATA'\n",
    "\n",
    "\n",
    "def eol(fro,to,csv_file):\n",
    "    types_of_birds_df = pd.read_csv('assets/birds.csv',index_col='ID')\n",
    "    list_of_bird_names = [ types_of_birds_df.loc[ _ ,'Common Bird Names'] for _ in range(1,types_of_birds_df.shape[0]) ]\n",
    "    data_from_eol = {}\n",
    "    re_search_on = [] \n",
    "    writer = csv.writer(open('assets/'+ csv_file +'.csv',\"w\",newline=''))\n",
    "    for bird_name in list_of_bird_names[fro:to]:\n",
    "        try:\n",
    "            data_from_eol[bird_name] = scrape_v_2(get_page_of_bird(bird_name))\n",
    "            try:\n",
    "                writer.writerow([bird_name,data_from_eol[bird_name]])\n",
    "            except UnicodeEncodeError:\n",
    "                writer.writerow([list_of_bird_names.index(bird_name),data_from_eol[bird_name]])\n",
    "            if (not data_from_eol) or (data_from_eol[bird_name]=='NODATA') :\n",
    "                re_search_on.append(bird_name)\n",
    "                print('[-] ',bird_name)\n",
    "            else:\n",
    "                print('[+] ',bird_name)\n",
    "        except Exception:\n",
    "            writer.writerow([bird_name,'NODATA'])\n",
    "            print('----------> Unknown Exceptions for Bird ',bird_name)\n",
    "    print(re_search_on)\n",
    "    # return (data_from_eol,re_search_on)\n",
    "\n",
    "scrape_v_2('https://eol.org/pages/1052278')\n"
   ]
  },
  {
   "cell_type": "code",
   "execution_count": null,
   "metadata": {},
   "outputs": [],
   "source": []
  },
  {
   "cell_type": "code",
   "execution_count": null,
   "metadata": {},
   "outputs": [],
   "source": []
  }
 ],
 "metadata": {
  "kernelspec": {
   "display_name": "Akwiki",
   "language": "python",
   "name": "indicwiki"
  },
  "language_info": {
   "codemirror_mode": {
    "name": "ipython",
    "version": 3
   },
   "file_extension": ".py",
   "mimetype": "text/x-python",
   "name": "python",
   "nbconvert_exporter": "python",
   "pygments_lexer": "ipython3",
   "version": "3.9.7"
  },
  "orig_nbformat": 4
 },
 "nbformat": 4,
 "nbformat_minor": 2
}
