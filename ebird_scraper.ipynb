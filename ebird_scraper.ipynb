{
 "cells": [
  {
   "cell_type": "code",
   "execution_count": 8,
   "metadata": {},
   "outputs": [],
   "source": [
    "from selenium import webdriver\n",
    "from selenium.webdriver.common.keys import Keys\n",
    "from selenium.webdriver.support import expected_conditions as EC\n",
    "from selenium.webdriver.common.by import By\n",
    "from selenium.webdriver.support.wait import WebDriverWait\n",
    "from bs4 import BeautifulSoup\n",
    "import scrapy\n",
    "import pandas as pd\n",
    "import csv\n",
    "import os\n",
    "import requests\n",
    "import time\n",
    "import random \n",
    "from datetime import datetime\n"
   ]
  },
  {
   "cell_type": "code",
   "execution_count": 9,
   "metadata": {},
   "outputs": [
    {
     "name": "stderr",
     "output_type": "stream",
     "text": [
      "C:\\Users\\LEGION\\AppData\\Local\\Temp\\ipykernel_37572\\4268123770.py:1: DeprecationWarning: executable_path has been deprecated, please pass in a Service object\n",
      "  driver = webdriver.Chrome('./chromedriver.exe')\n"
     ]
    }
   ],
   "source": [
    "driver = webdriver.Chrome('./chromedriver.exe')\n",
    "driver.get('https://ebird.org/explore')\n",
    "input_ebird = WebDriverWait(driver,10).until(EC.element_to_be_clickable((By.CSS_SELECTOR,\"input[placeholder='Enter species name']\")))\n"
   ]
  },
  {
   "cell_type": "code",
   "execution_count": 10,
   "metadata": {},
   "outputs": [],
   "source": [
    "input_ebird.send_keys('Mourning dove')\n",
    "input_ebird.send_keys(Keys.ENTER)\n",
    "time.sleep(2)"
   ]
  },
  {
   "cell_type": "code",
   "execution_count": 11,
   "metadata": {},
   "outputs": [],
   "source": [
    "input_ebird.send_keys(Keys.ENTER)"
   ]
  },
  {
   "cell_type": "code",
   "execution_count": 12,
   "metadata": {},
   "outputs": [],
   "source": [
    "input_ebird.send_keys(Keys.ENTER)"
   ]
  },
  {
   "cell_type": "code",
   "execution_count": null,
   "metadata": {},
   "outputs": [],
   "source": [
    "\n",
    "# placeholder=\"Enter species name\" \n",
    "def get_page_of_bird_ebird(bird_name):\n",
    "    driver.get('https://ebird.org/explore')\n",
    "    input_eol = WebDriverWait(driver,10).until(EC.element_to_be_clickable((By.CSS_SELECTOR,\"input[name='q']\")))\n",
    "    input_eol.send_keys(bird_name)\n",
    "    input_eol.send_keys(u'\\ue007')\n",
    "    try:\n",
    "        ps = driver.find_element(by=By.CLASS_NAME, value=\"uk-link-reset\")\n",
    "        return ps.get_attribute('href')\n",
    "    except Exception:\n",
    "        return None\n",
    "\n",
    "def scrape_v_2_ebird(URL):\n",
    "    if URL :\n",
    "        d = {}\n",
    "        page = requests.get(URL)\n",
    "        soup = BeautifulSoup(page.content, \"html.parser\")\n",
    "        keys = soup.find_all(\"div\",class_=\"sample-trait-key\")\n",
    "        values = soup.find_all(\"div\",class_=\"sample-trait-val\")\n",
    "        \n",
    "        for i,j in zip(keys,values):\n",
    "            key = i.get_text()\n",
    "            value = j.get_text()\n",
    "            if key in d:\n",
    "                d[key] = str(d[key]) + \",\" + str(value)\n",
    "            else:\n",
    "                d[key] = value\n",
    "        return d\n",
    "    return 'NODATA'\n",
    "\n",
    "\n",
    "def ebird(fro,to,csv_file):\n",
    "    types_of_birds_df = pd.read_csv('assets/birds.csv',index_col='ID')\n",
    "    list_of_bird_names = [ types_of_birds_df.loc[ _ ,'Common Bird Names'] for _ in range(1,types_of_birds_df.shape[0]) ]\n",
    "    data_from_eol = {}\n",
    "    re_search_on = [] \n",
    "    writer = csv.writer(open('assets/'+ csv_file +'.csv',\"a\",newline=''))\n",
    "    for bird_name in list_of_bird_names[fro:to]:\n",
    "        try:\n",
    "            data_from_eol[bird_name] = scrape_v_2_ebird(get_page_of_bird_ebird(bird_name))\n",
    "            try:\n",
    "                writer.writerow([bird_name,data_from_eol[bird_name]])\n",
    "            except UnicodeEncodeError:\n",
    "                writer.writerow([list_of_bird_names.index(bird_name),data_from_eol[bird_name]])\n",
    "            if (not data_from_eol) or (data_from_eol[bird_name]=='NODATA') :\n",
    "                re_search_on.append(bird_name)\n",
    "                print('[-] ',bird_name)\n",
    "            else:\n",
    "                print('[+] ',bird_name)\n",
    "        except Exception:\n",
    "            writer.writerow([bird_name,'NODATA'])\n",
    "            print('----------> Unknown Exceptions for Bird ',bird_name)\n",
    "    print(re_search_on)\n",
    "\n",
    "driver = webdriver.Chrome('./chromedriver.exe')"
   ]
  }
 ],
 "metadata": {
  "kernelspec": {
   "display_name": "TeWiki",
   "language": "python",
   "name": "indicwiki"
  },
  "language_info": {
   "codemirror_mode": {
    "name": "ipython",
    "version": 3
   },
   "file_extension": ".py",
   "mimetype": "text/x-python",
   "name": "python",
   "nbconvert_exporter": "python",
   "pygments_lexer": "ipython3",
   "version": "3.9.7"
  },
  "orig_nbformat": 4
 },
 "nbformat": 4,
 "nbformat_minor": 2
}
