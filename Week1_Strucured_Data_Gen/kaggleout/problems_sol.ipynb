{
 "cells": [
  {
   "cell_type": "code",
   "execution_count": null,
   "metadata": {},
   "outputs": [],
   "source": [
    "import pandas as pd\n",
    "import numpy as np\n",
    "from tqdm import tqdm \n",
    "import sweetviz as sv\n",
    "from deep_translator import GoogleTranslator\n",
    "from anuvaad import Anuvaad\n",
    "\n",
    "pd.set_option('display.max_rows', 500)\n",
    "pd.set_option('display.max_columns', 500)\n",
    "pd.set_option('display.width', 1000)\n",
    "\n",
    "def out(data,ver,rep=False):\n",
    "    data.to_pickle('Dataset_final_v'+ver+'.pkl')\n",
    "    data.to_csv('Dataset_final_v'+ver+'.csv')\n",
    "    data.to_excel('Dataset_final_v'+ver+'.xlsx')\n",
    "    if rep :\n",
    "        sv.analyze(data).show_html('report_final_data_v'+ver+'.html')\n",
    "\n",
    "def telugu_use_des(col='Ebird_Description',data):\n",
    "    for i in tqdm(range(data.shape[0])):\n",
    "        if type(data[col][i]) == float:\n",
    "            data[col + ' Telugu'][i] = np.nan\n",
    "        else:\n",
    "            try:\n",
    "                data[col + ' Telugu'][i] = GoogleTranslator(source='auto', target='te').translate(data[col][i])\n",
    "            except Exception:\n",
    "                try:\n",
    "                    data[col + ' Telugu'][i] = anu.anuvaad(data[col][i])\n",
    "                except Exception:\n",
    "                    data[col + ' Telugu'][i] = np.nan"
   ]
  }
 ],
 "metadata": {
  "language_info": {
   "name": "python"
  },
  "orig_nbformat": 4
 },
 "nbformat": 4,
 "nbformat_minor": 2
}
