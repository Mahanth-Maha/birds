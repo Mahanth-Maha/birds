{
 "cells": [
  {
   "cell_type": "code",
   "execution_count": 6,
   "metadata": {},
   "outputs": [
    {
     "name": "stdout",
     "output_type": "stream",
     "text": [
      "{}\n"
     ]
    }
   ],
   "source": [
    "from bs4 import BeautifulSoup\n",
    "import requests\n",
    "def scrape_datazone(URL):\n",
    "    if URL :\n",
    "        d = {}\n",
    "        page = requests.get(URL)\n",
    "        soup = BeautifulSoup(page.content, \"html.parser\")\n",
    "        keys = soup.find_all(\"b\",class_=\"table table-striped table-bordered\")\n",
    "        values = soup.find_all(\"td\",class_=\"table table-striped table-bordered\")\n",
    "        \n",
    "        for i,j in zip(keys,values):\n",
    "            key = i.get_text()\n",
    "            value = j.get_text()\n",
    "            if key in d:\n",
    "                d[key] = str(d[key]) + \",\" + str(value)\n",
    "            else:\n",
    "                d[key] = value\n",
    "        return d\n",
    "    return 'NODATA'\n",
    "result = scrape_datazone('http://datazone.birdlife.org/species/factsheet/downy-woodpecker-dryobates-pubescens/details')\n",
    "print(result)"
   ]
  },
  {
   "cell_type": "code",
   "execution_count": null,
   "metadata": {},
   "outputs": [],
   "source": []
  }
 ],
 "metadata": {
  "interpreter": {
   "hash": "268415d838abdc8dc3102c42cf2f27c2b45ef8c69569e903be8c7b32a60b62a8"
  },
  "kernelspec": {
   "display_name": "Akwiki",
   "language": "python",
   "name": "indicwiki"
  },
  "language_info": {
   "codemirror_mode": {
    "name": "ipython",
    "version": 3
   },
   "file_extension": ".py",
   "mimetype": "text/x-python",
   "name": "python",
   "nbconvert_exporter": "python",
   "pygments_lexer": "ipython3",
   "version": "3.9.7"
  },
  "orig_nbformat": 4
 },
 "nbformat": 4,
 "nbformat_minor": 2
}
