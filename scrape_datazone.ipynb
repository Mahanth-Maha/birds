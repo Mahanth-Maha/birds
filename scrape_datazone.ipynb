{
 "cells": [
  {
   "cell_type": "code",
   "execution_count": 6,
   "metadata": {},
   "outputs": [
    {
     "name": "stdout",
     "output_type": "stream",
     "text": [
      "{}\n"
     ]
    }
   ],
   "source": [
    "# from bs4 import BeautifulSoup\n",
    "# import requests\n",
    "# def scrape_datazone(URL):\n",
    "#     if URL :\n",
    "#         d = {}\n",
    "#         page = requests.get(URL)\n",
    "#         soup = BeautifulSoup(page.content, \"html.parser\")\n",
    "#         keys = soup.find_all(\"b\",class_=\"table table-striped table-bordered\")\n",
    "#         values = soup.find_all(\"td\",class_=\"table table-striped table-bordered\")\n",
    "        \n",
    "#         for i,j in zip(keys,values):\n",
    "#             key = i.get_text()\n",
    "#             value = j.get_text()\n",
    "#             if key in d:\n",
    "#                 d[key] = str(d[key]) + \",\" + str(value)\n",
    "#             else:\n",
    "#                 d[key] = value\n",
    "#         return d\n",
    "#     return 'NODATA'\n",
    "# result = scrape_datazone('http://datazone.birdlife.org/species/factsheet/downy-woodpecker-dryobates-pubescens/details')\n",
    "# print(result)"
   ]
  },
  {
   "cell_type": "code",
   "execution_count": 1,
   "metadata": {},
   "outputs": [],
   "source": [
    "import requests\n",
    "from bs4 import BeautifulSoup\n"
   ]
  },
  {
   "cell_type": "code",
   "execution_count": 2,
   "metadata": {},
   "outputs": [],
   "source": [
    "URL = \"https://dibird.com/species/greyandbuff-woodpecker/\""
   ]
  },
  {
   "cell_type": "code",
   "execution_count": 3,
   "metadata": {},
   "outputs": [],
   "source": [
    "def scrape(URL):\n",
    "    page = requests.get(URL)\n",
    "    soup = BeautifulSoup(page.content, \"html.parser\")\n",
    "    table1 = soup.find(\"table\",class_=\"table table-bordered\")\n",
    "    headers = []\n",
    "    for i in table1.find_all('td',class_=\"col-lg-5\"):\n",
    "        title = i.text\n",
    "        headers.append(title)\n",
    "    values = []\n",
    "    for j in table1.find_all('td',class_=\"col-lg-7\"):\n",
    "        info = j.text\n",
    "        values.append(info)\n",
    "    for i,j in zip(headers, values):\n",
    "        print(i,\"-\",end=\" \")\n",
    "        print(j)\n",
    "        print()"
   ]
  },
  {
   "cell_type": "code",
   "execution_count": 4,
   "metadata": {},
   "outputs": [
    {
     "name": "stdout",
     "output_type": "stream",
     "text": [
      "Conservation status - LC - Least concern\n",
      "\n",
      "Synonyms - Grey-breasted Woodpecker, Gray and Buff Woodpecker, Grey-buff Woodpecker, Gray-breasted Woodpecker, Gray-and-buff Woodpecker, Malaysian Gray-breasted Woodpecker, Gray & Buff Woodpecker, Gray-buff Woodpecker, Grey and buff Woodpecker, Grey & Buff Woodpecker, Malaysian Grey-breasted Woodpecker\n",
      "\n",
      "Old latin name for bird - Picus concretus\n",
      "\n",
      "Order - Woodpeckers, Toucans and relatives / Piciformes\n",
      "\n",
      "Family - Woodpeckers / Picidae\n",
      "\n",
      "Genus - Hemicircus\n",
      "\n",
      "Breeding region - Oriental Region\n",
      "\n",
      "Breeding subregion - Malay Pen. and Greater Sundas\n",
      "\n",
      "Non breeding region - -\n",
      "\n"
     ]
    }
   ],
   "source": [
    "scrape(URL)"
   ]
  },
  {
   "cell_type": "code",
   "execution_count": 7,
   "metadata": {},
   "outputs": [],
   "source": [
    "import pandas as pd"
   ]
  },
  {
   "cell_type": "code",
   "execution_count": 16,
   "metadata": {},
   "outputs": [],
   "source": [
    "types_of_birds_df = pd.read_csv('assets/final_names_unq.csv',index_col='ID')\n",
    "list_of_bird_names = [ types_of_birds_df.loc[ _ ,'Common Name'] for _ in range(1,types_of_birds_df.shape[0]) ]\n"
   ]
  },
  {
   "cell_type": "code",
   "execution_count": 17,
   "metadata": {},
   "outputs": [
    {
     "name": "stdout",
     "output_type": "stream",
     "text": [
      "https://dibird.com/species/african-crake/\n",
      "https://dibird.com/species/african-crimsonwinged-finch/\n"
     ]
    }
   ],
   "source": [
    "\n",
    "for bird_name in list_of_bird_names[45:47]:\n",
    "    bird_name = '-'.join(bird_name.lower().split(' '))\n",
    "    URL_d = f\"https://dibird.com/species/{bird_name}/\"\n",
    "    \n"
   ]
  },
  {
   "cell_type": "code",
   "execution_count": 18,
   "metadata": {},
   "outputs": [],
   "source": [
    "from tkinter import N\n",
    "from selenium import webdriver\n",
    "from selenium.webdriver.common.keys import Keys\n",
    "from selenium.webdriver.support import expected_conditions as EC\n",
    "from selenium.webdriver.common.by import By\n",
    "from selenium.webdriver.support.wait import WebDriverWait\n",
    "from bs4 import BeautifulSoup\n",
    "import pandas as pd\n",
    "import csv\n",
    "import requests\n",
    "import time\n",
    "from datetime import datetime\n",
    "import logging\n",
    "from timeit import default_timer as timer\n"
   ]
  },
  {
   "cell_type": "code",
   "execution_count": null,
   "metadata": {},
   "outputs": [],
   "source": [
    "# def get_page_of_bird_dibird(bird_name,driver):\n",
    "#     driver.get('https://eol.org/')\n",
    "#     input_dibird = WebDriverWait(driver,10).until(EC.element_to_be_clickable((By.CSS_SELECTOR,\"input[name='q']\")))\n",
    "#     input_dibird.send_keys(bird_name)\n",
    "#     input_dibird.send_keys(Keys.ENTER)\n",
    "#     try:\n",
    "#         ps = driver.find_element(by=By.CLASS_NAME, value=\"uk-link-reset\")\n",
    "#         # print('Eol Link ok')\n",
    "#         return ps.get_attribute('href')\n",
    "#     except Exception:\n",
    "#         print('[-] Eol Link Fail -__- ',bird_name)\n",
    "#         return None"
   ]
  },
  {
   "cell_type": "code",
   "execution_count": 45,
   "metadata": {},
   "outputs": [],
   "source": [
    "def scrape_dibird(URL,bird_name,dibird):\n",
    "    if URL :\n",
    "        d = {}\n",
    "        page = requests.get(URL)\n",
    "        soup = BeautifulSoup(page.content, \"html.parser\")\n",
    "        table1 = soup.find(\"table\",class_=\"table table-bordered\")\n",
    "        key = []\n",
    "        for i in table1.find_all('td',class_=\"col-lg-5\"):\n",
    "            title = i.text\n",
    "            key.append(title)\n",
    "        values = []\n",
    "        for j in table1.find_all('td',class_=\"col-lg-7\"):\n",
    "            info = j.text\n",
    "            values.append(info)\n",
    "        for i,j in zip(key,values):\n",
    "            d[i] = j\n",
    "        d2 = {}\n",
    "        for i in d:\n",
    "            d2[i] = [d[i]]\n",
    "        d2['Link'] = [URL]\n",
    "        # d['Description'] = []\n",
    "        d2['Common Name'] = [bird_name]\n",
    "        # d['Kingdom'] = ['Animalia']\n",
    "        # d['Phylum']=['Chordata']\n",
    "        # d['Class']=['Aves']\n",
    "        # print('d2 = ',d2)\n",
    "        # print(d2)\n",
    "        # return pd.DataFrame(d2) \n",
    "        # d2 = pd.Series(d2)\n",
    "        # dibird = pd.concat(d2,dibird)\n",
    "        # print(dibird)\n",
    "        return pd.DataFrame(d2)\n",
    "    emp_d = {} \n",
    "    # print('Eol Fail')\n",
    "    return pd.DataFrame(emp_d)"
   ]
  },
  {
   "cell_type": "code",
   "execution_count": 49,
   "metadata": {},
   "outputs": [
    {
     "data": {
      "text/html": [
       "<div>\n",
       "<style scoped>\n",
       "    .dataframe tbody tr th:only-of-type {\n",
       "        vertical-align: middle;\n",
       "    }\n",
       "\n",
       "    .dataframe tbody tr th {\n",
       "        vertical-align: top;\n",
       "    }\n",
       "\n",
       "    .dataframe thead th {\n",
       "        text-align: right;\n",
       "    }\n",
       "</style>\n",
       "<table border=\"1\" class=\"dataframe\">\n",
       "  <thead>\n",
       "    <tr style=\"text-align: right;\">\n",
       "      <th></th>\n",
       "      <th>Common Name</th>\n",
       "      <th>Conservation status</th>\n",
       "      <th>Synonyms</th>\n",
       "      <th>Old latin name for bird</th>\n",
       "      <th>Order</th>\n",
       "      <th>Family</th>\n",
       "      <th>Genus</th>\n",
       "      <th>Breeding region</th>\n",
       "      <th>Breeding subregion</th>\n",
       "      <th>Link</th>\n",
       "      <th>Non breeding region</th>\n",
       "    </tr>\n",
       "  </thead>\n",
       "  <tbody>\n",
       "    <tr>\n",
       "      <th>0</th>\n",
       "      <td>austral-negrito</td>\n",
       "      <td>LC - Least concern</td>\n",
       "      <td>Rufous-backed Negrite, Southern Rufous-backed ...</td>\n",
       "      <td>Alauda [] rufa</td>\n",
       "      <td>Perching Birds / Passeriformes</td>\n",
       "      <td>Tyrant Flycatchers, Calyptura / Tyrannidae</td>\n",
       "      <td>Lessonia</td>\n",
       "      <td>South America</td>\n",
       "      <td>Southern Cone</td>\n",
       "      <td>https://dibird.com/species/austral-negrito/</td>\n",
       "      <td>-</td>\n",
       "    </tr>\n",
       "    <tr>\n",
       "      <th>0</th>\n",
       "      <td>austral-parakeet</td>\n",
       "      <td>LC - Least concern</td>\n",
       "      <td>Magellan Conure, Magellan Parakeet, Emerald Co...</td>\n",
       "      <td>Microsittace ferruginea, Psittacus ferrugineus</td>\n",
       "      <td>Parrots / Psittaciformes</td>\n",
       "      <td>African &amp; New World Parrots / Psittacidae</td>\n",
       "      <td>Enicognathus</td>\n",
       "      <td>South America</td>\n",
       "      <td>Southern Cone</td>\n",
       "      <td>https://dibird.com/species/austral-parakeet/</td>\n",
       "      <td>-</td>\n",
       "    </tr>\n",
       "    <tr>\n",
       "      <th>0</th>\n",
       "      <td>austral-pygmy-owl</td>\n",
       "      <td>LC - Least concern</td>\n",
       "      <td>Chilean Pigmy Owl, Austral Pygmy-Owl</td>\n",
       "      <td>Glaucidium nanum, Strix nana, Phalaenopsis nana</td>\n",
       "      <td>Owls / Strigiformes</td>\n",
       "      <td>Owls / Strigidae</td>\n",
       "      <td>Glaucidium</td>\n",
       "      <td>South America</td>\n",
       "      <td>Southern Cone</td>\n",
       "      <td>https://dibird.com/species/austral-pygmy-owl/</td>\n",
       "      <td>-</td>\n",
       "    </tr>\n",
       "    <tr>\n",
       "      <th>0</th>\n",
       "      <td>austral-rail</td>\n",
       "      <td>VU - Vulnerable</td>\n",
       "      <td>Patagonian rail</td>\n",
       "      <td>NaN</td>\n",
       "      <td>Cranes, Rails and relatives / Gruiformes</td>\n",
       "      <td>Rails, Crakes &amp; Coots / Rallidae</td>\n",
       "      <td>Rallus</td>\n",
       "      <td>South America</td>\n",
       "      <td>s Chile and s Argentina</td>\n",
       "      <td>https://dibird.com/species/austral-rail/</td>\n",
       "      <td>-</td>\n",
       "    </tr>\n",
       "    <tr>\n",
       "      <th>0</th>\n",
       "      <td>austral-thrush</td>\n",
       "      <td>LC - Least concern</td>\n",
       "      <td>NaN</td>\n",
       "      <td>Turdus flacklandii</td>\n",
       "      <td>Perching Birds / Passeriformes</td>\n",
       "      <td>Thrushes / Turdidae</td>\n",
       "      <td>Turdus</td>\n",
       "      <td>South America</td>\n",
       "      <td>Southern Cone</td>\n",
       "      <td>https://dibird.com/species/austral-thrush/</td>\n",
       "      <td>-</td>\n",
       "    </tr>\n",
       "  </tbody>\n",
       "</table>\n",
       "</div>"
      ],
      "text/plain": [
       "         Common Name Conservation status  \\\n",
       "0    austral-negrito  LC - Least concern   \n",
       "0   austral-parakeet  LC - Least concern   \n",
       "0  austral-pygmy-owl  LC - Least concern   \n",
       "0       austral-rail     VU - Vulnerable   \n",
       "0     austral-thrush  LC - Least concern   \n",
       "\n",
       "                                            Synonyms  \\\n",
       "0  Rufous-backed Negrite, Southern Rufous-backed ...   \n",
       "0  Magellan Conure, Magellan Parakeet, Emerald Co...   \n",
       "0               Chilean Pigmy Owl, Austral Pygmy-Owl   \n",
       "0                                    Patagonian rail   \n",
       "0                                                NaN   \n",
       "\n",
       "                           Old latin name for bird  \\\n",
       "0                                   Alauda [] rufa   \n",
       "0   Microsittace ferruginea, Psittacus ferrugineus   \n",
       "0  Glaucidium nanum, Strix nana, Phalaenopsis nana   \n",
       "0                                              NaN   \n",
       "0                               Turdus flacklandii   \n",
       "\n",
       "                                      Order  \\\n",
       "0            Perching Birds / Passeriformes   \n",
       "0                  Parrots / Psittaciformes   \n",
       "0                       Owls / Strigiformes   \n",
       "0  Cranes, Rails and relatives / Gruiformes   \n",
       "0            Perching Birds / Passeriformes   \n",
       "\n",
       "                                       Family         Genus Breeding region  \\\n",
       "0  Tyrant Flycatchers, Calyptura / Tyrannidae      Lessonia   South America   \n",
       "0   African & New World Parrots / Psittacidae  Enicognathus   South America   \n",
       "0                            Owls / Strigidae    Glaucidium   South America   \n",
       "0            Rails, Crakes & Coots / Rallidae        Rallus   South America   \n",
       "0                         Thrushes / Turdidae        Turdus   South America   \n",
       "\n",
       "        Breeding subregion                                           Link  \\\n",
       "0            Southern Cone    https://dibird.com/species/austral-negrito/   \n",
       "0            Southern Cone   https://dibird.com/species/austral-parakeet/   \n",
       "0            Southern Cone  https://dibird.com/species/austral-pygmy-owl/   \n",
       "0  s Chile and s Argentina       https://dibird.com/species/austral-rail/   \n",
       "0            Southern Cone     https://dibird.com/species/austral-thrush/   \n",
       "\n",
       "  Non breeding region  \n",
       "0                   -  \n",
       "0                   -  \n",
       "0                   -  \n",
       "0                   -  \n",
       "0                   -  "
      ]
     },
     "execution_count": 49,
     "metadata": {},
     "output_type": "execute_result"
    }
   ],
   "source": [
    "dibird = pd.DataFrame(columns=['Common Name','Conservation status','Synonyms','Old latin name for bird','Order','Family', 'Genus','Breeding region','Breeding subregion','Link'])\n",
    "for bird_name in list_of_bird_names[435:440]:\n",
    "    bird_name = '-'.join(bird_name.lower().split(' '))\n",
    "    URL_d = f\"https://dibird.com/species/{bird_name}/\"\n",
    "    temp_df = scrape_dibird(URL_d,bird_name,dibird)\n",
    "    dibird = pd.concat([dibird,temp_df])\n",
    "    # pd.concat([birds,scrape_v_3_ebird(get_page_of_bird_ebird(bird_name,driver))] )\n",
    "dibird.head(5)"
   ]
  },
  {
   "cell_type": "code",
   "execution_count": null,
   "metadata": {},
   "outputs": [],
   "source": []
  },
  {
   "cell_type": "code",
   "execution_count": null,
   "metadata": {},
   "outputs": [],
   "source": []
  }
 ],
 "metadata": {
  "interpreter": {
   "hash": "268415d838abdc8dc3102c42cf2f27c2b45ef8c69569e903be8c7b32a60b62a8"
  },
  "kernelspec": {
   "display_name": "TeWiki",
   "language": "python",
   "name": "indicwiki"
  },
  "language_info": {
   "codemirror_mode": {
    "name": "ipython",
    "version": 3
   },
   "file_extension": ".py",
   "mimetype": "text/x-python",
   "name": "python",
   "nbconvert_exporter": "python",
   "pygments_lexer": "ipython3",
   "version": "3.9.7"
  },
  "orig_nbformat": 4
 },
 "nbformat": 4,
 "nbformat_minor": 2
}
