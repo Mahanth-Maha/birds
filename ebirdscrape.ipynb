{
 "cells": [
  {
   "cell_type": "code",
   "execution_count": 1,
   "metadata": {},
   "outputs": [],
   "source": [
    "import requests\n",
    "from bs4 import BeautifulSoup\n",
    "URL = \"https://ebird.org/species/grswoo\"\n",
    "def scrape(URL):\n",
    "    page = requests.get(URL)\n",
    "    soup = BeautifulSoup(page.content, \"html.parser\")\n",
    "    results = soup.find_all(\"div\",class_=\"Breadcrumbs Breadcrumbs--reverse u-stack-sm\")\n",
    "    names = soup.find_all(\"h1\",class_=\"Heading-main Media--hero-title\")\n",
    "    udescription=soup.find_all(\"p\",class_=\"u-stack-sm\")\n",
    "    for j,i,k in zip(results,names,udescription):\n",
    "        print(j.get_text(),end=\" \")\n",
    "        print(i.get_text())\n",
    "        print(k.get_text())\n",
    "        \n"
   ]
  },
  {
   "cell_type": "code",
   "execution_count": null,
   "metadata": {},
   "outputs": [],
   "source": []
  }
 ],
 "metadata": {
  "kernelspec": {
   "display_name": "Akwiki",
   "language": "python",
   "name": "indicwiki"
  },
  "language_info": {
   "codemirror_mode": {
    "name": "ipython",
    "version": 3
   },
   "file_extension": ".py",
   "mimetype": "text/x-python",
   "name": "python",
   "nbconvert_exporter": "python",
   "pygments_lexer": "ipython3",
   "version": "3.9.7"
  },
  "orig_nbformat": 4
 },
 "nbformat": 4,
 "nbformat_minor": 2
}
