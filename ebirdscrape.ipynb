{
 "cells": [
  {
   "cell_type": "code",
   "execution_count": 18,
   "metadata": {},
   "outputs": [
    {
     "name": "stdout",
     "output_type": "stream",
     "text": [
      "fam , order : ['Piciformes', 'Picidae']\n",
      "Main : Great Spotted Woodpecker\n",
      "Sci name : Dendrocopos major\n",
      "des :  Most common pied woodpecker in most of Eurasia. Fairly common in almost all types of forest and woodland, parkland, gardens, even farmland with hedges and scattered larger trees. Feeds mainly on trunks and larger branches; also visits feeders. Size and bold black-and-white plumage distinctive in most of range. Note big white shoulder patches, extensive red on vent, black crown. Male has red nape patch; juvenile (both sexes) has red cap.\n"
     ]
    }
   ],
   "source": [
    "import requests\n",
    "from bs4 import BeautifulSoup\n",
    "import re\n",
    "URL = \"https://ebird.org/species/grswoo\"\n",
    "def scrape(URL):\n",
    "    page = requests.get(URL)\n",
    "    soup = BeautifulSoup(page.content, \"html.parser\")\n",
    "    results = soup.find_all(\"div\",class_=\"Breadcrumbs\")\n",
    "    names_main = soup.find_all(\"span\",class_=\"Heading-main\")\n",
    "    names_sub = soup.find_all(\"span\",class_=\"Heading-sub\")\n",
    "    udescription=soup.find_all(\"p\",class_=\"u-stack-sm\")\n",
    "    for i,j,k,l in zip(results,names_main,names_sub,udescription):\n",
    "        print('fam , order :',i.get_text().strip().split('\\n'))\n",
    "        print('Main :',j.get_text())\n",
    "        print('Sci name :',k.get_text())\n",
    "        print('des : ',l.get_text())\n",
    "scrape(URL)"
   ]
  },
  {
   "cell_type": "code",
   "execution_count": 2,
   "metadata": {},
   "outputs": [
    {
     "name": "stdout",
     "output_type": "stream",
     "text": [
      "11188\n",
      "11149\n"
     ]
    },
    {
     "data": {
      "text/plain": [
       "11149"
      ]
     },
     "execution_count": 2,
     "metadata": {},
     "output_type": "execute_result"
    }
   ],
   "source": [
    "import pandas as pd\n",
    "types_of_birds_df = pd.read_csv('assets/final_names.csv',index_col='ID')\n",
    "list_of_bird_names = [ types_of_birds_df.loc[ _ ,'Common Name'] for _ in range(1,types_of_birds_df.shape[0]) ]\n",
    "print(len(list_of_bird_names))\n",
    "unq = list(set(list_of_bird_names))\n",
    "print(len(unq))\n",
    "unq2 = [_.strip() for _ in unq]\n",
    "len(unq2)"
   ]
  },
  {
   "cell_type": "code",
   "execution_count": null,
   "metadata": {},
   "outputs": [],
   "source": []
  }
 ],
 "metadata": {
  "kernelspec": {
   "display_name": "TeWiki",
   "language": "python",
   "name": "indicwiki"
  },
  "language_info": {
   "codemirror_mode": {
    "name": "ipython",
    "version": 3
   },
   "file_extension": ".py",
   "mimetype": "text/x-python",
   "name": "python",
   "nbconvert_exporter": "python",
   "pygments_lexer": "ipython3",
   "version": "3.9.7"
  },
  "orig_nbformat": 4
 },
 "nbformat": 4,
 "nbformat_minor": 2
}
