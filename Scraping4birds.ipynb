{
 "cells": [
  {
   "cell_type": "markdown",
   "id": "0da0b336",
   "metadata": {},
   "source": [
    "# Scraping about Birds\n",
    "\n",
    "## About Birds classification\n",
    "\n",
    "getting all the types of birds"
   ]
  },
  {
   "cell_type": "code",
   "execution_count": 82,
   "id": "ee1e53bc",
   "metadata": {},
   "outputs": [],
   "source": [
    "# !pip install beautifulsoup4\n",
    "# !pip install selenium\n",
    "# !pip install scrapy"
   ]
  },
  {
   "cell_type": "code",
   "execution_count": 83,
   "id": "e74f740a",
   "metadata": {},
   "outputs": [],
   "source": [
    "from bs4 import BeautifulSoup\n",
    "from selenium import webdriver\n",
    "import scrapy\n",
    "import pandas as pd"
   ]
  },
  {
   "cell_type": "code",
   "execution_count": 84,
   "id": "eadafb2e",
   "metadata": {},
   "outputs": [],
   "source": [
    "# types_of_birds_df = pd.read_csv('assets/birds.csv',index_col='ID')\n",
    "# types_of_birds_df.head(4)"
   ]
  },
  {
   "cell_type": "code",
   "execution_count": 85,
   "id": "f8596127",
   "metadata": {},
   "outputs": [],
   "source": [
    "# list_of_bird_names = [ types_of_birds_df.loc[ _ ,'Common Bird Names'] for _ in range(1,types_of_birds_df.shape[0]) ]\n",
    "# print(list_of_bird_names[4444:4455])\n",
    "# print(len(list_of_bird_names))"
   ]
  },
  {
   "cell_type": "code",
   "execution_count": 86,
   "id": "a6689fb7",
   "metadata": {},
   "outputs": [],
   "source": [
    "#testing for parrots [checking if we got all data or not]\n",
    "# import re\n",
    "# parrot = []\n",
    "# for _ in list_of_bird_names:\n",
    "#     k = re.findall('parrot',_)\n",
    "#     if k:\n",
    "#         parrot.append(_)\n",
    "# print(len(parrot))\n",
    "# parrot[:10]"
   ]
  },
  {
   "cell_type": "code",
   "execution_count": 87,
   "id": "02e203d4",
   "metadata": {},
   "outputs": [],
   "source": [
    "#!pip install google"
   ]
  },
  {
   "cell_type": "code",
   "execution_count": 88,
   "id": "a05f384f",
   "metadata": {},
   "outputs": [],
   "source": [
    "# from googlesearch import search\n",
    "# query = 'Black-throated parrotbill'\n",
    "# result = []\n",
    "# no_of_links = 30\n",
    "# res = search(query,  tld='com', lang='en', tbs='0', safe='off', num=no_of_links, start=0, stop=no_of_links, pause=2.0,country='', extra_params=None, user_agent=None)\n",
    "# for i in res:\n",
    "#     result.append(i)\n",
    "# len(result)"
   ]
  },
  {
   "cell_type": "code",
   "execution_count": 89,
   "id": "aa393d44",
   "metadata": {},
   "outputs": [],
   "source": [
    "# import re\n",
    "# photos = []\n",
    "# res_copy = [_ for _ in result]\n",
    "# for i in res_copy:\n",
    "#     k = (re.findall('.*.jpg$',i), re.findall('.*.png$',i),re.findall('Photo'.lower(),i.lower()))\n",
    "#     if any(k):\n",
    "#         photos.append(i)\n",
    "#         result.remove(i)\n",
    "\n",
    "# result\n",
    "    "
   ]
  },
  {
   "cell_type": "code",
   "execution_count": 90,
   "id": "aece5366",
   "metadata": {},
   "outputs": [],
   "source": [
    "from googlesearch import search\n",
    "import re\n",
    "def get_urls_from_google(query,no_of_links):\n",
    "    result = []\n",
    "    res = search(query,  tld='com', lang='en', tbs='0', safe='off', num=no_of_links, start=0, stop=no_of_links, pause=4.0,country='', extra_params=None, user_agent=None)\n",
    "    for i in res:\n",
    "        result.append(i)\n",
    "    photos = []\n",
    "    res_copy = [_ for _ in result]\n",
    "    # return result\n",
    "    for i in res_copy:\n",
    "        k = (re.findall('.*.jpg$',i), re.findall('.*.png$',i),re.findall('Photo'.lower(),i.lower()))\n",
    "        if any(k):\n",
    "            photos.append(i)\n",
    "            result.remove(i)\n",
    "\n",
    "    return result , photos\n",
    "# res_links = get_urls_from_google('Black-throated parrotbill',30)"
   ]
  },
  {
   "cell_type": "code",
   "execution_count": 41,
   "id": "2e3f4420",
   "metadata": {},
   "outputs": [
    {
     "data": {
      "text/plain": [
       "\"\\n# FAILING due to too many requests , HTTPError 439 \\nimport time\\nSearch_upto = 3\\nBirds_dict = {}\\n# list_of_urls_links = []\\n# list_of_urls_pics = []\\nfor i in list_of_bird_names:\\n    try:\\n        res_for_bird ,res_for_pic = get_urls_from_google(i,Search_upto)\\n        # print(res_for_bird,res_for_pic)\\n        Birds_dict[i] =(res_for_bird.join(';') , res_for_pic.join(';'))\\n        # list_of_urls_links.append()\\n        # list_of_urls_pics.append()\\n        # print(len(list_of_urls_links))\\n        print('[+] Got links for',i)\\n        time.sleep(2)\\n    except Exception:\\n        print('[-] Error for bird',i)\\n#(list_of_urls_links,list_of_urls_links)\\n\""
      ]
     },
     "execution_count": 41,
     "metadata": {},
     "output_type": "execute_result"
    }
   ],
   "source": [
    "'''\n",
    "# FAILING due to too many requests , HTTPError 439 \n",
    "import time\n",
    "Search_upto = 3\n",
    "Birds_dict = {}\n",
    "# list_of_urls_links = []\n",
    "# list_of_urls_pics = []\n",
    "for i in list_of_bird_names:\n",
    "    try:\n",
    "        res_for_bird ,res_for_pic = get_urls_from_google(i,Search_upto)\n",
    "        # print(res_for_bird,res_for_pic)\n",
    "        Birds_dict[i] =(res_for_bird.join(';') , res_for_pic.join(';'))\n",
    "        # list_of_urls_links.append()\n",
    "        # list_of_urls_pics.append()\n",
    "        # print(len(list_of_urls_links))\n",
    "        print('[+] Got links for',i)\n",
    "        time.sleep(2)\n",
    "    except Exception:\n",
    "        print('[-] Error for bird',i)\n",
    "#(list_of_urls_links,list_of_urls_links)\n",
    "'''"
   ]
  },
  {
   "cell_type": "code",
   "execution_count": 42,
   "id": "14af1448",
   "metadata": {},
   "outputs": [],
   "source": [
    "# types_of_birds_df = types_of_birds_df.assign(Links=list_of_urls_links)\n",
    "# types_of_birds_df = types_of_birds_df.assign(PicsLinks=list_of_urls_pics)\n",
    "# types_of_birds_df.head(9)"
   ]
  },
  {
   "cell_type": "code",
   "execution_count": 43,
   "id": "4204a625",
   "metadata": {},
   "outputs": [],
   "source": [
    "\n",
    "# import re\n",
    "# doms = []\n",
    "# for j in res_links[0]:\n",
    "#     doms.append(j.split('/')[2])\n",
    "# unq_dom = set(doms)\n",
    "# unq_dom\n"
   ]
  },
  {
   "cell_type": "code",
   "execution_count": 44,
   "id": "2fd663ff",
   "metadata": {},
   "outputs": [],
   "source": [
    "# import re\n",
    "# def get_unique_domains(res_links):\n",
    "#     doms = []\n",
    "#     for i in res_links[0]:\n",
    "#         doms.append((i.split('/')[2] + ';'))\n",
    "#     return ''.join(list(set(doms)))\n",
    "# get_unique_domains(res_links)"
   ]
  },
  {
   "cell_type": "code",
   "execution_count": 45,
   "id": "25e6529d",
   "metadata": {},
   "outputs": [],
   "source": [
    "# types_of_birds_df.to_csv(\"./assets/BirdsClassification.csv\")"
   ]
  },
  {
   "cell_type": "code",
   "execution_count": 46,
   "id": "eaec1ade",
   "metadata": {},
   "outputs": [],
   "source": [
    "# from googlesearch import search\n",
    "# for i in list_of_bird_names:\n",
    "#     query = i\n",
    "#     result = []\n",
    "#     no_of_links = 3\n",
    "#     res = search(query,  tld='com', lang='en', tbs='0', safe='off', num=no_of_links, start=0, stop=no_of_links, pause=2.0,country='', extra_params=None, user_agent=None)\n",
    "#     for k in res:\n",
    "#         result.append(k)\n",
    "#     print(i)\n",
    "#     print(result)"
   ]
  },
  {
   "cell_type": "code",
   "execution_count": 91,
   "id": "3a1ce5dd",
   "metadata": {},
   "outputs": [],
   "source": [
    "import requests\n",
    "from bs4 import BeautifulSoup\n",
    "# URL = \"https://eol.org/pages/695\"\n",
    "def scrape(URL):\n",
    "    page = requests.get(URL)\n",
    "    soup = BeautifulSoup(page.content, \"html.parser\")\n",
    "    results = soup.find_all(\"div\",class_=\"sample-trait-val\")\n",
    "    keys = soup.find_all(\"div\",class_=\"sample-trait-key\")\n",
    "    for i,j in zip(results,keys):\n",
    "        print(j.get_text(),\"-\",end=\" \")\n",
    "        print(i.get_text())\n",
    "        print()\n"
   ]
  },
  {
   "cell_type": "code",
   "execution_count": 92,
   "id": "70e65fa4",
   "metadata": {},
   "outputs": [],
   "source": [
    "#imports here\n",
    "# from selenium import webdriver\n",
    "# from selenium.webdriver.common.keys import Keys\n",
    "# from selenium.webdriver.support import expected_conditions as EC\n",
    "# from selenium.webdriver.common.by import By\n",
    "# from selenium.webdriver.support.wait import WebDriverWait\n",
    "# import time\n",
    "# import os\n",
    "\n",
    "# driver = webdriver.Chrome('./chromedriver.exe')\n"
   ]
  },
  {
   "cell_type": "code",
   "execution_count": 93,
   "id": "e82bbc30",
   "metadata": {},
   "outputs": [],
   "source": [
    "# driver.get('https://eol.org/')\n",
    "# input_eol = WebDriverWait(driver,10).until(EC.element_to_be_clickable((By.CSS_SELECTOR,\"input[name='q']\")))\n",
    "# driver.find_element(by=By.CLASS_NAME, value=\"nav-search\")"
   ]
  },
  {
   "cell_type": "code",
   "execution_count": 50,
   "id": "aa6e4a3b",
   "metadata": {},
   "outputs": [],
   "source": [
    "# input_eol.send_keys(\"Himalayan woodpecker\")"
   ]
  },
  {
   "cell_type": "code",
   "execution_count": 51,
   "id": "e65adf76",
   "metadata": {},
   "outputs": [],
   "source": [
    "# input_eol.send_keys(u'\\ue007')"
   ]
  },
  {
   "cell_type": "code",
   "execution_count": 52,
   "id": "5290a2f9",
   "metadata": {},
   "outputs": [],
   "source": [
    "# page_selector = WebDriverWait(driver,10).until(EC.element_to_be_clickable((By.CSS_SELECTOR,\"a[class='uk-link-reset']\")))\n",
    "# ps = driver.find_element(by=By.CLASS_NAME, value=\"uk-link-reset\")"
   ]
  },
  {
   "cell_type": "code",
   "execution_count": 53,
   "id": "ef32f05e",
   "metadata": {},
   "outputs": [],
   "source": [
    "# ps.get_attribute('href')"
   ]
  },
  {
   "cell_type": "code",
   "execution_count": 54,
   "id": "1b1610cf",
   "metadata": {},
   "outputs": [],
   "source": [
    "# driver.get(ps.get_attribute('href'))"
   ]
  },
  {
   "cell_type": "code",
   "execution_count": 94,
   "id": "896b7122",
   "metadata": {},
   "outputs": [],
   "source": [
    "# scrape('https://eol.org/pages/45516565')"
   ]
  },
  {
   "cell_type": "code",
   "execution_count": 3,
   "id": "a3f49a4b",
   "metadata": {},
   "outputs": [],
   "source": [
    "# scrape('https://eol.org/pages/45516565')"
   ]
  },
  {
   "cell_type": "code",
   "execution_count": 72,
   "id": "2533e099",
   "metadata": {},
   "outputs": [
    {
     "name": "stderr",
     "output_type": "stream",
     "text": [
      "C:\\Users\\LEGION\\AppData\\Local\\Temp\\ipykernel_20000\\796301320.py:10: DeprecationWarning: executable_path has been deprecated, please pass in a Service object\n",
      "  driver = webdriver.Chrome('./chromedriver.exe')\n"
     ]
    }
   ],
   "source": [
    "#imports here\n",
    "from selenium import webdriver\n",
    "from selenium.webdriver.common.keys import Keys\n",
    "from selenium.webdriver.support import expected_conditions as EC\n",
    "from selenium.webdriver.common.by import By\n",
    "from selenium.webdriver.support.wait import WebDriverWait\n",
    "import time\n",
    "import os\n",
    "\n",
    "driver = webdriver.Chrome('./chromedriver.exe')\n",
    "def get_page_of_bird(bird_name):\n",
    "    driver.get('https://eol.org/')\n",
    "    input_eol = WebDriverWait(driver,10).until(EC.element_to_be_clickable((By.CSS_SELECTOR,\"input[name='q']\")))\n",
    "    input_eol.send_keys(bird_name)\n",
    "    input_eol.send_keys(u'\\ue007')\n",
    "    try:\n",
    "        ps = driver.find_element(by=By.CLASS_NAME, value=\"uk-link-reset\")\n",
    "        return ps.get_attribute('href')\n",
    "    except Exception:\n",
    "        return None\n",
    "    "
   ]
  },
  {
   "cell_type": "code",
   "execution_count": 73,
   "id": "a3f49a4b",
   "metadata": {},
   "outputs": [],
   "source": [
    "import requests\n",
    "from bs4 import BeautifulSoup\n",
    "# URL = \"https://eol.org/pages/695\"\n",
    "def scrape_v_2(URL):\n",
    "    if URL :\n",
    "        d = {}\n",
    "        page = requests.get(URL)\n",
    "        soup = BeautifulSoup(page.content, \"html.parser\")\n",
    "        keys = soup.find_all(\"div\",class_=\"sample-trait-key\")\n",
    "        values = soup.find_all(\"div\",class_=\"sample-trait-val\")\n",
    "        \n",
    "        for i,j in zip(keys,values):\n",
    "            key = i.get_text()\n",
    "            value = j.get_text()\n",
    "            if key in d:\n",
    "                d[key] = str(d[key]) + \",\" + str(value)\n",
    "            else:\n",
    "                d[key] = value\n",
    "        return d\n",
    "    return 'NODATA'\n"
   ]
  },
  {
   "cell_type": "code",
   "execution_count": 58,
   "id": "44fdda46",
   "metadata": {},
   "outputs": [],
   "source": [
    "# scrape_v_2('https://eol.org/pages/1178299')"
   ]
  },
  {
   "cell_type": "code",
   "execution_count": 59,
   "id": "d8db3ee4",
   "metadata": {},
   "outputs": [],
   "source": [
    "# get_page_of_bird('Abyssinian owl')"
   ]
  },
  {
   "cell_type": "code",
   "execution_count": 95,
   "id": "6d25a891",
   "metadata": {},
   "outputs": [],
   "source": [
    "import csv\n",
    "import pandas as pd\n",
    "def eol(fro,to):\n",
    "    types_of_birds_df = pd.read_csv('assets/birds.csv',index_col='ID')\n",
    "    list_of_bird_names = [ types_of_birds_df.loc[ _ ,'Common Bird Names'] for _ in range(1,types_of_birds_df.shape[0]) ]\n",
    "    data_from_eol = {}\n",
    "    re_search_on = [] \n",
    "    writer = csv.writer(open('assets/eol_6000_6500.csv',\"a\",newline=''))\n",
    "    for bird_name in list_of_bird_names[fro:to]:\n",
    "        # try:\n",
    "        data_from_eol[bird_name] = scrape_v_2(get_page_of_bird(bird_name))\n",
    "        writer.writerow([bird_name,data_from_eol[bird_name]])\n",
    "        if not data_from_eol:\n",
    "            re_search_on.append(bird_name)\n",
    "        # except Exception:\n",
    "            # writer.writerow([bird_name,'NODATA'])\n",
    "    return data_from_eol \n",
    "# eol(144,250)"
   ]
  },
  {
   "cell_type": "code",
   "execution_count": null,
   "id": "8561a21d",
   "metadata": {},
   "outputs": [],
   "source": [
    "# Small Calculations\n",
    "# for_100_b = 21*60 + 18 \n",
    "# for_entire_data =( len(list_of_bird_names) * (for_100_b / 100) )/60\n",
    "# print(for_entire_data,'Mins')\n",
    "# print(for_entire_data/60 ,'Hrs')\n",
    "# print(for_entire_data/(60*24) ,'Days')"
   ]
  },
  {
   "cell_type": "code",
   "execution_count": 96,
   "id": "5bf64822",
   "metadata": {},
   "outputs": [],
   "source": [
    "# eol(250,1000)"
   ]
  },
  {
   "cell_type": "code",
   "execution_count": 78,
   "id": "5afce5cb",
   "metadata": {},
   "outputs": [
    {
     "data": {
      "text/plain": [
       "1648101280.251846"
      ]
     },
     "execution_count": 78,
     "metadata": {},
     "output_type": "execute_result"
    }
   ],
   "source": [
    "# import datetime;\n",
    "# stamp = datetime.datetime.now()\n",
    "# stamp.timestamp()"
   ]
  },
  {
   "cell_type": "code",
   "execution_count": 97,
   "id": "3e8addfb",
   "metadata": {},
   "outputs": [],
   "source": [
    "# eol(6000,6500)"
   ]
  },
  {
   "cell_type": "code",
   "execution_count": 80,
   "id": "15a26aba",
   "metadata": {},
   "outputs": [
    {
     "data": {
      "text/plain": [
       "'Report 5000 6000 eol'"
      ]
     },
     "execution_count": 80,
     "metadata": {},
     "output_type": "execute_result"
    }
   ],
   "source": [
    "'''Report 5000 6000 eol'''\n",
    "#['Lānaʻi hookbill', 'Magellanic snipe', 'Malagasy palm swift', 'Malaysian crested argus', 'Mamberamo shrikethrush', 'Maui nukupuʻu', 'Morotai white-eye', 'Negros bleeding-heart pigeon', 'New Britain pitta']\n",
    "#Time taken :  1:57:01.450597"
   ]
  },
  {
   "cell_type": "code",
   "execution_count": 81,
   "id": "cad9fe54",
   "metadata": {},
   "outputs": [
    {
     "data": {
      "text/plain": [
       "'Report 6500 7000 eol'"
      ]
     },
     "execution_count": 81,
     "metadata": {},
     "output_type": "execute_result"
    }
   ],
   "source": [
    "'''Report 6500 7000 eol'''\n",
    "#['Pantepui thrush', 'Peleng fantail', 'Peleng leaf warbler', 'Penan bulbul', 'Puerto Rican owl']\n",
    "\n",
    "#Time taken :  1:27:14.502819"
   ]
  },
  {
   "cell_type": "code",
   "execution_count": 98,
   "id": "8ba8d3cf",
   "metadata": {},
   "outputs": [
    {
     "data": {
      "text/plain": [
       "'Report 9000 10000 eol'"
      ]
     },
     "execution_count": 98,
     "metadata": {},
     "output_type": "execute_result"
    }
   ],
   "source": [
    "'''Report 9000 10000 eol'''\n",
    "#['Stripe-crowned sparrow', 'Sulphur-bearded reedhaunter', 'Sumatran blue robin', 'Sunda owlet', \"Swierstra's spurfowl\", \"Swinhoe's prinia\", 'Tabar pitta', 'Tagula shrikethrush', 'Taliabu grasshopper warbler', 'Taliabu leaf warbler', 'Taliabu myzomela', 'Tapajos fire-eye', 'Turkestan short-toed lark', 'Variable shrikethrush', 'Vogelkop superb bird-of-paradise', 'Waigeo shrikethrush', 'Wakatobi white-eye', 'Wayanad laughingthrush', 'West African batis', 'Western fire-eye', 'Western subalpine warbler', 'Western yellow-spotted barbet', 'Whenua Hou diving petrel']\n",
    "\n",
    "#Time taken :  2:18:07.386158"
   ]
  },
  {
   "cell_type": "code",
<<<<<<< HEAD
   "execution_count": 4,
   "id": "5bf64822",
=======
   "execution_count": 99,
   "id": "d1cae460",
   "metadata": {},
   "outputs": [
    {
     "data": {
      "text/plain": [
       "'Report 8000 9000 eol'"
      ]
     },
     "execution_count": 99,
     "metadata": {},
     "output_type": "execute_result"
    }
   ],
   "source": [
    "'''Report 8000 9000 eol'''\n",
    "# ['Sepik-Ramu shrikethrush', 'Seram bush warbler', 'Seram masked owl', 'Short-bearded honeyeater', 'Simeulue parrot', 'Solomons robin', 'Sooty honeyeater', 'Southern dark newtonia', 'Sri Lankan junglefowl', \"Stejneger's scoter\"]\n",
    "\n",
    "# Time taken :  2:18:24.409537"
   ]
  },
  {
   "cell_type": "code",
   "execution_count": null,
   "id": "8fc11f07",
   "metadata": {},
   "outputs": [],
   "source": [
    "'''Report 7000 8000 eol'''\n",
    "# ['Red satinbird', 'Red-fronted prinia', 'Red-winged prinia', 'Rennell parrot', 'Rufous grasswren', 'Saint Helena crake', 'Saint Helena cuckoo', 'Saint Helena hoopoe', 'Saint Helena petrel', 'Saint Helena rail', 'Saint Lucia black finch', 'Saint Lucia oriole', 'Saint Lucia warbler', 'Sand-coloured nighthawk']\n",
    "\n",
    "# Time taken :  2:21:04.276115"
   ]
  },
  {
   "cell_type": "code",
   "execution_count": null,
   "id": "6932cb85",
>>>>>>> b153ec79063aaab3c66937c53ff68aa9f2f85899
   "metadata": {},
   "outputs": [
    {
     "ename": "AttributeError",
     "evalue": "'str' object has no attribute 'keys'",
     "output_type": "error",
     "traceback": [
      "\u001b[1;31m---------------------------------------------------------------------------\u001b[0m",
      "\u001b[1;31mAttributeError\u001b[0m                            Traceback (most recent call last)",
      "\u001b[1;32md:\\Internships\\IndicWiki IIITH\\birds repo\\birds\\birds\\Scraping4birds.ipynb Cell 32'\u001b[0m in \u001b[0;36m<cell line: 6>\u001b[1;34m()\u001b[0m\n\u001b[0;32m      <a href='vscode-notebook-cell:/d%3A/Internships/IndicWiki%20IIITH/birds%20repo/birds/birds/Scraping4birds.ipynb#ch0000031?line=8'>9</a>\u001b[0m         writer\u001b[39m.\u001b[39mwriteheader()\n\u001b[0;32m     <a href='vscode-notebook-cell:/d%3A/Internships/IndicWiki%20IIITH/birds%20repo/birds/birds/Scraping4birds.ipynb#ch0000031?line=9'>10</a>\u001b[0m         \u001b[39mfor\u001b[39;00m data \u001b[39min\u001b[39;00m dict_data:\n\u001b[1;32m---> <a href='vscode-notebook-cell:/d%3A/Internships/IndicWiki%20IIITH/birds%20repo/birds/birds/Scraping4birds.ipynb#ch0000031?line=10'>11</a>\u001b[0m             writer\u001b[39m.\u001b[39;49mwriterow(data)\n\u001b[0;32m     <a href='vscode-notebook-cell:/d%3A/Internships/IndicWiki%20IIITH/birds%20repo/birds/birds/Scraping4birds.ipynb#ch0000031?line=11'>12</a>\u001b[0m \u001b[39mexcept\u001b[39;00m \u001b[39mEOFError\u001b[39;00m \u001b[39mas\u001b[39;00m e:\n\u001b[0;32m     <a href='vscode-notebook-cell:/d%3A/Internships/IndicWiki%20IIITH/birds%20repo/birds/birds/Scraping4birds.ipynb#ch0000031?line=12'>13</a>\u001b[0m     \u001b[39mprint\u001b[39m(e)\n",
      "File \u001b[1;32m~\\anaconda3\\envs\\indicwiki\\lib\\csv.py:154\u001b[0m, in \u001b[0;36mDictWriter.writerow\u001b[1;34m(self, rowdict)\u001b[0m\n\u001b[0;32m    <a href='file:///c%3A/Users/akshi/anaconda3/envs/indicwiki/lib/csv.py?line=152'>153</a>\u001b[0m \u001b[39mdef\u001b[39;00m \u001b[39mwriterow\u001b[39m(\u001b[39mself\u001b[39m, rowdict):\n\u001b[1;32m--> <a href='file:///c%3A/Users/akshi/anaconda3/envs/indicwiki/lib/csv.py?line=153'>154</a>\u001b[0m     \u001b[39mreturn\u001b[39;00m \u001b[39mself\u001b[39m\u001b[39m.\u001b[39mwriter\u001b[39m.\u001b[39mwriterow(\u001b[39mself\u001b[39;49m\u001b[39m.\u001b[39;49m_dict_to_list(rowdict))\n",
      "File \u001b[1;32m~\\anaconda3\\envs\\indicwiki\\lib\\csv.py:147\u001b[0m, in \u001b[0;36mDictWriter._dict_to_list\u001b[1;34m(self, rowdict)\u001b[0m\n\u001b[0;32m    <a href='file:///c%3A/Users/akshi/anaconda3/envs/indicwiki/lib/csv.py?line=144'>145</a>\u001b[0m \u001b[39mdef\u001b[39;00m \u001b[39m_dict_to_list\u001b[39m(\u001b[39mself\u001b[39m, rowdict):\n\u001b[0;32m    <a href='file:///c%3A/Users/akshi/anaconda3/envs/indicwiki/lib/csv.py?line=145'>146</a>\u001b[0m     \u001b[39mif\u001b[39;00m \u001b[39mself\u001b[39m\u001b[39m.\u001b[39mextrasaction \u001b[39m==\u001b[39m \u001b[39m\"\u001b[39m\u001b[39mraise\u001b[39m\u001b[39m\"\u001b[39m:\n\u001b[1;32m--> <a href='file:///c%3A/Users/akshi/anaconda3/envs/indicwiki/lib/csv.py?line=146'>147</a>\u001b[0m         wrong_fields \u001b[39m=\u001b[39m rowdict\u001b[39m.\u001b[39;49mkeys() \u001b[39m-\u001b[39m \u001b[39mself\u001b[39m\u001b[39m.\u001b[39mfieldnames\n\u001b[0;32m    <a href='file:///c%3A/Users/akshi/anaconda3/envs/indicwiki/lib/csv.py?line=147'>148</a>\u001b[0m         \u001b[39mif\u001b[39;00m wrong_fields:\n\u001b[0;32m    <a href='file:///c%3A/Users/akshi/anaconda3/envs/indicwiki/lib/csv.py?line=148'>149</a>\u001b[0m             \u001b[39mraise\u001b[39;00m \u001b[39mValueError\u001b[39;00m(\u001b[39m\"\u001b[39m\u001b[39mdict contains fields not in fieldnames: \u001b[39m\u001b[39m\"\u001b[39m\n\u001b[0;32m    <a href='file:///c%3A/Users/akshi/anaconda3/envs/indicwiki/lib/csv.py?line=149'>150</a>\u001b[0m                              \u001b[39m+\u001b[39m \u001b[39m\"\u001b[39m\u001b[39m, \u001b[39m\u001b[39m\"\u001b[39m\u001b[39m.\u001b[39mjoin([\u001b[39mrepr\u001b[39m(x) \u001b[39mfor\u001b[39;00m x \u001b[39min\u001b[39;00m wrong_fields]))\n",
      "\u001b[1;31mAttributeError\u001b[0m: 'str' object has no attribute 'keys'"
     ]
    }
   ],
   "source": [
    "import csv\n",
    "csv_columns = ['auditory system','conservation status','geographic distribution includes','habitat','hearing range','hearing threshold',\n",
    "'locomotion','mineralized skeleton contains','population trend','visual system']\n",
    "dict_data = scrape_v_2('https://eol.org/pages/1178299')\n",
    "csv_file = \"attr1.csv\"\n",
    "try:\n",
    "    with open(csv_file, 'w') as csvfile:\n",
    "        writer = csv.DictWriter(csvfile, fieldnames=csv_columns)\n",
    "        writer.writeheader()\n",
    "        for data in dict_data:\n",
    "            writer.writerow(data)\n",
    "except EOFError as e:\n",
    "    print(e)\n",
    "\n"
   ]
  },
  {
   "cell_type": "code",
   "execution_count": 2,
   "id": "f6066bf1",
   "metadata": {},
   "outputs": [],
   "source": [
    "import requests\n",
    "from bs4 import BeautifulSoup\n",
    "URL = \"https://ebird.org/species/grswoo\"\n",
    "def scrape(URL):\n",
    "    page = requests.get(URL)\n",
    "    soup = BeautifulSoup(page.content, \"html.parser\")\n",
    "    results = soup.find_all(\"div\",class_=\"Breadcrumbs Breadcrumbs--reverse u-stack-sm\")\n",
    "    names = soup.find_all(\"h1\",class_=\"Heading-main Media--hero-title\")\n",
    "    udescription=soup.find_all(\"p\",class_=\"u-stack-sm\")\n",
    "    for j,i,k in zip(results,names,udescription):\n",
    "        print(j.get_text(),end=\" \")\n",
    "        print(i.get_text())\n",
    "        print(k.get_text())\n",
    "        \n"
   ]
  },
  {
   "cell_type": "code",
   "execution_count": null,
   "id": "5564b899",
   "metadata": {},
   "outputs": [],
   "source": []
  }
 ],
 "metadata": {
  "kernelspec": {
   "display_name": "TeWiki",
   "language": "python",
   "name": "indicwiki"
  },
  "language_info": {
   "codemirror_mode": {
    "name": "ipython",
    "version": 3
   },
   "file_extension": ".py",
   "mimetype": "text/x-python",
   "name": "python",
   "nbconvert_exporter": "python",
   "pygments_lexer": "ipython3",
   "version": "3.9.7"
  }
 },
 "nbformat": 4,
 "nbformat_minor": 5
}
