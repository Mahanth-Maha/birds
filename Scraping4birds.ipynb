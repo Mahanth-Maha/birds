{
 "cells": [
  {
   "cell_type": "markdown",
   "id": "0da0b336",
   "metadata": {},
   "source": [
    "# Scraping about Birds\n",
    "\n",
    "## About Birds classification\n",
    "\n",
    "getting all the types of birds"
   ]
  },
  {
   "cell_type": "code",
   "execution_count": 2,
   "id": "ee1e53bc",
   "metadata": {},
   "outputs": [],
   "source": [
    "#!pip install beautifulsoup4\n",
    "#!pip install selenium\n",
    "#!pip install scrapy"
   ]
  },
  {
   "cell_type": "code",
   "execution_count": 3,
   "id": "e74f740a",
   "metadata": {},
   "outputs": [],
   "source": [
    "from bs4 import BeautifulSoup\n",
    "from selenium import webdriver\n",
    "import scrapy\n",
    "import pandas as pd"
   ]
  },
  {
   "cell_type": "code",
   "execution_count": 4,
   "id": "eadafb2e",
   "metadata": {},
   "outputs": [
    {
     "data": {
      "text/html": [
       "<div>\n",
       "<style scoped>\n",
       "    .dataframe tbody tr th:only-of-type {\n",
       "        vertical-align: middle;\n",
       "    }\n",
       "\n",
       "    .dataframe tbody tr th {\n",
       "        vertical-align: top;\n",
       "    }\n",
       "\n",
       "    .dataframe thead th {\n",
       "        text-align: right;\n",
       "    }\n",
       "</style>\n",
       "<table border=\"1\" class=\"dataframe\">\n",
       "  <thead>\n",
       "    <tr style=\"text-align: right;\">\n",
       "      <th></th>\n",
       "      <th>Common Bird Names</th>\n",
       "    </tr>\n",
       "    <tr>\n",
       "      <th>ID</th>\n",
       "      <th></th>\n",
       "    </tr>\n",
       "  </thead>\n",
       "  <tbody>\n",
       "    <tr>\n",
       "      <th>1</th>\n",
       "      <td>Abbott's babbler</td>\n",
       "    </tr>\n",
       "    <tr>\n",
       "      <th>2</th>\n",
       "      <td>Abbott's booby</td>\n",
       "    </tr>\n",
       "    <tr>\n",
       "      <th>3</th>\n",
       "      <td>Abbott's starling</td>\n",
       "    </tr>\n",
       "    <tr>\n",
       "      <th>4</th>\n",
       "      <td>Abbott's sunbird</td>\n",
       "    </tr>\n",
       "  </tbody>\n",
       "</table>\n",
       "</div>"
      ],
      "text/plain": [
       "    Common Bird Names\n",
       "ID                   \n",
       "1    Abbott's babbler\n",
       "2      Abbott's booby\n",
       "3   Abbott's starling\n",
       "4    Abbott's sunbird"
      ]
     },
     "execution_count": 4,
     "metadata": {},
     "output_type": "execute_result"
    }
   ],
   "source": [
    "types_of_birds_df = pd.read_csv('assets/birds.csv',index_col='ID')\n",
    "types_of_birds_df.head(4)"
   ]
  },
  {
   "cell_type": "code",
   "execution_count": 5,
   "id": "f8596127",
   "metadata": {},
   "outputs": [
    {
     "name": "stdout",
     "output_type": "stream",
     "text": [
      "['Himalayan shrike-babbler', 'Himalayan snowcock', 'Himalayan swiftlet', 'Himalayan thrush', 'Himalayan vulture', 'Himalayan white-browed rosefinch', 'Himalayan woodpecker', \"Hinde's babbler\", 'Hispaniolan amazon', 'Hispaniolan crossbill', 'Hispaniolan emerald']\n",
      "10975\n"
     ]
    }
   ],
   "source": [
    "list_of_bird_names = [ types_of_birds_df.loc[ _ ,'Common Bird Names'] for _ in range(1,types_of_birds_df.shape[0]) ]\n",
    "print(list_of_bird_names[4444:4455])\n",
    "print(len(list_of_bird_names))"
   ]
  },
  {
   "cell_type": "code",
   "execution_count": 6,
   "id": "a6689fb7",
   "metadata": {},
   "outputs": [
    {
     "name": "stdout",
     "output_type": "stream",
     "text": [
      "172\n"
     ]
    },
    {
     "data": {
      "text/plain": [
       "['Ashy-throated parrotbill',\n",
       " 'Australian king parrot',\n",
       " 'Bald parrot',\n",
       " 'Bismarck hanging parrot',\n",
       " 'Black-breasted parrotbill',\n",
       " 'Black-headed parrot',\n",
       " 'Black-headed parrotbill',\n",
       " 'Black-legged parrot',\n",
       " 'Black-lored parrot',\n",
       " 'Black-throated parrotbill']"
      ]
     },
     "execution_count": 6,
     "metadata": {},
     "output_type": "execute_result"
    }
   ],
   "source": [
    "#testing for parrots [checking if we got all data or not]\n",
    "import re\n",
    "parrot = []\n",
    "for _ in list_of_bird_names:\n",
    "    k = re.findall('parrot',_)\n",
    "    if k:\n",
    "        parrot.append(_)\n",
    "print(len(parrot))\n",
    "parrot[:10]"
   ]
  },
  {
   "cell_type": "code",
   "execution_count": 7,
   "id": "02e203d4",
   "metadata": {},
   "outputs": [],
   "source": [
    "# !pip install google"
   ]
  },
  {
   "cell_type": "code",
   "execution_count": 8,
   "id": "a05f384f",
   "metadata": {},
   "outputs": [
    {
     "data": {
      "text/plain": [
       "30"
      ]
     },
     "execution_count": 8,
     "metadata": {},
     "output_type": "execute_result"
    }
   ],
   "source": [
    "from googlesearch import search\n",
    "query = 'Black-throated parrotbill'\n",
    "result = []\n",
    "no_of_links = 30\n",
    "res = search(query,  tld='com', lang='en', tbs='0', safe='off', num=no_of_links, start=0, stop=no_of_links, pause=2.0,country='', extra_params=None, user_agent=None)\n",
    "for i in res:\n",
    "    result.append(i)\n",
    "len(result)"
   ]
  },
  {
   "cell_type": "code",
   "execution_count": 9,
   "id": "aa393d44",
   "metadata": {},
   "outputs": [
    {
     "data": {
      "text/plain": [
       "['https://ebird.org/species/bltpar1',\n",
       " 'https://en.wikipedia.org/wiki/Black-throated_parrotbill',\n",
       " 'https://ebird.org/species/bltpar1?siteLanguage=en_IN',\n",
       " 'https://birdsoftheworld.org/bow/species/bltpar1/cur/introduction',\n",
       " 'https://birdsoftheworld.org/bow/species/bltpar1/cur/introduction#idsum',\n",
       " 'https://birdsoftheworld.org/bow/species/bltpar1/cur/introduction#sys',\n",
       " 'https://birdsoftheworld.org/bow/species/bltpar1/cur/introduction#subsp',\n",
       " 'https://birdsoftheworld.org/bow/species/bltpar1/cur/introduction#food',\n",
       " 'https://xeno-canto.org/species/Suthora-nipalensis',\n",
       " 'https://avibase.bsc-eoc.org/species.jsp?avibaseid=F1ED1492397A0722',\n",
       " 'http://datazone.birdlife.org/species/factsheet/black-throated-parrotbill-suthora-nipalensis',\n",
       " 'https://www.oiseaux.net/birds/black-throated.parrotbill.html',\n",
       " 'https://biodiversityofwestbengal.wildwingsindia.in/description.php?sname=Suthora%20nipalensis',\n",
       " 'https://dibird.com/species/blackthroated-parrotbill/',\n",
       " 'https://www.birdsofindia.org/#!/sp/1674/Suthora-nipalensis',\n",
       " 'https://www.stateofindiasbirds.in/species/bltpar1/',\n",
       " 'https://www.alamy.com/black-throated-parrotbill-suthora-nipalensis-eastern-himalayan-birds-lava-india-image244337953.html',\n",
       " 'https://www.birdguides.com/species-guide/ioc/suthora-nipalensis',\n",
       " 'https://www.natureweb.net/taxa/birds/blackthroatedparrotbill',\n",
       " 'https://www.discoverlife.org/mp/20q?search=Paradoxornis+nipalensis',\n",
       " 'https://animalia.bio/black-throated-parrotbill',\n",
       " 'https://in.pinterest.com/pin/335870084686935343/',\n",
       " 'https://www.inaturalist.org/taxa/718959-Suthora-nipalensis-humii',\n",
       " 'https://clementfrancis.com/portfolio/black-throated-parrotbill/',\n",
       " 'https://www.wikidata.org/wiki/Q27075564',\n",
       " 'https://twitter.com/MyGovArunachal/status/1435226631157673984',\n",
       " 'https://www.researchgate.net/publication/339704309_Black-throated_Parrotbill_Suthora_nipalensis']"
      ]
     },
     "execution_count": 9,
     "metadata": {},
     "output_type": "execute_result"
    }
   ],
   "source": [
    "import re\n",
    "photos = []\n",
    "res_copy = [_ for _ in result]\n",
    "for i in res_copy:\n",
    "    k = (re.findall('.*.jpg$',i), re.findall('.*.png$',i),re.findall('Photo'.lower(),i.lower()))\n",
    "    if any(k):\n",
    "        photos.append(i)\n",
    "        result.remove(i)\n",
    "\n",
    "result\n",
    "    "
   ]
  },
  {
   "cell_type": "code",
   "execution_count": 10,
   "id": "aece5366",
   "metadata": {},
   "outputs": [
    {
     "data": {
      "text/plain": [
       "(['https://ebird.org/species/bltpar1',\n",
       "  'https://en.wikipedia.org/wiki/Black-throated_parrotbill',\n",
       "  'https://ebird.org/species/bltpar1?siteLanguage=en_IN',\n",
       "  'https://birdsoftheworld.org/bow/species/bltpar1/cur/introduction',\n",
       "  'https://birdsoftheworld.org/bow/species/bltpar1/cur/introduction#idsum',\n",
       "  'https://birdsoftheworld.org/bow/species/bltpar1/cur/introduction#sys',\n",
       "  'https://birdsoftheworld.org/bow/species/bltpar1/cur/introduction#subsp',\n",
       "  'https://birdsoftheworld.org/bow/species/bltpar1/cur/introduction#food',\n",
       "  'https://xeno-canto.org/species/Suthora-nipalensis',\n",
       "  'https://avibase.bsc-eoc.org/species.jsp?avibaseid=F1ED1492397A0722',\n",
       "  'http://datazone.birdlife.org/species/factsheet/black-throated-parrotbill-suthora-nipalensis',\n",
       "  'https://www.oiseaux.net/birds/black-throated.parrotbill.html',\n",
       "  'https://biodiversityofwestbengal.wildwingsindia.in/description.php?sname=Suthora%20nipalensis',\n",
       "  'https://dibird.com/species/blackthroated-parrotbill/',\n",
       "  'https://www.birdsofindia.org/#!/sp/1674/Suthora-nipalensis',\n",
       "  'https://www.stateofindiasbirds.in/species/bltpar1/',\n",
       "  'https://www.alamy.com/black-throated-parrotbill-suthora-nipalensis-eastern-himalayan-birds-lava-india-image244337953.html',\n",
       "  'https://www.birdguides.com/species-guide/ioc/suthora-nipalensis',\n",
       "  'https://www.natureweb.net/taxa/birds/blackthroatedparrotbill',\n",
       "  'https://www.discoverlife.org/mp/20q?search=Paradoxornis+nipalensis',\n",
       "  'https://animalia.bio/black-throated-parrotbill',\n",
       "  'https://in.pinterest.com/pin/335870084686935343/',\n",
       "  'https://www.inaturalist.org/taxa/718959-Suthora-nipalensis-humii',\n",
       "  'https://clementfrancis.com/portfolio/black-throated-parrotbill/',\n",
       "  'https://www.wikidata.org/wiki/Q27075564',\n",
       "  'https://twitter.com/MyGovArunachal/status/1435226631157673984',\n",
       "  'https://www.researchgate.net/publication/339704309_Black-throated_Parrotbill_Suthora_nipalensis'],\n",
       " ['https://www.mindenpictures.com/stock-photo-black-throated-parrotbill-paradoxornis-nipalensis--west-bengal-india-naturephotography-image00583462.html',\n",
       "  'https://macaulaylibrary.org/photo/141137961?__hstc=65717809.c4a577029c49e44b73bd3bee6fa38565.1644796800148.1644796800149.1644796800150.1&__hssc=65717809.1.1644796800151&__hsfp=496796218',\n",
       "  'https://commons.wikimedia.org/wiki/File:Black-throated_Parrotbill_East_Sikkim_India_19.04.2015.jpg'])"
      ]
     },
     "execution_count": 10,
     "metadata": {},
     "output_type": "execute_result"
    }
   ],
   "source": [
    "from googlesearch import search\n",
    "import re\n",
    "def get_urls_from_google(query,no_of_links):\n",
    "    result = []\n",
    "    res = search(query,  tld='com', lang='en', tbs='0', safe='off', num=no_of_links, start=0, stop=no_of_links, pause=4.0,country='', extra_params=None, user_agent=None)\n",
    "    for i in res:\n",
    "        result.append(i)\n",
    "    photos = []\n",
    "    res_copy = [_ for _ in result]\n",
    "    # return result\n",
    "    for i in res_copy:\n",
    "        k = (re.findall('.*.jpg$',i), re.findall('.*.png$',i),re.findall('Photo'.lower(),i.lower()))\n",
    "        if any(k):\n",
    "            photos.append(i)\n",
    "            result.remove(i)\n",
    "\n",
    "    return result , photos\n",
    "get_urls_from_google('Black-throated parrotbill',30)"
   ]
  },
  {
   "cell_type": "code",
   "execution_count": 11,
   "id": "2e3f4420",
   "metadata": {},
   "outputs": [
    {
     "name": "stdout",
     "output_type": "stream",
     "text": [
      "['https://en.wikipedia.org/wiki/Abbott%27s_babbler', \"https://en.wikipedia.org/wiki/Abbott's_babbler\", 'https://ebird.org/species/abbbab1', 'https://en.wikipedia.org/wiki/Abbott%27s_babbler#Taxonomy', 'https://en.wikipedia.org/wiki/Abbott%27s_babbler#Description', 'https://en.wikipedia.org/wiki/Abbott%27s_babbler#Distribution_and_habitat', 'https://en.wikipedia.org/wiki/Abbott%27s_babbler#Behavior_and_ecology', 'https://xeno-canto.org/species/Malacocincla-abbotti', 'https://birdsoftheworld.org/bow/species/abbbab1/cur/introduction', 'https://sustain.round.glass/species/abbotts-babbler-brown-daub-green-canvas/', 'https://avibase.bsc-eoc.org/species.jsp?avibaseid=B0AD6BC83D81E22D', 'http://datazone.birdlife.org/species/factsheet/22715811', 'http://datazone.birdlife.org/species/factsheet/abbotts-babbler-malacocincla-abbotti/details', 'https://animalia.bio/abbotts-babbler', 'https://www.thainationalparks.com/species/abbotts-babbler', 'https://singaporebirds.com/species/abbotts-babbler/', 'https://dibird.com/species/abbotts-babbler/', 'https://www.oiseaux.net/birds/abbott.s.babbler.html', 'https://www.stateofindiasbirds.in/species/abbbab1/', 'https://www.researchgate.net/figure/Abbotts-Babbler-Malacocincla-abbotti-in-Purba-Medinipur-District-West-Bengal-India-C_fig1_351037306', 'https://observation.org/species/77377/', 'https://www.natureweb.net/taxa/birds/abbottsbabbler', 'https://biodiversityofwestbengal.wildwingsindia.in/description.php?sname=Malacocincla%20abbotti', 'https://www.pinterest.com/pin/523895369129555873/', 'https://www.jstor.org/stable/4164680', 'https://allbirdsoftheworld.fandom.com/wiki/Abbott%27s_Babbler', 'https://www.birdsofindia.org/#!/sp/1721/Malacocincla-abbotti', 'https://eol.org/pages/1052278', 'https://www.wikidata.org/wiki/Q2667966', 'https://www.youtube.com/watch?v=tEOc6qpoDQY'] []\n",
      "Error for bird Abbott's babbler\n",
      "['https://en.wikipedia.org/wiki/Abbott%27s_booby', \"https://en.wikipedia.org/wiki/Abbott's_booby\", 'https://en.wikipedia.org/wiki/Abbott%27s_booby#Description', 'https://en.wikipedia.org/wiki/Abbott%27s_booby#Distribution_and_habitat', 'https://en.wikipedia.org/wiki/Abbott%27s_booby#Population', 'https://en.wikipedia.org/wiki/Abbott%27s_booby#Threats_and_conservation', 'http://www.edgeofexistence.org/species/abbotts-booby/', 'https://ebird.org/species/abbboo2', 'http://www.environment.gov.au/cgi-bin/sprat/public/publicspecies.pl?taxon_id=59297', 'http://datazone.birdlife.org/species/factsheet/22696649', 'https://parksaustralia.gov.au/christmas/discover/nature/animals/abbotts-booby/', 'https://birdsoftheworld.org/bow/species/abbboo2/cur/introduction', 'https://www.awe.gov.au/environment/biodiversity/threatened/recovery-plans/national-recovery-plan-abbotts-booby-papasula-abbotti', 'https://www.encyclopedia.com/environment/applied-and-social-sciences-magazines/booby-abbotts', 'https://www.beautyofbirds.com/abbottsboobies.html', 'https://www.awe.gov.au/sites/default/files/documents/abbotts-booby.pdf', 'http://www.earthsendangered.com/%5C/profile.asp?gr=B&sp=42', 'https://xeno-canto.org/species/Papasula-abbotti', 'http://www.oiseaux-birds.com/card-abbott-booby.html', 'https://animalia.bio/abbotts-booby', 'https://avibase.bsc-eoc.org/species.jsp?avibaseid=92A2CCFC06063A60', \"https://www.researchgate.net/publication/230057973_The_biology_of_Abbott's_Booby_Sula_abbotti\", \"https://www.lexico.com/definition/abbott's_booby\", 'https://www.birdlife.org.au/bird-profile/abbotts-booby', 'https://cirp.com.au/blog/protecting-the-abbotts-booby-on-christmas-island/', 'https://www.assignmentpoint.com/other/a-beautiful-bird-abbotts-booby.html', 'https://en.wiktionary.org/wiki/Abbott%27s_booby', 'https://www.abc.net.au/news/2021-05-07/abbott-booby-population-survey/100113046'] ['https://commons.wikimedia.org/wiki/File:Abbott%27s_Booby.jpg', 'https://www.alamy.com/stock-photo/abbotts-booby.html']\n",
      "Error for bird Abbott's booby\n",
      "['https://ebird.org/species/abbsta2', \"https://en.wikipedia.org/wiki/Abbott's_starling\", 'https://en.wikipedia.org/wiki/Abbott%27s_starling', 'http://datazone.birdlife.org/species/factsheet/22710787', 'http://datazone.birdlife.org/species/factsheet/abbotts-starling-poeoptera-femoralis/text', 'https://www.beautyofbirds.com/abbottsstarlings.html', 'https://avibase.bsc-eoc.org/species.jsp?avibaseid=1350773FC72B7386', 'https://birdsoftheworld.org/bow/species/abbsta2/cur/introduction', 'https://birdsoftheworld.org/bow/species/abbsta2/cur/multimedia?media=video', 'https://dibird.com/species/abbotts-starling/', 'https://xeno-canto.org/species/Poeoptera-femoralis', 'https://www.oiseaux.net/birds/abbott.s.starling.html', 'https://naturekenya.org/2022/03/01/monitoring-the-abbotts-starling-in-mt-kenya/', 'https://thewebsiteofeverything.com/animals/birds/Passeriformes/Sturnidae/Cinnyricinclus-femoralis', 'https://laji.fi/en/taxon/MX.36786?showTree=true', 'http://www.earthsendangered.com/profile.asp?gr=B&view=&ID=&sp=14047', 'https://www.ajol.info/index.php/scopus/article/view/139741', 'https://www.birdguides.com/species-guide/ioc/poeoptera-femoralis', 'https://www.itis.gov/servlet/SingleRpt/SingleRpt?search_topic=TSN&search_value=915902', \"https://timesofindia.indiatimes.com/topic/abbott's-starling\", 'https://en.bab.la/dictionary/english-german/abbott-s-starling', 'https://www.biolib.cz/en/taxon/id27573/', 'https://www.birdforum.net/opus/Abbott%27s_Starling', 'http://www.tanzaniabirds.net/African_birds/starling_Abbotts/as.htm', 'https://en-academic.com/dic.nsf/enwiki/6823431'] ['https://www.mindenpictures.com/stock-photo-abbott-s-starling-cinnyricinclus-femoralis-adult-female-at-entrance-naturephotography-image80091441.html', 'https://m.facebook.com/NatureKenyaEANHS/photos/a.181956658495606/5900179920006556/', 'https://www.alamy.com/stock-photo/abbotts-starling.html', 'https://www.flickr.com/photos/stoufferlsu/20977607505', 'https://commons.wikimedia.org/wiki/File:Abbott%27s_Starling_(adult).jpg']\n",
      "Error for bird Abbott's starling\n",
      "['https://ebird.org/species/sousun2', 'https://en.wikipedia.org/wiki/Souimanga_sunbird', 'https://en.wikipedia.org/wiki/Souimanga_sunbird#Description', 'https://en.wikipedia.org/wiki/Souimanga_sunbird#Taxonomy', 'https://en.wikipedia.org/wiki/Souimanga_sunbird#Ecology', 'https://en.wikipedia.org/wiki/Souimanga_sunbird#Reproduction', 'https://ebird.org/species/sousun2?siteLanguage=en_IN', 'https://www.oiseaux.net/birds/abbott.s.sunbird.html', 'https://avibase.bsc-eoc.org/species.jsp?avibaseid=7BC7B97373F041E2', 'https://avibase.bsc-eoc.org/species.jsp?avibaseid=D7C2EAB87808AB4E', 'https://observation.org/species/195071/', 'https://dibird.com/species/abbotts-sunbird/', 'https://www.beautyofbirds.com/souimangasunbirds.html', 'https://xeno-canto.org/species/Cinnyris-abbotti', 'https://www.planetofbirds.com/passeriformes-nectariniidae-abbotts-sunbird-cinnyris-abbotti', 'https://www.birdguides.com/species-guide/ioc/cinnyris-abbotti', 'https://www.pinterest.com/pin/287174913708850043/', 'https://www.pinterest.com/pin/16466354872907004/', 'https://www.mindat.org/taxon-5845663.html', 'https://macaulaylibrary.org/asset/205870841', 'https://www.gbif.org/species/5845663', 'https://eol.org/pages/45514881/articles', 'https://allbirdsoftheworld.fandom.com/wiki/Abbott%27s', 'http://www.baanmaka.com/Birds.html', 'https://dbpedia.org/page/Souimanga_sunbird', 'https://fatbirder.com/ornithology/nectariniidae-sunbirds-and-spiderhunters/'] ['https://www.alamy.com/stock-photo/abbotts-sunbird.html', 'https://www.alamy.com/stock-photo/male-abbotts-sunbird.html', \"https://www.birdphotos.com/photos/v?q=gallery&g2_view=xebug.ShowTree&g2_code=RangeMap&g2_species=Abbott's%20Sunbird\", 'https://birdsoftheworld.org/bow/species/sousun2/cur/multimedia?media=photos']\n",
      "Error for bird Abbott's sunbird\n",
      "['https://en.wikipedia.org/wiki/Abd_al-Kuri_sparrow', 'https://ebird.org/species/aakspa1', 'http://datazone.birdlife.org/species/factsheet/22735599', 'http://datazone.birdlife.org/species/factsheet/abd-al-kuri-sparrow-passer-hemileucus/text', 'https://eol.org/pages/18772378', 'https://avibase.bsc-eoc.org/species.jsp?avibaseid=BE0105525CBA5480', 'https://birdsoftheworld.org/bow/species/aakspa1/cur/introduction', 'https://www.researchgate.net/figure/Juvenile-Passer-hemileucus-Abd-Al-Kuri-Socotra-late-March-Ahmed-Saeed-Suleiman_fig2_241688591', 'https://en-academic.com/dic.nsf/enwiki/11507877', 'https://www.wikidata.org/wiki/Q3056159', 'https://spain.inaturalist.org/taxa/108962-Passer-hemileucus', 'https://www.birdforum.net/opus/Abd_al-Kuri_Sparrow', 'https://allbirdsoftheworld.fandom.com/wiki/Abd_al-Kuri_Sparrow', 'https://www.pictofigo.com/image-detail/3691/Abd+Al+Kuri+Sparrow', 'https://observation.org/species/195077/names/', 'https://www.sapnaonline.com/books/abd-al-kuri-sparrow-lambert-m-6133342684-9786133342682', 'https://dibird.com/species/abd-alkuri-sparrow/', 'https://xeno-canto.org/species/Passer-hemileucus', 'https://www.birdtourasia.com/socotra2022', 'https://www.oiseaux.net/maps/abd.al-kuri.sparrow.html', 'https://www.whatiscalled.com/bird-names/abd_al_kuri_sparrow_in_mongolian/', 'https://www.hmoob.in/wiki/Abd_al_Kuri', 'https://birds.comparespecies.com/en/about-abd-al-kuri-sparrow/model-5136-0', 'https://hyperleap.com/topic/Abd_al-Kuri_sparrow', 'https://www.britannica.com/place/Abd-al-Kuri', 'https://www.pinterest.com/pin/287174913711532616/', 'https://animalia.bio/socotra-sparrow'] ['https://www.alamy.com/stock-photo/abd-al-kuri.html', 'https://commons.wikimedia.org/wiki/File:Passer_hemileucus.jpg', 'https://inaturalist.nz/taxa/108962-Passer-hemileucus/browse_photos']\n",
      "Error for bird Abd al-Kuri sparrow\n",
      "['https://ebird.org/species/abdsto1', \"https://en.wikipedia.org/wiki/Abdim's_stork\", 'http://eol.org/', 'https://en.wikipedia.org/wiki/Abdim%27s_stork', 'https://seaworld.org/animals/facts/birds/abdims-stork/', 'https://www.britannica.com/animal/Abdims-stork', 'https://wildlifesafari.info/abdims_stork.htm', 'https://www.beautyofbirds.com/abdimsstorks.html', 'http://datazone.birdlife.org/species/factsheet/3831', 'http://datazone.birdlife.org/species/factsheet/abdims-stork-ciconia-abdimii/text', 'http://www.oiseaux-birds.com/card-abdim-stork.html', 'https://www.lpzoo.org/animal/abdims-stork/', 'https://animalia.bio/abdims-stork', 'https://avibase.bsc-eoc.org/species.jsp?avibaseid=26CD03193C89F18B', 'https://birdsoftheworld.org/bow/species/abdsto1/cur/introduction', 'http://www.biodiversityexplorer.info/birds/ciconiidae/ciconia_abdimii.htm', 'https://www.zootierliste.de/en/?klasse=2&ordnung=208&familie=20803&art=2050201&subhaltungen=1', 'https://www.conservationevidence.com/individual-study/1902', 'https://www.safariwest.com/wildlife/stork-abdims-or-white-bellied/', 'https://dibird.com/species/abdims-stork/', 'https://www.pinterest.com/pin/549157748285413968/', 'https://www.jstor.org/stable/25148316', 'https://etc.usf.edu/clipart/58800/58813/58813_abdim_stork.htm', 'https://observation.org/species/73546/', \"https://www.researchgate.net/publication/232662109_Abdim's_Stork_Ciconia_abdimii_Exploitation_of_Senegalese_Grasshopper_Oedaleus_senegalensis_in_South-eastern_Niger\", 'https://animaldiversity.org/accounts/Ciconia_abdimii/classification/', 'https://www.zsl.org/zsl-london-zoo/abdims-stork', 'https://www.jungledragon.com/specie/2443/abdims_stork.html', 'https://xeno-canto.org/species/Ciconia-abdimii'] [\"https://www.istockphoto.com/photos/abdim's-storks\"]\n",
      "Error for bird Abdim's stork\n",
      "['https://ebird.org/species/abecis1', 'https://en.wikipedia.org/wiki/Aberdare_cisticola', 'https://ebird.org/species/abecis1?siteLanguage=en_IN', 'http://datazone.birdlife.org/species/factsheet/22713436', 'http://datazone.birdlife.org/species/factsheet/aberdare-cisticola-cisticola-aberdare/text', 'https://birdsoftheworld.org/bow/species/abecis1/cur/introduction', 'https://www.conservationleadershipprogramme.org/project/ecology-conservation-status-aberdare-cisticola-mau-narok-molo-grasslands-kenya/', 'https://xeno-canto.org/species/Cisticola-aberdare', 'https://avibase.bsc-eoc.org/species.jsp?avibaseid=3C79F1ACE05C7133', 'http://animaldiversity.org/accounts/Cisticola_aberdare/classification/', 'https://www.itis.gov/servlet/SingleRpt/SingleRpt?search_topic=TSN&search_value=559305', 'https://animalia.bio/aberdare-cisticola', 'https://www.oiseaux.net/birds/aberdare.cisticola.html', 'https://www.bloomsburycollections.com/book/the-birds-of-africa-volume-v/cisticola-aberdare-lynes-aberdare-cisticola-cisticole-des-aberdares', 'https://dibird.com/species/aberdare-cisticola/', 'https://www.inaturalist.org/guide_taxa/241170', 'https://www.africanbirdclub.org/sites/default/files/Kenya_Aberdare_Cisticola_2010_0.pdf', 'https://macaulaylibrary.org/asset/14352', 'https://www.semanticscholar.org/paper/Survey-of-the-current-status-of-Aberdare-Cisticola-Malaki-Wamiti/1d46ac5efaa705fb40e87968fe2d38f32c7260cc', 'https://spotwild.org/en/type/Jzd4vR/aberdare-cisticola', 'https://allbirdsoftheworld.fandom.com/wiki/Aberdare_Cisticola', 'http://www.planetofbirds.com/passeriformes-cisticolidae-aberdare-cisticola-cisticola-aberdare', 'https://observation.org/species/76920/', 'https://www.beautyofbirds.com/aberdarecisticolas.html', 'https://commons.wikimedia.org/wiki/Category:Cisticola_aberdare', 'https://www.wikidata.org/wiki/Q1923584', 'https://www.gbif.org/species/2492789', 'https://avocet.integrativebiology.natsci.msu.edu/species/6879'] ['https://www.alamy.com/stock-photo/aberdare-cisticola.html', 'https://www.flickr.com/photos/30722034@N02/43776420684']\n",
      "Error for bird Aberdare cisticola\n",
      "['https://ebird.org/species/abbwar1', 'https://en.wikipedia.org/wiki/Aberrant_bush_warbler', 'https://birdsoftheworld.org/bow/species/abbwar1/cur/introduction', 'https://birdsoftheworld.org/bow/species/abbwar1/cur/introduction#idsum', 'https://birdsoftheworld.org/bow/species/abbwar1/cur/introduction#sys', 'https://birdsoftheworld.org/bow/species/abbwar1/cur/introduction#subsp', 'https://birdsoftheworld.org/bow/species/abbwar1/cur/introduction#hab', 'http://datazone.birdlife.org/species/factsheet/105295705', 'https://xeno-canto.org/species/Horornis-flavolivaceus', 'https://avibase.bsc-eoc.org/species.jsp?avibaseid=9AED65766F1C7015', 'https://dibird.com/species/aberrant-bush-warbler/', 'https://www.birdsofindia.org/sp/1646/Horornis-flavolivaceus', 'https://www.stateofindiasbirds.in/species/abbwar1/', 'https://www.researchgate.net/publication/339700937_Aberrant_Bush_Warbler_Horornis_flavolivaceus', 'https://dbpedia.org/page/Aberrant_bush_warbler', 'https://animalia.bio/aberrant-bush-warbler', 'https://www.birdforum.net/opus/Aberrant_Bush_Warbler', 'https://www.shanghaibirding.com/tag/aberrant-bush-warbler/', 'https://observation.org/species/256572/', 'https://macaulaylibrary.org/asset/422433651', 'https://birdsofindia.co.in/bird-name/2710/aberrant-bush-warbler/', 'https://www.wikidata.org/wiki/Q27075472', 'https://laji.fi/en/taxon/MX.33556', 'https://www.birdguides.com/species-guide/ioc/horornis-flavolivaceus', 'https://www.alamy.com/aberrant-bush-warbler-horornis-flavolivaceus-maguri-beel-tinsukia-district-of-upper-assam-india-image343528182.html', 'https://animals.fandom.com/wiki/Aberrant_Bush_Warbler', 'https://www.pinterest.co.uk/pin/287174913711563919/'] ['https://commons.wikimedia.org/wiki/File:Aberrant_Bush_Warbler_(43704883970).jpg', 'https://indianbirds.club/m/v2photo.php?l=en&s=031900444&n=1&si=ind', 'https://www.mindenpictures.com/stock-photo-aberrant-bush-warbler-cettia-flavolivacea-in-song-mount-victoria-naturephotography-image80026146.html']\n",
      "Error for bird Aberrant bush warbler\n",
      "['https://ebird.org/species/abetow', \"https://en.wikipedia.org/wiki/Abert's_towhee\", 'https://www.allaboutbirds.org/guide/Aberts_Towhee/id', 'https://www.allaboutbirds.org/guide/Aberts_Towhee/overview', 'https://en.wikipedia.org/wiki/Abert%27s_towhee', 'https://en.wikipedia.org/wiki/Abert%27s_towhee#Description', 'https://en.wikipedia.org/wiki/Abert%27s_towhee#Habitat', 'https://www.audubon.org/field-guide/bird/aberts-towhee', 'https://www.sdakotabirds.com/species/aberts_towhee_info.htm', 'https://birdsoftheworld.org/bow/species/abetow/cur/introduction', 'http://datazone.birdlife.org/species/factsheet/22721315', 'https://identify.whatbird.com/obj/1011/_/Aberts_Towhee.aspx', 'http://www.oiseaux-birds.com/card-abert-towhee.html', \"https://www.researchgate.net/profile/Deborah_Finch/publication/250143206_Abert's_Towhee_Pipilo_aberti/links/0deec526ac6efa194a000000/Aberts-Towhee-Pipilo-aberti.pdf\", 'https://www.pinterest.com/pin/37506609373151877/', 'http://www.arizonensis.org/sonoran/fieldguide/vertibrata/pipilo_aberti.html', 'https://www.fs.fed.us/rm/pubs_journals/2020/rmrs_2020_tweit_r001.pdf', 'https://www.birdandhike.com/Wildlife/Birds/28-Passer/53-Ember/Abto/_Abto.htm', \"https://www.birds-of-north-america.net/Abert's_Towhee.html\", 'https://en.wiktionary.org/wiki/Abert%27s_towhees', 'https://genomics.senescence.info/species/entry.php?species=Melozone_aberti', 'https://www.shutterstock.com/search/aberts+towhee', 'https://animalia.bio/aberts-towhee', 'https://askabiologist.asu.edu/activities/bird/aberts-towhee', 'https://www.oiseaux.net/birds/abert.s.towhee.html', \"http://www.ian-lewington.co.uk/Abert's%20Towhee.htm\", 'https://birds.fandom.com/wiki/Abert%27s_Towhee', 'https://dibird.com/species/aberts-towhee/', 'https://academic.oup.com/auk/article/48/2/274/5256583', 'https://www.sciencebase.gov/catalog/item/55c1355fe4b033ef5210472a'] []\n",
      "Error for bird Abert's towhee\n",
      "['https://ebird.org/species/abycat1', 'https://en.wikipedia.org/wiki/Abyssinian_catbird', 'https://en.wikipedia.org/wiki/Abyssinian_catbird#Description', 'https://en.wikipedia.org/wiki/Abyssinian_catbird#Distribution_and_Habitat', 'https://en.wikipedia.org/wiki/Abyssinian_catbird#Behavior', 'https://en.wikipedia.org/wiki/Abyssinian_catbird#Diet', 'http://datazone.birdlife.org/species/factsheet/22716682', 'https://birdsoftheworld.org/bow/species/abycat1/cur/introduction', 'https://avibase.bsc-eoc.org/species.jsp?avibaseid=B1400E689AAC5BEE', 'https://xeno-canto.org/species/Parophasma-galinieri', 'https://www.beautyofbirds.com/abyssiniancatbirds.html', 'https://www.researchgate.net/figure/Abyssinian-catbird-Parophasma-galinieri_fig12_309814504', 'https://eol.org/pages/45515456', 'https://observation.org/species/77556/', 'https://dibird.com/species/abyssinian-catbird/', 'https://www.theguardian.com/science/punctuated-equilibrium/2011/jun/22/1', 'https://www.oiseaux.net/maps/abyssinian.catbird.html', 'https://www.oiseaux.net/birds/abyssinian.catbird.html', 'https://www.birdforum.net/opus/Abyssinian_Catbird', 'https://wikijii.com/wiki/Abyssinian_catbird', 'https://en.bab.la/dictionary/english-italian/abyssinian-catbird', 'https://www.ethiopianheritagetrustuk.org/product-page/abyssinian-catbird-painting-by-eric-robson', 'https://www.pinterest.com/pin/abyssinian-catbird-ethiopia--465348573984771436/', 'https://allbirdsoftheworld.fandom.com/wiki/Abyssinian_Catbird', 'https://www.pictofigo.com/image-detail/3798/Abyssinian+Catbird', 'https://www.itis.gov/servlet/SingleRpt/SingleRpt?search_topic=TSN&search_value=561845', 'https://balemountains.org/wildlife/birds/_mg_5645/', 'https://kidadl.com/animal-facts/catbird-facts'] ['https://www.shutterstock.com/image-photo/abyssinian-catbird-parophasma-galinieri-286885049', 'https://www.inaturalist.org/taxa/15476-Parophasma-galinieri/browse_photos']\n",
      "Error for bird Abyssinian catbird\n",
      "['https://ebird.org/species/abcwin1', 'https://en.wikipedia.org/wiki/Abyssinian_crimsonwing', 'https://en.wikipedia.org/wiki/Abyssinian_crimsonwing#Description', 'https://en.wikipedia.org/wiki/Abyssinian_crimsonwing#Distribution_and_subspecies', 'https://en.wikipedia.org/wiki/Abyssinian_crimsonwing#Habitat_and_habits', 'https://xeno-canto.org/species/Cryptospiza-salvadorii', 'http://datazone.birdlife.org/species/factsheet/abyssinian-crimsonwing-cryptospiza-salvadorii', 'https://birdsoftheworld.org/bow/species/abcwin1/cur/introduction', 'https://animalia.bio/abyssinian-crimsonwing', 'https://bioone.org/journals/bulletin-of-the-british-ornithologists-club/volume-139/issue-2/bboc.v139i2.2019.a5/Clarifying-the-distributions-of-Abyssinian-Crimsonwing-Cryptospiza-salvadorii-and-Red/10.25226/bboc.v139i2.2019.a5.full', 'https://dibird.com/species/abyssinian-crimsonwing/', 'https://dbpedia.org/page/Abyssinian_crimsonwing', 'https://observation.org/species/78104/', 'https://avibase.bsc-eoc.org/species.jsp?avibaseid=98B15EE714BAD2D9', 'https://www.wikidata.org/wiki/Q1034934', 'https://www.itis.gov/servlet/SingleRpt/SingleRpt?search_topic=TSN&search_value=559597', 'https://www.researchgate.net/publication/333826470_Clarifying_the_distributions_of_Abyssinian_Crimsonwing_Cryptospiza_salvadorii_and_Red-faced_Crimsonwing_C_reichenovii_in_Tanzania', 'https://wikijii.com/wiki/Abyssinian_crimsonwing', 'https://www.birdguides.com/species-guide/ioc/cryptospiza-salvadorii', 'https://macaulaylibrary.org/asset/402897061', 'https://eol.org/pages/45515637', 'https://agris.fao.org/agris-search/search.do?recordID=US202000195367', 'http://www.tanzaniabirds.net/African_birds/crimsonwing_abyssinian/ac.htm', 'https://www.birdforum.net/opus/Abyssinian_Crimsonwing', 'https://glosbe.com/en/la/Abyssinian%20crimsonwing', 'https://kenya.birdmap.africa/species/3726', 'https://www.africanbirdclub.org/afbid/search/birddetails/species/2307/4191', 'https://avocet.integrativebiology.natsci.msu.edu/recordings/4465'] ['https://www.oiseaux.net/photos/raphael.jordan/abyssinian.crimsonwing.1.html', 'https://commons.wikimedia.org/wiki/File:Abyssinian_Crimsonwing_(Cryptospiza_salvadorii)_(male).jpg']\n",
      "Error for bird Abyssinian crimsonwing\n",
      "['https://ebird.org/species/noghor1', 'https://en.wikipedia.org/wiki/Abyssinian_ground_hornbill', 'http://eol.org/', 'https://en.wikipedia.org/wiki/Abyssinian_ground_hornbill#Taxonomy', 'https://en.wikipedia.org/wiki/Abyssinian_ground_hornbill#Description', 'https://en.wikipedia.org/wiki/Abyssinian_ground_hornbill#Distribution_and_habitat', 'https://en.wikipedia.org/wiki/Abyssinian_ground_hornbill#Behaviour', 'https://nationalzoo.si.edu/animals/abyssinian-ground-hornbill', 'https://animaldiversity.org/accounts/Bucorvus_abyssinicus/', 'https://www.natureweb.net/taxa/birds/abyssiniangroundhornbill', 'https://www.safaribookings.com/blog/5-fascinating-facts-about-the-ground-hornbill', 'http://datazone.birdlife.org/species/factsheet/northern-ground-hornbill-bucorvus-abyssinicus', 'https://www.youtube.com/watch?v=Ae8EriHMcpM', 'https://www.torontozoo.com/animals/Abyssinian%20ground%20hornbill', 'https://avibase.bsc-eoc.org/species.jsp?avibaseid=948ED65CEC66A149', 'https://animalia.bio/abyssinian-ground-hornbill', 'https://www.desertusa.com/animals/abyssinian-ground-hornbill.html', 'http://www.aladdin.st/bird-watching/africa/abyssinian_ground-hornbill.html', 'https://birdsoftheworld.org/bow/species/noghor1/cur/introduction', 'https://dibird.com/species/abyssinian-ground-hornbill/', 'https://www.marylandzoo.org/animal/northern-ground-hornbill/', 'https://www.itis.gov/servlet/SingleRpt/SingleRpt?search_topic=TSN&search_value=554467', 'https://www.zootierliste.de/en/?klasse=2&ordnung=225&familie=22501&art=2200118', 'https://www.beautyofbirds.com/abyssiniangroundhornbills.html', 'https://observation.org/species/70988/', 'https://whozoo.org/Intro2002/RebLamont/RLL_AfricanGroundHornbill.htm', 'https://www.nationalgeographic.com/animals/birds/facts/southern-ground-hornbill', 'https://www.invasive.org/browse/subinfo.cfm?sub=15360'] ['https://www.istockphoto.com/photos/abyssinian-ground-hornbill', 'https://www.gettyimages.in/photos/abyssinian-ground-hornbill']\n",
      "Error for bird Abyssinian ground hornbill\n",
      "['https://en.wikipedia.org/wiki/Abyssinian_ground_thrush', 'https://en.wikipedia.org/wiki/Abyssinian_ground_thrush#Description', 'https://en.wikipedia.org/wiki/Abyssinian_ground_thrush#Distribution_and_subspecies', 'https://en.wikipedia.org/wiki/Abyssinian_ground_thrush#Habits', 'https://ebird.org/species/abgthr1', 'http://datazone.birdlife.org/species/factsheet/abyssinian-ground-thrush-geokichla-piaggiae', 'https://birdsoftheworld.org/bow/species/abgthr1/cur/introduction', 'https://xeno-canto.org/species/Geokichla-piaggiae', 'https://eol.org/pages/45515555', 'https://avibase.bsc-eoc.org/species.jsp?avibaseid=9049D5C374AC1E49', 'https://www.theguardian.com/science/grrlscientist/2012/mar/26/6', 'https://animalia.bio/abyssinian-ground-thrush', 'https://www.oiseaux.net/birds/abyssinian.ground.thrush.html', 'https://observation.org/species/259375/', 'https://dibird.com/species/abyssinian-ground-thrush/', 'https://www.zootierliste.de/en/?klasse=2&ordnung=227&familie=22726&art=50903551', 'https://dbpedia.org/page/Abyssinian_ground_thrush', 'https://www.itis.gov/servlet/SingleRpt/SingleRpt?search_topic=TSN&search_value=563807', 'https://www.discoverlife.org/mp/20q?search=Zoothera+piaggiae', 'https://www.birdguides.com/species-guide/ioc/geokichla-piaggiae', 'https://macaulaylibrary.org/asset/204304401', 'https://www.youtube.com/watch?v=ne2_NCi6xE4', 'https://www.amazon.com/Earth-Day-Abyssinian-Ground-Thrush/dp/B09QRSV8L5', 'https://africanbirdclub.org/afbid/search/birddetails/species/1452/12885', 'https://relatedwords.org/relatedto/abyssinian%20ground%20thrush', 'https://en.bab.la/dictionary/english-german/abyssinian-ground-thrush', 'https://allbirdsoftheworld.fandom.com/wiki/Abyssinian_Ground-Thrush', 'http://www.tanzaniabirds.net/African_birds/ground-thrush_abyssinian/agt.htm'] ['https://commons.wikimedia.org/wiki/File:Abyssinian_Ground-thrush_(Zoothera_piaggiae)_perched.jpg', 'https://www.treknature.com/gallery/Africa/Ethiopia/photo297635.htm']\n",
      "Error for bird Abyssinian ground thrush\n",
      "['https://en.wikipedia.org/wiki/Abyssinian_longclaw', 'https://ebird.org/species/abylon1?siteLanguage=en_IN', 'http://datazone.birdlife.org/species/factsheet/abyssinian-longclaw-macronyx-flavicollis/text', 'https://birdsoftheworld.org/bow/species/abylon1/cur/introduction', 'https://www.beautyofbirds.com/abyssinianlongclaws.html', 'https://animalia.bio/abyssinian-longclaw', 'https://avibase.bsc-eoc.org/species.jsp?avibaseid=05AE5DFFE5943ED1', 'https://observation.org/species/77925/', 'https://eol.org/pages/45515069', 'https://thewebsiteofeverything.com/animals/birds/Passeriformes/Motacillidae/Macronyx-flavicollis', 'https://www.researchgate.net/figure/Abyssinian-long-claw-Macronyx-flavicollis_fig9_309814504', 'https://xeno-canto.org/species/Macronyx-flavicollis', 'https://www.oiseaux.net/birds/abyssinian.longclaw.html', 'https://www.birdguides.com/species-guide/ioc/macronyx-flavicollis', 'https://dibird.com/species/abyssinian-longclaw/', 'http://www.earthsendangered.com/profile.asp?gr=B&view=&ID=&sp=11082', 'https://www.birdforum.net/opus/Abyssinian_Longclaw', 'http://www.journalijdr.com/abundance-and-habitat-preference-near-threatened-endemic-abyssinian-long-claw-macronyx-flavicollis', 'https://www.itis.gov/servlet/SingleRpt/SingleRpt?search_topic=TSN&search_value=560926', 'https://laji.fi/en/taxon/MX.32196', 'https://africanbirdclub.org/afbid/search/birddetails/species/1247/24385', 'https://open.spotify.com/track/1nybUrN3gXMG8GgSdJsVM6', 'https://en.bab.la/dictionary/english-german/abyssinian-longclaw', 'https://www.amazon.com/Abyssinian-Longclaw/dp/B09LYY11F1', 'https://balemountains.org/wildlife/birds/img_9117-2/', 'https://www.alamy.com/abyssinian-longclaw-macronyx-flavicollis-sanetti-plateau-bale-mountains-ethiopia-image220293348.html', 'https://animaldiversity.org/accounts/Macronyx_flavicollis/classification/'] ['https://www.researchgate.net/figure/Picture-of-Abyssinian-Long-claw-Photo-By-Yosef-Mamo_fig1_293332530', 'https://www.dreamstime.com/photos-images/abyssinian-longclaw.html', 'https://www.mindenpictures.com/stock-photo-abyssinian-longclaw-macronyx-flavicollis-adult-perched-in-bush-bale-naturephotography-image80068146.html']\n",
      "Error for bird Abyssinian longclaw\n",
      "['https://ebird.org/species/aleowl1', 'https://en.wikipedia.org/wiki/Abyssinian_owl', 'https://www.owlpages.com/owls/species.php?s=3560', 'https://avibase.bsc-eoc.org/species.jsp?avibaseid=250123FB6809F039', 'https://birdsoftheworld.org/bow/species/aleowl1/cur/introduction', 'https://birdsoftheworld.org/bow/species/aleowl1/cur/introduction#idsum', 'https://birdsoftheworld.org/bow/species/aleowl1/cur/introduction#subsp', 'https://birdsoftheworld.org/bow/species/aleowl1/cur/introduction#hab', 'https://birdsoftheworld.org/bow/species/aleowl1/cur/introduction#food', 'https://animalia.bio/abyssinian-owl', 'https://eol.org/pages/1178299', 'https://xeno-canto.org/species/Asio-abyssinicus', 'https://animals.fandom.com/wiki/Abyssinian_Owl', 'https://dibird.com/species/abyssinian-owl/', 'https://www.pinterest.com/pin/349451252321894112/', 'https://africanbirdclub.org/afbid/search/birddetails/species/842/34895', 'https://www.oiseaux.net/birds/abyssinian.owl.html', 'https://observation.org/species/72266/', 'https://www.birdguides.com/species-guide/ioc/asio-abyssinicus', 'https://www.habitatinfo.com/owl/', 'https://www.woolandcompany.com/quince-co-owl-309-abyssinian.html', 'http://www.birdtheme.org/mainlyimages/index.php?spec=807', 'https://www.wikidata.org/wiki/Q257212', 'https://quinceandco.com/products/owl-yarn-wool-alpaca', 'https://www.encyclo.co.uk/meaning-of-Abyssinian_owl', 'https://www.conservapedia.com/Abyssinian_Owl'] ['https://www.inaturalist.org/taxa/20312-Asio-abyssinicus/browse_photos', 'https://www.alamy.com/stock-photo/abyssinian-owl.html', 'https://observation.org/photos/19152110/', 'https://www.tripadvisor.com/LocationPhotoDirectLink-g315973-d1545691-i319970074-The_International_Centre_for_Birds_of_Prey-Newent_Forest_of_Dean_Glouces.html']\n",
      "Error for bird Abyssinian owl\n",
      "['https://ebird.org/species/abyrol2', 'https://en.wikipedia.org/wiki/Abyssinian_roller', 'https://en.wikipedia.org/wiki/Abyssinian_roller#Description', 'https://en.wikipedia.org/wiki/Abyssinian_roller#Behaviour_and_ecology', 'https://ebird.org/species/abyrol2?siteLanguage=en_IN', 'http://datazone.birdlife.org/species/factsheet/22682865', 'https://kidadl.com/animal-facts/abyssinian-roller-facts', 'https://birdsoftheworld.org/bow/species/abyrol2/cur/introduction', 'https://www.beautyofbirds.com/abyssinianrollers.html', 'https://www.oiseaux.net/birds/abyssinian.roller.html', 'https://www.birdguides.com/species/redirect/29586', 'https://www.theguardian.com/science/punctuated-equilibrium/2011/apr/12/5', 'https://avibase.bsc-eoc.org/species.jsp?avibaseid=E7C7EE3AC6A45C81', 'https://animalia.bio/abyssinian-roller', 'https://www.pinterest.com/johnmeyer23/abyssinian-roller-bird/', 'https://xeno-canto.org/species/Coracias-abyssinicus', 'https://www.youtube.com/watch?v=B79FLggLL3A', 'https://dibird.com/species/abyssinian-roller/', 'https://www.inaturalist.org/guide_taxa/240880', 'https://www.historicalrarebirds.info/cat-np/abyssinian-roller', 'https://www.researchgate.net/publication/327070544_Western_Palearctic_list_updates_Abyssinian_Roller', 'https://elements.envato.com/abyssinian-roller-coracias-abyssinicus-MZC8KQD', 'https://observation.org/species/16673/', 'https://www.zootierliste.de/en/?klasse=2&ordnung=225&familie=22502&art=2200207', 'https://archivalcollections.library.mcgill.ca/index.php/abyssinian-roller', 'https://eol.org/pages/45513608'] ['https://www.gettyimages.in/photos/abyssinian-roller', 'https://commons.wikimedia.org/wiki/File:Abyssinian_roller_(Coracias_abyssinicus).jpg', 'https://www.facebook.com/138578262841085/photos/abyssinian-roller-coracias-abyssinicus-photographed-at-gran-canaria-by-marcos-be/2211141275584763/', 'https://macaulaylibrary.org/photo/204785671?__hstc=65717809.c4a577029c49e44b73bd3bee6fa38565.1638403200210.1638403200211.1638403200212.1&__hssc=65717809.1.1638403200213&__hsfp=1558207124']\n",
      "Error for bird Abyssinian roller\n",
      "['https://ebird.org/species/absbil1', 'https://en.wikipedia.org/wiki/Abyssinian_scimitarbill', 'https://birdsoftheworld.org/bow/species/absbil1/cur/introduction', 'https://birdsoftheworld.org/bow/species/absbil1/cur/introduction#idsum', 'https://birdsoftheworld.org/bow/species/absbil1/cur/introduction#subsp', 'https://birdsoftheworld.org/bow/species/absbil1/cur/introduction#food', 'http://datazone.birdlife.org/species/factsheet/22682710', 'https://xeno-canto.org/species/Rhinopomastus-minor', 'https://xeno-canto.org/species/Rhinopomastus-minor?view=3', 'https://avibase.bsc-eoc.org/species.jsp?avibaseid=46847C50C05E10A6', 'https://www.oiseaux.net/birds/abyssinian.scimitarbill.html', 'https://observation.org/species/70997/', 'https://dibird.com/species/abyssinian-scimitarbill/', 'https://animals.fandom.com/wiki/Abyssinian_Scimitarbill', 'https://www.birdguides.com/species-guide/ioc/rhinopomastus-minor', 'https://www.beautyofbirds.com/abyssinianscimitarbills.html', 'https://www.pinterest.com/pin/6192518220488212/', 'https://www.researchgate.net/publication/339691109_Abyssinian_Scimitarbill_Rhinopomastus_minor', 'https://eol.org/pages/45514095', 'https://www.itis.gov/servlet/SingleRpt/SingleRpt?search_topic=TSN&search_value=554480', 'https://skullsite.com/skullpage/rhinopomastus-minor-abyssinian-scimitarbill/', 'https://www.ajol.info/index.php/scopus/article/view/111993', 'http://animaldiversity.org/accounts/Rhinopomastus_minor/classification/', 'https://avocet.integrativebiology.natsci.msu.edu/recordings/4652', 'https://thewebsiteofeverything.com/animals/birds/Coraciiformes/Phoeniculidae/Rhinopomastus-minor', 'https://www.birdforum.net/opus/Abyssinian_Scimitarbill'] ['https://www.inaturalist.org/taxa/20956-Rhinopomastus-minor/browse_photos', 'https://macaulaylibrary.org/photo/206144101?__hstc=65717809.c4a577029c49e44b73bd3bee6fa38565.1643500800166.1643500800167.1643500800168.1&__hssc=65717809.1.1643500800169&__hsfp=1081796388', 'https://commons.wikimedia.org/wiki/File:Abyssinian_scimitarbill_Kenya.jpg', 'https://www.alamy.com/stock-photo/abyssinian-scimitarbill.html']\n",
      "Error for bird Abyssinian scimitarbill\n",
      "['https://en.wikipedia.org/wiki/Abyssinian_slaty_flycatcher', 'https://ebird.org/species/abyslf1', 'https://birdsoftheworld.org/bow/species/abyslf1/cur/introduction', 'https://birdsoftheworld.org/bow/species/abyslf1/cur/introduction#idsum', 'https://birdsoftheworld.org/bow/species/abyslf1/cur/introduction#subsp', 'http://datazone.birdlife.org/species/factsheet/abyssinian-slaty-flycatcher-melaenornis-chocolatinus', 'http://datazone.birdlife.org/species/factsheet/abyssinian-slaty-flycatcher-melaenornis-chocolatinus/details', 'https://avibase.bsc-eoc.org/species.jsp?avibaseid=373E54E6CFF1904A', 'https://xeno-canto.org/species/Melaenornis-chocolatinus', 'https://dbpedia.org/page/Abyssinian_slaty_flycatcher', 'https://dibird.com/species/abyssinian-slaty-flycatcher/', 'https://www.theguardian.com/p/2z79f/tf', 'https://observation.org/species/76099/', 'https://www.oiseaux.net/birds/abyssinian.slaty.flycatcher.html', 'https://www.birdguides.com/species-guide/ioc/melaenornis-chocolatinus', 'https://macaulaylibrary.org/asset/204516471', 'https://www.itis.gov/servlet/SingleRpt/SingleRpt?search_topic=TSN&search_value=559798', 'https://www.shutterstock.com/search/abyssinian+slaty+flycatcher', 'https://www.pinterest.com/pin/abyssinian-slaty-flycatcher-melaenornis-chocolatinus--16466354870966646/', 'https://www.birdforum.net/opus/Abyssinian_Slaty_Flycatcher', 'https://www.morebooks.de/store/gb/book/abyssinian-slaty-flycatcher/isbn/978-613-9-95956-3', 'https://www.encyclo.co.uk/meaning-of-Abyssinian_slaty_flycatcher', 'https://en.bab.la/dictionary/english-german/abyssinian-slaty-flycatcher', 'https://www.sapnaonline.com/books/melaenornis-northern-black-flycatcher-white-llc-books-1157331580-9781157331582/', 'https://www.dreamstime.com/abyssinian-slaty-flycatcher-tree-abyssinian-slaty-flycatcher-melaenornis-chocolatinus-perches-tree-branch-wondo-genet-image146476807', 'https://allbirdsoftheworld.fandom.com/wiki/Abyssinian_Slaty-Flycatcher'] ['https://www.mindenpictures.com/stock-photo-abyssinian-slaty-flycatcher-dioptrornis-chocolatinus-adult-on-ground-naturephotography-image80068145.html', 'https://commons.wikimedia.org/wiki/File:Abyssinian_Slaty_Flycatcher_(Dioptrornis_chocolatinus).jpg', 'https://www.alamy.com/stock-photo/abyssinian-slaty-flycatcher-dioptrornis-chocolatinus-adult.html', 'https://www.istockphoto.com/photo/abyssinian-slaty-flycatcher-in-a-forest-tree-gm947178938-258629997']\n",
      "Error for bird Abyssinian slaty flycatcher\n",
      "['https://ebird.org/species/abythr1', 'https://en.wikipedia.org/wiki/Abyssinian_thrush', 'https://birdsoftheworld.org/bow/species/abythr1/cur/introduction', 'https://avibase.bsc-eoc.org/species.jsp?avibaseid=428DA7CD73F48820', 'https://xeno-canto.org/species/Turdus-abyssinicus', 'http://datazone.birdlife.org/species/factsheet/22734111', 'https://eol.org/pages/45515568', 'https://www.oiseaux.net/birds/abyssinian.thrush.html', 'https://www.birdguides.com/species-guide/ioc/turdus-abyssinicus', 'https://observation.org/species/79307/', 'https://www.zootierliste.de/en/?klasse=2&ordnung=227&familie=22726&art=55007108', 'https://dibird.com/species/abyssinian-thrush/', 'https://www.birdforum.net/opus/Abyssinian_Thrush', 'https://www.pinterest.com/pin/135178426305437115/', 'https://www.theguardian.com/science/grrlscientist/2012/mar/26/6', 'https://www.researchgate.net/publication/339728163_Abyssinian_Thrush_Turdus_abyssinicus', 'https://www.youtube.com/watch?v=QEbQuE0VVdI', 'https://ebird.org/species/abythr1/ES', 'https://www.wikidata.org/wiki/Q2225989', 'https://www.shutterstock.com/search/abyssinian+ground+thrush', 'https://www.alamy.com/the-abyssinian-thrush-turdus-abyssinicus-is-a-passerine-bird-in-the-family-turdidae-it-is-also-known-as-the-african-mountain-thrush-northern-olive-image366909490.html', 'https://africanbirdclub.org/afbid/search/birddetails/species/2634/34266', 'https://animalia.bio/abyssinian-ground-thrush', 'https://www.planetofbirds.com/passeriformes-turdidae-abyssinian-thrush-turdus-abyssinicus', 'https://www.amazon.com/Earth-Day-Abyssinian-Ground-Thrush/dp/B09QRSV8L5'] ['https://macaulaylibrary.org/photo/34554731?__hstc=60209138.2f3f33a24b44870ec4a577029c49e44b.1638489600034.1638489600035.1638489600036.1&__hssc=60209138.1.1638489600037&__hsfp=3387169712', 'https://commons.wikimedia.org/wiki/File:Abyssinian_Thrush_(Turdus_abyssinicus)_(16341647185).jpg', 'https://www.istockphoto.com/photo/bird-abyssinian-thrush-ethiopia-africa-wildlife-gm1215448440-354010596', 'https://www.bigstockphoto.com/image-358229975/stock-photo-abyssinian-thrush-%28turdus-abyssinicus%29-is-a-passerine-bird-in-the-family-turdidae-ethiopia%2C-gondar%2C', 'https://www.pixtastock.com/photo/63764592']\n",
      "Error for bird Abyssinian thrush\n",
      "['https://en.wikipedia.org/wiki/Abyssinian_waxbill', 'https://ebird.org/species/fabwax3', 'https://avibase.bsc-eoc.org/species.jsp?avibaseid=8E269F21BB63D3B3', 'https://xeno-canto.org/species/Estrilda-ochrogaster', 'https://www.birdguides.com/species-guide/ioc/estrilda-ochrogaster', 'https://eol.org/pages/45515680', 'https://dibird.com/species/abyssinian-waxbill/', 'https://www.oiseaux.net/birds/abyssinian.waxbill.html', 'https://www.oiseaux.net/maps/abyssinian.waxbill.html', 'https://observation.org/species/78141/', 'https://allbirdsoftheworld.fandom.com/wiki/Abyssinian_Waxbill', 'https://www.itis.gov/servlet/SingleRpt/SingleRpt?search_topic=TSN&search_value=559987', 'https://www.featherbase.info/en/species/estrilda/paludicola', 'https://timesofindia.indiatimes.com/travel/search?q=Call+Virgin+Atlantic+%7C+%E2%98%8E%EF%B8%8F+USA+860-341-5300+%7C+Japan+Tokyo+Narita+International+Airport+Phone+Number+,+FLIGHT+RESERVATIONS+AND+CUSTOMER+SERVICE+AT+TOLL+FREE+OR+ACCESIBILITY+PHONE+NUMBER', 'https://www.pictofigo.com/image-detail/3826/Abyssinian+Waxbill', 'http://www.arthurgrosset.com/africabirds/fawn-breastedwaxbill.html', 'https://www.africanbirdclub.org/afbid/search/birddetails/species/2674/21169', 'https://sabap2.birdmap.africa/species/3736', 'https://igoterra.com/taxon/view/27195/Estrilda-ochrogaster', 'https://fatbirder.com/ornithology/estrildidae-waxbills-munias-and-allies/', 'https://glosbe.com/en/fr/Abyssinian%20fawn-breasted%20waxbill', 'https://birdfinding.info/family-estrildidae/', 'https://www.dict.cc/english-german/Abyssinian+red+rumped+waxbill.html', 'https://ethiobirds.smugmug.com/1BirdsofEthiopiaVgelthiopiens/Waxbills-Prachtfinken-1'] ['https://birdsoftheworld.org/bow/species/fabwax1/cur/multimedia?media=photos', 'https://www.inaturalist.org/taxa/557888-Estrilda-ochrogaster/browse_photos', 'https://macaulaylibrary.org/photo/169239321?__hstc=65717809.2f3f33a24b44870ec4a577029c49e44b.1597968000108.1597968000109.1597968000110.1&__hssc=65717809.1.1597968000111&__hsfp=1631849923', 'https://www.flickr.com/photos/nikborrow/50250353823', 'https://m.facebook.com/abyssinianbirder/photos/a.357820794407230/1052913204897982/', 'https://www.surfbirds.com/birds/birdphotos/A.html']\n",
      "Error for bird Abyssinian waxbill\n",
      "['https://ebird.org/species/mouwhe4', 'https://en.wikipedia.org/wiki/Abyssinian_wheatear', 'https://ebird.org/species/mouwhe4?siteLanguage=en_IN', 'https://birdsoftheworld.org/bow/species/mouwhe4/cur/introduction', 'https://avibase.bsc-eoc.org/species.jsp?avibaseid=DB65BAE5AE16A5F4', 'https://www.oiseaux.net/birds/abyssinian.wheatear.html', 'https://xeno-canto.org/species/Oenanthe-lugubris', 'https://www.birdguides.com/species-guide/ioc/oenanthe-lugubris', 'https://observation.org/species/76316/', 'https://laji.fi/en/taxon/MX.5007764', 'https://dibird.com/species/abyssinian-wheatear/', 'https://dbpedia.org/page/Abyssinian_wheatear', 'http://www.aladdin.st/bird-watching/africa/abyssinian_wheatear.html', 'https://www.wikiwand.com/en/Abyssinian_wheatear', 'https://www.itis.gov/servlet/SingleRpt/SingleRpt?search_topic=TSN&search_value=561656', 'https://inaturalist.ca/taxa/367672-Oenanthe-lugubris', 'https://www.pinterest.de/pin/447334175488815901/', 'https://www.birdforum.net/opus/Abyssinian_Wheatear', 'https://www.africanbirdclub.org/afbid/search/birddetails/species/2610/21621', 'https://www.youtube.com/watch?v=3IJTmZvp9OY', 'https://www.alamy.com/schalows-wheatear-abyssinian-wheatear-oenanthe-schalowi-oenanthe-lugubris-image66605981.html', 'https://de.pons.com/%C3%BCbersetzung/latein-deutsch/Abyssinian+wheatear+Oenanthe+l...', 'http://www.arthurgrosset.com/africabirds/mourningwheatear.html'] ['https://macaulaylibrary.org/photo/299732691?__hstc=65717809.9c49e44b73bd3bee6fa385653ecd7c96.1641168000200.1641168000201.1641168000202.1&__hssc=65717809.1.1641168000203&__hsfp=633215192', 'https://macaulaylibrary.org/photo/204278931?__hstc=65717809.c4a577029c49e44b73bd3bee6fa38565.1645488000128.1645488000129.1645488000130.1&__hssc=65717809.1.1645488000131&__hsfp=4289468869', 'https://commons.wikimedia.org/wiki/File:Abyssinian_Wheatear_(Oenanthe_lugubris)_(31638669907).jpg', 'https://www.shutterstock.com/image-photo/abyssinian-wheatear-oenanthe-lugubris-1146693209', 'https://www.flickr.com/photos/9765210@N03/31638669907', 'https://m.facebook.com/mikebarthphotography/posts/abyssinian-wheatear-oenanthe-lugubris-ankober-to-afar-road-ethiopia-september-20/2654935441414698/?locale=zh_CN', 'https://www.birdphotos.com/photos/index.php?q=gallery&g2_itemId=315837&g2_imageViewsIndex=1']\n",
      "Error for bird Abyssinian wheatear\n",
      "['https://en.wikipedia.org/wiki/Abyssinian_white-eye', 'https://ebird.org/species/wbweye1?siteLanguage=en_IN', 'https://birdsoftheworld.org/bow/species/wbweye1/cur/introduction', 'https://birdsoftheworld.org/bow/species/wbweye1/cur/introduction#simspecies', 'https://birdsoftheworld.org/bow/species/wbweye1/cur/introduction#bare', 'https://birdsoftheworld.org/bow/species/wbweye1/cur/introduction#meas', 'https://birdsoftheworld.org/bow/species/wbweye1/cur/introduction#sys', 'http://datazone.birdlife.org/species/factsheet/103889260', 'https://avibase.bsc-eoc.org/species.jsp?avibaseid=8C2C2D5BE2DD1595', 'https://www.beautyofbirds.com/abyssinianwhiteeyes.html', 'https://dibird.com/species/abyssinian-whiteeye/', 'https://www.inaturalist.org/taxa/17452', 'https://eol.org/pages/45514646', 'https://www.oiseaux.net/birds/abyssinian.white-eye.html', 'https://xeno-canto.org/species/Zosterops-abyssinicus', 'https://animals.fandom.com/wiki/Abyssinian_White-eye', 'https://macaulaylibrary.org/asset/181363831', 'https://www.researchgate.net/publication/339710689_Abyssinian_White-eye_Zosterops_abyssinicus', 'https://www.birdguides.com/species-guide/ioc/zosterops-abyssinicus', 'https://observation.org/species/77015/', 'https://osme.org/tag/abyssinian-white-eye/', 'https://www.birdforum.net/opus/Abyssinian_White-eye', 'https://fog.ccsf.edu/~jmorlan/Tanzania/White-breastedWhite-eyeP1100382.htm', 'https://pubmed.ncbi.nlm.nih.gov/26811769/', 'https://www.itis.gov/servlet/SingleRpt/SingleRpt?search_topic=TSN&search_value=563817', 'https://africanbirdclub.org/afbid/search/birddetails/species/1962/21009'] ['https://www.alamy.com/stock-photo/abyssinian-white-eye.html', 'https://commons.wikimedia.org/wiki/File:Abyssinian_White-Eye_(Zosterops_abyssinicus)_(45853986594).jpg', 'https://www.flickr.com/photos/mikebarth/33714824840', 'https://www.agefotostock.com/age/en/details-photo/abyssinian-white-eye-zosterops-abyssinicus-two-birds-standing-on-a-rock-ayn-hamran-dhofar-oman/AIK-SGA0723']\n",
      "Error for bird Abyssinian white-eye\n",
      "['https://en.wikipedia.org/wiki/Abyssinian_woodpecker', 'https://en.wikipedia.org/wiki/Abyssinian_woodpecker#Description', 'https://en.wikipedia.org/wiki/Abyssinian_woodpecker#Distribution_and_habitat', 'https://ebird.org/species/abywoo1', 'https://www.theguardian.com/science/punctuated-equilibrium/2011/oct/25/4', 'http://datazone.birdlife.org/species/factsheet/22680959', 'https://birdsoftheworld.org/bow/species/abywoo1/cur/introduction', 'https://eol.org/pages/1177597', 'https://avibase.bsc-eoc.org/species.jsp?avibaseid=33F13BB178A3EB73', 'https://thewebsiteofeverything.com/animals/birds/Piciformes/Picidae/Dendropicos-abyssinicus', 'https://animalia.bio/abyssinian-woodpecker', 'https://xeno-canto.org/species/Dendropicos-abyssinicus', 'https://www.oiseaux.net/birds/abyssinian.woodpecker.html', 'https://dibird.com/species/abyssinian-woodpecker/', 'https://animaldiversity.org/accounts/Dendropicos_abyssinicus/classification/', 'https://observation.org/species/70624/', 'https://www.africanbirdclub.org/afbid/search/birddetails/species/1075/33696', 'https://www.birdforum.net/opus/Abyssinian_Woodpecker', 'https://www.itis.gov/servlet/SingleRpt/SingleRpt?search_topic=TSN&search_value=554011', 'https://www.surfbirds.com/gallery/search2.php?species=Abyssinian%20Woodpecker', 'https://open.spotify.com/track/0HVZnySlkK9Y87L83RDbIe', 'https://www.birdguides.com/species-guide/ioc/dendropicos-abyssinicus', 'https://www.amazon.com/Abyssinian-Woodpecker/dp/B09NCBCX23', 'https://www.howtopronounce.com/abyssinian-woodpecker'] ['https://www.alamy.com/stock-photo/abyssinian-woodpecker.html', 'https://macaulaylibrary.org/photo/205461601?__hstc=65717809.9c49e44b73bd3bee6fa385653ecd7c96.1626480000207.1626480000208.1626480000209.1&__hssc=65717809.1.1626480000210&__hsfp=3390389424', 'https://commons.wikimedia.org/wiki/File:Abyssinian_Woodpecker.jpg', 'https://www.inaturalist.org/taxa/18140-Dendropicos-abyssinicus/browse_photos', 'https://www.treknature.com/gallery/Africa/Ethiopia/photo298737.htm', 'https://www.flickr.com/photos/timmelling/50939348801']\n",
      "Error for bird Abyssinian woodpecker\n",
      "['https://en.wikipedia.org/wiki/Acacia_pied_barbet', 'https://en.wikipedia.org/wiki/Acacia_pied_barbet#Taxonomy', 'https://en.wikipedia.org/wiki/Acacia_pied_barbet#Description', 'https://en.wikipedia.org/wiki/Acacia_pied_barbet#Distribution_and_habitat', 'https://en.wikipedia.org/wiki/Acacia_pied_barbet#Behaviour_and_ecology', 'https://ebird.org/species/piebar1', 'https://kidadl.com/animal-facts/acacia-pied-barbet-facts', 'http://datazone.birdlife.org/species/factsheet/22681799', 'https://www.beautyofbirds.com/piedbarbets.html', 'https://avibase.bsc-eoc.org/species.jsp?avibaseid=7AB16C673817DD22', 'https://wildlifesafari.info/pied_barbet.htm', 'http://www.biodiversityexplorer.info/birds/lybiidae/tricholaema_leucomelas.htm', 'https://animaldiversity.org/accounts/Tricholaema_leucomelas/classification/', 'https://dibird.com/species/acacia-pied-barbet/', 'https://www.shutterstock.com/search/acacia+pied+barbet+tricholaema+leucomelas', 'https://eol.org/pages/1177719', 'https://xeno-canto.org/species/Tricholaema-leucomelas?view=3', 'https://www.oiseaux.net/maps/acacia.pied.barbet.html', 'https://stock.adobe.com/search?k=%22acacia+pied+barbet%22', 'https://www.youtube.com/watch?v=i2BxwC69euM', 'https://www.inaturalist.org/guide_taxa/1104562', 'https://sabap2.birdmap.africa/species/432', 'https://www.birdguides.com/species-guide/ioc/tricholaema-leucomelas', 'https://www.naturesaudio.org/index.php/learn/guides/2-uncategorised/56-acacia-pied-barbet', 'https://animalia.bio/acacia-pied-barbet', 'https://africanbirdclub.org/afbid/search/birddetails/random/1020/21327', 'https://africanbirdclub.org/afbid/search/birddetails/random/1020/28807', 'https://www.jungledragon.com/specie/5312/acacia_pied_barbet.html'] ['https://www.istockphoto.com/photos/acacia-pied-barbet', 'https://commons.wikimedia.org/wiki/File:Acacia_Pied_Barbet_(Tricholaema_leucomelas)_(31390290475).jpg']\n",
      "Error for bird Acacia pied barbet\n"
     ]
    },
    {
     "ename": "KeyboardInterrupt",
     "evalue": "",
     "output_type": "error",
     "traceback": [
      "\u001b[1;31m---------------------------------------------------------------------------\u001b[0m",
      "\u001b[1;31mKeyboardInterrupt\u001b[0m                         Traceback (most recent call last)",
      "\u001b[1;32mc:\\Users\\LEGION\\Documents\\birds\\Scraping4birds.ipynb Cell 11'\u001b[0m in \u001b[0;36m<cell line: 7>\u001b[1;34m()\u001b[0m\n\u001b[0;32m      <a href='vscode-notebook-cell:/c%3A/Users/LEGION/Documents/birds/Scraping4birds.ipynb#ch0000010?line=6'>7</a>\u001b[0m \u001b[39mfor\u001b[39;00m i \u001b[39min\u001b[39;00m list_of_bird_names:\n\u001b[0;32m      <a href='vscode-notebook-cell:/c%3A/Users/LEGION/Documents/birds/Scraping4birds.ipynb#ch0000010?line=7'>8</a>\u001b[0m     \u001b[39mtry\u001b[39;00m:\n\u001b[1;32m----> <a href='vscode-notebook-cell:/c%3A/Users/LEGION/Documents/birds/Scraping4birds.ipynb#ch0000010?line=8'>9</a>\u001b[0m         res_for_bird ,res_for_pic \u001b[39m=\u001b[39m get_urls_from_google(i,Search_upto)\n\u001b[0;32m     <a href='vscode-notebook-cell:/c%3A/Users/LEGION/Documents/birds/Scraping4birds.ipynb#ch0000010?line=9'>10</a>\u001b[0m         \u001b[39mprint\u001b[39m(res_for_bird,res_for_pic)\n\u001b[0;32m     <a href='vscode-notebook-cell:/c%3A/Users/LEGION/Documents/birds/Scraping4birds.ipynb#ch0000010?line=10'>11</a>\u001b[0m         list_of_urls_links\u001b[39m.\u001b[39mappend(res_for_bird\u001b[39m.\u001b[39mjoin(\u001b[39m'\u001b[39m\u001b[39m;\u001b[39m\u001b[39m'\u001b[39m))\n",
      "\u001b[1;32mc:\\Users\\LEGION\\Documents\\birds\\Scraping4birds.ipynb Cell 10'\u001b[0m in \u001b[0;36mget_urls_from_google\u001b[1;34m(query, no_of_links)\u001b[0m\n\u001b[0;32m      <a href='vscode-notebook-cell:/c%3A/Users/LEGION/Documents/birds/Scraping4birds.ipynb#ch0000009?line=3'>4</a>\u001b[0m result \u001b[39m=\u001b[39m []\n\u001b[0;32m      <a href='vscode-notebook-cell:/c%3A/Users/LEGION/Documents/birds/Scraping4birds.ipynb#ch0000009?line=4'>5</a>\u001b[0m res \u001b[39m=\u001b[39m search(query,  tld\u001b[39m=\u001b[39m\u001b[39m'\u001b[39m\u001b[39mcom\u001b[39m\u001b[39m'\u001b[39m, lang\u001b[39m=\u001b[39m\u001b[39m'\u001b[39m\u001b[39men\u001b[39m\u001b[39m'\u001b[39m, tbs\u001b[39m=\u001b[39m\u001b[39m'\u001b[39m\u001b[39m0\u001b[39m\u001b[39m'\u001b[39m, safe\u001b[39m=\u001b[39m\u001b[39m'\u001b[39m\u001b[39moff\u001b[39m\u001b[39m'\u001b[39m, num\u001b[39m=\u001b[39mno_of_links, start\u001b[39m=\u001b[39m\u001b[39m0\u001b[39m, stop\u001b[39m=\u001b[39mno_of_links, pause\u001b[39m=\u001b[39m\u001b[39m4.0\u001b[39m,country\u001b[39m=\u001b[39m\u001b[39m'\u001b[39m\u001b[39m'\u001b[39m, extra_params\u001b[39m=\u001b[39m\u001b[39mNone\u001b[39;00m, user_agent\u001b[39m=\u001b[39m\u001b[39mNone\u001b[39;00m)\n\u001b[1;32m----> <a href='vscode-notebook-cell:/c%3A/Users/LEGION/Documents/birds/Scraping4birds.ipynb#ch0000009?line=5'>6</a>\u001b[0m \u001b[39mfor\u001b[39;00m i \u001b[39min\u001b[39;00m res:\n\u001b[0;32m      <a href='vscode-notebook-cell:/c%3A/Users/LEGION/Documents/birds/Scraping4birds.ipynb#ch0000009?line=6'>7</a>\u001b[0m     result\u001b[39m.\u001b[39mappend(i)\n\u001b[0;32m      <a href='vscode-notebook-cell:/c%3A/Users/LEGION/Documents/birds/Scraping4birds.ipynb#ch0000009?line=7'>8</a>\u001b[0m photos \u001b[39m=\u001b[39m []\n",
      "File \u001b[1;32m~\\anaconda3\\envs\\indicwiki\\lib\\site-packages\\googlesearch\\__init__.py:302\u001b[0m, in \u001b[0;36msearch\u001b[1;34m(query, tld, lang, tbs, safe, num, start, stop, pause, country, extra_params, user_agent, verify_ssl)\u001b[0m\n\u001b[0;32m    <a href='file:///c%3A/Users/LEGION/anaconda3/envs/indicwiki/lib/site-packages/googlesearch/__init__.py?line=297'>298</a>\u001b[0m     url \u001b[39m=\u001b[39m url \u001b[39m+\u001b[39m (\u001b[39m'\u001b[39m\u001b[39m&\u001b[39m\u001b[39m%s\u001b[39;00m\u001b[39m=\u001b[39m\u001b[39m%s\u001b[39;00m\u001b[39m'\u001b[39m \u001b[39m%\u001b[39m (k, v))\n\u001b[0;32m    <a href='file:///c%3A/Users/LEGION/anaconda3/envs/indicwiki/lib/site-packages/googlesearch/__init__.py?line=299'>300</a>\u001b[0m \u001b[39m# Sleep between requests.\u001b[39;00m\n\u001b[0;32m    <a href='file:///c%3A/Users/LEGION/anaconda3/envs/indicwiki/lib/site-packages/googlesearch/__init__.py?line=300'>301</a>\u001b[0m \u001b[39m# Keeps Google from banning you for making too many requests.\u001b[39;00m\n\u001b[1;32m--> <a href='file:///c%3A/Users/LEGION/anaconda3/envs/indicwiki/lib/site-packages/googlesearch/__init__.py?line=301'>302</a>\u001b[0m time\u001b[39m.\u001b[39;49msleep(pause)\n\u001b[0;32m    <a href='file:///c%3A/Users/LEGION/anaconda3/envs/indicwiki/lib/site-packages/googlesearch/__init__.py?line=303'>304</a>\u001b[0m \u001b[39m# Request the Google Search results page.\u001b[39;00m\n\u001b[0;32m    <a href='file:///c%3A/Users/LEGION/anaconda3/envs/indicwiki/lib/site-packages/googlesearch/__init__.py?line=304'>305</a>\u001b[0m html \u001b[39m=\u001b[39m get_page(url, user_agent, verify_ssl)\n",
      "\u001b[1;31mKeyboardInterrupt\u001b[0m: "
     ]
    }
   ],
   "source": [
    "\n",
    "# FAILING due to too many requests , HTTPError 439 \n",
    "\n",
    "Search_upto = 30\n",
    "\n",
    "list_of_urls_links = []\n",
    "list_of_urls_pics = []\n",
    "for i in list_of_bird_names:\n",
    "    try:\n",
    "        res_for_bird ,res_for_pic = get_urls_from_google(i,Search_upto)\n",
    "        print(res_for_bird,res_for_pic)\n",
    "        list_of_urls_links.append(res_for_bird.join(';'))\n",
    "        list_of_urls_pics.append(res_for_pic.join(';'))\n",
    "        print(len(list_of_urls_links))\n",
    "    except Exception:\n",
    "        print('Error for bird',i)\n",
    "(list_of_urls_links,list_of_urls_links)\n"
   ]
  },
  {
   "cell_type": "code",
   "execution_count": null,
   "id": "14af1448",
   "metadata": {},
   "outputs": [],
   "source": [
    "# types_of_birds_df = types_of_birds_df.assign(Links=list_of_urls_links)\n",
    "# types_of_birds_df = types_of_birds_df.assign(PicsLinks=list_of_urls_pics)\n",
    "# types_of_birds_df.head(9)"
   ]
  }
 ],
 "metadata": {
  "kernelspec": {
   "display_name": "TeWiki",
   "language": "python",
   "name": "indicwiki"
  },
  "language_info": {
   "codemirror_mode": {
    "name": "ipython",
    "version": 3
   },
   "file_extension": ".py",
   "mimetype": "text/x-python",
   "name": "python",
   "nbconvert_exporter": "python",
   "pygments_lexer": "ipython3",
   "version": "3.9.7"
  }
 },
 "nbformat": 4,
 "nbformat_minor": 5
}
