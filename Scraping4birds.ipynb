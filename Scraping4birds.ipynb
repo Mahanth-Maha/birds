{
 "cells": [
  {
   "cell_type": "markdown",
   "id": "0da0b336",
   "metadata": {},
   "source": [
    "# Scraping about Birds\n",
    "\n",
    "## About Birds classification\n",
    "\n",
    "getting all the types of birds"
   ]
  },
  {
   "cell_type": "code",
   "execution_count": 1,
   "id": "ee1e53bc",
   "metadata": {},
   "outputs": [],
   "source": [
    "#!pip install beautifulsoup4\n",
    "#!pip install selenium\n",
    "#!pip install scrapy"
   ]
  },
  {
   "cell_type": "code",
   "execution_count": 2,
   "id": "e74f740a",
   "metadata": {},
   "outputs": [],
   "source": [
    "from bs4 import BeautifulSoup\n",
    "from selenium import webdriver\n",
    "import scrapy\n",
    "import pandas as pd"
   ]
  },
  {
   "cell_type": "code",
   "execution_count": 3,
   "id": "eadafb2e",
   "metadata": {},
   "outputs": [
    {
     "data": {
      "text/html": [
       "<div>\n",
       "<style scoped>\n",
       "    .dataframe tbody tr th:only-of-type {\n",
       "        vertical-align: middle;\n",
       "    }\n",
       "\n",
       "    .dataframe tbody tr th {\n",
       "        vertical-align: top;\n",
       "    }\n",
       "\n",
       "    .dataframe thead th {\n",
       "        text-align: right;\n",
       "    }\n",
       "</style>\n",
       "<table border=\"1\" class=\"dataframe\">\n",
       "  <thead>\n",
       "    <tr style=\"text-align: right;\">\n",
       "      <th></th>\n",
       "      <th>Common Bird Names</th>\n",
       "    </tr>\n",
       "    <tr>\n",
       "      <th>ID</th>\n",
       "      <th></th>\n",
       "    </tr>\n",
       "  </thead>\n",
       "  <tbody>\n",
       "    <tr>\n",
       "      <th>1</th>\n",
       "      <td>Abbott's babbler</td>\n",
       "    </tr>\n",
       "    <tr>\n",
       "      <th>2</th>\n",
       "      <td>Abbott's booby</td>\n",
       "    </tr>\n",
       "    <tr>\n",
       "      <th>3</th>\n",
       "      <td>Abbott's starling</td>\n",
       "    </tr>\n",
       "    <tr>\n",
       "      <th>4</th>\n",
       "      <td>Abbott's sunbird</td>\n",
       "    </tr>\n",
       "  </tbody>\n",
       "</table>\n",
       "</div>"
      ],
      "text/plain": [
       "    Common Bird Names\n",
       "ID                   \n",
       "1    Abbott's babbler\n",
       "2      Abbott's booby\n",
       "3   Abbott's starling\n",
       "4    Abbott's sunbird"
      ]
     },
     "execution_count": 3,
     "metadata": {},
     "output_type": "execute_result"
    }
   ],
   "source": [
    "types_of_birds_df = pd.read_csv('assets/birds.csv',index_col='ID')\n",
    "types_of_birds_df.head(4)"
   ]
  },
  {
   "cell_type": "code",
   "execution_count": 4,
   "id": "f8596127",
   "metadata": {},
   "outputs": [
    {
     "name": "stdout",
     "output_type": "stream",
     "text": [
      "['Himalayan shrike-babbler', 'Himalayan snowcock', 'Himalayan swiftlet', 'Himalayan thrush', 'Himalayan vulture', 'Himalayan white-browed rosefinch', 'Himalayan woodpecker', \"Hinde's babbler\", 'Hispaniolan amazon', 'Hispaniolan crossbill', 'Hispaniolan emerald']\n",
      "10975\n"
     ]
    }
   ],
   "source": [
    "list_of_bird_names = [ types_of_birds_df.loc[ _ ,'Common Bird Names'] for _ in range(1,types_of_birds_df.shape[0]) ]\n",
    "print(list_of_bird_names[4444:4455])\n",
    "print(len(list_of_bird_names))"
   ]
  },
  {
   "cell_type": "code",
   "execution_count": 5,
   "id": "a6689fb7",
   "metadata": {},
   "outputs": [
    {
     "name": "stdout",
     "output_type": "stream",
     "text": [
      "172\n"
     ]
    },
    {
     "data": {
      "text/plain": [
       "['Ashy-throated parrotbill',\n",
       " 'Australian king parrot',\n",
       " 'Bald parrot',\n",
       " 'Bismarck hanging parrot',\n",
       " 'Black-breasted parrotbill',\n",
       " 'Black-headed parrot',\n",
       " 'Black-headed parrotbill',\n",
       " 'Black-legged parrot',\n",
       " 'Black-lored parrot',\n",
       " 'Black-throated parrotbill']"
      ]
     },
     "execution_count": 5,
     "metadata": {},
     "output_type": "execute_result"
    }
   ],
   "source": [
    "#testing for parrots [checking if we got all data or not]\n",
    "import re\n",
    "parrot = []\n",
    "for _ in list_of_bird_names:\n",
    "    k = re.findall('parrot',_)\n",
    "    if k:\n",
    "        parrot.append(_)\n",
    "print(len(parrot))\n",
    "parrot[:10]"
   ]
  },
  {
   "cell_type": "code",
   "execution_count": 6,
   "id": "02e203d4",
   "metadata": {},
   "outputs": [],
   "source": [
    "# !pip install google"
   ]
  },
  {
   "cell_type": "code",
   "execution_count": 7,
   "id": "a05f384f",
   "metadata": {},
   "outputs": [
    {
     "data": {
      "text/plain": [
       "30"
      ]
     },
     "execution_count": 7,
     "metadata": {},
     "output_type": "execute_result"
    }
   ],
   "source": [
    "from googlesearch import search\n",
    "query = 'Black-throated parrotbill'\n",
    "result = []\n",
    "no_of_links = 30\n",
    "res = search(query,  tld='com', lang='en', tbs='0', safe='off', num=no_of_links, start=0, stop=no_of_links, pause=2.0,country='', extra_params=None, user_agent=None)\n",
    "for i in res:\n",
    "    result.append(i)\n",
    "len(result)"
   ]
  },
  {
   "cell_type": "code",
   "execution_count": 8,
   "id": "aa393d44",
   "metadata": {},
   "outputs": [
    {
     "data": {
      "text/plain": [
       "['https://ebird.org/species/bltpar1',\n",
       " 'https://en.wikipedia.org/wiki/Black-throated_parrotbill',\n",
       " 'https://ebird.org/species/bltpar1?siteLanguage=en_IN',\n",
       " 'https://birdsoftheworld.org/bow/species/bltpar1/cur/introduction',\n",
       " 'https://birdsoftheworld.org/bow/species/bltpar1/cur/introduction#idsum',\n",
       " 'https://birdsoftheworld.org/bow/species/bltpar1/cur/introduction#sys',\n",
       " 'https://birdsoftheworld.org/bow/species/bltpar1/cur/introduction#subsp',\n",
       " 'https://birdsoftheworld.org/bow/species/bltpar1/cur/introduction#food',\n",
       " 'https://xeno-canto.org/species/Suthora-nipalensis',\n",
       " 'https://avibase.bsc-eoc.org/species.jsp?avibaseid=F1ED1492397A0722',\n",
       " 'http://datazone.birdlife.org/species/factsheet/black-throated-parrotbill-suthora-nipalensis',\n",
       " 'https://www.oiseaux.net/birds/black-throated.parrotbill.html',\n",
       " 'https://dibird.com/species/blackthroated-parrotbill/',\n",
       " 'https://biodiversityofwestbengal.wildwingsindia.in/description.php?sname=Suthora%20nipalensis',\n",
       " 'https://www.birdsofindia.org/#!/sp/1674/Suthora-nipalensis',\n",
       " 'https://www.stateofindiasbirds.in/species/bltpar1/',\n",
       " 'https://www.alamy.com/black-throated-parrotbill-suthora-nipalensis-eastern-himalayan-birds-lava-india-image244337953.html',\n",
       " 'https://www.birdguides.com/species-guide/ioc/suthora-nipalensis',\n",
       " 'https://www.natureweb.net/taxa/birds/blackthroatedparrotbill',\n",
       " 'https://www.discoverlife.org/mp/20q?search=Paradoxornis+nipalensis',\n",
       " 'https://animalia.bio/black-throated-parrotbill',\n",
       " 'https://in.pinterest.com/pin/335870084686935343/',\n",
       " 'https://www.researchgate.net/publication/339704309_Black-throated_Parrotbill_Suthora_nipalensis',\n",
       " 'https://www.inaturalist.org/taxa/718959-Suthora-nipalensis-humii',\n",
       " 'https://clementfrancis.com/portfolio/black-throated-parrotbill/',\n",
       " 'https://www.wikidata.org/wiki/Q27075564',\n",
       " 'https://twitter.com/MyGovArunachal/status/1435226631157673984']"
      ]
     },
     "execution_count": 8,
     "metadata": {},
     "output_type": "execute_result"
    }
   ],
   "source": [
    "import re\n",
    "photos = []\n",
    "res_copy = [_ for _ in result]\n",
    "for i in res_copy:\n",
    "    k = (re.findall('.*.jpg$',i), re.findall('.*.png$',i),re.findall('Photo'.lower(),i.lower()))\n",
    "    if any(k):\n",
    "        photos.append(i)\n",
    "        result.remove(i)\n",
    "\n",
    "result\n",
    "    "
   ]
  },
  {
   "cell_type": "code",
   "execution_count": 9,
   "id": "aece5366",
   "metadata": {},
   "outputs": [],
   "source": [
    "from googlesearch import search\n",
    "import re\n",
    "def get_urls_from_google(query,no_of_links):\n",
    "    result = []\n",
    "    res = search(query,  tld='com', lang='en', tbs='0', safe='off', num=no_of_links, start=0, stop=no_of_links, pause=4.0,country='', extra_params=None, user_agent=None)\n",
    "    for i in res:\n",
    "        result.append(i)\n",
    "    photos = []\n",
    "    res_copy = [_ for _ in result]\n",
    "    # return result\n",
    "    for i in res_copy:\n",
    "        k = (re.findall('.*.jpg$',i), re.findall('.*.png$',i),re.findall('Photo'.lower(),i.lower()))\n",
    "        if any(k):\n",
    "            photos.append(i)\n",
    "            result.remove(i)\n",
    "\n",
    "    return result , photos\n",
    "res_links = get_urls_from_google('Black-throated parrotbill',30)"
   ]
  },
  {
   "cell_type": "code",
   "execution_count": null,
   "id": "2e3f4420",
   "metadata": {},
   "outputs": [],
   "source": [
    "\n",
    "# FAILING due to too many requests , HTTPError 439 \n",
    "import time\n",
    "Search_upto = 30\n",
    "Birds_dict = {}\n",
    "# list_of_urls_links = []\n",
    "# list_of_urls_pics = []\n",
    "for i in list_of_bird_names:\n",
    "    try:\n",
    "        res_for_bird ,res_for_pic = get_urls_from_google(i,Search_upto)\n",
    "        # print(res_for_bird,res_for_pic)\n",
    "        Birds_dict[i] =(res_for_bird.join(';') , res_for_pic.join(';'))\n",
    "        # list_of_urls_links.append()\n",
    "        # list_of_urls_pics.append()\n",
    "        # print(len(list_of_urls_links))\n",
    "        print('[+] Got links for',i)\n",
    "        time.sleep(2)\n",
    "    except Exception:\n",
    "        print('[-] Error for bird',i)\n",
    "#(list_of_urls_links,list_of_urls_links)\n"
   ]
  },
  {
   "cell_type": "code",
   "execution_count": null,
   "id": "14af1448",
   "metadata": {},
   "outputs": [],
   "source": [
    "# types_of_birds_df = types_of_birds_df.assign(Links=list_of_urls_links)\n",
    "# types_of_birds_df = types_of_birds_df.assign(PicsLinks=list_of_urls_pics)\n",
    "# types_of_birds_df.head(9)"
   ]
  },
  {
   "cell_type": "code",
   "execution_count": 33,
   "id": "4204a625",
   "metadata": {},
   "outputs": [
    {
     "data": {
      "text/plain": [
       "{'animalia.bio',\n",
       " 'avibase.bsc-eoc.org',\n",
       " 'biodiversityofwestbengal.wildwingsindia.in',\n",
       " 'birdsoftheworld.org',\n",
       " 'clementfrancis.com',\n",
       " 'datazone.birdlife.org',\n",
       " 'dibird.com',\n",
       " 'ebird.org',\n",
       " 'en.wikipedia.org',\n",
       " 'in.pinterest.com',\n",
       " 'twitter.com',\n",
       " 'www.alamy.com',\n",
       " 'www.birdguides.com',\n",
       " 'www.birdsofindia.org',\n",
       " 'www.discoverlife.org',\n",
       " 'www.inaturalist.org',\n",
       " 'www.natureweb.net',\n",
       " 'www.oiseaux.net',\n",
       " 'www.researchgate.net',\n",
       " 'www.stateofindiasbirds.in',\n",
       " 'www.wikidata.org',\n",
       " 'xeno-canto.org'}"
      ]
     },
     "execution_count": 33,
     "metadata": {},
     "output_type": "execute_result"
    }
   ],
   "source": [
    "import re\n",
    "doms = []\n",
    "for j in res_links[0]:\n",
    "    doms.append(j.split('/')[2])\n",
    "unq_dom = set(doms)\n",
    "unq_dom"
   ]
  },
  {
   "cell_type": "code",
   "execution_count": 38,
   "id": "2fd663ff",
   "metadata": {},
   "outputs": [
    {
     "data": {
      "text/plain": [
       "'www.birdguides.com;xeno-canto.org;in.pinterest.com;biodiversityofwestbengal.wildwingsindia.in;www.oiseaux.net;twitter.com;www.wikidata.org;www.researchgate.net;en.wikipedia.org;ebird.org;www.natureweb.net;www.birdsofindia.org;www.inaturalist.org;clementfrancis.com;www.stateofindiasbirds.in;www.alamy.com;datazone.birdlife.org;www.discoverlife.org;animalia.bio;birdsoftheworld.org;dibird.com;avibase.bsc-eoc.org;'"
      ]
     },
     "execution_count": 38,
     "metadata": {},
     "output_type": "execute_result"
    }
   ],
   "source": [
    "import re\n",
    "def get_unique_domains(res_links):\n",
    "    doms = []\n",
    "    for i in res_links[0]:\n",
    "        doms.append((i.split('/')[2] + ';'))\n",
    "    return ''.join(list(set(doms)))\n",
    "get_unique_domains(res_links)"
   ]
  },
  {
   "cell_type": "code",
   "execution_count": 42,
   "id": "25e6529d",
   "metadata": {},
   "outputs": [],
   "source": [
    "types_of_birds_df.to_csv(\"./assets/BirdsClassification.csv\")"
   ]
  },
  {
   "cell_type": "code",
   "execution_count": null,
   "id": "eaec1ade",
   "metadata": {},
   "outputs": [],
   "source": []
  }
 ],
 "metadata": {
  "kernelspec": {
   "display_name": "TeWiki",
   "language": "python",
   "name": "indicwiki"
  },
  "language_info": {
   "codemirror_mode": {
    "name": "ipython",
    "version": 3
   },
   "file_extension": ".py",
   "mimetype": "text/x-python",
   "name": "python",
   "nbconvert_exporter": "python",
   "pygments_lexer": "ipython3",
   "version": "3.9.7"
  }
 },
 "nbformat": 4,
 "nbformat_minor": 5
}
