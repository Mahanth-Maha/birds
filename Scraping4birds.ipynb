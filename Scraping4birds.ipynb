{
 "cells": [
  {
   "cell_type": "markdown",
   "id": "0da0b336",
   "metadata": {},
   "source": [
    "# Scraping about Birds\n",
    "\n",
    "## About Birds classification\n",
    "\n",
    "getting all the types of birds"
   ]
  },
  {
   "cell_type": "code",
   "execution_count": 2,
   "id": "ee1e53bc",
   "metadata": {},
   "outputs": [
    {
     "name": "stdout",
     "output_type": "stream",
     "text": [
      "Requirement already satisfied: beautifulsoup4 in c:\\users\\akshi\\anaconda3\\envs\\indicwiki\\lib\\site-packages (4.10.0)\n",
      "Requirement already satisfied: soupsieve>1.2 in c:\\users\\akshi\\anaconda3\\envs\\indicwiki\\lib\\site-packages (from beautifulsoup4) (2.3.1)\n",
      "Requirement already satisfied: selenium in c:\\users\\akshi\\anaconda3\\envs\\indicwiki\\lib\\site-packages (4.1.3)\n",
      "Requirement already satisfied: trio-websocket~=0.9 in c:\\users\\akshi\\anaconda3\\envs\\indicwiki\\lib\\site-packages (from selenium) (0.9.2)\n",
      "Requirement already satisfied: trio~=0.17 in c:\\users\\akshi\\anaconda3\\envs\\indicwiki\\lib\\site-packages (from selenium) (0.20.0)\n",
      "Requirement already satisfied: urllib3[secure,socks]~=1.26 in c:\\users\\akshi\\anaconda3\\envs\\indicwiki\\lib\\site-packages (from selenium) (1.26.9)\n",
      "Requirement already satisfied: async-generator>=1.9 in c:\\users\\akshi\\anaconda3\\envs\\indicwiki\\lib\\site-packages (from trio~=0.17->selenium) (1.10)\n",
      "Requirement already satisfied: sniffio in c:\\users\\akshi\\anaconda3\\envs\\indicwiki\\lib\\site-packages (from trio~=0.17->selenium) (1.2.0)\n",
      "Requirement already satisfied: sortedcontainers in c:\\users\\akshi\\anaconda3\\envs\\indicwiki\\lib\\site-packages (from trio~=0.17->selenium) (2.4.0)\n",
      "Requirement already satisfied: attrs>=19.2.0 in c:\\users\\akshi\\anaconda3\\envs\\indicwiki\\lib\\site-packages (from trio~=0.17->selenium) (21.4.0)\n",
      "Requirement already satisfied: idna in c:\\users\\akshi\\anaconda3\\envs\\indicwiki\\lib\\site-packages (from trio~=0.17->selenium) (3.3)\n",
      "Requirement already satisfied: cffi>=1.14 in c:\\users\\akshi\\anaconda3\\envs\\indicwiki\\lib\\site-packages (from trio~=0.17->selenium) (1.15.0)\n",
      "Requirement already satisfied: outcome in c:\\users\\akshi\\anaconda3\\envs\\indicwiki\\lib\\site-packages (from trio~=0.17->selenium) (1.1.0)\n",
      "Requirement already satisfied: pycparser in c:\\users\\akshi\\anaconda3\\envs\\indicwiki\\lib\\site-packages (from cffi>=1.14->trio~=0.17->selenium) (2.21)\n",
      "Requirement already satisfied: wsproto>=0.14 in c:\\users\\akshi\\anaconda3\\envs\\indicwiki\\lib\\site-packages (from trio-websocket~=0.9->selenium) (1.1.0)\n",
      "Requirement already satisfied: pyOpenSSL>=0.14 in c:\\users\\akshi\\anaconda3\\envs\\indicwiki\\lib\\site-packages (from urllib3[secure,socks]~=1.26->selenium) (22.0.0)\n",
      "Requirement already satisfied: certifi in c:\\users\\akshi\\anaconda3\\envs\\indicwiki\\lib\\site-packages (from urllib3[secure,socks]~=1.26->selenium) (2021.10.8)\n",
      "Requirement already satisfied: cryptography>=1.3.4 in c:\\users\\akshi\\anaconda3\\envs\\indicwiki\\lib\\site-packages (from urllib3[secure,socks]~=1.26->selenium) (36.0.2)\n",
      "Requirement already satisfied: PySocks!=1.5.7,<2.0,>=1.5.6 in c:\\users\\akshi\\anaconda3\\envs\\indicwiki\\lib\\site-packages (from urllib3[secure,socks]~=1.26->selenium) (1.7.1)\n",
      "Requirement already satisfied: h11<1,>=0.9.0 in c:\\users\\akshi\\anaconda3\\envs\\indicwiki\\lib\\site-packages (from wsproto>=0.14->trio-websocket~=0.9->selenium) (0.13.0)\n",
      "Requirement already satisfied: scrapy in c:\\users\\akshi\\anaconda3\\envs\\indicwiki\\lib\\site-packages (2.6.1)\n",
      "Requirement already satisfied: queuelib>=1.4.2 in c:\\users\\akshi\\anaconda3\\envs\\indicwiki\\lib\\site-packages (from scrapy) (1.6.2)\n",
      "Requirement already satisfied: Twisted>=17.9.0 in c:\\users\\akshi\\anaconda3\\envs\\indicwiki\\lib\\site-packages (from scrapy) (22.2.0)\n",
      "Requirement already satisfied: w3lib>=1.17.0 in c:\\users\\akshi\\anaconda3\\envs\\indicwiki\\lib\\site-packages (from scrapy) (1.22.0)\n",
      "Requirement already satisfied: protego>=0.1.15 in c:\\users\\akshi\\anaconda3\\envs\\indicwiki\\lib\\site-packages (from scrapy) (0.2.1)\n",
      "Requirement already satisfied: pyOpenSSL>=16.2.0 in c:\\users\\akshi\\anaconda3\\envs\\indicwiki\\lib\\site-packages (from scrapy) (22.0.0)\n",
      "Requirement already satisfied: PyDispatcher>=2.0.5 in c:\\users\\akshi\\anaconda3\\envs\\indicwiki\\lib\\site-packages (from scrapy) (2.0.5)\n",
      "Requirement already satisfied: itemadapter>=0.1.0 in c:\\users\\akshi\\anaconda3\\envs\\indicwiki\\lib\\site-packages (from scrapy) (0.5.0)\n",
      "Requirement already satisfied: lxml>=3.5.0 in c:\\users\\akshi\\anaconda3\\envs\\indicwiki\\lib\\site-packages (from scrapy) (4.8.0)\n",
      "Requirement already satisfied: tldextract in c:\\users\\akshi\\anaconda3\\envs\\indicwiki\\lib\\site-packages (from scrapy) (3.2.0)\n",
      "Requirement already satisfied: itemloaders>=1.0.1 in c:\\users\\akshi\\anaconda3\\envs\\indicwiki\\lib\\site-packages (from scrapy) (1.0.4)\n",
      "Requirement already satisfied: setuptools in c:\\users\\akshi\\anaconda3\\envs\\indicwiki\\lib\\site-packages (from scrapy) (58.0.4)\n",
      "Requirement already satisfied: service-identity>=16.0.0 in c:\\users\\akshi\\anaconda3\\envs\\indicwiki\\lib\\site-packages (from scrapy) (21.1.0)\n",
      "Requirement already satisfied: zope.interface>=4.1.3 in c:\\users\\akshi\\anaconda3\\envs\\indicwiki\\lib\\site-packages (from scrapy) (5.4.0)\n",
      "Requirement already satisfied: cssselect>=0.9.1 in c:\\users\\akshi\\anaconda3\\envs\\indicwiki\\lib\\site-packages (from scrapy) (1.1.0)\n",
      "Requirement already satisfied: cryptography>=2.0 in c:\\users\\akshi\\anaconda3\\envs\\indicwiki\\lib\\site-packages (from scrapy) (36.0.2)\n",
      "Requirement already satisfied: parsel>=1.5.0 in c:\\users\\akshi\\anaconda3\\envs\\indicwiki\\lib\\site-packages (from scrapy) (1.6.0)\n",
      "Requirement already satisfied: cffi>=1.12 in c:\\users\\akshi\\anaconda3\\envs\\indicwiki\\lib\\site-packages (from cryptography>=2.0->scrapy) (1.15.0)\n",
      "Requirement already satisfied: pycparser in c:\\users\\akshi\\anaconda3\\envs\\indicwiki\\lib\\site-packages (from cffi>=1.12->cryptography>=2.0->scrapy) (2.21)\n",
      "Requirement already satisfied: jmespath>=0.9.5 in c:\\users\\akshi\\anaconda3\\envs\\indicwiki\\lib\\site-packages (from itemloaders>=1.0.1->scrapy) (1.0.0)\n",
      "Requirement already satisfied: six>=1.6.0 in c:\\users\\akshi\\anaconda3\\envs\\indicwiki\\lib\\site-packages (from parsel>=1.5.0->scrapy) (1.16.0)\n",
      "Requirement already satisfied: pyasn1 in c:\\users\\akshi\\anaconda3\\envs\\indicwiki\\lib\\site-packages (from service-identity>=16.0.0->scrapy) (0.4.8)\n",
      "Requirement already satisfied: attrs>=19.1.0 in c:\\users\\akshi\\anaconda3\\envs\\indicwiki\\lib\\site-packages (from service-identity>=16.0.0->scrapy) (21.4.0)\n",
      "Requirement already satisfied: pyasn1-modules in c:\\users\\akshi\\anaconda3\\envs\\indicwiki\\lib\\site-packages (from service-identity>=16.0.0->scrapy) (0.2.8)\n",
      "Requirement already satisfied: constantly>=15.1 in c:\\users\\akshi\\anaconda3\\envs\\indicwiki\\lib\\site-packages (from Twisted>=17.9.0->scrapy) (15.1.0)\n",
      "Requirement already satisfied: typing-extensions>=3.6.5 in c:\\users\\akshi\\anaconda3\\envs\\indicwiki\\lib\\site-packages (from Twisted>=17.9.0->scrapy) (4.1.1)\n",
      "Requirement already satisfied: twisted-iocpsupport<2,>=1.0.2 in c:\\users\\akshi\\anaconda3\\envs\\indicwiki\\lib\\site-packages (from Twisted>=17.9.0->scrapy) (1.0.2)\n",
      "Requirement already satisfied: Automat>=0.8.0 in c:\\users\\akshi\\anaconda3\\envs\\indicwiki\\lib\\site-packages (from Twisted>=17.9.0->scrapy) (20.2.0)\n",
      "Requirement already satisfied: incremental>=21.3.0 in c:\\users\\akshi\\anaconda3\\envs\\indicwiki\\lib\\site-packages (from Twisted>=17.9.0->scrapy) (21.3.0)\n",
      "Requirement already satisfied: hyperlink>=17.1.1 in c:\\users\\akshi\\anaconda3\\envs\\indicwiki\\lib\\site-packages (from Twisted>=17.9.0->scrapy) (21.0.0)\n",
      "Requirement already satisfied: idna>=2.5 in c:\\users\\akshi\\anaconda3\\envs\\indicwiki\\lib\\site-packages (from hyperlink>=17.1.1->Twisted>=17.9.0->scrapy) (3.3)\n",
      "Requirement already satisfied: requests-file>=1.4 in c:\\users\\akshi\\anaconda3\\envs\\indicwiki\\lib\\site-packages (from tldextract->scrapy) (1.5.1)\n",
      "Requirement already satisfied: filelock>=3.0.8 in c:\\users\\akshi\\anaconda3\\envs\\indicwiki\\lib\\site-packages (from tldextract->scrapy) (3.6.0)\n",
      "Requirement already satisfied: requests>=2.1.0 in c:\\users\\akshi\\anaconda3\\envs\\indicwiki\\lib\\site-packages (from tldextract->scrapy) (2.27.1)\n",
      "Requirement already satisfied: urllib3<1.27,>=1.21.1 in c:\\users\\akshi\\anaconda3\\envs\\indicwiki\\lib\\site-packages (from requests>=2.1.0->tldextract->scrapy) (1.26.9)\n",
      "Requirement already satisfied: charset-normalizer~=2.0.0 in c:\\users\\akshi\\anaconda3\\envs\\indicwiki\\lib\\site-packages (from requests>=2.1.0->tldextract->scrapy) (2.0.12)\n",
      "Requirement already satisfied: certifi>=2017.4.17 in c:\\users\\akshi\\anaconda3\\envs\\indicwiki\\lib\\site-packages (from requests>=2.1.0->tldextract->scrapy) (2021.10.8)\n"
     ]
    }
   ],
   "source": [
    "# !pip install beautifulsoup4\n",
    "# !pip install selenium\n",
    "# !pip install scrapy"
   ]
  },
  {
   "cell_type": "code",
   "execution_count": 3,
   "id": "e74f740a",
   "metadata": {},
   "outputs": [],
   "source": [
    "from bs4 import BeautifulSoup\n",
    "from selenium import webdriver\n",
    "import scrapy\n",
    "import pandas as pd"
   ]
  },
  {
   "cell_type": "code",
   "execution_count": 4,
   "id": "eadafb2e",
   "metadata": {},
   "outputs": [
    {
     "data": {
      "text/html": [
       "<div>\n",
       "<style scoped>\n",
       "    .dataframe tbody tr th:only-of-type {\n",
       "        vertical-align: middle;\n",
       "    }\n",
       "\n",
       "    .dataframe tbody tr th {\n",
       "        vertical-align: top;\n",
       "    }\n",
       "\n",
       "    .dataframe thead th {\n",
       "        text-align: right;\n",
       "    }\n",
       "</style>\n",
       "<table border=\"1\" class=\"dataframe\">\n",
       "  <thead>\n",
       "    <tr style=\"text-align: right;\">\n",
       "      <th></th>\n",
       "      <th>Common Bird Names</th>\n",
       "    </tr>\n",
       "    <tr>\n",
       "      <th>ID</th>\n",
       "      <th></th>\n",
       "    </tr>\n",
       "  </thead>\n",
       "  <tbody>\n",
       "    <tr>\n",
       "      <th>1</th>\n",
       "      <td>Abbott's babbler</td>\n",
       "    </tr>\n",
       "    <tr>\n",
       "      <th>2</th>\n",
       "      <td>Abbott's booby</td>\n",
       "    </tr>\n",
       "    <tr>\n",
       "      <th>3</th>\n",
       "      <td>Abbott's starling</td>\n",
       "    </tr>\n",
       "    <tr>\n",
       "      <th>4</th>\n",
       "      <td>Abbott's sunbird</td>\n",
       "    </tr>\n",
       "  </tbody>\n",
       "</table>\n",
       "</div>"
      ],
      "text/plain": [
       "    Common Bird Names\n",
       "ID                   \n",
       "1    Abbott's babbler\n",
       "2      Abbott's booby\n",
       "3   Abbott's starling\n",
       "4    Abbott's sunbird"
      ]
     },
     "execution_count": 4,
     "metadata": {},
     "output_type": "execute_result"
    }
   ],
   "source": [
    "types_of_birds_df = pd.read_csv('assets/birds.csv',index_col='ID')\n",
    "types_of_birds_df.head(4)"
   ]
  },
  {
   "cell_type": "code",
   "execution_count": 5,
   "id": "f8596127",
   "metadata": {},
   "outputs": [
    {
     "name": "stdout",
     "output_type": "stream",
     "text": [
      "['Himalayan shrike-babbler', 'Himalayan snowcock', 'Himalayan swiftlet', 'Himalayan thrush', 'Himalayan vulture', 'Himalayan white-browed rosefinch', 'Himalayan woodpecker', \"Hinde's babbler\", 'Hispaniolan amazon', 'Hispaniolan crossbill', 'Hispaniolan emerald']\n",
      "10975\n"
     ]
    }
   ],
   "source": [
    "list_of_bird_names = [ types_of_birds_df.loc[ _ ,'Common Bird Names'] for _ in range(1,types_of_birds_df.shape[0]) ]\n",
    "print(list_of_bird_names[4444:4455])\n",
    "print(len(list_of_bird_names))"
   ]
  },
  {
   "cell_type": "code",
   "execution_count": 6,
   "id": "a6689fb7",
   "metadata": {},
   "outputs": [
    {
     "name": "stdout",
     "output_type": "stream",
     "text": [
      "172\n"
     ]
    },
    {
     "data": {
      "text/plain": [
       "['Ashy-throated parrotbill',\n",
       " 'Australian king parrot',\n",
       " 'Bald parrot',\n",
       " 'Bismarck hanging parrot',\n",
       " 'Black-breasted parrotbill',\n",
       " 'Black-headed parrot',\n",
       " 'Black-headed parrotbill',\n",
       " 'Black-legged parrot',\n",
       " 'Black-lored parrot',\n",
       " 'Black-throated parrotbill']"
      ]
     },
     "execution_count": 6,
     "metadata": {},
     "output_type": "execute_result"
    }
   ],
   "source": [
    "#testing for parrots [checking if we got all data or not]\n",
    "import re\n",
    "parrot = []\n",
    "for _ in list_of_bird_names:\n",
    "    k = re.findall('parrot',_)\n",
    "    if k:\n",
    "        parrot.append(_)\n",
    "print(len(parrot))\n",
    "parrot[:10]"
   ]
  },
  {
   "cell_type": "code",
   "execution_count": 7,
   "id": "02e203d4",
   "metadata": {},
   "outputs": [
    {
     "name": "stdout",
     "output_type": "stream",
     "text": [
      "Requirement already satisfied: google in c:\\users\\akshi\\anaconda3\\envs\\indicwiki\\lib\\site-packages (3.0.0)\n",
      "Requirement already satisfied: beautifulsoup4 in c:\\users\\akshi\\anaconda3\\envs\\indicwiki\\lib\\site-packages (from google) (4.10.0)\n",
      "Requirement already satisfied: soupsieve>1.2 in c:\\users\\akshi\\anaconda3\\envs\\indicwiki\\lib\\site-packages (from beautifulsoup4->google) (2.3.1)\n"
     ]
    }
   ],
   "source": [
    "#!pip install google"
   ]
  },
  {
   "cell_type": "code",
   "execution_count": 8,
   "id": "a05f384f",
   "metadata": {},
   "outputs": [
    {
     "data": {
      "text/plain": [
       "30"
      ]
     },
     "execution_count": 8,
     "metadata": {},
     "output_type": "execute_result"
    }
   ],
   "source": [
    "from googlesearch import search\n",
    "query = 'Black-throated parrotbill'\n",
    "result = []\n",
    "no_of_links = 30\n",
    "res = search(query,  tld='com', lang='en', tbs='0', safe='off', num=no_of_links, start=0, stop=no_of_links, pause=2.0,country='', extra_params=None, user_agent=None)\n",
    "for i in res:\n",
    "    result.append(i)\n",
    "len(result)"
   ]
  },
  {
   "cell_type": "code",
   "execution_count": 9,
   "id": "aa393d44",
   "metadata": {},
   "outputs": [
    {
     "data": {
      "text/plain": [
       "['https://ebird.org/species/bltpar1',\n",
       " 'https://en.wikipedia.org/wiki/Black-throated_parrotbill',\n",
       " 'https://ebird.org/species/bltpar1?siteLanguage=en_IN',\n",
       " 'https://birdsoftheworld.org/bow/species/bltpar1/cur/introduction',\n",
       " 'https://birdsoftheworld.org/bow/species/bltpar1/cur/introduction#idsum',\n",
       " 'https://birdsoftheworld.org/bow/species/bltpar1/cur/introduction#sys',\n",
       " 'https://birdsoftheworld.org/bow/species/bltpar1/cur/introduction#subsp',\n",
       " 'https://birdsoftheworld.org/bow/species/bltpar1/cur/introduction#food',\n",
       " 'https://xeno-canto.org/species/Suthora-nipalensis',\n",
       " 'https://avibase.bsc-eoc.org/species.jsp?avibaseid=F1ED1492397A0722',\n",
       " 'http://datazone.birdlife.org/species/factsheet/black-throated-parrotbill-suthora-nipalensis',\n",
       " 'https://www.oiseaux.net/birds/black-throated.parrotbill.html',\n",
       " 'https://biodiversityofwestbengal.wildwingsindia.in/description.php?sname=Suthora%20nipalensis',\n",
       " 'https://dibird.com/species/blackthroated-parrotbill/',\n",
       " 'https://www.stateofindiasbirds.in/species/bltpar1/',\n",
       " 'https://www.birdsofindia.org/#!/sp/1674/Suthora-nipalensis',\n",
       " 'https://www.natureweb.net/taxa/birds/blackthroatedparrotbill',\n",
       " 'https://www.birdguides.com/species-guide/ioc/suthora-nipalensis',\n",
       " 'https://www.discoverlife.org/mp/20q?search=Paradoxornis+nipalensis',\n",
       " 'https://animalia.bio/black-throated-parrotbill',\n",
       " 'https://in.pinterest.com/pin/335870084686935343/',\n",
       " 'https://clementfrancis.com/portfolio/black-throated-parrotbill/',\n",
       " 'https://www.inaturalist.org/taxa/718959-Suthora-nipalensis-humii',\n",
       " 'https://www.wikidata.org/wiki/Q27075564',\n",
       " 'https://www.researchgate.net/publication/339704309_Black-throated_Parrotbill_Suthora_nipalensis',\n",
       " 'https://www.itis.gov/servlet/SingleRpt/SingleRpt?search_topic=TSN&search_value=915931',\n",
       " 'https://thewebsiteofeverything.com/animals/birds/Passeriformes/Timaliidae/Paradoxornis-nipalensis']"
      ]
     },
     "execution_count": 9,
     "metadata": {},
     "output_type": "execute_result"
    }
   ],
   "source": [
    "import re\n",
    "photos = []\n",
    "res_copy = [_ for _ in result]\n",
    "for i in res_copy:\n",
    "    k = (re.findall('.*.jpg$',i), re.findall('.*.png$',i),re.findall('Photo'.lower(),i.lower()))\n",
    "    if any(k):\n",
    "        photos.append(i)\n",
    "        result.remove(i)\n",
    "\n",
    "result\n",
    "    "
   ]
  },
  {
   "cell_type": "code",
   "execution_count": 10,
   "id": "aece5366",
   "metadata": {},
   "outputs": [],
   "source": [
    "from googlesearch import search\n",
    "import re\n",
    "def get_urls_from_google(query,no_of_links):\n",
    "    result = []\n",
    "    res = search(query,  tld='com', lang='en', tbs='0', safe='off', num=no_of_links, start=0, stop=no_of_links, pause=4.0,country='', extra_params=None, user_agent=None)\n",
    "    for i in res:\n",
    "        result.append(i)\n",
    "    photos = []\n",
    "    res_copy = [_ for _ in result]\n",
    "    # return result\n",
    "    for i in res_copy:\n",
    "        k = (re.findall('.*.jpg$',i), re.findall('.*.png$',i),re.findall('Photo'.lower(),i.lower()))\n",
    "        if any(k):\n",
    "            photos.append(i)\n",
    "            result.remove(i)\n",
    "\n",
    "    return result , photos\n",
    "res_links = get_urls_from_google('Black-throated parrotbill',30)"
   ]
  },
  {
   "cell_type": "code",
   "execution_count": 11,
   "id": "2e3f4420",
   "metadata": {},
   "outputs": [
    {
     "name": "stdout",
     "output_type": "stream",
     "text": [
      "[-] Error for bird Abbott's babbler\n",
      "[-] Error for bird Abbott's booby\n",
      "[-] Error for bird Abbott's starling\n",
      "[-] Error for bird Abbott's sunbird\n",
      "[-] Error for bird Abd al-Kuri sparrow\n",
      "[-] Error for bird Abdim's stork\n",
      "[-] Error for bird Aberdare cisticola\n"
     ]
    },
    {
     "ename": "KeyboardInterrupt",
     "evalue": "",
     "output_type": "error",
     "traceback": [
      "\u001b[1;31m---------------------------------------------------------------------------\u001b[0m",
      "\u001b[1;31mKeyboardInterrupt\u001b[0m                         Traceback (most recent call last)",
      "\u001b[1;32md:\\Internships\\IndicWiki IIITH\\birds repo\\birds\\birds\\Scraping4birds.ipynb Cell 11'\u001b[0m in \u001b[0;36m<cell line: 7>\u001b[1;34m()\u001b[0m\n\u001b[0;32m      <a href='vscode-notebook-cell:/d%3A/Internships/IndicWiki%20IIITH/birds%20repo/birds/birds/Scraping4birds.ipynb#ch0000010?line=6'>7</a>\u001b[0m \u001b[39mfor\u001b[39;00m i \u001b[39min\u001b[39;00m list_of_bird_names:\n\u001b[0;32m      <a href='vscode-notebook-cell:/d%3A/Internships/IndicWiki%20IIITH/birds%20repo/birds/birds/Scraping4birds.ipynb#ch0000010?line=7'>8</a>\u001b[0m     \u001b[39mtry\u001b[39;00m:\n\u001b[1;32m----> <a href='vscode-notebook-cell:/d%3A/Internships/IndicWiki%20IIITH/birds%20repo/birds/birds/Scraping4birds.ipynb#ch0000010?line=8'>9</a>\u001b[0m         res_for_bird ,res_for_pic \u001b[39m=\u001b[39m get_urls_from_google(i,Search_upto)\n\u001b[0;32m     <a href='vscode-notebook-cell:/d%3A/Internships/IndicWiki%20IIITH/birds%20repo/birds/birds/Scraping4birds.ipynb#ch0000010?line=9'>10</a>\u001b[0m         \u001b[39m# print(res_for_bird,res_for_pic)\u001b[39;00m\n\u001b[0;32m     <a href='vscode-notebook-cell:/d%3A/Internships/IndicWiki%20IIITH/birds%20repo/birds/birds/Scraping4birds.ipynb#ch0000010?line=10'>11</a>\u001b[0m         Birds_dict[i] \u001b[39m=\u001b[39m(res_for_bird\u001b[39m.\u001b[39mjoin(\u001b[39m'\u001b[39m\u001b[39m;\u001b[39m\u001b[39m'\u001b[39m) , res_for_pic\u001b[39m.\u001b[39mjoin(\u001b[39m'\u001b[39m\u001b[39m;\u001b[39m\u001b[39m'\u001b[39m))\n",
      "\u001b[1;32md:\\Internships\\IndicWiki IIITH\\birds repo\\birds\\birds\\Scraping4birds.ipynb Cell 10'\u001b[0m in \u001b[0;36mget_urls_from_google\u001b[1;34m(query, no_of_links)\u001b[0m\n\u001b[0;32m      <a href='vscode-notebook-cell:/d%3A/Internships/IndicWiki%20IIITH/birds%20repo/birds/birds/Scraping4birds.ipynb#ch0000009?line=3'>4</a>\u001b[0m result \u001b[39m=\u001b[39m []\n\u001b[0;32m      <a href='vscode-notebook-cell:/d%3A/Internships/IndicWiki%20IIITH/birds%20repo/birds/birds/Scraping4birds.ipynb#ch0000009?line=4'>5</a>\u001b[0m res \u001b[39m=\u001b[39m search(query,  tld\u001b[39m=\u001b[39m\u001b[39m'\u001b[39m\u001b[39mcom\u001b[39m\u001b[39m'\u001b[39m, lang\u001b[39m=\u001b[39m\u001b[39m'\u001b[39m\u001b[39men\u001b[39m\u001b[39m'\u001b[39m, tbs\u001b[39m=\u001b[39m\u001b[39m'\u001b[39m\u001b[39m0\u001b[39m\u001b[39m'\u001b[39m, safe\u001b[39m=\u001b[39m\u001b[39m'\u001b[39m\u001b[39moff\u001b[39m\u001b[39m'\u001b[39m, num\u001b[39m=\u001b[39mno_of_links, start\u001b[39m=\u001b[39m\u001b[39m0\u001b[39m, stop\u001b[39m=\u001b[39mno_of_links, pause\u001b[39m=\u001b[39m\u001b[39m4.0\u001b[39m,country\u001b[39m=\u001b[39m\u001b[39m'\u001b[39m\u001b[39m'\u001b[39m, extra_params\u001b[39m=\u001b[39m\u001b[39mNone\u001b[39;00m, user_agent\u001b[39m=\u001b[39m\u001b[39mNone\u001b[39;00m)\n\u001b[1;32m----> <a href='vscode-notebook-cell:/d%3A/Internships/IndicWiki%20IIITH/birds%20repo/birds/birds/Scraping4birds.ipynb#ch0000009?line=5'>6</a>\u001b[0m \u001b[39mfor\u001b[39;00m i \u001b[39min\u001b[39;00m res:\n\u001b[0;32m      <a href='vscode-notebook-cell:/d%3A/Internships/IndicWiki%20IIITH/birds%20repo/birds/birds/Scraping4birds.ipynb#ch0000009?line=6'>7</a>\u001b[0m     result\u001b[39m.\u001b[39mappend(i)\n\u001b[0;32m      <a href='vscode-notebook-cell:/d%3A/Internships/IndicWiki%20IIITH/birds%20repo/birds/birds/Scraping4birds.ipynb#ch0000009?line=7'>8</a>\u001b[0m photos \u001b[39m=\u001b[39m []\n",
      "File \u001b[1;32m~\\anaconda3\\envs\\indicwiki\\lib\\site-packages\\googlesearch\\__init__.py:302\u001b[0m, in \u001b[0;36msearch\u001b[1;34m(query, tld, lang, tbs, safe, num, start, stop, pause, country, extra_params, user_agent, verify_ssl)\u001b[0m\n\u001b[0;32m    <a href='file:///c%3A/Users/akshi/anaconda3/envs/indicwiki/lib/site-packages/googlesearch/__init__.py?line=297'>298</a>\u001b[0m     url \u001b[39m=\u001b[39m url \u001b[39m+\u001b[39m (\u001b[39m'\u001b[39m\u001b[39m&\u001b[39m\u001b[39m%s\u001b[39;00m\u001b[39m=\u001b[39m\u001b[39m%s\u001b[39;00m\u001b[39m'\u001b[39m \u001b[39m%\u001b[39m (k, v))\n\u001b[0;32m    <a href='file:///c%3A/Users/akshi/anaconda3/envs/indicwiki/lib/site-packages/googlesearch/__init__.py?line=299'>300</a>\u001b[0m \u001b[39m# Sleep between requests.\u001b[39;00m\n\u001b[0;32m    <a href='file:///c%3A/Users/akshi/anaconda3/envs/indicwiki/lib/site-packages/googlesearch/__init__.py?line=300'>301</a>\u001b[0m \u001b[39m# Keeps Google from banning you for making too many requests.\u001b[39;00m\n\u001b[1;32m--> <a href='file:///c%3A/Users/akshi/anaconda3/envs/indicwiki/lib/site-packages/googlesearch/__init__.py?line=301'>302</a>\u001b[0m time\u001b[39m.\u001b[39;49msleep(pause)\n\u001b[0;32m    <a href='file:///c%3A/Users/akshi/anaconda3/envs/indicwiki/lib/site-packages/googlesearch/__init__.py?line=303'>304</a>\u001b[0m \u001b[39m# Request the Google Search results page.\u001b[39;00m\n\u001b[0;32m    <a href='file:///c%3A/Users/akshi/anaconda3/envs/indicwiki/lib/site-packages/googlesearch/__init__.py?line=304'>305</a>\u001b[0m html \u001b[39m=\u001b[39m get_page(url, user_agent, verify_ssl)\n",
      "\u001b[1;31mKeyboardInterrupt\u001b[0m: "
     ]
    }
   ],
   "source": [
    "\n",
    "# FAILING due to too many requests , HTTPError 439 \n",
    "import time\n",
    "Search_upto = 3\n",
    "Birds_dict = {}\n",
    "# list_of_urls_links = []\n",
    "# list_of_urls_pics = []\n",
    "for i in list_of_bird_names:\n",
    "    try:\n",
    "        res_for_bird ,res_for_pic = get_urls_from_google(i,Search_upto)\n",
    "        # print(res_for_bird,res_for_pic)\n",
    "        Birds_dict[i] =(res_for_bird.join(';') , res_for_pic.join(';'))\n",
    "        # list_of_urls_links.append()\n",
    "        # list_of_urls_pics.append()\n",
    "        # print(len(list_of_urls_links))\n",
    "        print('[+] Got links for',i)\n",
    "        time.sleep(2)\n",
    "    except Exception:\n",
    "        print('[-] Error for bird',i)\n",
    "#(list_of_urls_links,list_of_urls_links)\n"
   ]
  },
  {
   "cell_type": "code",
   "execution_count": null,
   "id": "14af1448",
   "metadata": {},
   "outputs": [],
   "source": [
    "# types_of_birds_df = types_of_birds_df.assign(Links=list_of_urls_links)\n",
    "# types_of_birds_df = types_of_birds_df.assign(PicsLinks=list_of_urls_pics)\n",
    "# types_of_birds_df.head(9)"
   ]
  },
  {
   "cell_type": "code",
   "execution_count": 12,
   "id": "4204a625",
   "metadata": {},
   "outputs": [
    {
     "data": {
      "text/plain": [
       "{'animalia.bio',\n",
       " 'avibase.bsc-eoc.org',\n",
       " 'biodiversityofwestbengal.wildwingsindia.in',\n",
       " 'birdsoftheworld.org',\n",
       " 'clementfrancis.com',\n",
       " 'datazone.birdlife.org',\n",
       " 'dibird.com',\n",
       " 'ebird.org',\n",
       " 'en.wikipedia.org',\n",
       " 'in.pinterest.com',\n",
       " 'thewebsiteofeverything.com',\n",
       " 'www.birdguides.com',\n",
       " 'www.birdsofindia.org',\n",
       " 'www.discoverlife.org',\n",
       " 'www.inaturalist.org',\n",
       " 'www.itis.gov',\n",
       " 'www.natureweb.net',\n",
       " 'www.oiseaux.net',\n",
       " 'www.researchgate.net',\n",
       " 'www.stateofindiasbirds.in',\n",
       " 'www.wikidata.org',\n",
       " 'xeno-canto.org'}"
      ]
     },
     "execution_count": 12,
     "metadata": {},
     "output_type": "execute_result"
    }
   ],
   "source": [
    "import re\n",
    "doms = []\n",
    "for j in res_links[0]:\n",
    "    doms.append(j.split('/')[2])\n",
    "unq_dom = set(doms)\n",
    "unq_dom"
   ]
  },
  {
   "cell_type": "code",
   "execution_count": 13,
   "id": "2fd663ff",
   "metadata": {},
   "outputs": [
    {
     "data": {
      "text/plain": [
       "'www.birdguides.com;www.oiseaux.net;ebird.org;www.researchgate.net;www.discoverlife.org;www.wikidata.org;in.pinterest.com;avibase.bsc-eoc.org;www.natureweb.net;animalia.bio;dibird.com;www.stateofindiasbirds.in;xeno-canto.org;clementfrancis.com;birdsoftheworld.org;www.birdsofindia.org;www.inaturalist.org;datazone.birdlife.org;thewebsiteofeverything.com;en.wikipedia.org;biodiversityofwestbengal.wildwingsindia.in;www.itis.gov;'"
      ]
     },
     "execution_count": 13,
     "metadata": {},
     "output_type": "execute_result"
    }
   ],
   "source": [
    "import re\n",
    "def get_unique_domains(res_links):\n",
    "    doms = []\n",
    "    for i in res_links[0]:\n",
    "        doms.append((i.split('/')[2] + ';'))\n",
    "    return ''.join(list(set(doms)))\n",
    "get_unique_domains(res_links)"
   ]
  },
  {
   "cell_type": "code",
   "execution_count": 14,
   "id": "25e6529d",
   "metadata": {},
   "outputs": [],
   "source": [
    "types_of_birds_df.to_csv(\"./assets/BirdsClassification.csv\")"
   ]
  },
  {
   "cell_type": "code",
   "execution_count": 15,
   "id": "eaec1ade",
   "metadata": {},
   "outputs": [
    {
     "name": "stdout",
     "output_type": "stream",
     "text": [
      "Abbott's babbler\n",
      "['https://en.wikipedia.org/wiki/Abbott%27s_babbler', \"https://en.wikipedia.org/wiki/Abbott's_babbler\", 'https://ebird.org/species/abbbab1']\n",
      "Abbott's booby\n",
      "['https://en.wikipedia.org/wiki/Abbott%27s_booby', \"https://en.wikipedia.org/wiki/Abbott's_booby\", 'https://en.wikipedia.org/wiki/Abbott%27s_booby#Description']\n"
     ]
    },
    {
     "ename": "KeyboardInterrupt",
     "evalue": "",
     "output_type": "error",
     "traceback": [
      "\u001b[1;31m---------------------------------------------------------------------------\u001b[0m",
      "\u001b[1;31mKeyboardInterrupt\u001b[0m                         Traceback (most recent call last)",
      "\u001b[1;32md:\\Internships\\IndicWiki IIITH\\birds repo\\birds\\birds\\Scraping4birds.ipynb Cell 16'\u001b[0m in \u001b[0;36m<cell line: 2>\u001b[1;34m()\u001b[0m\n\u001b[0;32m      <a href='vscode-notebook-cell:/d%3A/Internships/IndicWiki%20IIITH/birds%20repo/birds/birds/Scraping4birds.ipynb#ch0000015?line=4'>5</a>\u001b[0m no_of_links \u001b[39m=\u001b[39m \u001b[39m3\u001b[39m\n\u001b[0;32m      <a href='vscode-notebook-cell:/d%3A/Internships/IndicWiki%20IIITH/birds%20repo/birds/birds/Scraping4birds.ipynb#ch0000015?line=5'>6</a>\u001b[0m res \u001b[39m=\u001b[39m search(query,  tld\u001b[39m=\u001b[39m\u001b[39m'\u001b[39m\u001b[39mcom\u001b[39m\u001b[39m'\u001b[39m, lang\u001b[39m=\u001b[39m\u001b[39m'\u001b[39m\u001b[39men\u001b[39m\u001b[39m'\u001b[39m, tbs\u001b[39m=\u001b[39m\u001b[39m'\u001b[39m\u001b[39m0\u001b[39m\u001b[39m'\u001b[39m, safe\u001b[39m=\u001b[39m\u001b[39m'\u001b[39m\u001b[39moff\u001b[39m\u001b[39m'\u001b[39m, num\u001b[39m=\u001b[39mno_of_links, start\u001b[39m=\u001b[39m\u001b[39m0\u001b[39m, stop\u001b[39m=\u001b[39mno_of_links, pause\u001b[39m=\u001b[39m\u001b[39m2.0\u001b[39m,country\u001b[39m=\u001b[39m\u001b[39m'\u001b[39m\u001b[39m'\u001b[39m, extra_params\u001b[39m=\u001b[39m\u001b[39mNone\u001b[39;00m, user_agent\u001b[39m=\u001b[39m\u001b[39mNone\u001b[39;00m)\n\u001b[1;32m----> <a href='vscode-notebook-cell:/d%3A/Internships/IndicWiki%20IIITH/birds%20repo/birds/birds/Scraping4birds.ipynb#ch0000015?line=6'>7</a>\u001b[0m \u001b[39mfor\u001b[39;00m k \u001b[39min\u001b[39;00m res:\n\u001b[0;32m      <a href='vscode-notebook-cell:/d%3A/Internships/IndicWiki%20IIITH/birds%20repo/birds/birds/Scraping4birds.ipynb#ch0000015?line=7'>8</a>\u001b[0m     result\u001b[39m.\u001b[39mappend(k)\n\u001b[0;32m      <a href='vscode-notebook-cell:/d%3A/Internships/IndicWiki%20IIITH/birds%20repo/birds/birds/Scraping4birds.ipynb#ch0000015?line=8'>9</a>\u001b[0m \u001b[39mprint\u001b[39m(i)\n",
      "File \u001b[1;32m~\\anaconda3\\envs\\indicwiki\\lib\\site-packages\\googlesearch\\__init__.py:302\u001b[0m, in \u001b[0;36msearch\u001b[1;34m(query, tld, lang, tbs, safe, num, start, stop, pause, country, extra_params, user_agent, verify_ssl)\u001b[0m\n\u001b[0;32m    <a href='file:///c%3A/Users/akshi/anaconda3/envs/indicwiki/lib/site-packages/googlesearch/__init__.py?line=297'>298</a>\u001b[0m     url \u001b[39m=\u001b[39m url \u001b[39m+\u001b[39m (\u001b[39m'\u001b[39m\u001b[39m&\u001b[39m\u001b[39m%s\u001b[39;00m\u001b[39m=\u001b[39m\u001b[39m%s\u001b[39;00m\u001b[39m'\u001b[39m \u001b[39m%\u001b[39m (k, v))\n\u001b[0;32m    <a href='file:///c%3A/Users/akshi/anaconda3/envs/indicwiki/lib/site-packages/googlesearch/__init__.py?line=299'>300</a>\u001b[0m \u001b[39m# Sleep between requests.\u001b[39;00m\n\u001b[0;32m    <a href='file:///c%3A/Users/akshi/anaconda3/envs/indicwiki/lib/site-packages/googlesearch/__init__.py?line=300'>301</a>\u001b[0m \u001b[39m# Keeps Google from banning you for making too many requests.\u001b[39;00m\n\u001b[1;32m--> <a href='file:///c%3A/Users/akshi/anaconda3/envs/indicwiki/lib/site-packages/googlesearch/__init__.py?line=301'>302</a>\u001b[0m time\u001b[39m.\u001b[39;49msleep(pause)\n\u001b[0;32m    <a href='file:///c%3A/Users/akshi/anaconda3/envs/indicwiki/lib/site-packages/googlesearch/__init__.py?line=303'>304</a>\u001b[0m \u001b[39m# Request the Google Search results page.\u001b[39;00m\n\u001b[0;32m    <a href='file:///c%3A/Users/akshi/anaconda3/envs/indicwiki/lib/site-packages/googlesearch/__init__.py?line=304'>305</a>\u001b[0m html \u001b[39m=\u001b[39m get_page(url, user_agent, verify_ssl)\n",
      "\u001b[1;31mKeyboardInterrupt\u001b[0m: "
     ]
    }
   ],
   "source": [
    "from googlesearch import search\n",
    "for i in list_of_bird_names:\n",
    "    query = i\n",
    "    result = []\n",
    "    no_of_links = 3\n",
    "    res = search(query,  tld='com', lang='en', tbs='0', safe='off', num=no_of_links, start=0, stop=no_of_links, pause=2.0,country='', extra_params=None, user_agent=None)\n",
    "    for k in res:\n",
    "        result.append(k)\n",
    "    print(i)\n",
    "    print(result)"
   ]
  },
  {
   "cell_type": "code",
   "execution_count": 16,
   "id": "3a1ce5dd",
   "metadata": {},
   "outputs": [],
   "source": [
    "import requests\n",
    "from bs4 import BeautifulSoup\n",
    "# URL = \"https://eol.org/pages/695\"\n",
    "def scrape(URL):\n",
    "    page = requests.get(URL)\n",
    "    soup = BeautifulSoup(page.content, \"html.parser\")\n",
    "    results = soup.find_all(\"div\",class_=\"sample-trait-val\")\n",
    "    keys = soup.find_all(\"div\",class_=\"sample-trait-key\")\n",
    "    for i,j in zip(results,keys):\n",
    "        print(j.get_text(),\"-\",end=\" \")\n",
    "        print(i.get_text())\n",
    "        print()\n"
   ]
  },
  {
   "cell_type": "code",
   "execution_count": null,
   "id": "70e65fa4",
   "metadata": {},
   "outputs": [
    {
     "name": "stderr",
     "output_type": "stream",
     "text": [
      "C:\\Users\\akshi\\AppData\\Local\\Temp\\ipykernel_13928\\771751635.py:10: DeprecationWarning: executable_path has been deprecated, please pass in a Service object\n",
      "  driver = webdriver.Chrome('./chromedriver.exe')\n"
     ]
    }
   ],
   "source": [
    "#imports here\n",
    "from selenium import webdriver\n",
    "from selenium.webdriver.common.keys import Keys\n",
    "from selenium.webdriver.support import expected_conditions as EC\n",
    "from selenium.webdriver.common.by import By\n",
    "from selenium.webdriver.support.wait import WebDriverWait\n",
    "import time\n",
    "import os\n",
    "\n",
    "driver = webdriver.Chrome('./chromedriver.exe')\n"
   ]
  },
  {
   "cell_type": "code",
   "execution_count": 19,
   "id": "e82bbc30",
   "metadata": {},
   "outputs": [
    {
     "ename": "WebDriverException",
     "evalue": "Message: chrome not reachable\n  (Session info: chrome=99.0.4844.82)\nStacktrace:\nBacktrace:\n\tOrdinal0 [0x00729943+2595139]\n\tOrdinal0 [0x006BC9F1+2148849]\n\tOrdinal0 [0x005B43F0+1065968]\n\tOrdinal0 [0x005A87C2+1017794]\n\tOrdinal0 [0x005A8FF8+1019896]\n\tOrdinal0 [0x005AA892+1026194]\n\tOrdinal0 [0x005A4219+999961]\n\tOrdinal0 [0x005B5860+1071200]\n\tOrdinal0 [0x0060B2D2+1422034]\n\tOrdinal0 [0x005FB806+1357830]\n\tOrdinal0 [0x005D6086+1204358]\n\tOrdinal0 [0x005D6F96+1208214]\n\tGetHandleVerifier [0x008CB232+1658114]\n\tGetHandleVerifier [0x0098312C+2411516]\n\tGetHandleVerifier [0x007BF261+560433]\n\tGetHandleVerifier [0x007BE366+556598]\n\tOrdinal0 [0x006C286B+2173035]\n\tOrdinal0 [0x006C75F8+2192888]\n\tOrdinal0 [0x006C76E5+2193125]\n\tOrdinal0 [0x006D11FC+2232828]\n\tBaseThreadInitThunk [0x77696739+25]\n\tRtlGetFullPathName_UEx [0x77B88E7F+1215]\n\tRtlGetFullPathName_UEx [0x77B88E4D+1165]\n",
     "output_type": "error",
     "traceback": [
      "\u001b[1;31m---------------------------------------------------------------------------\u001b[0m",
      "\u001b[1;31mWebDriverException\u001b[0m                        Traceback (most recent call last)",
      "\u001b[1;32md:\\Internships\\IndicWiki IIITH\\birds repo\\birds\\birds\\Scraping4birds.ipynb Cell 19'\u001b[0m in \u001b[0;36m<cell line: 1>\u001b[1;34m()\u001b[0m\n\u001b[1;32m----> <a href='vscode-notebook-cell:/d%3A/Internships/IndicWiki%20IIITH/birds%20repo/birds/birds/Scraping4birds.ipynb#ch0000018?line=0'>1</a>\u001b[0m driver\u001b[39m.\u001b[39;49mget(\u001b[39m'\u001b[39;49m\u001b[39mhttps://eol.org/\u001b[39;49m\u001b[39m'\u001b[39;49m)\n\u001b[0;32m      <a href='vscode-notebook-cell:/d%3A/Internships/IndicWiki%20IIITH/birds%20repo/birds/birds/Scraping4birds.ipynb#ch0000018?line=1'>2</a>\u001b[0m input_eol \u001b[39m=\u001b[39m WebDriverWait(driver,\u001b[39m10\u001b[39m)\u001b[39m.\u001b[39muntil(EC\u001b[39m.\u001b[39melement_to_be_clickable((By\u001b[39m.\u001b[39mCSS_SELECTOR,\u001b[39m\"\u001b[39m\u001b[39minput[name=\u001b[39m\u001b[39m'\u001b[39m\u001b[39mq\u001b[39m\u001b[39m'\u001b[39m\u001b[39m]\u001b[39m\u001b[39m\"\u001b[39m)))\n",
      "File \u001b[1;32m~\\anaconda3\\envs\\indicwiki\\lib\\site-packages\\selenium\\webdriver\\remote\\webdriver.py:437\u001b[0m, in \u001b[0;36mWebDriver.get\u001b[1;34m(self, url)\u001b[0m\n\u001b[0;32m    <a href='file:///c%3A/Users/akshi/anaconda3/envs/indicwiki/lib/site-packages/selenium/webdriver/remote/webdriver.py?line=432'>433</a>\u001b[0m \u001b[39mdef\u001b[39;00m \u001b[39mget\u001b[39m(\u001b[39mself\u001b[39m, url: \u001b[39mstr\u001b[39m) \u001b[39m-\u001b[39m\u001b[39m>\u001b[39m \u001b[39mNone\u001b[39;00m:\n\u001b[0;32m    <a href='file:///c%3A/Users/akshi/anaconda3/envs/indicwiki/lib/site-packages/selenium/webdriver/remote/webdriver.py?line=433'>434</a>\u001b[0m     \u001b[39m\"\"\"\u001b[39;00m\n\u001b[0;32m    <a href='file:///c%3A/Users/akshi/anaconda3/envs/indicwiki/lib/site-packages/selenium/webdriver/remote/webdriver.py?line=434'>435</a>\u001b[0m \u001b[39m    Loads a web page in the current browser session.\u001b[39;00m\n\u001b[0;32m    <a href='file:///c%3A/Users/akshi/anaconda3/envs/indicwiki/lib/site-packages/selenium/webdriver/remote/webdriver.py?line=435'>436</a>\u001b[0m \u001b[39m    \"\"\"\u001b[39;00m\n\u001b[1;32m--> <a href='file:///c%3A/Users/akshi/anaconda3/envs/indicwiki/lib/site-packages/selenium/webdriver/remote/webdriver.py?line=436'>437</a>\u001b[0m     \u001b[39mself\u001b[39;49m\u001b[39m.\u001b[39;49mexecute(Command\u001b[39m.\u001b[39;49mGET, {\u001b[39m'\u001b[39;49m\u001b[39murl\u001b[39;49m\u001b[39m'\u001b[39;49m: url})\n",
      "File \u001b[1;32m~\\anaconda3\\envs\\indicwiki\\lib\\site-packages\\selenium\\webdriver\\remote\\webdriver.py:425\u001b[0m, in \u001b[0;36mWebDriver.execute\u001b[1;34m(self, driver_command, params)\u001b[0m\n\u001b[0;32m    <a href='file:///c%3A/Users/akshi/anaconda3/envs/indicwiki/lib/site-packages/selenium/webdriver/remote/webdriver.py?line=422'>423</a>\u001b[0m response \u001b[39m=\u001b[39m \u001b[39mself\u001b[39m\u001b[39m.\u001b[39mcommand_executor\u001b[39m.\u001b[39mexecute(driver_command, params)\n\u001b[0;32m    <a href='file:///c%3A/Users/akshi/anaconda3/envs/indicwiki/lib/site-packages/selenium/webdriver/remote/webdriver.py?line=423'>424</a>\u001b[0m \u001b[39mif\u001b[39;00m response:\n\u001b[1;32m--> <a href='file:///c%3A/Users/akshi/anaconda3/envs/indicwiki/lib/site-packages/selenium/webdriver/remote/webdriver.py?line=424'>425</a>\u001b[0m     \u001b[39mself\u001b[39;49m\u001b[39m.\u001b[39;49merror_handler\u001b[39m.\u001b[39;49mcheck_response(response)\n\u001b[0;32m    <a href='file:///c%3A/Users/akshi/anaconda3/envs/indicwiki/lib/site-packages/selenium/webdriver/remote/webdriver.py?line=425'>426</a>\u001b[0m     response[\u001b[39m'\u001b[39m\u001b[39mvalue\u001b[39m\u001b[39m'\u001b[39m] \u001b[39m=\u001b[39m \u001b[39mself\u001b[39m\u001b[39m.\u001b[39m_unwrap_value(\n\u001b[0;32m    <a href='file:///c%3A/Users/akshi/anaconda3/envs/indicwiki/lib/site-packages/selenium/webdriver/remote/webdriver.py?line=426'>427</a>\u001b[0m         response\u001b[39m.\u001b[39mget(\u001b[39m'\u001b[39m\u001b[39mvalue\u001b[39m\u001b[39m'\u001b[39m, \u001b[39mNone\u001b[39;00m))\n\u001b[0;32m    <a href='file:///c%3A/Users/akshi/anaconda3/envs/indicwiki/lib/site-packages/selenium/webdriver/remote/webdriver.py?line=427'>428</a>\u001b[0m     \u001b[39mreturn\u001b[39;00m response\n",
      "File \u001b[1;32m~\\anaconda3\\envs\\indicwiki\\lib\\site-packages\\selenium\\webdriver\\remote\\errorhandler.py:247\u001b[0m, in \u001b[0;36mErrorHandler.check_response\u001b[1;34m(self, response)\u001b[0m\n\u001b[0;32m    <a href='file:///c%3A/Users/akshi/anaconda3/envs/indicwiki/lib/site-packages/selenium/webdriver/remote/errorhandler.py?line=244'>245</a>\u001b[0m         alert_text \u001b[39m=\u001b[39m value[\u001b[39m'\u001b[39m\u001b[39malert\u001b[39m\u001b[39m'\u001b[39m]\u001b[39m.\u001b[39mget(\u001b[39m'\u001b[39m\u001b[39mtext\u001b[39m\u001b[39m'\u001b[39m)\n\u001b[0;32m    <a href='file:///c%3A/Users/akshi/anaconda3/envs/indicwiki/lib/site-packages/selenium/webdriver/remote/errorhandler.py?line=245'>246</a>\u001b[0m     \u001b[39mraise\u001b[39;00m exception_class(message, screen, stacktrace, alert_text)  \u001b[39m# type: ignore[call-arg]  # mypy is not smart enough here\u001b[39;00m\n\u001b[1;32m--> <a href='file:///c%3A/Users/akshi/anaconda3/envs/indicwiki/lib/site-packages/selenium/webdriver/remote/errorhandler.py?line=246'>247</a>\u001b[0m \u001b[39mraise\u001b[39;00m exception_class(message, screen, stacktrace)\n",
      "\u001b[1;31mWebDriverException\u001b[0m: Message: chrome not reachable\n  (Session info: chrome=99.0.4844.82)\nStacktrace:\nBacktrace:\n\tOrdinal0 [0x00729943+2595139]\n\tOrdinal0 [0x006BC9F1+2148849]\n\tOrdinal0 [0x005B43F0+1065968]\n\tOrdinal0 [0x005A87C2+1017794]\n\tOrdinal0 [0x005A8FF8+1019896]\n\tOrdinal0 [0x005AA892+1026194]\n\tOrdinal0 [0x005A4219+999961]\n\tOrdinal0 [0x005B5860+1071200]\n\tOrdinal0 [0x0060B2D2+1422034]\n\tOrdinal0 [0x005FB806+1357830]\n\tOrdinal0 [0x005D6086+1204358]\n\tOrdinal0 [0x005D6F96+1208214]\n\tGetHandleVerifier [0x008CB232+1658114]\n\tGetHandleVerifier [0x0098312C+2411516]\n\tGetHandleVerifier [0x007BF261+560433]\n\tGetHandleVerifier [0x007BE366+556598]\n\tOrdinal0 [0x006C286B+2173035]\n\tOrdinal0 [0x006C75F8+2192888]\n\tOrdinal0 [0x006C76E5+2193125]\n\tOrdinal0 [0x006D11FC+2232828]\n\tBaseThreadInitThunk [0x77696739+25]\n\tRtlGetFullPathName_UEx [0x77B88E7F+1215]\n\tRtlGetFullPathName_UEx [0x77B88E4D+1165]\n"
     ]
    }
   ],
   "source": [
    "driver.get('https://eol.org/')\n",
    "input_eol = WebDriverWait(driver,10).until(EC.element_to_be_clickable((By.CSS_SELECTOR,\"input[name='q']\")))\n",
    "# driver.find_element(by=By.CLASS_NAME, value=\"nav-search\")"
   ]
  },
  {
   "cell_type": "code",
   "execution_count": null,
   "id": "aa6e4a3b",
   "metadata": {},
   "outputs": [],
   "source": [
    "input_eol.send_keys(\"Himalayan woodpecker\")"
   ]
  },
  {
   "cell_type": "code",
   "execution_count": null,
   "id": "e65adf76",
   "metadata": {},
   "outputs": [],
   "source": [
    "input_eol.send_keys(u'\\ue007')"
   ]
  },
  {
   "cell_type": "code",
   "execution_count": null,
   "id": "5290a2f9",
   "metadata": {},
   "outputs": [],
   "source": [
    "# page_selector = WebDriverWait(driver,10).until(EC.element_to_be_clickable((By.CSS_SELECTOR,\"a[class='uk-link-reset']\")))\n",
    "ps = driver.find_element(by=By.CLASS_NAME, value=\"uk-link-reset\")"
   ]
  },
  {
   "cell_type": "code",
   "execution_count": null,
   "id": "ef32f05e",
   "metadata": {},
   "outputs": [
    {
     "data": {
      "text/plain": [
       "'https://eol.org/pages/45516565'"
      ]
     },
     "execution_count": 87,
     "metadata": {},
     "output_type": "execute_result"
    }
   ],
   "source": [
    "ps.get_attribute('href')"
   ]
  },
  {
   "cell_type": "code",
   "execution_count": null,
   "id": "1b1610cf",
   "metadata": {},
   "outputs": [],
   "source": [
    "# driver.get(ps.get_attribute('href'))"
   ]
  },
  {
   "cell_type": "code",
   "execution_count": 20,
   "id": "896b7122",
   "metadata": {},
   "outputs": [
    {
     "name": "stdout",
     "output_type": "stream",
     "text": [
      "auditory system - tympanic middle ear\n",
      "\n",
      "biogeographic realm - the palearctic\n",
      "\n",
      "body mass - 74 g\n",
      "\n",
      "ecoregion - Okhotsk-Manchurian Taiga\n",
      "\n",
      "geographic distribution includes - Pakistan\n",
      "\n",
      "habitat - temperate\n",
      "\n",
      "habitat - terrestrial\n",
      "\n",
      "hearing threshold - 20 dB\n",
      "\n",
      "locomotion - flight\n",
      "\n",
      "mineralized skeleton contains - apatite\n",
      "\n",
      "population trend - Stable\n",
      "\n",
      "visual system - corneal eyes\n",
      "\n"
     ]
    }
   ],
   "source": [
    "scrape('https://eol.org/pages/45516565')"
   ]
  },
  {
   "cell_type": "code",
   "execution_count": 21,
   "id": "a3f49a4b",
   "metadata": {},
   "outputs": [],
   "source": [
    "import requests\n",
    "from bs4 import BeautifulSoup\n",
    "# URL = \"https://eol.org/pages/695\"\n",
    "def scrape_v_2(URL):\n",
    "    d = {}\n",
    "    page = requests.get(URL)\n",
    "    soup = BeautifulSoup(page.content, \"html.parser\")\n",
    "    keys = soup.find_all(\"div\",class_=\"sample-trait-key\")\n",
    "    values = soup.find_all(\"div\",class_=\"sample-trait-val\")\n",
    "    \n",
    "    for i,j in zip(keys,values):\n",
    "        key = i.get_text()\n",
    "        value = j.get_text()\n",
    "        if key in d:\n",
    "            d[key] = str(d[key]) + \",\" + str(value)\n",
    "        else:\n",
    "            d[key] = value\n",
    "    \n",
    "    return d\n"
   ]
  },
  {
   "cell_type": "code",
   "execution_count": 22,
   "id": "2533e099",
   "metadata": {},
   "outputs": [
    {
     "name": "stderr",
     "output_type": "stream",
     "text": [
      "C:\\Users\\akshi\\AppData\\Local\\Temp\\ipykernel_13928\\2920678073.py:10: DeprecationWarning: executable_path has been deprecated, please pass in a Service object\n",
      "  driver = webdriver.Chrome('./chromedriver.exe')\n"
     ]
    }
   ],
   "source": [
    "#imports here\n",
    "from selenium import webdriver\n",
    "from selenium.webdriver.common.keys import Keys\n",
    "from selenium.webdriver.support import expected_conditions as EC\n",
    "from selenium.webdriver.common.by import By\n",
    "from selenium.webdriver.support.wait import WebDriverWait\n",
    "import time\n",
    "import os\n",
    "\n",
    "driver = webdriver.Chrome('./chromedriver.exe')\n",
    "def get_page_of_bird(bird_name):\n",
    "    driver.get('https://eol.org/')\n",
    "    input_eol = WebDriverWait(driver,10).until(EC.element_to_be_clickable((By.CSS_SELECTOR,\"input[name='q']\")))\n",
    "    input_eol.send_keys(bird_name)\n",
    "    input_eol.send_keys(u'\\ue007')\n",
    "    ps = driver.find_element(by=By.CLASS_NAME, value=\"uk-link-reset\")\n",
    "    return ps.get_attribute('href')"
   ]
  },
  {
   "cell_type": "code",
   "execution_count": null,
   "id": "44fdda46",
   "metadata": {},
   "outputs": [
    {
     "data": {
      "text/plain": [
       "{'auditory system': 'otoliths',\n",
       " 'conservation status': 'cites appendix ii',\n",
       " 'geographic distribution includes': 'Democratic Republic Of The Congo',\n",
       " 'habitat': 'mountain,terrestrial',\n",
       " 'hearing range': '1000 Hz',\n",
       " 'hearing threshold': '-15 dB',\n",
       " 'locomotion': 'bipedal movement',\n",
       " 'mineralized skeleton contains': 'apatite',\n",
       " 'population trend': 'Stable',\n",
       " 'visual system': 'corneal eyes'}"
      ]
     },
     "execution_count": 114,
     "metadata": {},
     "output_type": "execute_result"
    }
   ],
   "source": [
    "#scrape_v_2('https://eol.org/pages/1178299')"
   ]
  },
  {
   "cell_type": "code",
   "execution_count": null,
   "id": "d8db3ee4",
   "metadata": {},
   "outputs": [
    {
     "data": {
      "text/plain": [
       "'https://eol.org/pages/1178299'"
      ]
     },
     "execution_count": 113,
     "metadata": {},
     "output_type": "execute_result"
    }
   ],
   "source": [
    "#get_page_of_bird('Abyssinian owl')"
   ]
  },
  {
   "cell_type": "code",
   "execution_count": 23,
   "id": "6d25a891",
   "metadata": {},
   "outputs": [
    {
     "ename": "KeyboardInterrupt",
     "evalue": "",
     "output_type": "error",
     "traceback": [
      "\u001b[1;31m---------------------------------------------------------------------------\u001b[0m",
      "\u001b[1;31mKeyboardInterrupt\u001b[0m                         Traceback (most recent call last)",
      "\u001b[1;32md:\\Internships\\IndicWiki IIITH\\birds repo\\birds\\birds\\Scraping4birds.ipynb Cell 30'\u001b[0m in \u001b[0;36m<cell line: 12>\u001b[1;34m()\u001b[0m\n\u001b[0;32m     <a href='vscode-notebook-cell:/d%3A/Internships/IndicWiki%20IIITH/birds%20repo/birds/birds/Scraping4birds.ipynb#ch0000029?line=9'>10</a>\u001b[0m         writer\u001b[39m.\u001b[39mwriterow([bird_name,data_from_eol[bird_name]])\n\u001b[0;32m     <a href='vscode-notebook-cell:/d%3A/Internships/IndicWiki%20IIITH/birds%20repo/birds/birds/Scraping4birds.ipynb#ch0000029?line=10'>11</a>\u001b[0m     \u001b[39mreturn\u001b[39;00m data_from_eol \n\u001b[1;32m---> <a href='vscode-notebook-cell:/d%3A/Internships/IndicWiki%20IIITH/birds%20repo/birds/birds/Scraping4birds.ipynb#ch0000029?line=11'>12</a>\u001b[0m eol(\u001b[39m0\u001b[39;49m,\u001b[39m1000\u001b[39;49m)\n\u001b[0;32m     <a href='vscode-notebook-cell:/d%3A/Internships/IndicWiki%20IIITH/birds%20repo/birds/birds/Scraping4birds.ipynb#ch0000029?line=12'>13</a>\u001b[0m eol(\u001b[39m1000\u001b[39m,\u001b[39m2000\u001b[39m)\n\u001b[0;32m     <a href='vscode-notebook-cell:/d%3A/Internships/IndicWiki%20IIITH/birds%20repo/birds/birds/Scraping4birds.ipynb#ch0000029?line=13'>14</a>\u001b[0m eol(\u001b[39m2000\u001b[39m,\u001b[39m3000\u001b[39m)\n",
      "\u001b[1;32md:\\Internships\\IndicWiki IIITH\\birds repo\\birds\\birds\\Scraping4birds.ipynb Cell 30'\u001b[0m in \u001b[0;36meol\u001b[1;34m(fro, to)\u001b[0m\n\u001b[0;32m      <a href='vscode-notebook-cell:/d%3A/Internships/IndicWiki%20IIITH/birds%20repo/birds/birds/Scraping4birds.ipynb#ch0000029?line=6'>7</a>\u001b[0m writer \u001b[39m=\u001b[39m csv\u001b[39m.\u001b[39mwriter(\u001b[39mopen\u001b[39m(\u001b[39m'\u001b[39m\u001b[39massets/eol_out.csv\u001b[39m\u001b[39m'\u001b[39m,\u001b[39m\"\u001b[39m\u001b[39mw\u001b[39m\u001b[39m\"\u001b[39m,newline\u001b[39m=\u001b[39m\u001b[39m'\u001b[39m\u001b[39m'\u001b[39m))\n\u001b[0;32m      <a href='vscode-notebook-cell:/d%3A/Internships/IndicWiki%20IIITH/birds%20repo/birds/birds/Scraping4birds.ipynb#ch0000029?line=7'>8</a>\u001b[0m \u001b[39mfor\u001b[39;00m bird_name \u001b[39min\u001b[39;00m list_of_bird_names[fro:to]:\n\u001b[1;32m----> <a href='vscode-notebook-cell:/d%3A/Internships/IndicWiki%20IIITH/birds%20repo/birds/birds/Scraping4birds.ipynb#ch0000029?line=8'>9</a>\u001b[0m     data_from_eol[bird_name] \u001b[39m=\u001b[39m scrape_v_2(get_page_of_bird(bird_name))\n\u001b[0;32m     <a href='vscode-notebook-cell:/d%3A/Internships/IndicWiki%20IIITH/birds%20repo/birds/birds/Scraping4birds.ipynb#ch0000029?line=9'>10</a>\u001b[0m     writer\u001b[39m.\u001b[39mwriterow([bird_name,data_from_eol[bird_name]])\n\u001b[0;32m     <a href='vscode-notebook-cell:/d%3A/Internships/IndicWiki%20IIITH/birds%20repo/birds/birds/Scraping4birds.ipynb#ch0000029?line=10'>11</a>\u001b[0m \u001b[39mreturn\u001b[39;00m data_from_eol\n",
      "\u001b[1;32md:\\Internships\\IndicWiki IIITH\\birds repo\\birds\\birds\\Scraping4birds.ipynb Cell 26'\u001b[0m in \u001b[0;36mscrape_v_2\u001b[1;34m(URL)\u001b[0m\n\u001b[0;32m      <a href='vscode-notebook-cell:/d%3A/Internships/IndicWiki%20IIITH/birds%20repo/birds/birds/Scraping4birds.ipynb#ch0000025?line=3'>4</a>\u001b[0m \u001b[39mdef\u001b[39;00m \u001b[39mscrape_v_2\u001b[39m(URL):\n\u001b[0;32m      <a href='vscode-notebook-cell:/d%3A/Internships/IndicWiki%20IIITH/birds%20repo/birds/birds/Scraping4birds.ipynb#ch0000025?line=4'>5</a>\u001b[0m     d \u001b[39m=\u001b[39m {}\n\u001b[1;32m----> <a href='vscode-notebook-cell:/d%3A/Internships/IndicWiki%20IIITH/birds%20repo/birds/birds/Scraping4birds.ipynb#ch0000025?line=5'>6</a>\u001b[0m     page \u001b[39m=\u001b[39m requests\u001b[39m.\u001b[39;49mget(URL)\n\u001b[0;32m      <a href='vscode-notebook-cell:/d%3A/Internships/IndicWiki%20IIITH/birds%20repo/birds/birds/Scraping4birds.ipynb#ch0000025?line=6'>7</a>\u001b[0m     soup \u001b[39m=\u001b[39m BeautifulSoup(page\u001b[39m.\u001b[39mcontent, \u001b[39m\"\u001b[39m\u001b[39mhtml.parser\u001b[39m\u001b[39m\"\u001b[39m)\n\u001b[0;32m      <a href='vscode-notebook-cell:/d%3A/Internships/IndicWiki%20IIITH/birds%20repo/birds/birds/Scraping4birds.ipynb#ch0000025?line=7'>8</a>\u001b[0m     keys \u001b[39m=\u001b[39m soup\u001b[39m.\u001b[39mfind_all(\u001b[39m\"\u001b[39m\u001b[39mdiv\u001b[39m\u001b[39m\"\u001b[39m,class_\u001b[39m=\u001b[39m\u001b[39m\"\u001b[39m\u001b[39msample-trait-key\u001b[39m\u001b[39m\"\u001b[39m)\n",
      "File \u001b[1;32m~\\anaconda3\\envs\\indicwiki\\lib\\site-packages\\requests\\api.py:75\u001b[0m, in \u001b[0;36mget\u001b[1;34m(url, params, **kwargs)\u001b[0m\n\u001b[0;32m     <a href='file:///c%3A/Users/akshi/anaconda3/envs/indicwiki/lib/site-packages/requests/api.py?line=63'>64</a>\u001b[0m \u001b[39mdef\u001b[39;00m \u001b[39mget\u001b[39m(url, params\u001b[39m=\u001b[39m\u001b[39mNone\u001b[39;00m, \u001b[39m*\u001b[39m\u001b[39m*\u001b[39mkwargs):\n\u001b[0;32m     <a href='file:///c%3A/Users/akshi/anaconda3/envs/indicwiki/lib/site-packages/requests/api.py?line=64'>65</a>\u001b[0m     \u001b[39mr\u001b[39m\u001b[39m\"\"\"Sends a GET request.\u001b[39;00m\n\u001b[0;32m     <a href='file:///c%3A/Users/akshi/anaconda3/envs/indicwiki/lib/site-packages/requests/api.py?line=65'>66</a>\u001b[0m \n\u001b[0;32m     <a href='file:///c%3A/Users/akshi/anaconda3/envs/indicwiki/lib/site-packages/requests/api.py?line=66'>67</a>\u001b[0m \u001b[39m    :param url: URL for the new :class:`Request` object.\u001b[39;00m\n\u001b[1;32m   (...)\u001b[0m\n\u001b[0;32m     <a href='file:///c%3A/Users/akshi/anaconda3/envs/indicwiki/lib/site-packages/requests/api.py?line=71'>72</a>\u001b[0m \u001b[39m    :rtype: requests.Response\u001b[39;00m\n\u001b[0;32m     <a href='file:///c%3A/Users/akshi/anaconda3/envs/indicwiki/lib/site-packages/requests/api.py?line=72'>73</a>\u001b[0m \u001b[39m    \"\"\"\u001b[39;00m\n\u001b[1;32m---> <a href='file:///c%3A/Users/akshi/anaconda3/envs/indicwiki/lib/site-packages/requests/api.py?line=74'>75</a>\u001b[0m     \u001b[39mreturn\u001b[39;00m request(\u001b[39m'\u001b[39m\u001b[39mget\u001b[39m\u001b[39m'\u001b[39m, url, params\u001b[39m=\u001b[39mparams, \u001b[39m*\u001b[39m\u001b[39m*\u001b[39mkwargs)\n",
      "File \u001b[1;32m~\\anaconda3\\envs\\indicwiki\\lib\\site-packages\\requests\\api.py:61\u001b[0m, in \u001b[0;36mrequest\u001b[1;34m(method, url, **kwargs)\u001b[0m\n\u001b[0;32m     <a href='file:///c%3A/Users/akshi/anaconda3/envs/indicwiki/lib/site-packages/requests/api.py?line=56'>57</a>\u001b[0m \u001b[39m# By using the 'with' statement we are sure the session is closed, thus we\u001b[39;00m\n\u001b[0;32m     <a href='file:///c%3A/Users/akshi/anaconda3/envs/indicwiki/lib/site-packages/requests/api.py?line=57'>58</a>\u001b[0m \u001b[39m# avoid leaving sockets open which can trigger a ResourceWarning in some\u001b[39;00m\n\u001b[0;32m     <a href='file:///c%3A/Users/akshi/anaconda3/envs/indicwiki/lib/site-packages/requests/api.py?line=58'>59</a>\u001b[0m \u001b[39m# cases, and look like a memory leak in others.\u001b[39;00m\n\u001b[0;32m     <a href='file:///c%3A/Users/akshi/anaconda3/envs/indicwiki/lib/site-packages/requests/api.py?line=59'>60</a>\u001b[0m \u001b[39mwith\u001b[39;00m sessions\u001b[39m.\u001b[39mSession() \u001b[39mas\u001b[39;00m session:\n\u001b[1;32m---> <a href='file:///c%3A/Users/akshi/anaconda3/envs/indicwiki/lib/site-packages/requests/api.py?line=60'>61</a>\u001b[0m     \u001b[39mreturn\u001b[39;00m session\u001b[39m.\u001b[39mrequest(method\u001b[39m=\u001b[39mmethod, url\u001b[39m=\u001b[39murl, \u001b[39m*\u001b[39m\u001b[39m*\u001b[39mkwargs)\n",
      "File \u001b[1;32m~\\anaconda3\\envs\\indicwiki\\lib\\site-packages\\requests\\sessions.py:529\u001b[0m, in \u001b[0;36mSession.request\u001b[1;34m(self, method, url, params, data, headers, cookies, files, auth, timeout, allow_redirects, proxies, hooks, stream, verify, cert, json)\u001b[0m\n\u001b[0;32m    <a href='file:///c%3A/Users/akshi/anaconda3/envs/indicwiki/lib/site-packages/requests/sessions.py?line=523'>524</a>\u001b[0m send_kwargs \u001b[39m=\u001b[39m {\n\u001b[0;32m    <a href='file:///c%3A/Users/akshi/anaconda3/envs/indicwiki/lib/site-packages/requests/sessions.py?line=524'>525</a>\u001b[0m     \u001b[39m'\u001b[39m\u001b[39mtimeout\u001b[39m\u001b[39m'\u001b[39m: timeout,\n\u001b[0;32m    <a href='file:///c%3A/Users/akshi/anaconda3/envs/indicwiki/lib/site-packages/requests/sessions.py?line=525'>526</a>\u001b[0m     \u001b[39m'\u001b[39m\u001b[39mallow_redirects\u001b[39m\u001b[39m'\u001b[39m: allow_redirects,\n\u001b[0;32m    <a href='file:///c%3A/Users/akshi/anaconda3/envs/indicwiki/lib/site-packages/requests/sessions.py?line=526'>527</a>\u001b[0m }\n\u001b[0;32m    <a href='file:///c%3A/Users/akshi/anaconda3/envs/indicwiki/lib/site-packages/requests/sessions.py?line=527'>528</a>\u001b[0m send_kwargs\u001b[39m.\u001b[39mupdate(settings)\n\u001b[1;32m--> <a href='file:///c%3A/Users/akshi/anaconda3/envs/indicwiki/lib/site-packages/requests/sessions.py?line=528'>529</a>\u001b[0m resp \u001b[39m=\u001b[39m \u001b[39mself\u001b[39m\u001b[39m.\u001b[39msend(prep, \u001b[39m*\u001b[39m\u001b[39m*\u001b[39msend_kwargs)\n\u001b[0;32m    <a href='file:///c%3A/Users/akshi/anaconda3/envs/indicwiki/lib/site-packages/requests/sessions.py?line=530'>531</a>\u001b[0m \u001b[39mreturn\u001b[39;00m resp\n",
      "File \u001b[1;32m~\\anaconda3\\envs\\indicwiki\\lib\\site-packages\\requests\\sessions.py:645\u001b[0m, in \u001b[0;36mSession.send\u001b[1;34m(self, request, **kwargs)\u001b[0m\n\u001b[0;32m    <a href='file:///c%3A/Users/akshi/anaconda3/envs/indicwiki/lib/site-packages/requests/sessions.py?line=641'>642</a>\u001b[0m start \u001b[39m=\u001b[39m preferred_clock()\n\u001b[0;32m    <a href='file:///c%3A/Users/akshi/anaconda3/envs/indicwiki/lib/site-packages/requests/sessions.py?line=643'>644</a>\u001b[0m \u001b[39m# Send the request\u001b[39;00m\n\u001b[1;32m--> <a href='file:///c%3A/Users/akshi/anaconda3/envs/indicwiki/lib/site-packages/requests/sessions.py?line=644'>645</a>\u001b[0m r \u001b[39m=\u001b[39m adapter\u001b[39m.\u001b[39msend(request, \u001b[39m*\u001b[39m\u001b[39m*\u001b[39mkwargs)\n\u001b[0;32m    <a href='file:///c%3A/Users/akshi/anaconda3/envs/indicwiki/lib/site-packages/requests/sessions.py?line=646'>647</a>\u001b[0m \u001b[39m# Total elapsed time of the request (approximately)\u001b[39;00m\n\u001b[0;32m    <a href='file:///c%3A/Users/akshi/anaconda3/envs/indicwiki/lib/site-packages/requests/sessions.py?line=647'>648</a>\u001b[0m elapsed \u001b[39m=\u001b[39m preferred_clock() \u001b[39m-\u001b[39m start\n",
      "File \u001b[1;32m~\\anaconda3\\envs\\indicwiki\\lib\\site-packages\\requests\\adapters.py:440\u001b[0m, in \u001b[0;36mHTTPAdapter.send\u001b[1;34m(self, request, stream, timeout, verify, cert, proxies)\u001b[0m\n\u001b[0;32m    <a href='file:///c%3A/Users/akshi/anaconda3/envs/indicwiki/lib/site-packages/requests/adapters.py?line=437'>438</a>\u001b[0m \u001b[39mtry\u001b[39;00m:\n\u001b[0;32m    <a href='file:///c%3A/Users/akshi/anaconda3/envs/indicwiki/lib/site-packages/requests/adapters.py?line=438'>439</a>\u001b[0m     \u001b[39mif\u001b[39;00m \u001b[39mnot\u001b[39;00m chunked:\n\u001b[1;32m--> <a href='file:///c%3A/Users/akshi/anaconda3/envs/indicwiki/lib/site-packages/requests/adapters.py?line=439'>440</a>\u001b[0m         resp \u001b[39m=\u001b[39m conn\u001b[39m.\u001b[39;49murlopen(\n\u001b[0;32m    <a href='file:///c%3A/Users/akshi/anaconda3/envs/indicwiki/lib/site-packages/requests/adapters.py?line=440'>441</a>\u001b[0m             method\u001b[39m=\u001b[39;49mrequest\u001b[39m.\u001b[39;49mmethod,\n\u001b[0;32m    <a href='file:///c%3A/Users/akshi/anaconda3/envs/indicwiki/lib/site-packages/requests/adapters.py?line=441'>442</a>\u001b[0m             url\u001b[39m=\u001b[39;49murl,\n\u001b[0;32m    <a href='file:///c%3A/Users/akshi/anaconda3/envs/indicwiki/lib/site-packages/requests/adapters.py?line=442'>443</a>\u001b[0m             body\u001b[39m=\u001b[39;49mrequest\u001b[39m.\u001b[39;49mbody,\n\u001b[0;32m    <a href='file:///c%3A/Users/akshi/anaconda3/envs/indicwiki/lib/site-packages/requests/adapters.py?line=443'>444</a>\u001b[0m             headers\u001b[39m=\u001b[39;49mrequest\u001b[39m.\u001b[39;49mheaders,\n\u001b[0;32m    <a href='file:///c%3A/Users/akshi/anaconda3/envs/indicwiki/lib/site-packages/requests/adapters.py?line=444'>445</a>\u001b[0m             redirect\u001b[39m=\u001b[39;49m\u001b[39mFalse\u001b[39;49;00m,\n\u001b[0;32m    <a href='file:///c%3A/Users/akshi/anaconda3/envs/indicwiki/lib/site-packages/requests/adapters.py?line=445'>446</a>\u001b[0m             assert_same_host\u001b[39m=\u001b[39;49m\u001b[39mFalse\u001b[39;49;00m,\n\u001b[0;32m    <a href='file:///c%3A/Users/akshi/anaconda3/envs/indicwiki/lib/site-packages/requests/adapters.py?line=446'>447</a>\u001b[0m             preload_content\u001b[39m=\u001b[39;49m\u001b[39mFalse\u001b[39;49;00m,\n\u001b[0;32m    <a href='file:///c%3A/Users/akshi/anaconda3/envs/indicwiki/lib/site-packages/requests/adapters.py?line=447'>448</a>\u001b[0m             decode_content\u001b[39m=\u001b[39;49m\u001b[39mFalse\u001b[39;49;00m,\n\u001b[0;32m    <a href='file:///c%3A/Users/akshi/anaconda3/envs/indicwiki/lib/site-packages/requests/adapters.py?line=448'>449</a>\u001b[0m             retries\u001b[39m=\u001b[39;49m\u001b[39mself\u001b[39;49m\u001b[39m.\u001b[39;49mmax_retries,\n\u001b[0;32m    <a href='file:///c%3A/Users/akshi/anaconda3/envs/indicwiki/lib/site-packages/requests/adapters.py?line=449'>450</a>\u001b[0m             timeout\u001b[39m=\u001b[39;49mtimeout\n\u001b[0;32m    <a href='file:///c%3A/Users/akshi/anaconda3/envs/indicwiki/lib/site-packages/requests/adapters.py?line=450'>451</a>\u001b[0m         )\n\u001b[0;32m    <a href='file:///c%3A/Users/akshi/anaconda3/envs/indicwiki/lib/site-packages/requests/adapters.py?line=452'>453</a>\u001b[0m     \u001b[39m# Send the request.\u001b[39;00m\n\u001b[0;32m    <a href='file:///c%3A/Users/akshi/anaconda3/envs/indicwiki/lib/site-packages/requests/adapters.py?line=453'>454</a>\u001b[0m     \u001b[39melse\u001b[39;00m:\n\u001b[0;32m    <a href='file:///c%3A/Users/akshi/anaconda3/envs/indicwiki/lib/site-packages/requests/adapters.py?line=454'>455</a>\u001b[0m         \u001b[39mif\u001b[39;00m \u001b[39mhasattr\u001b[39m(conn, \u001b[39m'\u001b[39m\u001b[39mproxy_pool\u001b[39m\u001b[39m'\u001b[39m):\n",
      "File \u001b[1;32m~\\anaconda3\\envs\\indicwiki\\lib\\site-packages\\urllib3\\connectionpool.py:703\u001b[0m, in \u001b[0;36mHTTPConnectionPool.urlopen\u001b[1;34m(self, method, url, body, headers, retries, redirect, assert_same_host, timeout, pool_timeout, release_conn, chunked, body_pos, **response_kw)\u001b[0m\n\u001b[0;32m    <a href='file:///c%3A/Users/akshi/anaconda3/envs/indicwiki/lib/site-packages/urllib3/connectionpool.py?line=699'>700</a>\u001b[0m     \u001b[39mself\u001b[39m\u001b[39m.\u001b[39m_prepare_proxy(conn)\n\u001b[0;32m    <a href='file:///c%3A/Users/akshi/anaconda3/envs/indicwiki/lib/site-packages/urllib3/connectionpool.py?line=701'>702</a>\u001b[0m \u001b[39m# Make the request on the httplib connection object.\u001b[39;00m\n\u001b[1;32m--> <a href='file:///c%3A/Users/akshi/anaconda3/envs/indicwiki/lib/site-packages/urllib3/connectionpool.py?line=702'>703</a>\u001b[0m httplib_response \u001b[39m=\u001b[39m \u001b[39mself\u001b[39;49m\u001b[39m.\u001b[39;49m_make_request(\n\u001b[0;32m    <a href='file:///c%3A/Users/akshi/anaconda3/envs/indicwiki/lib/site-packages/urllib3/connectionpool.py?line=703'>704</a>\u001b[0m     conn,\n\u001b[0;32m    <a href='file:///c%3A/Users/akshi/anaconda3/envs/indicwiki/lib/site-packages/urllib3/connectionpool.py?line=704'>705</a>\u001b[0m     method,\n\u001b[0;32m    <a href='file:///c%3A/Users/akshi/anaconda3/envs/indicwiki/lib/site-packages/urllib3/connectionpool.py?line=705'>706</a>\u001b[0m     url,\n\u001b[0;32m    <a href='file:///c%3A/Users/akshi/anaconda3/envs/indicwiki/lib/site-packages/urllib3/connectionpool.py?line=706'>707</a>\u001b[0m     timeout\u001b[39m=\u001b[39;49mtimeout_obj,\n\u001b[0;32m    <a href='file:///c%3A/Users/akshi/anaconda3/envs/indicwiki/lib/site-packages/urllib3/connectionpool.py?line=707'>708</a>\u001b[0m     body\u001b[39m=\u001b[39;49mbody,\n\u001b[0;32m    <a href='file:///c%3A/Users/akshi/anaconda3/envs/indicwiki/lib/site-packages/urllib3/connectionpool.py?line=708'>709</a>\u001b[0m     headers\u001b[39m=\u001b[39;49mheaders,\n\u001b[0;32m    <a href='file:///c%3A/Users/akshi/anaconda3/envs/indicwiki/lib/site-packages/urllib3/connectionpool.py?line=709'>710</a>\u001b[0m     chunked\u001b[39m=\u001b[39;49mchunked,\n\u001b[0;32m    <a href='file:///c%3A/Users/akshi/anaconda3/envs/indicwiki/lib/site-packages/urllib3/connectionpool.py?line=710'>711</a>\u001b[0m )\n\u001b[0;32m    <a href='file:///c%3A/Users/akshi/anaconda3/envs/indicwiki/lib/site-packages/urllib3/connectionpool.py?line=712'>713</a>\u001b[0m \u001b[39m# If we're going to release the connection in ``finally:``, then\u001b[39;00m\n\u001b[0;32m    <a href='file:///c%3A/Users/akshi/anaconda3/envs/indicwiki/lib/site-packages/urllib3/connectionpool.py?line=713'>714</a>\u001b[0m \u001b[39m# the response doesn't need to know about the connection. Otherwise\u001b[39;00m\n\u001b[0;32m    <a href='file:///c%3A/Users/akshi/anaconda3/envs/indicwiki/lib/site-packages/urllib3/connectionpool.py?line=714'>715</a>\u001b[0m \u001b[39m# it will also try to release it and we'll have a double-release\u001b[39;00m\n\u001b[0;32m    <a href='file:///c%3A/Users/akshi/anaconda3/envs/indicwiki/lib/site-packages/urllib3/connectionpool.py?line=715'>716</a>\u001b[0m \u001b[39m# mess.\u001b[39;00m\n\u001b[0;32m    <a href='file:///c%3A/Users/akshi/anaconda3/envs/indicwiki/lib/site-packages/urllib3/connectionpool.py?line=716'>717</a>\u001b[0m response_conn \u001b[39m=\u001b[39m conn \u001b[39mif\u001b[39;00m \u001b[39mnot\u001b[39;00m release_conn \u001b[39melse\u001b[39;00m \u001b[39mNone\u001b[39;00m\n",
      "File \u001b[1;32m~\\anaconda3\\envs\\indicwiki\\lib\\site-packages\\urllib3\\connectionpool.py:386\u001b[0m, in \u001b[0;36mHTTPConnectionPool._make_request\u001b[1;34m(self, conn, method, url, timeout, chunked, **httplib_request_kw)\u001b[0m\n\u001b[0;32m    <a href='file:///c%3A/Users/akshi/anaconda3/envs/indicwiki/lib/site-packages/urllib3/connectionpool.py?line=383'>384</a>\u001b[0m \u001b[39m# Trigger any extra validation we need to do.\u001b[39;00m\n\u001b[0;32m    <a href='file:///c%3A/Users/akshi/anaconda3/envs/indicwiki/lib/site-packages/urllib3/connectionpool.py?line=384'>385</a>\u001b[0m \u001b[39mtry\u001b[39;00m:\n\u001b[1;32m--> <a href='file:///c%3A/Users/akshi/anaconda3/envs/indicwiki/lib/site-packages/urllib3/connectionpool.py?line=385'>386</a>\u001b[0m     \u001b[39mself\u001b[39;49m\u001b[39m.\u001b[39;49m_validate_conn(conn)\n\u001b[0;32m    <a href='file:///c%3A/Users/akshi/anaconda3/envs/indicwiki/lib/site-packages/urllib3/connectionpool.py?line=386'>387</a>\u001b[0m \u001b[39mexcept\u001b[39;00m (SocketTimeout, BaseSSLError) \u001b[39mas\u001b[39;00m e:\n\u001b[0;32m    <a href='file:///c%3A/Users/akshi/anaconda3/envs/indicwiki/lib/site-packages/urllib3/connectionpool.py?line=387'>388</a>\u001b[0m     \u001b[39m# Py2 raises this as a BaseSSLError, Py3 raises it as socket timeout.\u001b[39;00m\n\u001b[0;32m    <a href='file:///c%3A/Users/akshi/anaconda3/envs/indicwiki/lib/site-packages/urllib3/connectionpool.py?line=388'>389</a>\u001b[0m     \u001b[39mself\u001b[39m\u001b[39m.\u001b[39m_raise_timeout(err\u001b[39m=\u001b[39me, url\u001b[39m=\u001b[39murl, timeout_value\u001b[39m=\u001b[39mconn\u001b[39m.\u001b[39mtimeout)\n",
      "File \u001b[1;32m~\\anaconda3\\envs\\indicwiki\\lib\\site-packages\\urllib3\\connectionpool.py:1040\u001b[0m, in \u001b[0;36mHTTPSConnectionPool._validate_conn\u001b[1;34m(self, conn)\u001b[0m\n\u001b[0;32m   <a href='file:///c%3A/Users/akshi/anaconda3/envs/indicwiki/lib/site-packages/urllib3/connectionpool.py?line=1037'>1038</a>\u001b[0m \u001b[39m# Force connect early to allow us to validate the connection.\u001b[39;00m\n\u001b[0;32m   <a href='file:///c%3A/Users/akshi/anaconda3/envs/indicwiki/lib/site-packages/urllib3/connectionpool.py?line=1038'>1039</a>\u001b[0m \u001b[39mif\u001b[39;00m \u001b[39mnot\u001b[39;00m \u001b[39mgetattr\u001b[39m(conn, \u001b[39m\"\u001b[39m\u001b[39msock\u001b[39m\u001b[39m\"\u001b[39m, \u001b[39mNone\u001b[39;00m):  \u001b[39m# AppEngine might not have  `.sock`\u001b[39;00m\n\u001b[1;32m-> <a href='file:///c%3A/Users/akshi/anaconda3/envs/indicwiki/lib/site-packages/urllib3/connectionpool.py?line=1039'>1040</a>\u001b[0m     conn\u001b[39m.\u001b[39;49mconnect()\n\u001b[0;32m   <a href='file:///c%3A/Users/akshi/anaconda3/envs/indicwiki/lib/site-packages/urllib3/connectionpool.py?line=1041'>1042</a>\u001b[0m \u001b[39mif\u001b[39;00m \u001b[39mnot\u001b[39;00m conn\u001b[39m.\u001b[39mis_verified:\n\u001b[0;32m   <a href='file:///c%3A/Users/akshi/anaconda3/envs/indicwiki/lib/site-packages/urllib3/connectionpool.py?line=1042'>1043</a>\u001b[0m     warnings\u001b[39m.\u001b[39mwarn(\n\u001b[0;32m   <a href='file:///c%3A/Users/akshi/anaconda3/envs/indicwiki/lib/site-packages/urllib3/connectionpool.py?line=1043'>1044</a>\u001b[0m         (\n\u001b[0;32m   <a href='file:///c%3A/Users/akshi/anaconda3/envs/indicwiki/lib/site-packages/urllib3/connectionpool.py?line=1044'>1045</a>\u001b[0m             \u001b[39m\"\u001b[39m\u001b[39mUnverified HTTPS request is being made to host \u001b[39m\u001b[39m'\u001b[39m\u001b[39m%s\u001b[39;00m\u001b[39m'\u001b[39m\u001b[39m. \u001b[39m\u001b[39m\"\u001b[39m\n\u001b[1;32m   (...)\u001b[0m\n\u001b[0;32m   <a href='file:///c%3A/Users/akshi/anaconda3/envs/indicwiki/lib/site-packages/urllib3/connectionpool.py?line=1049'>1050</a>\u001b[0m         InsecureRequestWarning,\n\u001b[0;32m   <a href='file:///c%3A/Users/akshi/anaconda3/envs/indicwiki/lib/site-packages/urllib3/connectionpool.py?line=1050'>1051</a>\u001b[0m     )\n",
      "File \u001b[1;32m~\\anaconda3\\envs\\indicwiki\\lib\\site-packages\\urllib3\\connection.py:414\u001b[0m, in \u001b[0;36mHTTPSConnection.connect\u001b[1;34m(self)\u001b[0m\n\u001b[0;32m    <a href='file:///c%3A/Users/akshi/anaconda3/envs/indicwiki/lib/site-packages/urllib3/connection.py?line=404'>405</a>\u001b[0m \u001b[39mif\u001b[39;00m (\n\u001b[0;32m    <a href='file:///c%3A/Users/akshi/anaconda3/envs/indicwiki/lib/site-packages/urllib3/connection.py?line=405'>406</a>\u001b[0m     \u001b[39mnot\u001b[39;00m \u001b[39mself\u001b[39m\u001b[39m.\u001b[39mca_certs\n\u001b[0;32m    <a href='file:///c%3A/Users/akshi/anaconda3/envs/indicwiki/lib/site-packages/urllib3/connection.py?line=406'>407</a>\u001b[0m     \u001b[39mand\u001b[39;00m \u001b[39mnot\u001b[39;00m \u001b[39mself\u001b[39m\u001b[39m.\u001b[39mca_cert_dir\n\u001b[1;32m   (...)\u001b[0m\n\u001b[0;32m    <a href='file:///c%3A/Users/akshi/anaconda3/envs/indicwiki/lib/site-packages/urllib3/connection.py?line=409'>410</a>\u001b[0m     \u001b[39mand\u001b[39;00m \u001b[39mhasattr\u001b[39m(context, \u001b[39m\"\u001b[39m\u001b[39mload_default_certs\u001b[39m\u001b[39m\"\u001b[39m)\n\u001b[0;32m    <a href='file:///c%3A/Users/akshi/anaconda3/envs/indicwiki/lib/site-packages/urllib3/connection.py?line=410'>411</a>\u001b[0m ):\n\u001b[0;32m    <a href='file:///c%3A/Users/akshi/anaconda3/envs/indicwiki/lib/site-packages/urllib3/connection.py?line=411'>412</a>\u001b[0m     context\u001b[39m.\u001b[39mload_default_certs()\n\u001b[1;32m--> <a href='file:///c%3A/Users/akshi/anaconda3/envs/indicwiki/lib/site-packages/urllib3/connection.py?line=413'>414</a>\u001b[0m \u001b[39mself\u001b[39m\u001b[39m.\u001b[39msock \u001b[39m=\u001b[39m ssl_wrap_socket(\n\u001b[0;32m    <a href='file:///c%3A/Users/akshi/anaconda3/envs/indicwiki/lib/site-packages/urllib3/connection.py?line=414'>415</a>\u001b[0m     sock\u001b[39m=\u001b[39;49mconn,\n\u001b[0;32m    <a href='file:///c%3A/Users/akshi/anaconda3/envs/indicwiki/lib/site-packages/urllib3/connection.py?line=415'>416</a>\u001b[0m     keyfile\u001b[39m=\u001b[39;49m\u001b[39mself\u001b[39;49m\u001b[39m.\u001b[39;49mkey_file,\n\u001b[0;32m    <a href='file:///c%3A/Users/akshi/anaconda3/envs/indicwiki/lib/site-packages/urllib3/connection.py?line=416'>417</a>\u001b[0m     certfile\u001b[39m=\u001b[39;49m\u001b[39mself\u001b[39;49m\u001b[39m.\u001b[39;49mcert_file,\n\u001b[0;32m    <a href='file:///c%3A/Users/akshi/anaconda3/envs/indicwiki/lib/site-packages/urllib3/connection.py?line=417'>418</a>\u001b[0m     key_password\u001b[39m=\u001b[39;49m\u001b[39mself\u001b[39;49m\u001b[39m.\u001b[39;49mkey_password,\n\u001b[0;32m    <a href='file:///c%3A/Users/akshi/anaconda3/envs/indicwiki/lib/site-packages/urllib3/connection.py?line=418'>419</a>\u001b[0m     ca_certs\u001b[39m=\u001b[39;49m\u001b[39mself\u001b[39;49m\u001b[39m.\u001b[39;49mca_certs,\n\u001b[0;32m    <a href='file:///c%3A/Users/akshi/anaconda3/envs/indicwiki/lib/site-packages/urllib3/connection.py?line=419'>420</a>\u001b[0m     ca_cert_dir\u001b[39m=\u001b[39;49m\u001b[39mself\u001b[39;49m\u001b[39m.\u001b[39;49mca_cert_dir,\n\u001b[0;32m    <a href='file:///c%3A/Users/akshi/anaconda3/envs/indicwiki/lib/site-packages/urllib3/connection.py?line=420'>421</a>\u001b[0m     ca_cert_data\u001b[39m=\u001b[39;49m\u001b[39mself\u001b[39;49m\u001b[39m.\u001b[39;49mca_cert_data,\n\u001b[0;32m    <a href='file:///c%3A/Users/akshi/anaconda3/envs/indicwiki/lib/site-packages/urllib3/connection.py?line=421'>422</a>\u001b[0m     server_hostname\u001b[39m=\u001b[39;49mserver_hostname,\n\u001b[0;32m    <a href='file:///c%3A/Users/akshi/anaconda3/envs/indicwiki/lib/site-packages/urllib3/connection.py?line=422'>423</a>\u001b[0m     ssl_context\u001b[39m=\u001b[39;49mcontext,\n\u001b[0;32m    <a href='file:///c%3A/Users/akshi/anaconda3/envs/indicwiki/lib/site-packages/urllib3/connection.py?line=423'>424</a>\u001b[0m     tls_in_tls\u001b[39m=\u001b[39;49mtls_in_tls,\n\u001b[0;32m    <a href='file:///c%3A/Users/akshi/anaconda3/envs/indicwiki/lib/site-packages/urllib3/connection.py?line=424'>425</a>\u001b[0m )\n\u001b[0;32m    <a href='file:///c%3A/Users/akshi/anaconda3/envs/indicwiki/lib/site-packages/urllib3/connection.py?line=426'>427</a>\u001b[0m \u001b[39m# If we're using all defaults and the connection\u001b[39;00m\n\u001b[0;32m    <a href='file:///c%3A/Users/akshi/anaconda3/envs/indicwiki/lib/site-packages/urllib3/connection.py?line=427'>428</a>\u001b[0m \u001b[39m# is TLSv1 or TLSv1.1 we throw a DeprecationWarning\u001b[39;00m\n\u001b[0;32m    <a href='file:///c%3A/Users/akshi/anaconda3/envs/indicwiki/lib/site-packages/urllib3/connection.py?line=428'>429</a>\u001b[0m \u001b[39m# for the host.\u001b[39;00m\n\u001b[0;32m    <a href='file:///c%3A/Users/akshi/anaconda3/envs/indicwiki/lib/site-packages/urllib3/connection.py?line=429'>430</a>\u001b[0m \u001b[39mif\u001b[39;00m (\n\u001b[0;32m    <a href='file:///c%3A/Users/akshi/anaconda3/envs/indicwiki/lib/site-packages/urllib3/connection.py?line=430'>431</a>\u001b[0m     default_ssl_context\n\u001b[0;32m    <a href='file:///c%3A/Users/akshi/anaconda3/envs/indicwiki/lib/site-packages/urllib3/connection.py?line=431'>432</a>\u001b[0m     \u001b[39mand\u001b[39;00m \u001b[39mself\u001b[39m\u001b[39m.\u001b[39mssl_version \u001b[39mis\u001b[39;00m \u001b[39mNone\u001b[39;00m\n\u001b[0;32m    <a href='file:///c%3A/Users/akshi/anaconda3/envs/indicwiki/lib/site-packages/urllib3/connection.py?line=432'>433</a>\u001b[0m     \u001b[39mand\u001b[39;00m \u001b[39mhasattr\u001b[39m(\u001b[39mself\u001b[39m\u001b[39m.\u001b[39msock, \u001b[39m\"\u001b[39m\u001b[39mversion\u001b[39m\u001b[39m\"\u001b[39m)\n\u001b[0;32m    <a href='file:///c%3A/Users/akshi/anaconda3/envs/indicwiki/lib/site-packages/urllib3/connection.py?line=433'>434</a>\u001b[0m     \u001b[39mand\u001b[39;00m \u001b[39mself\u001b[39m\u001b[39m.\u001b[39msock\u001b[39m.\u001b[39mversion() \u001b[39min\u001b[39;00m {\u001b[39m\"\u001b[39m\u001b[39mTLSv1\u001b[39m\u001b[39m\"\u001b[39m, \u001b[39m\"\u001b[39m\u001b[39mTLSv1.1\u001b[39m\u001b[39m\"\u001b[39m}\n\u001b[0;32m    <a href='file:///c%3A/Users/akshi/anaconda3/envs/indicwiki/lib/site-packages/urllib3/connection.py?line=434'>435</a>\u001b[0m ):\n",
      "File \u001b[1;32m~\\anaconda3\\envs\\indicwiki\\lib\\site-packages\\urllib3\\util\\ssl_.py:449\u001b[0m, in \u001b[0;36mssl_wrap_socket\u001b[1;34m(sock, keyfile, certfile, cert_reqs, ca_certs, server_hostname, ssl_version, ciphers, ssl_context, ca_cert_dir, key_password, ca_cert_data, tls_in_tls)\u001b[0m\n\u001b[0;32m    <a href='file:///c%3A/Users/akshi/anaconda3/envs/indicwiki/lib/site-packages/urllib3/util/ssl_.py?line=436'>437</a>\u001b[0m     warnings\u001b[39m.\u001b[39mwarn(\n\u001b[0;32m    <a href='file:///c%3A/Users/akshi/anaconda3/envs/indicwiki/lib/site-packages/urllib3/util/ssl_.py?line=437'>438</a>\u001b[0m         \u001b[39m\"\u001b[39m\u001b[39mAn HTTPS request has been made, but the SNI (Server Name \u001b[39m\u001b[39m\"\u001b[39m\n\u001b[0;32m    <a href='file:///c%3A/Users/akshi/anaconda3/envs/indicwiki/lib/site-packages/urllib3/util/ssl_.py?line=438'>439</a>\u001b[0m         \u001b[39m\"\u001b[39m\u001b[39mIndication) extension to TLS is not available on this platform. \u001b[39m\u001b[39m\"\u001b[39m\n\u001b[1;32m   (...)\u001b[0m\n\u001b[0;32m    <a href='file:///c%3A/Users/akshi/anaconda3/envs/indicwiki/lib/site-packages/urllib3/util/ssl_.py?line=444'>445</a>\u001b[0m         SNIMissingWarning,\n\u001b[0;32m    <a href='file:///c%3A/Users/akshi/anaconda3/envs/indicwiki/lib/site-packages/urllib3/util/ssl_.py?line=445'>446</a>\u001b[0m     )\n\u001b[0;32m    <a href='file:///c%3A/Users/akshi/anaconda3/envs/indicwiki/lib/site-packages/urllib3/util/ssl_.py?line=447'>448</a>\u001b[0m \u001b[39mif\u001b[39;00m send_sni:\n\u001b[1;32m--> <a href='file:///c%3A/Users/akshi/anaconda3/envs/indicwiki/lib/site-packages/urllib3/util/ssl_.py?line=448'>449</a>\u001b[0m     ssl_sock \u001b[39m=\u001b[39m _ssl_wrap_socket_impl(\n\u001b[0;32m    <a href='file:///c%3A/Users/akshi/anaconda3/envs/indicwiki/lib/site-packages/urllib3/util/ssl_.py?line=449'>450</a>\u001b[0m         sock, context, tls_in_tls, server_hostname\u001b[39m=\u001b[39;49mserver_hostname\n\u001b[0;32m    <a href='file:///c%3A/Users/akshi/anaconda3/envs/indicwiki/lib/site-packages/urllib3/util/ssl_.py?line=450'>451</a>\u001b[0m     )\n\u001b[0;32m    <a href='file:///c%3A/Users/akshi/anaconda3/envs/indicwiki/lib/site-packages/urllib3/util/ssl_.py?line=451'>452</a>\u001b[0m \u001b[39melse\u001b[39;00m:\n\u001b[0;32m    <a href='file:///c%3A/Users/akshi/anaconda3/envs/indicwiki/lib/site-packages/urllib3/util/ssl_.py?line=452'>453</a>\u001b[0m     ssl_sock \u001b[39m=\u001b[39m _ssl_wrap_socket_impl(sock, context, tls_in_tls)\n",
      "File \u001b[1;32m~\\anaconda3\\envs\\indicwiki\\lib\\site-packages\\urllib3\\util\\ssl_.py:493\u001b[0m, in \u001b[0;36m_ssl_wrap_socket_impl\u001b[1;34m(sock, ssl_context, tls_in_tls, server_hostname)\u001b[0m\n\u001b[0;32m    <a href='file:///c%3A/Users/akshi/anaconda3/envs/indicwiki/lib/site-packages/urllib3/util/ssl_.py?line=489'>490</a>\u001b[0m     \u001b[39mreturn\u001b[39;00m SSLTransport(sock, ssl_context, server_hostname)\n\u001b[0;32m    <a href='file:///c%3A/Users/akshi/anaconda3/envs/indicwiki/lib/site-packages/urllib3/util/ssl_.py?line=491'>492</a>\u001b[0m \u001b[39mif\u001b[39;00m server_hostname:\n\u001b[1;32m--> <a href='file:///c%3A/Users/akshi/anaconda3/envs/indicwiki/lib/site-packages/urllib3/util/ssl_.py?line=492'>493</a>\u001b[0m     \u001b[39mreturn\u001b[39;00m ssl_context\u001b[39m.\u001b[39;49mwrap_socket(sock, server_hostname\u001b[39m=\u001b[39;49mserver_hostname)\n\u001b[0;32m    <a href='file:///c%3A/Users/akshi/anaconda3/envs/indicwiki/lib/site-packages/urllib3/util/ssl_.py?line=493'>494</a>\u001b[0m \u001b[39melse\u001b[39;00m:\n\u001b[0;32m    <a href='file:///c%3A/Users/akshi/anaconda3/envs/indicwiki/lib/site-packages/urllib3/util/ssl_.py?line=494'>495</a>\u001b[0m     \u001b[39mreturn\u001b[39;00m ssl_context\u001b[39m.\u001b[39mwrap_socket(sock)\n",
      "File \u001b[1;32m~\\anaconda3\\envs\\indicwiki\\lib\\ssl.py:500\u001b[0m, in \u001b[0;36mSSLContext.wrap_socket\u001b[1;34m(self, sock, server_side, do_handshake_on_connect, suppress_ragged_eofs, server_hostname, session)\u001b[0m\n\u001b[0;32m    <a href='file:///c%3A/Users/akshi/anaconda3/envs/indicwiki/lib/ssl.py?line=493'>494</a>\u001b[0m \u001b[39mdef\u001b[39;00m \u001b[39mwrap_socket\u001b[39m(\u001b[39mself\u001b[39m, sock, server_side\u001b[39m=\u001b[39m\u001b[39mFalse\u001b[39;00m,\n\u001b[0;32m    <a href='file:///c%3A/Users/akshi/anaconda3/envs/indicwiki/lib/ssl.py?line=494'>495</a>\u001b[0m                 do_handshake_on_connect\u001b[39m=\u001b[39m\u001b[39mTrue\u001b[39;00m,\n\u001b[0;32m    <a href='file:///c%3A/Users/akshi/anaconda3/envs/indicwiki/lib/ssl.py?line=495'>496</a>\u001b[0m                 suppress_ragged_eofs\u001b[39m=\u001b[39m\u001b[39mTrue\u001b[39;00m,\n\u001b[0;32m    <a href='file:///c%3A/Users/akshi/anaconda3/envs/indicwiki/lib/ssl.py?line=496'>497</a>\u001b[0m                 server_hostname\u001b[39m=\u001b[39m\u001b[39mNone\u001b[39;00m, session\u001b[39m=\u001b[39m\u001b[39mNone\u001b[39;00m):\n\u001b[0;32m    <a href='file:///c%3A/Users/akshi/anaconda3/envs/indicwiki/lib/ssl.py?line=497'>498</a>\u001b[0m     \u001b[39m# SSLSocket class handles server_hostname encoding before it calls\u001b[39;00m\n\u001b[0;32m    <a href='file:///c%3A/Users/akshi/anaconda3/envs/indicwiki/lib/ssl.py?line=498'>499</a>\u001b[0m     \u001b[39m# ctx._wrap_socket()\u001b[39;00m\n\u001b[1;32m--> <a href='file:///c%3A/Users/akshi/anaconda3/envs/indicwiki/lib/ssl.py?line=499'>500</a>\u001b[0m     \u001b[39mreturn\u001b[39;00m \u001b[39mself\u001b[39;49m\u001b[39m.\u001b[39;49msslsocket_class\u001b[39m.\u001b[39;49m_create(\n\u001b[0;32m    <a href='file:///c%3A/Users/akshi/anaconda3/envs/indicwiki/lib/ssl.py?line=500'>501</a>\u001b[0m         sock\u001b[39m=\u001b[39;49msock,\n\u001b[0;32m    <a href='file:///c%3A/Users/akshi/anaconda3/envs/indicwiki/lib/ssl.py?line=501'>502</a>\u001b[0m         server_side\u001b[39m=\u001b[39;49mserver_side,\n\u001b[0;32m    <a href='file:///c%3A/Users/akshi/anaconda3/envs/indicwiki/lib/ssl.py?line=502'>503</a>\u001b[0m         do_handshake_on_connect\u001b[39m=\u001b[39;49mdo_handshake_on_connect,\n\u001b[0;32m    <a href='file:///c%3A/Users/akshi/anaconda3/envs/indicwiki/lib/ssl.py?line=503'>504</a>\u001b[0m         suppress_ragged_eofs\u001b[39m=\u001b[39;49msuppress_ragged_eofs,\n\u001b[0;32m    <a href='file:///c%3A/Users/akshi/anaconda3/envs/indicwiki/lib/ssl.py?line=504'>505</a>\u001b[0m         server_hostname\u001b[39m=\u001b[39;49mserver_hostname,\n\u001b[0;32m    <a href='file:///c%3A/Users/akshi/anaconda3/envs/indicwiki/lib/ssl.py?line=505'>506</a>\u001b[0m         context\u001b[39m=\u001b[39;49m\u001b[39mself\u001b[39;49m,\n\u001b[0;32m    <a href='file:///c%3A/Users/akshi/anaconda3/envs/indicwiki/lib/ssl.py?line=506'>507</a>\u001b[0m         session\u001b[39m=\u001b[39;49msession\n\u001b[0;32m    <a href='file:///c%3A/Users/akshi/anaconda3/envs/indicwiki/lib/ssl.py?line=507'>508</a>\u001b[0m     )\n",
      "File \u001b[1;32m~\\anaconda3\\envs\\indicwiki\\lib\\ssl.py:1040\u001b[0m, in \u001b[0;36mSSLSocket._create\u001b[1;34m(cls, sock, server_side, do_handshake_on_connect, suppress_ragged_eofs, server_hostname, context, session)\u001b[0m\n\u001b[0;32m   <a href='file:///c%3A/Users/akshi/anaconda3/envs/indicwiki/lib/ssl.py?line=1036'>1037</a>\u001b[0m         \u001b[39mif\u001b[39;00m timeout \u001b[39m==\u001b[39m \u001b[39m0.0\u001b[39m:\n\u001b[0;32m   <a href='file:///c%3A/Users/akshi/anaconda3/envs/indicwiki/lib/ssl.py?line=1037'>1038</a>\u001b[0m             \u001b[39m# non-blocking\u001b[39;00m\n\u001b[0;32m   <a href='file:///c%3A/Users/akshi/anaconda3/envs/indicwiki/lib/ssl.py?line=1038'>1039</a>\u001b[0m             \u001b[39mraise\u001b[39;00m \u001b[39mValueError\u001b[39;00m(\u001b[39m\"\u001b[39m\u001b[39mdo_handshake_on_connect should not be specified for non-blocking sockets\u001b[39m\u001b[39m\"\u001b[39m)\n\u001b[1;32m-> <a href='file:///c%3A/Users/akshi/anaconda3/envs/indicwiki/lib/ssl.py?line=1039'>1040</a>\u001b[0m         \u001b[39mself\u001b[39;49m\u001b[39m.\u001b[39;49mdo_handshake()\n\u001b[0;32m   <a href='file:///c%3A/Users/akshi/anaconda3/envs/indicwiki/lib/ssl.py?line=1040'>1041</a>\u001b[0m \u001b[39mexcept\u001b[39;00m (\u001b[39mOSError\u001b[39;00m, \u001b[39mValueError\u001b[39;00m):\n\u001b[0;32m   <a href='file:///c%3A/Users/akshi/anaconda3/envs/indicwiki/lib/ssl.py?line=1041'>1042</a>\u001b[0m     \u001b[39mself\u001b[39m\u001b[39m.\u001b[39mclose()\n",
      "File \u001b[1;32m~\\anaconda3\\envs\\indicwiki\\lib\\ssl.py:1309\u001b[0m, in \u001b[0;36mSSLSocket.do_handshake\u001b[1;34m(self, block)\u001b[0m\n\u001b[0;32m   <a href='file:///c%3A/Users/akshi/anaconda3/envs/indicwiki/lib/ssl.py?line=1306'>1307</a>\u001b[0m     \u001b[39mif\u001b[39;00m timeout \u001b[39m==\u001b[39m \u001b[39m0.0\u001b[39m \u001b[39mand\u001b[39;00m block:\n\u001b[0;32m   <a href='file:///c%3A/Users/akshi/anaconda3/envs/indicwiki/lib/ssl.py?line=1307'>1308</a>\u001b[0m         \u001b[39mself\u001b[39m\u001b[39m.\u001b[39msettimeout(\u001b[39mNone\u001b[39;00m)\n\u001b[1;32m-> <a href='file:///c%3A/Users/akshi/anaconda3/envs/indicwiki/lib/ssl.py?line=1308'>1309</a>\u001b[0m     \u001b[39mself\u001b[39;49m\u001b[39m.\u001b[39;49m_sslobj\u001b[39m.\u001b[39;49mdo_handshake()\n\u001b[0;32m   <a href='file:///c%3A/Users/akshi/anaconda3/envs/indicwiki/lib/ssl.py?line=1309'>1310</a>\u001b[0m \u001b[39mfinally\u001b[39;00m:\n\u001b[0;32m   <a href='file:///c%3A/Users/akshi/anaconda3/envs/indicwiki/lib/ssl.py?line=1310'>1311</a>\u001b[0m     \u001b[39mself\u001b[39m\u001b[39m.\u001b[39msettimeout(timeout)\n",
      "\u001b[1;31mKeyboardInterrupt\u001b[0m: "
     ]
    }
   ],
   "source": [
    "import csv\n",
    "import pandas as pd\n",
    "def eol(fro,to):\n",
    "    types_of_birds_df = pd.read_csv('assets/birds.csv',index_col='ID')\n",
    "    list_of_bird_names = [ types_of_birds_df.loc[ _ ,'Common Bird Names'] for _ in range(1,types_of_birds_df.shape[0]) ]\n",
    "    data_from_eol = {}\n",
    "    writer = csv.writer(open('assets/eol_out.csv',\"w\",newline=''))\n",
    "    for bird_name in list_of_bird_names[fro:to]:\n",
    "        data_from_eol[bird_name] = scrape_v_2(get_page_of_bird(bird_name))\n",
    "        writer.writerow([bird_name,data_from_eol[bird_name]])\n",
    "    return data_from_eol \n",
    "eol(0,1000)\n",
    "eol(1000,2000)\n",
    "eol(2000,3000)"
   ]
  },
  {
   "cell_type": "code",
   "execution_count": null,
   "id": "8561a21d",
   "metadata": {},
   "outputs": [
    {
     "name": "stdout",
     "output_type": "stream",
     "text": [
      "2337.675 Mins\n",
      "38.96125 Hrs\n",
      "1.6233854166666668 Days\n"
     ]
    }
   ],
   "source": [
    "# Small Calculations\n",
    "for_100_b = 21*60 + 18 \n",
    "for_entire_data =( len(list_of_bird_names) * (for_100_b / 100) )/60\n",
    "print(for_entire_data,'Mins')\n",
    "print(for_entire_data/60 ,'Hrs')\n",
    "print(for_entire_data/(60*24) ,'Days')"
   ]
  },
  {
   "cell_type": "code",
<<<<<<< HEAD
   "execution_count": 4,
   "id": "5bf64822",
=======
   "execution_count": 99,
   "id": "d1cae460",
   "metadata": {},
   "outputs": [
    {
     "data": {
      "text/plain": [
       "'Report 8000 9000 eol'"
      ]
     },
     "execution_count": 99,
     "metadata": {},
     "output_type": "execute_result"
    }
   ],
   "source": [
    "'''Report 8000 9000 eol'''\n",
    "# ['Sepik-Ramu shrikethrush', 'Seram bush warbler', 'Seram masked owl', 'Short-bearded honeyeater', 'Simeulue parrot', 'Solomons robin', 'Sooty honeyeater', 'Southern dark newtonia', 'Sri Lankan junglefowl', \"Stejneger's scoter\"]\n",
    "\n",
    "# Time taken :  2:18:24.409537"
   ]
  },
  {
   "cell_type": "code",
   "execution_count": 100,
   "id": "8fc11f07",
   "metadata": {},
   "outputs": [
    {
     "data": {
      "text/plain": [
       "'Report 7000 8000 eol'"
      ]
     },
     "execution_count": 100,
     "metadata": {},
     "output_type": "execute_result"
    }
   ],
   "source": [
    "'''Report 7000 8000 eol'''\n",
    "# ['Red satinbird', 'Red-fronted prinia', 'Red-winged prinia', 'Rennell parrot', 'Rufous grasswren', 'Saint Helena crake', 'Saint Helena cuckoo', 'Saint Helena hoopoe', 'Saint Helena petrel', 'Saint Helena rail', 'Saint Lucia black finch', 'Saint Lucia oriole', 'Saint Lucia warbler', 'Sand-coloured nighthawk']\n",
    "\n",
    "# Time taken :  2:21:04.276115"
   ]
  },
  {
   "cell_type": "code",
   "execution_count": 101,
   "id": "8070d9cf",
   "metadata": {},
   "outputs": [
    {
     "data": {
      "text/plain": [
       "'Report 2500 3000'"
      ]
     },
     "execution_count": 101,
     "metadata": {},
     "output_type": "execute_result"
    }
   ],
   "source": [
    "'''Report 2500 3000'''\n",
    "# ['Cream-eyed bulbul', 'Cryptic honeyeater', \"Delalande's coua\", \"Dohrn's warbler\"]\n",
    "\n",
    "# Time taken :  1:24:49.409852"
   ]
  },
  {
   "cell_type": "code",
   "execution_count": 102,
   "id": "d3286bc4",
   "metadata": {},
   "outputs": [
    {
     "data": {
      "text/plain": [
       "'Report 4000 4500'"
      ]
     },
     "execution_count": 102,
     "metadata": {},
     "output_type": "execute_result"
    }
   ],
   "source": [
    "'''Report 4000 4500'''\n",
    "# ['Halmahera paradise-crow', 'Hawaiʻi creeper', 'Hawaiʻi ʻakepa', 'Hawaiʻi ʻamakihi', 'Hawaiʻi ʻōʻō']\n",
    "\n",
    "# Time taken :  1:23:56.132771"
   ]
  },
  {
   "cell_type": "code",
   "execution_count": 103,
   "id": "734401dd",
   "metadata": {},
   "outputs": [
    {
     "data": {
      "text/plain": [
       "'Report 4500 5000'"
      ]
     },
     "execution_count": 103,
     "metadata": {},
     "output_type": "execute_result"
    }
   ],
   "source": [
    "'''Report 4500 5000'''\n",
    "# ['Indochinese blue flycatcher', 'Javan blue flycatcher', 'Kauaʻi nukupuʻu', 'Kauaʻi ʻakialoa', 'Kauaʻi ʻamakihi', 'Kauaʻi ʻōʻō']\n",
    "\n",
    "# Time taken :  1:23:34.726986"
   ]
  },
  {
   "cell_type": "code",
   "execution_count": 104,
   "id": "2aa129a6",
   "metadata": {},
   "outputs": [
    {
     "data": {
      "text/plain": [
       "'Report 6000 6500'"
      ]
     },
     "execution_count": 104,
     "metadata": {},
     "output_type": "execute_result"
    }
   ],
   "source": [
    "'''Report 6000 6500'''\n",
    "# ['New Zealand rock wren', \"Nicholson's pipit\", 'Northern dark newtonia', 'Obi paradise-crow', 'Opalton grasswren', 'Outcrop sabrewing', 'Oʻahu nukupuʻu', 'Oʻahu ʻakepa', 'Oʻahu ʻakialoa', 'Oʻahu ʻalauahio', 'Oʻahu ʻamakihi', 'Oʻahu ʻelepaio', 'Palawan drongo', 'Pale-faced bulbul']\n",
    "\n",
    "# Time taken :  1:24:01.918901"
   ]
  },
  {
   "cell_type": "code",
   "execution_count": null,
   "id": "6932cb85",
>>>>>>> ed3db8144e9b527796310b4ff1df3c5d63bf9858
   "metadata": {},
   "outputs": [
    {
     "ename": "AttributeError",
     "evalue": "'str' object has no attribute 'keys'",
     "output_type": "error",
     "traceback": [
      "\u001b[1;31m---------------------------------------------------------------------------\u001b[0m",
      "\u001b[1;31mAttributeError\u001b[0m                            Traceback (most recent call last)",
      "\u001b[1;32md:\\Internships\\IndicWiki IIITH\\birds repo\\birds\\birds\\Scraping4birds.ipynb Cell 32'\u001b[0m in \u001b[0;36m<cell line: 6>\u001b[1;34m()\u001b[0m\n\u001b[0;32m      <a href='vscode-notebook-cell:/d%3A/Internships/IndicWiki%20IIITH/birds%20repo/birds/birds/Scraping4birds.ipynb#ch0000031?line=8'>9</a>\u001b[0m         writer\u001b[39m.\u001b[39mwriteheader()\n\u001b[0;32m     <a href='vscode-notebook-cell:/d%3A/Internships/IndicWiki%20IIITH/birds%20repo/birds/birds/Scraping4birds.ipynb#ch0000031?line=9'>10</a>\u001b[0m         \u001b[39mfor\u001b[39;00m data \u001b[39min\u001b[39;00m dict_data:\n\u001b[1;32m---> <a href='vscode-notebook-cell:/d%3A/Internships/IndicWiki%20IIITH/birds%20repo/birds/birds/Scraping4birds.ipynb#ch0000031?line=10'>11</a>\u001b[0m             writer\u001b[39m.\u001b[39;49mwriterow(data)\n\u001b[0;32m     <a href='vscode-notebook-cell:/d%3A/Internships/IndicWiki%20IIITH/birds%20repo/birds/birds/Scraping4birds.ipynb#ch0000031?line=11'>12</a>\u001b[0m \u001b[39mexcept\u001b[39;00m \u001b[39mIOError\u001b[39;00m:\n\u001b[0;32m     <a href='vscode-notebook-cell:/d%3A/Internships/IndicWiki%20IIITH/birds%20repo/birds/birds/Scraping4birds.ipynb#ch0000031?line=12'>13</a>\u001b[0m     \u001b[39mprint\u001b[39m(\u001b[39m\"\u001b[39m\u001b[39mI/O error\u001b[39m\u001b[39m\"\u001b[39m)\n",
      "File \u001b[1;32m~\\anaconda3\\envs\\indicwiki\\lib\\csv.py:154\u001b[0m, in \u001b[0;36mDictWriter.writerow\u001b[1;34m(self, rowdict)\u001b[0m\n\u001b[0;32m    <a href='file:///c%3A/Users/akshi/anaconda3/envs/indicwiki/lib/csv.py?line=152'>153</a>\u001b[0m \u001b[39mdef\u001b[39;00m \u001b[39mwriterow\u001b[39m(\u001b[39mself\u001b[39m, rowdict):\n\u001b[1;32m--> <a href='file:///c%3A/Users/akshi/anaconda3/envs/indicwiki/lib/csv.py?line=153'>154</a>\u001b[0m     \u001b[39mreturn\u001b[39;00m \u001b[39mself\u001b[39m\u001b[39m.\u001b[39mwriter\u001b[39m.\u001b[39mwriterow(\u001b[39mself\u001b[39;49m\u001b[39m.\u001b[39;49m_dict_to_list(rowdict))\n",
      "File \u001b[1;32m~\\anaconda3\\envs\\indicwiki\\lib\\csv.py:147\u001b[0m, in \u001b[0;36mDictWriter._dict_to_list\u001b[1;34m(self, rowdict)\u001b[0m\n\u001b[0;32m    <a href='file:///c%3A/Users/akshi/anaconda3/envs/indicwiki/lib/csv.py?line=144'>145</a>\u001b[0m \u001b[39mdef\u001b[39;00m \u001b[39m_dict_to_list\u001b[39m(\u001b[39mself\u001b[39m, rowdict):\n\u001b[0;32m    <a href='file:///c%3A/Users/akshi/anaconda3/envs/indicwiki/lib/csv.py?line=145'>146</a>\u001b[0m     \u001b[39mif\u001b[39;00m \u001b[39mself\u001b[39m\u001b[39m.\u001b[39mextrasaction \u001b[39m==\u001b[39m \u001b[39m\"\u001b[39m\u001b[39mraise\u001b[39m\u001b[39m\"\u001b[39m:\n\u001b[1;32m--> <a href='file:///c%3A/Users/akshi/anaconda3/envs/indicwiki/lib/csv.py?line=146'>147</a>\u001b[0m         wrong_fields \u001b[39m=\u001b[39m rowdict\u001b[39m.\u001b[39;49mkeys() \u001b[39m-\u001b[39m \u001b[39mself\u001b[39m\u001b[39m.\u001b[39mfieldnames\n\u001b[0;32m    <a href='file:///c%3A/Users/akshi/anaconda3/envs/indicwiki/lib/csv.py?line=147'>148</a>\u001b[0m         \u001b[39mif\u001b[39;00m wrong_fields:\n\u001b[0;32m    <a href='file:///c%3A/Users/akshi/anaconda3/envs/indicwiki/lib/csv.py?line=148'>149</a>\u001b[0m             \u001b[39mraise\u001b[39;00m \u001b[39mValueError\u001b[39;00m(\u001b[39m\"\u001b[39m\u001b[39mdict contains fields not in fieldnames: \u001b[39m\u001b[39m\"\u001b[39m\n\u001b[0;32m    <a href='file:///c%3A/Users/akshi/anaconda3/envs/indicwiki/lib/csv.py?line=149'>150</a>\u001b[0m                              \u001b[39m+\u001b[39m \u001b[39m\"\u001b[39m\u001b[39m, \u001b[39m\u001b[39m\"\u001b[39m\u001b[39m.\u001b[39mjoin([\u001b[39mrepr\u001b[39m(x) \u001b[39mfor\u001b[39;00m x \u001b[39min\u001b[39;00m wrong_fields]))\n",
      "\u001b[1;31mAttributeError\u001b[0m: 'str' object has no attribute 'keys'"
     ]
    }
   ],
   "source": [
    "import csv\n",
    "csv_columns = ['auditory system','conservation status','geographic distribution includes','habitat','hearing range','hearing threshold',\n",
    "'locomotion','mineralized skeleton contains','population trend','visual system']\n",
    "dict_data = scrape_v_2('https://eol.org/pages/1178299')\n",
    "csv_file = \"attr1.csv\"\n",
    "try:\n",
    "    with open(csv_file, 'w') as csvfile:\n",
    "        writer = csv.DictWriter(csvfile, fieldnames=csv_columns)\n",
    "        writer.writeheader()\n",
    "        for data in dict_data:\n",
    "            writer.writerow(data)\n",
<<<<<<< HEAD
    "except EOFError as e:\n",
    "    print(e)\n",
    "\n"
   ]
  },
  {
   "cell_type": "code",
   "execution_count": 7,
   "id": "f6066bf1",
   "metadata": {},
   "outputs": [],
   "source": [
    "import requests\n",
    "from bs4 import BeautifulSoup\n",
    "URL = \"https://ebird.org/species/grswoo\"\n",
    "def scrape(URL):\n",
    "    page = requests.get(URL)\n",
    "    soup = BeautifulSoup(page.content, \"html.parser\")\n",
    "    results = soup.find_all(\"div\",class_=\"Breadcrumbs Breadcrumbs--reverse u-stack-sm\")\n",
    "    names = soup.find_all(\"h1\",class_=\"Heading-main Media--hero-title\")\n",
    "    udescription=soup.find_all(\"p\",class_=\"u-stack-sm\")\n",
    "    for j,i,k in zip(results,names,udescription):\n",
    "        print(j.get_text(),end=\" \")\n",
    "        print(i.get_text())\n",
    "        print(k.get_text())\n",
    "scrape(URL)\n",
    "        \n"
=======
    "except IOError:\n",
    "    print(\"I/O error\")"
>>>>>>> ed3db8144e9b527796310b4ff1df3c5d63bf9858
   ]
  },
  {
   "cell_type": "code",
   "execution_count": null,
   "id": "f6066bf1",
   "metadata": {},
   "outputs": [],
   "source": []
  }
 ],
 "metadata": {
  "kernelspec": {
   "display_name": "Akwiki",
   "language": "python",
   "name": "indicwiki"
  },
  "language_info": {
   "codemirror_mode": {
    "name": "ipython",
    "version": 3
   },
   "file_extension": ".py",
   "mimetype": "text/x-python",
   "name": "python",
   "nbconvert_exporter": "python",
   "pygments_lexer": "ipython3",
   "version": "3.9.7"
  }
 },
 "nbformat": 4,
 "nbformat_minor": 5
}
