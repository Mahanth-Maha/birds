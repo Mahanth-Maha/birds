{
 "cells": [
  {
   "cell_type": "markdown",
   "id": "0da0b336",
   "metadata": {},
   "source": [
    "# Scraping about Birds\n",
    "\n",
    "## About Birds classification\n",
    "\n",
    "getting all the types of birds"
   ]
  },
  {
   "cell_type": "code",
   "execution_count": 4,
   "id": "ee1e53bc",
   "metadata": {},
   "outputs": [],
   "source": [
    "# !pip install beautifulsoup4\n",
    "# !pip install selenium\n",
    "# !pip install scrapy"
   ]
  },
  {
   "cell_type": "code",
   "execution_count": 5,
   "id": "e74f740a",
   "metadata": {},
   "outputs": [],
   "source": [
    "from bs4 import BeautifulSoup\n",
    "from selenium import webdriver\n",
    "import scrapy\n",
    "import pandas as pd"
   ]
  },
  {
   "cell_type": "code",
   "execution_count": 6,
   "id": "eadafb2e",
   "metadata": {},
   "outputs": [
    {
     "data": {
      "text/html": [
       "<div>\n",
       "<style scoped>\n",
       "    .dataframe tbody tr th:only-of-type {\n",
       "        vertical-align: middle;\n",
       "    }\n",
       "\n",
       "    .dataframe tbody tr th {\n",
       "        vertical-align: top;\n",
       "    }\n",
       "\n",
       "    .dataframe thead th {\n",
       "        text-align: right;\n",
       "    }\n",
       "</style>\n",
       "<table border=\"1\" class=\"dataframe\">\n",
       "  <thead>\n",
       "    <tr style=\"text-align: right;\">\n",
       "      <th></th>\n",
       "      <th>Common Bird Names</th>\n",
       "    </tr>\n",
       "    <tr>\n",
       "      <th>ID</th>\n",
       "      <th></th>\n",
       "    </tr>\n",
       "  </thead>\n",
       "  <tbody>\n",
       "    <tr>\n",
       "      <th>1</th>\n",
       "      <td>Abbott's babbler</td>\n",
       "    </tr>\n",
       "    <tr>\n",
       "      <th>2</th>\n",
       "      <td>Abbott's booby</td>\n",
       "    </tr>\n",
       "    <tr>\n",
       "      <th>3</th>\n",
       "      <td>Abbott's starling</td>\n",
       "    </tr>\n",
       "    <tr>\n",
       "      <th>4</th>\n",
       "      <td>Abbott's sunbird</td>\n",
       "    </tr>\n",
       "  </tbody>\n",
       "</table>\n",
       "</div>"
      ],
      "text/plain": [
       "    Common Bird Names\n",
       "ID                   \n",
       "1    Abbott's babbler\n",
       "2      Abbott's booby\n",
       "3   Abbott's starling\n",
       "4    Abbott's sunbird"
      ]
     },
     "execution_count": 6,
     "metadata": {},
     "output_type": "execute_result"
    }
   ],
   "source": [
    "types_of_birds_df = pd.read_csv('assets/birds.csv',index_col='ID')\n",
    "types_of_birds_df.head(4)"
   ]
  },
  {
   "cell_type": "code",
   "execution_count": 7,
   "id": "f8596127",
   "metadata": {},
   "outputs": [
    {
     "name": "stdout",
     "output_type": "stream",
     "text": [
      "['Himalayan shrike-babbler', 'Himalayan snowcock', 'Himalayan swiftlet', 'Himalayan thrush', 'Himalayan vulture', 'Himalayan white-browed rosefinch', 'Himalayan woodpecker', \"Hinde's babbler\", 'Hispaniolan amazon', 'Hispaniolan crossbill', 'Hispaniolan emerald']\n",
      "10975\n"
     ]
    }
   ],
   "source": [
    "list_of_bird_names = [ types_of_birds_df.loc[ _ ,'Common Bird Names'] for _ in range(1,types_of_birds_df.shape[0]) ]\n",
    "print(list_of_bird_names[4444:4455])\n",
    "print(len(list_of_bird_names))"
   ]
  },
  {
   "cell_type": "code",
   "execution_count": 8,
   "id": "a6689fb7",
   "metadata": {},
   "outputs": [
    {
     "name": "stdout",
     "output_type": "stream",
     "text": [
      "172\n"
     ]
    },
    {
     "data": {
      "text/plain": [
       "['Ashy-throated parrotbill',\n",
       " 'Australian king parrot',\n",
       " 'Bald parrot',\n",
       " 'Bismarck hanging parrot',\n",
       " 'Black-breasted parrotbill',\n",
       " 'Black-headed parrot',\n",
       " 'Black-headed parrotbill',\n",
       " 'Black-legged parrot',\n",
       " 'Black-lored parrot',\n",
       " 'Black-throated parrotbill']"
      ]
     },
     "execution_count": 8,
     "metadata": {},
     "output_type": "execute_result"
    }
   ],
   "source": [
    "#testing for parrots [checking if we got all data or not]\n",
    "import re\n",
    "parrot = []\n",
    "for _ in list_of_bird_names:\n",
    "    k = re.findall('parrot',_)\n",
    "    if k:\n",
    "        parrot.append(_)\n",
    "print(len(parrot))\n",
    "parrot[:10]"
   ]
  },
  {
   "cell_type": "code",
   "execution_count": 11,
   "id": "02e203d4",
   "metadata": {},
   "outputs": [
    {
     "name": "stdout",
     "output_type": "stream",
     "text": [
      "Collecting google\n",
      "  Using cached google-3.0.0-py2.py3-none-any.whl (45 kB)\n",
      "Requirement already satisfied: beautifulsoup4 in c:\\users\\akshi\\anaconda3\\envs\\indicwiki\\lib\\site-packages (from google) (4.10.0)\n",
      "Requirement already satisfied: soupsieve>1.2 in c:\\users\\akshi\\anaconda3\\envs\\indicwiki\\lib\\site-packages (from beautifulsoup4->google) (2.3.1)\n",
      "Installing collected packages: google\n",
      "Successfully installed google-3.0.0\n"
     ]
    }
   ],
   "source": [
    "# !pip install google"
   ]
  },
  {
   "cell_type": "code",
   "execution_count": 12,
   "id": "a05f384f",
   "metadata": {},
   "outputs": [
    {
     "ename": "HTTPError",
     "evalue": "HTTP Error 429: Too Many Requests",
     "output_type": "error",
     "traceback": [
      "\u001b[1;31m---------------------------------------------------------------------------\u001b[0m",
      "\u001b[1;31mHTTPError\u001b[0m                                 Traceback (most recent call last)",
      "\u001b[1;32md:\\Internships\\IndicWiki IIITH\\birds repo\\birds\\Scraping4birds.ipynb Cell 8'\u001b[0m in \u001b[0;36m<cell line: 6>\u001b[1;34m()\u001b[0m\n\u001b[0;32m      <a href='vscode-notebook-cell:/d%3A/Internships/IndicWiki%20IIITH/birds%20repo/birds/Scraping4birds.ipynb#ch0000007?line=3'>4</a>\u001b[0m no_of_links \u001b[39m=\u001b[39m \u001b[39m30\u001b[39m\n\u001b[0;32m      <a href='vscode-notebook-cell:/d%3A/Internships/IndicWiki%20IIITH/birds%20repo/birds/Scraping4birds.ipynb#ch0000007?line=4'>5</a>\u001b[0m res \u001b[39m=\u001b[39m search(query,  tld\u001b[39m=\u001b[39m\u001b[39m'\u001b[39m\u001b[39mcom\u001b[39m\u001b[39m'\u001b[39m, lang\u001b[39m=\u001b[39m\u001b[39m'\u001b[39m\u001b[39men\u001b[39m\u001b[39m'\u001b[39m, tbs\u001b[39m=\u001b[39m\u001b[39m'\u001b[39m\u001b[39m0\u001b[39m\u001b[39m'\u001b[39m, safe\u001b[39m=\u001b[39m\u001b[39m'\u001b[39m\u001b[39moff\u001b[39m\u001b[39m'\u001b[39m, num\u001b[39m=\u001b[39mno_of_links, start\u001b[39m=\u001b[39m\u001b[39m0\u001b[39m, stop\u001b[39m=\u001b[39mno_of_links, pause\u001b[39m=\u001b[39m\u001b[39m2.0\u001b[39m,country\u001b[39m=\u001b[39m\u001b[39m'\u001b[39m\u001b[39m'\u001b[39m, extra_params\u001b[39m=\u001b[39m\u001b[39mNone\u001b[39;00m, user_agent\u001b[39m=\u001b[39m\u001b[39mNone\u001b[39;00m)\n\u001b[1;32m----> <a href='vscode-notebook-cell:/d%3A/Internships/IndicWiki%20IIITH/birds%20repo/birds/Scraping4birds.ipynb#ch0000007?line=5'>6</a>\u001b[0m \u001b[39mfor\u001b[39;00m i \u001b[39min\u001b[39;00m res:\n\u001b[0;32m      <a href='vscode-notebook-cell:/d%3A/Internships/IndicWiki%20IIITH/birds%20repo/birds/Scraping4birds.ipynb#ch0000007?line=6'>7</a>\u001b[0m     result\u001b[39m.\u001b[39mappend(i)\n\u001b[0;32m      <a href='vscode-notebook-cell:/d%3A/Internships/IndicWiki%20IIITH/birds%20repo/birds/Scraping4birds.ipynb#ch0000007?line=7'>8</a>\u001b[0m \u001b[39mlen\u001b[39m(result)\n",
      "File \u001b[1;32m~\\anaconda3\\envs\\indicwiki\\lib\\site-packages\\googlesearch\\__init__.py:305\u001b[0m, in \u001b[0;36msearch\u001b[1;34m(query, tld, lang, tbs, safe, num, start, stop, pause, country, extra_params, user_agent, verify_ssl)\u001b[0m\n\u001b[0;32m    <a href='file:///c%3A/Users/akshi/anaconda3/envs/indicwiki/lib/site-packages/googlesearch/__init__.py?line=301'>302</a>\u001b[0m time\u001b[39m.\u001b[39msleep(pause)\n\u001b[0;32m    <a href='file:///c%3A/Users/akshi/anaconda3/envs/indicwiki/lib/site-packages/googlesearch/__init__.py?line=303'>304</a>\u001b[0m \u001b[39m# Request the Google Search results page.\u001b[39;00m\n\u001b[1;32m--> <a href='file:///c%3A/Users/akshi/anaconda3/envs/indicwiki/lib/site-packages/googlesearch/__init__.py?line=304'>305</a>\u001b[0m html \u001b[39m=\u001b[39m get_page(url, user_agent, verify_ssl)\n\u001b[0;32m    <a href='file:///c%3A/Users/akshi/anaconda3/envs/indicwiki/lib/site-packages/googlesearch/__init__.py?line=306'>307</a>\u001b[0m \u001b[39m# Parse the response and get every anchored URL.\u001b[39;00m\n\u001b[0;32m    <a href='file:///c%3A/Users/akshi/anaconda3/envs/indicwiki/lib/site-packages/googlesearch/__init__.py?line=307'>308</a>\u001b[0m \u001b[39mif\u001b[39;00m is_bs4:\n",
      "File \u001b[1;32m~\\anaconda3\\envs\\indicwiki\\lib\\site-packages\\googlesearch\\__init__.py:174\u001b[0m, in \u001b[0;36mget_page\u001b[1;34m(url, user_agent, verify_ssl)\u001b[0m\n\u001b[0;32m    <a href='file:///c%3A/Users/akshi/anaconda3/envs/indicwiki/lib/site-packages/googlesearch/__init__.py?line=171'>172</a>\u001b[0m cookie_jar\u001b[39m.\u001b[39madd_cookie_header(request)\n\u001b[0;32m    <a href='file:///c%3A/Users/akshi/anaconda3/envs/indicwiki/lib/site-packages/googlesearch/__init__.py?line=172'>173</a>\u001b[0m \u001b[39mif\u001b[39;00m verify_ssl:\n\u001b[1;32m--> <a href='file:///c%3A/Users/akshi/anaconda3/envs/indicwiki/lib/site-packages/googlesearch/__init__.py?line=173'>174</a>\u001b[0m     response \u001b[39m=\u001b[39m urlopen(request)\n\u001b[0;32m    <a href='file:///c%3A/Users/akshi/anaconda3/envs/indicwiki/lib/site-packages/googlesearch/__init__.py?line=174'>175</a>\u001b[0m \u001b[39melse\u001b[39;00m:\n\u001b[0;32m    <a href='file:///c%3A/Users/akshi/anaconda3/envs/indicwiki/lib/site-packages/googlesearch/__init__.py?line=175'>176</a>\u001b[0m     context \u001b[39m=\u001b[39m ssl\u001b[39m.\u001b[39m_create_unverified_context()\n",
      "File \u001b[1;32m~\\anaconda3\\envs\\indicwiki\\lib\\urllib\\request.py:214\u001b[0m, in \u001b[0;36murlopen\u001b[1;34m(url, data, timeout, cafile, capath, cadefault, context)\u001b[0m\n\u001b[0;32m    <a href='file:///c%3A/Users/akshi/anaconda3/envs/indicwiki/lib/urllib/request.py?line=211'>212</a>\u001b[0m \u001b[39melse\u001b[39;00m:\n\u001b[0;32m    <a href='file:///c%3A/Users/akshi/anaconda3/envs/indicwiki/lib/urllib/request.py?line=212'>213</a>\u001b[0m     opener \u001b[39m=\u001b[39m _opener\n\u001b[1;32m--> <a href='file:///c%3A/Users/akshi/anaconda3/envs/indicwiki/lib/urllib/request.py?line=213'>214</a>\u001b[0m \u001b[39mreturn\u001b[39;00m opener\u001b[39m.\u001b[39;49mopen(url, data, timeout)\n",
      "File \u001b[1;32m~\\anaconda3\\envs\\indicwiki\\lib\\urllib\\request.py:523\u001b[0m, in \u001b[0;36mOpenerDirector.open\u001b[1;34m(self, fullurl, data, timeout)\u001b[0m\n\u001b[0;32m    <a href='file:///c%3A/Users/akshi/anaconda3/envs/indicwiki/lib/urllib/request.py?line=520'>521</a>\u001b[0m \u001b[39mfor\u001b[39;00m processor \u001b[39min\u001b[39;00m \u001b[39mself\u001b[39m\u001b[39m.\u001b[39mprocess_response\u001b[39m.\u001b[39mget(protocol, []):\n\u001b[0;32m    <a href='file:///c%3A/Users/akshi/anaconda3/envs/indicwiki/lib/urllib/request.py?line=521'>522</a>\u001b[0m     meth \u001b[39m=\u001b[39m \u001b[39mgetattr\u001b[39m(processor, meth_name)\n\u001b[1;32m--> <a href='file:///c%3A/Users/akshi/anaconda3/envs/indicwiki/lib/urllib/request.py?line=522'>523</a>\u001b[0m     response \u001b[39m=\u001b[39m meth(req, response)\n\u001b[0;32m    <a href='file:///c%3A/Users/akshi/anaconda3/envs/indicwiki/lib/urllib/request.py?line=524'>525</a>\u001b[0m \u001b[39mreturn\u001b[39;00m response\n",
      "File \u001b[1;32m~\\anaconda3\\envs\\indicwiki\\lib\\urllib\\request.py:632\u001b[0m, in \u001b[0;36mHTTPErrorProcessor.http_response\u001b[1;34m(self, request, response)\u001b[0m\n\u001b[0;32m    <a href='file:///c%3A/Users/akshi/anaconda3/envs/indicwiki/lib/urllib/request.py?line=628'>629</a>\u001b[0m \u001b[39m# According to RFC 2616, \"2xx\" code indicates that the client's\u001b[39;00m\n\u001b[0;32m    <a href='file:///c%3A/Users/akshi/anaconda3/envs/indicwiki/lib/urllib/request.py?line=629'>630</a>\u001b[0m \u001b[39m# request was successfully received, understood, and accepted.\u001b[39;00m\n\u001b[0;32m    <a href='file:///c%3A/Users/akshi/anaconda3/envs/indicwiki/lib/urllib/request.py?line=630'>631</a>\u001b[0m \u001b[39mif\u001b[39;00m \u001b[39mnot\u001b[39;00m (\u001b[39m200\u001b[39m \u001b[39m<\u001b[39m\u001b[39m=\u001b[39m code \u001b[39m<\u001b[39m \u001b[39m300\u001b[39m):\n\u001b[1;32m--> <a href='file:///c%3A/Users/akshi/anaconda3/envs/indicwiki/lib/urllib/request.py?line=631'>632</a>\u001b[0m     response \u001b[39m=\u001b[39m \u001b[39mself\u001b[39;49m\u001b[39m.\u001b[39;49mparent\u001b[39m.\u001b[39;49merror(\n\u001b[0;32m    <a href='file:///c%3A/Users/akshi/anaconda3/envs/indicwiki/lib/urllib/request.py?line=632'>633</a>\u001b[0m         \u001b[39m'\u001b[39;49m\u001b[39mhttp\u001b[39;49m\u001b[39m'\u001b[39;49m, request, response, code, msg, hdrs)\n\u001b[0;32m    <a href='file:///c%3A/Users/akshi/anaconda3/envs/indicwiki/lib/urllib/request.py?line=634'>635</a>\u001b[0m \u001b[39mreturn\u001b[39;00m response\n",
      "File \u001b[1;32m~\\anaconda3\\envs\\indicwiki\\lib\\urllib\\request.py:555\u001b[0m, in \u001b[0;36mOpenerDirector.error\u001b[1;34m(self, proto, *args)\u001b[0m\n\u001b[0;32m    <a href='file:///c%3A/Users/akshi/anaconda3/envs/indicwiki/lib/urllib/request.py?line=552'>553</a>\u001b[0m     http_err \u001b[39m=\u001b[39m \u001b[39m0\u001b[39m\n\u001b[0;32m    <a href='file:///c%3A/Users/akshi/anaconda3/envs/indicwiki/lib/urllib/request.py?line=553'>554</a>\u001b[0m args \u001b[39m=\u001b[39m (\u001b[39mdict\u001b[39m, proto, meth_name) \u001b[39m+\u001b[39m args\n\u001b[1;32m--> <a href='file:///c%3A/Users/akshi/anaconda3/envs/indicwiki/lib/urllib/request.py?line=554'>555</a>\u001b[0m result \u001b[39m=\u001b[39m \u001b[39mself\u001b[39;49m\u001b[39m.\u001b[39;49m_call_chain(\u001b[39m*\u001b[39;49margs)\n\u001b[0;32m    <a href='file:///c%3A/Users/akshi/anaconda3/envs/indicwiki/lib/urllib/request.py?line=555'>556</a>\u001b[0m \u001b[39mif\u001b[39;00m result:\n\u001b[0;32m    <a href='file:///c%3A/Users/akshi/anaconda3/envs/indicwiki/lib/urllib/request.py?line=556'>557</a>\u001b[0m     \u001b[39mreturn\u001b[39;00m result\n",
      "File \u001b[1;32m~\\anaconda3\\envs\\indicwiki\\lib\\urllib\\request.py:494\u001b[0m, in \u001b[0;36mOpenerDirector._call_chain\u001b[1;34m(self, chain, kind, meth_name, *args)\u001b[0m\n\u001b[0;32m    <a href='file:///c%3A/Users/akshi/anaconda3/envs/indicwiki/lib/urllib/request.py?line=491'>492</a>\u001b[0m \u001b[39mfor\u001b[39;00m handler \u001b[39min\u001b[39;00m handlers:\n\u001b[0;32m    <a href='file:///c%3A/Users/akshi/anaconda3/envs/indicwiki/lib/urllib/request.py?line=492'>493</a>\u001b[0m     func \u001b[39m=\u001b[39m \u001b[39mgetattr\u001b[39m(handler, meth_name)\n\u001b[1;32m--> <a href='file:///c%3A/Users/akshi/anaconda3/envs/indicwiki/lib/urllib/request.py?line=493'>494</a>\u001b[0m     result \u001b[39m=\u001b[39m func(\u001b[39m*\u001b[39;49margs)\n\u001b[0;32m    <a href='file:///c%3A/Users/akshi/anaconda3/envs/indicwiki/lib/urllib/request.py?line=494'>495</a>\u001b[0m     \u001b[39mif\u001b[39;00m result \u001b[39mis\u001b[39;00m \u001b[39mnot\u001b[39;00m \u001b[39mNone\u001b[39;00m:\n\u001b[0;32m    <a href='file:///c%3A/Users/akshi/anaconda3/envs/indicwiki/lib/urllib/request.py?line=495'>496</a>\u001b[0m         \u001b[39mreturn\u001b[39;00m result\n",
      "File \u001b[1;32m~\\anaconda3\\envs\\indicwiki\\lib\\urllib\\request.py:747\u001b[0m, in \u001b[0;36mHTTPRedirectHandler.http_error_302\u001b[1;34m(self, req, fp, code, msg, headers)\u001b[0m\n\u001b[0;32m    <a href='file:///c%3A/Users/akshi/anaconda3/envs/indicwiki/lib/urllib/request.py?line=743'>744</a>\u001b[0m fp\u001b[39m.\u001b[39mread()\n\u001b[0;32m    <a href='file:///c%3A/Users/akshi/anaconda3/envs/indicwiki/lib/urllib/request.py?line=744'>745</a>\u001b[0m fp\u001b[39m.\u001b[39mclose()\n\u001b[1;32m--> <a href='file:///c%3A/Users/akshi/anaconda3/envs/indicwiki/lib/urllib/request.py?line=746'>747</a>\u001b[0m \u001b[39mreturn\u001b[39;00m \u001b[39mself\u001b[39;49m\u001b[39m.\u001b[39;49mparent\u001b[39m.\u001b[39;49mopen(new, timeout\u001b[39m=\u001b[39;49mreq\u001b[39m.\u001b[39;49mtimeout)\n",
      "File \u001b[1;32m~\\anaconda3\\envs\\indicwiki\\lib\\urllib\\request.py:523\u001b[0m, in \u001b[0;36mOpenerDirector.open\u001b[1;34m(self, fullurl, data, timeout)\u001b[0m\n\u001b[0;32m    <a href='file:///c%3A/Users/akshi/anaconda3/envs/indicwiki/lib/urllib/request.py?line=520'>521</a>\u001b[0m \u001b[39mfor\u001b[39;00m processor \u001b[39min\u001b[39;00m \u001b[39mself\u001b[39m\u001b[39m.\u001b[39mprocess_response\u001b[39m.\u001b[39mget(protocol, []):\n\u001b[0;32m    <a href='file:///c%3A/Users/akshi/anaconda3/envs/indicwiki/lib/urllib/request.py?line=521'>522</a>\u001b[0m     meth \u001b[39m=\u001b[39m \u001b[39mgetattr\u001b[39m(processor, meth_name)\n\u001b[1;32m--> <a href='file:///c%3A/Users/akshi/anaconda3/envs/indicwiki/lib/urllib/request.py?line=522'>523</a>\u001b[0m     response \u001b[39m=\u001b[39m meth(req, response)\n\u001b[0;32m    <a href='file:///c%3A/Users/akshi/anaconda3/envs/indicwiki/lib/urllib/request.py?line=524'>525</a>\u001b[0m \u001b[39mreturn\u001b[39;00m response\n",
      "File \u001b[1;32m~\\anaconda3\\envs\\indicwiki\\lib\\urllib\\request.py:632\u001b[0m, in \u001b[0;36mHTTPErrorProcessor.http_response\u001b[1;34m(self, request, response)\u001b[0m\n\u001b[0;32m    <a href='file:///c%3A/Users/akshi/anaconda3/envs/indicwiki/lib/urllib/request.py?line=628'>629</a>\u001b[0m \u001b[39m# According to RFC 2616, \"2xx\" code indicates that the client's\u001b[39;00m\n\u001b[0;32m    <a href='file:///c%3A/Users/akshi/anaconda3/envs/indicwiki/lib/urllib/request.py?line=629'>630</a>\u001b[0m \u001b[39m# request was successfully received, understood, and accepted.\u001b[39;00m\n\u001b[0;32m    <a href='file:///c%3A/Users/akshi/anaconda3/envs/indicwiki/lib/urllib/request.py?line=630'>631</a>\u001b[0m \u001b[39mif\u001b[39;00m \u001b[39mnot\u001b[39;00m (\u001b[39m200\u001b[39m \u001b[39m<\u001b[39m\u001b[39m=\u001b[39m code \u001b[39m<\u001b[39m \u001b[39m300\u001b[39m):\n\u001b[1;32m--> <a href='file:///c%3A/Users/akshi/anaconda3/envs/indicwiki/lib/urllib/request.py?line=631'>632</a>\u001b[0m     response \u001b[39m=\u001b[39m \u001b[39mself\u001b[39;49m\u001b[39m.\u001b[39;49mparent\u001b[39m.\u001b[39;49merror(\n\u001b[0;32m    <a href='file:///c%3A/Users/akshi/anaconda3/envs/indicwiki/lib/urllib/request.py?line=632'>633</a>\u001b[0m         \u001b[39m'\u001b[39;49m\u001b[39mhttp\u001b[39;49m\u001b[39m'\u001b[39;49m, request, response, code, msg, hdrs)\n\u001b[0;32m    <a href='file:///c%3A/Users/akshi/anaconda3/envs/indicwiki/lib/urllib/request.py?line=634'>635</a>\u001b[0m \u001b[39mreturn\u001b[39;00m response\n",
      "File \u001b[1;32m~\\anaconda3\\envs\\indicwiki\\lib\\urllib\\request.py:561\u001b[0m, in \u001b[0;36mOpenerDirector.error\u001b[1;34m(self, proto, *args)\u001b[0m\n\u001b[0;32m    <a href='file:///c%3A/Users/akshi/anaconda3/envs/indicwiki/lib/urllib/request.py?line=558'>559</a>\u001b[0m \u001b[39mif\u001b[39;00m http_err:\n\u001b[0;32m    <a href='file:///c%3A/Users/akshi/anaconda3/envs/indicwiki/lib/urllib/request.py?line=559'>560</a>\u001b[0m     args \u001b[39m=\u001b[39m (\u001b[39mdict\u001b[39m, \u001b[39m'\u001b[39m\u001b[39mdefault\u001b[39m\u001b[39m'\u001b[39m, \u001b[39m'\u001b[39m\u001b[39mhttp_error_default\u001b[39m\u001b[39m'\u001b[39m) \u001b[39m+\u001b[39m orig_args\n\u001b[1;32m--> <a href='file:///c%3A/Users/akshi/anaconda3/envs/indicwiki/lib/urllib/request.py?line=560'>561</a>\u001b[0m     \u001b[39mreturn\u001b[39;00m \u001b[39mself\u001b[39;49m\u001b[39m.\u001b[39;49m_call_chain(\u001b[39m*\u001b[39;49margs)\n",
      "File \u001b[1;32m~\\anaconda3\\envs\\indicwiki\\lib\\urllib\\request.py:494\u001b[0m, in \u001b[0;36mOpenerDirector._call_chain\u001b[1;34m(self, chain, kind, meth_name, *args)\u001b[0m\n\u001b[0;32m    <a href='file:///c%3A/Users/akshi/anaconda3/envs/indicwiki/lib/urllib/request.py?line=491'>492</a>\u001b[0m \u001b[39mfor\u001b[39;00m handler \u001b[39min\u001b[39;00m handlers:\n\u001b[0;32m    <a href='file:///c%3A/Users/akshi/anaconda3/envs/indicwiki/lib/urllib/request.py?line=492'>493</a>\u001b[0m     func \u001b[39m=\u001b[39m \u001b[39mgetattr\u001b[39m(handler, meth_name)\n\u001b[1;32m--> <a href='file:///c%3A/Users/akshi/anaconda3/envs/indicwiki/lib/urllib/request.py?line=493'>494</a>\u001b[0m     result \u001b[39m=\u001b[39m func(\u001b[39m*\u001b[39;49margs)\n\u001b[0;32m    <a href='file:///c%3A/Users/akshi/anaconda3/envs/indicwiki/lib/urllib/request.py?line=494'>495</a>\u001b[0m     \u001b[39mif\u001b[39;00m result \u001b[39mis\u001b[39;00m \u001b[39mnot\u001b[39;00m \u001b[39mNone\u001b[39;00m:\n\u001b[0;32m    <a href='file:///c%3A/Users/akshi/anaconda3/envs/indicwiki/lib/urllib/request.py?line=495'>496</a>\u001b[0m         \u001b[39mreturn\u001b[39;00m result\n",
      "File \u001b[1;32m~\\anaconda3\\envs\\indicwiki\\lib\\urllib\\request.py:641\u001b[0m, in \u001b[0;36mHTTPDefaultErrorHandler.http_error_default\u001b[1;34m(self, req, fp, code, msg, hdrs)\u001b[0m\n\u001b[0;32m    <a href='file:///c%3A/Users/akshi/anaconda3/envs/indicwiki/lib/urllib/request.py?line=639'>640</a>\u001b[0m \u001b[39mdef\u001b[39;00m \u001b[39mhttp_error_default\u001b[39m(\u001b[39mself\u001b[39m, req, fp, code, msg, hdrs):\n\u001b[1;32m--> <a href='file:///c%3A/Users/akshi/anaconda3/envs/indicwiki/lib/urllib/request.py?line=640'>641</a>\u001b[0m     \u001b[39mraise\u001b[39;00m HTTPError(req\u001b[39m.\u001b[39mfull_url, code, msg, hdrs, fp)\n",
      "\u001b[1;31mHTTPError\u001b[0m: HTTP Error 429: Too Many Requests"
     ]
    }
   ],
   "source": [
    "from googlesearch import search\n",
    "query = 'Black-throated parrotbill'\n",
    "result = []\n",
    "no_of_links = 30\n",
    "res = search(query,  tld='com', lang='en', tbs='0', safe='off', num=no_of_links, start=0, stop=no_of_links, pause=2.0,country='', extra_params=None, user_agent=None)\n",
    "for i in res:\n",
    "    result.append(i)\n",
    "len(result)"
   ]
  },
  {
   "cell_type": "code",
   "execution_count": null,
   "id": "aa393d44",
   "metadata": {},
   "outputs": [
    {
     "data": {
      "text/plain": [
       "['https://ebird.org/species/bltpar1',\n",
       " 'https://en.wikipedia.org/wiki/Black-throated_parrotbill',\n",
       " 'https://ebird.org/species/bltpar1?siteLanguage=en_IN',\n",
       " 'https://birdsoftheworld.org/bow/species/bltpar1/cur/introduction',\n",
       " 'https://birdsoftheworld.org/bow/species/bltpar1/cur/introduction#idsum',\n",
       " 'https://birdsoftheworld.org/bow/species/bltpar1/cur/introduction#sys',\n",
       " 'https://birdsoftheworld.org/bow/species/bltpar1/cur/introduction#subsp',\n",
       " 'https://birdsoftheworld.org/bow/species/bltpar1/cur/introduction#food',\n",
       " 'https://xeno-canto.org/species/Suthora-nipalensis',\n",
       " 'https://avibase.bsc-eoc.org/species.jsp?avibaseid=F1ED1492397A0722',\n",
       " 'http://datazone.birdlife.org/species/factsheet/black-throated-parrotbill-suthora-nipalensis',\n",
       " 'https://www.oiseaux.net/birds/black-throated.parrotbill.html',\n",
       " 'https://dibird.com/species/blackthroated-parrotbill/',\n",
       " 'https://biodiversityofwestbengal.wildwingsindia.in/description.php?sname=Suthora%20nipalensis',\n",
       " 'https://www.birdsofindia.org/#!/sp/1674/Suthora-nipalensis',\n",
       " 'https://www.stateofindiasbirds.in/species/bltpar1/',\n",
       " 'https://www.alamy.com/black-throated-parrotbill-suthora-nipalensis-eastern-himalayan-birds-lava-india-image244337953.html',\n",
       " 'https://www.birdguides.com/species-guide/ioc/suthora-nipalensis',\n",
       " 'https://www.natureweb.net/taxa/birds/blackthroatedparrotbill',\n",
       " 'https://www.discoverlife.org/mp/20q?search=Paradoxornis+nipalensis',\n",
       " 'https://animalia.bio/black-throated-parrotbill',\n",
       " 'https://in.pinterest.com/pin/335870084686935343/',\n",
       " 'https://www.researchgate.net/publication/339704309_Black-throated_Parrotbill_Suthora_nipalensis',\n",
       " 'https://www.inaturalist.org/taxa/718959-Suthora-nipalensis-humii',\n",
       " 'https://clementfrancis.com/portfolio/black-throated-parrotbill/',\n",
       " 'https://www.wikidata.org/wiki/Q27075564',\n",
       " 'https://twitter.com/MyGovArunachal/status/1435226631157673984']"
      ]
     },
     "execution_count": 8,
     "metadata": {},
     "output_type": "execute_result"
    }
   ],
   "source": [
    "import re\n",
    "photos = []\n",
    "res_copy = [_ for _ in result]\n",
    "for i in res_copy:\n",
    "    k = (re.findall('.*.jpg$',i), re.findall('.*.png$',i),re.findall('Photo'.lower(),i.lower()))\n",
    "    if any(k):\n",
    "        photos.append(i)\n",
    "        result.remove(i)\n",
    "\n",
    "result\n",
    "    "
   ]
  },
  {
   "cell_type": "code",
   "execution_count": 13,
   "id": "aece5366",
   "metadata": {},
   "outputs": [],
   "source": [
    "from googlesearch import search\n",
    "import re\n",
    "def get_urls_from_google(query,no_of_links):\n",
    "    result = []\n",
    "    res = search(query,  tld='com', lang='en', tbs='0', safe='off', num=no_of_links, start=0, stop=no_of_links, pause=4.0,country='', extra_params=None, user_agent=None)\n",
    "    for i in res:\n",
    "        result.append(i)\n",
    "    photos = []\n",
    "    res_copy = [_ for _ in result]\n",
    "    # return result\n",
    "    for i in res_copy:\n",
    "        k = (re.findall('.*.jpg$',i), re.findall('.*.png$',i),re.findall('Photo'.lower(),i.lower()))\n",
    "        if any(k):\n",
    "            photos.append(i)\n",
    "            result.remove(i)\n",
    "\n",
    "    return result , photos\n",
    "res_links = get_urls_from_google('Black-throated parrotbill',30)"
   ]
  },
  {
   "cell_type": "code",
   "execution_count": 43,
   "id": "2e3f4420",
   "metadata": {},
   "outputs": [
    {
     "name": "stdout",
     "output_type": "stream",
     "text": [
      "[-] Error for bird Abbott's babbler\n",
      "[-] Error for bird Abbott's booby\n",
      "[-] Error for bird Abbott's starling\n",
      "[-] Error for bird Abbott's sunbird\n",
      "[-] Error for bird Abd al-Kuri sparrow\n",
      "[-] Error for bird Abdim's stork\n",
      "[-] Error for bird Aberdare cisticola\n",
      "[-] Error for bird Aberrant bush warbler\n",
      "[-] Error for bird Abert's towhee\n",
      "[-] Error for bird Abyssinian catbird\n",
      "[-] Error for bird Abyssinian crimsonwing\n",
      "[-] Error for bird Abyssinian ground hornbill\n",
      "[-] Error for bird Abyssinian ground thrush\n",
      "[-] Error for bird Abyssinian longclaw\n",
      "[-] Error for bird Abyssinian owl\n",
      "[-] Error for bird Abyssinian roller\n",
      "[-] Error for bird Abyssinian scimitarbill\n"
     ]
    },
    {
     "ename": "KeyboardInterrupt",
     "evalue": "",
     "output_type": "error",
     "traceback": [
      "\u001b[1;31m---------------------------------------------------------------------------\u001b[0m",
      "\u001b[1;31mKeyboardInterrupt\u001b[0m                         Traceback (most recent call last)",
      "\u001b[1;32mc:\\Users\\LEGION\\Documents\\birds\\Scraping4birds.ipynb Cell 11'\u001b[0m in \u001b[0;36m<cell line: 7>\u001b[1;34m()\u001b[0m\n\u001b[0;32m      <a href='vscode-notebook-cell:/c%3A/Users/LEGION/Documents/birds/Scraping4birds.ipynb#ch0000010?line=6'>7</a>\u001b[0m \u001b[39mfor\u001b[39;00m i \u001b[39min\u001b[39;00m list_of_bird_names:\n\u001b[0;32m      <a href='vscode-notebook-cell:/c%3A/Users/LEGION/Documents/birds/Scraping4birds.ipynb#ch0000010?line=7'>8</a>\u001b[0m     \u001b[39mtry\u001b[39;00m:\n\u001b[1;32m----> <a href='vscode-notebook-cell:/c%3A/Users/LEGION/Documents/birds/Scraping4birds.ipynb#ch0000010?line=8'>9</a>\u001b[0m         res_for_bird ,res_for_pic \u001b[39m=\u001b[39m get_urls_from_google(i,Search_upto)\n\u001b[0;32m     <a href='vscode-notebook-cell:/c%3A/Users/LEGION/Documents/birds/Scraping4birds.ipynb#ch0000010?line=9'>10</a>\u001b[0m         \u001b[39m# print(res_for_bird,res_for_pic)\u001b[39;00m\n\u001b[0;32m     <a href='vscode-notebook-cell:/c%3A/Users/LEGION/Documents/birds/Scraping4birds.ipynb#ch0000010?line=10'>11</a>\u001b[0m         Birds_dict[i] \u001b[39m=\u001b[39m(res_for_bird\u001b[39m.\u001b[39mjoin(\u001b[39m'\u001b[39m\u001b[39m;\u001b[39m\u001b[39m'\u001b[39m) , res_for_pic\u001b[39m.\u001b[39mjoin(\u001b[39m'\u001b[39m\u001b[39m;\u001b[39m\u001b[39m'\u001b[39m))\n",
      "\u001b[1;32mc:\\Users\\LEGION\\Documents\\birds\\Scraping4birds.ipynb Cell 10'\u001b[0m in \u001b[0;36mget_urls_from_google\u001b[1;34m(query, no_of_links)\u001b[0m\n\u001b[0;32m      <a href='vscode-notebook-cell:/c%3A/Users/LEGION/Documents/birds/Scraping4birds.ipynb#ch0000009?line=3'>4</a>\u001b[0m result \u001b[39m=\u001b[39m []\n\u001b[0;32m      <a href='vscode-notebook-cell:/c%3A/Users/LEGION/Documents/birds/Scraping4birds.ipynb#ch0000009?line=4'>5</a>\u001b[0m res \u001b[39m=\u001b[39m search(query,  tld\u001b[39m=\u001b[39m\u001b[39m'\u001b[39m\u001b[39mcom\u001b[39m\u001b[39m'\u001b[39m, lang\u001b[39m=\u001b[39m\u001b[39m'\u001b[39m\u001b[39men\u001b[39m\u001b[39m'\u001b[39m, tbs\u001b[39m=\u001b[39m\u001b[39m'\u001b[39m\u001b[39m0\u001b[39m\u001b[39m'\u001b[39m, safe\u001b[39m=\u001b[39m\u001b[39m'\u001b[39m\u001b[39moff\u001b[39m\u001b[39m'\u001b[39m, num\u001b[39m=\u001b[39mno_of_links, start\u001b[39m=\u001b[39m\u001b[39m0\u001b[39m, stop\u001b[39m=\u001b[39mno_of_links, pause\u001b[39m=\u001b[39m\u001b[39m4.0\u001b[39m,country\u001b[39m=\u001b[39m\u001b[39m'\u001b[39m\u001b[39m'\u001b[39m, extra_params\u001b[39m=\u001b[39m\u001b[39mNone\u001b[39;00m, user_agent\u001b[39m=\u001b[39m\u001b[39mNone\u001b[39;00m)\n\u001b[1;32m----> <a href='vscode-notebook-cell:/c%3A/Users/LEGION/Documents/birds/Scraping4birds.ipynb#ch0000009?line=5'>6</a>\u001b[0m \u001b[39mfor\u001b[39;00m i \u001b[39min\u001b[39;00m res:\n\u001b[0;32m      <a href='vscode-notebook-cell:/c%3A/Users/LEGION/Documents/birds/Scraping4birds.ipynb#ch0000009?line=6'>7</a>\u001b[0m     result\u001b[39m.\u001b[39mappend(i)\n\u001b[0;32m      <a href='vscode-notebook-cell:/c%3A/Users/LEGION/Documents/birds/Scraping4birds.ipynb#ch0000009?line=7'>8</a>\u001b[0m photos \u001b[39m=\u001b[39m []\n",
      "File \u001b[1;32m~\\anaconda3\\envs\\indicwiki\\lib\\site-packages\\googlesearch\\__init__.py:302\u001b[0m, in \u001b[0;36msearch\u001b[1;34m(query, tld, lang, tbs, safe, num, start, stop, pause, country, extra_params, user_agent, verify_ssl)\u001b[0m\n\u001b[0;32m    <a href='file:///c%3A/Users/LEGION/anaconda3/envs/indicwiki/lib/site-packages/googlesearch/__init__.py?line=297'>298</a>\u001b[0m     url \u001b[39m=\u001b[39m url \u001b[39m+\u001b[39m (\u001b[39m'\u001b[39m\u001b[39m&\u001b[39m\u001b[39m%s\u001b[39;00m\u001b[39m=\u001b[39m\u001b[39m%s\u001b[39;00m\u001b[39m'\u001b[39m \u001b[39m%\u001b[39m (k, v))\n\u001b[0;32m    <a href='file:///c%3A/Users/LEGION/anaconda3/envs/indicwiki/lib/site-packages/googlesearch/__init__.py?line=299'>300</a>\u001b[0m \u001b[39m# Sleep between requests.\u001b[39;00m\n\u001b[0;32m    <a href='file:///c%3A/Users/LEGION/anaconda3/envs/indicwiki/lib/site-packages/googlesearch/__init__.py?line=300'>301</a>\u001b[0m \u001b[39m# Keeps Google from banning you for making too many requests.\u001b[39;00m\n\u001b[1;32m--> <a href='file:///c%3A/Users/LEGION/anaconda3/envs/indicwiki/lib/site-packages/googlesearch/__init__.py?line=301'>302</a>\u001b[0m time\u001b[39m.\u001b[39;49msleep(pause)\n\u001b[0;32m    <a href='file:///c%3A/Users/LEGION/anaconda3/envs/indicwiki/lib/site-packages/googlesearch/__init__.py?line=303'>304</a>\u001b[0m \u001b[39m# Request the Google Search results page.\u001b[39;00m\n\u001b[0;32m    <a href='file:///c%3A/Users/LEGION/anaconda3/envs/indicwiki/lib/site-packages/googlesearch/__init__.py?line=304'>305</a>\u001b[0m html \u001b[39m=\u001b[39m get_page(url, user_agent, verify_ssl)\n",
      "\u001b[1;31mKeyboardInterrupt\u001b[0m: "
     ]
    }
   ],
   "source": [
    "\n",
    "# FAILING due to too many requests , HTTPError 439 \n",
    "import time\n",
    "Search_upto = 3\n",
    "Birds_dict = {}\n",
    "# list_of_urls_links = []\n",
    "# list_of_urls_pics = []\n",
    "for i in list_of_bird_names:\n",
    "    try:\n",
    "        res_for_bird ,res_for_pic = get_urls_from_google(i,Search_upto)\n",
    "        # print(res_for_bird,res_for_pic)\n",
    "        Birds_dict[i] =(res_for_bird.join(';') , res_for_pic.join(';'))\n",
    "        # list_of_urls_links.append()\n",
    "        # list_of_urls_pics.append()\n",
    "        # print(len(list_of_urls_links))\n",
    "        print('[+] Got links for',i)\n",
    "        time.sleep(2)\n",
    "    except Exception:\n",
    "        print('[-] Error for bird',i)\n",
    "#(list_of_urls_links,list_of_urls_links)\n"
   ]
  },
  {
   "cell_type": "code",
   "execution_count": null,
   "id": "14af1448",
   "metadata": {},
   "outputs": [],
   "source": [
    "# types_of_birds_df = types_of_birds_df.assign(Links=list_of_urls_links)\n",
    "# types_of_birds_df = types_of_birds_df.assign(PicsLinks=list_of_urls_pics)\n",
    "# types_of_birds_df.head(9)"
   ]
  },
  {
   "cell_type": "code",
   "execution_count": null,
   "id": "4204a625",
   "metadata": {},
   "outputs": [
    {
     "data": {
      "text/plain": [
       "{'animalia.bio',\n",
       " 'avibase.bsc-eoc.org',\n",
       " 'biodiversityofwestbengal.wildwingsindia.in',\n",
       " 'birdsoftheworld.org',\n",
       " 'clementfrancis.com',\n",
       " 'datazone.birdlife.org',\n",
       " 'dibird.com',\n",
       " 'ebird.org',\n",
       " 'en.wikipedia.org',\n",
       " 'in.pinterest.com',\n",
       " 'twitter.com',\n",
       " 'www.alamy.com',\n",
       " 'www.birdguides.com',\n",
       " 'www.birdsofindia.org',\n",
       " 'www.discoverlife.org',\n",
       " 'www.inaturalist.org',\n",
       " 'www.natureweb.net',\n",
       " 'www.oiseaux.net',\n",
       " 'www.researchgate.net',\n",
       " 'www.stateofindiasbirds.in',\n",
       " 'www.wikidata.org',\n",
       " 'xeno-canto.org'}"
      ]
     },
     "execution_count": 33,
     "metadata": {},
     "output_type": "execute_result"
    }
   ],
   "source": [
    "import re\n",
    "doms = []\n",
    "for j in res_links[0]:\n",
    "    doms.append(j.split('/')[2])\n",
    "unq_dom = set(doms)\n",
    "unq_dom"
   ]
  },
  {
   "cell_type": "code",
   "execution_count": null,
   "id": "2fd663ff",
   "metadata": {},
   "outputs": [
    {
     "data": {
      "text/plain": [
       "'www.birdguides.com;xeno-canto.org;in.pinterest.com;biodiversityofwestbengal.wildwingsindia.in;www.oiseaux.net;twitter.com;www.wikidata.org;www.researchgate.net;en.wikipedia.org;ebird.org;www.natureweb.net;www.birdsofindia.org;www.inaturalist.org;clementfrancis.com;www.stateofindiasbirds.in;www.alamy.com;datazone.birdlife.org;www.discoverlife.org;animalia.bio;birdsoftheworld.org;dibird.com;avibase.bsc-eoc.org;'"
      ]
     },
     "execution_count": 38,
     "metadata": {},
     "output_type": "execute_result"
    }
   ],
   "source": [
    "import re\n",
    "def get_unique_domains(res_links):\n",
    "    doms = []\n",
    "    for i in res_links[0]:\n",
    "        doms.append((i.split('/')[2] + ';'))\n",
    "    return ''.join(list(set(doms)))\n",
    "get_unique_domains(res_links)"
   ]
  },
  {
   "cell_type": "code",
   "execution_count": null,
   "id": "25e6529d",
   "metadata": {},
   "outputs": [],
   "source": [
    "types_of_birds_df.to_csv(\"./assets/BirdsClassification.csv\")"
   ]
  },
  {
   "cell_type": "code",
   "execution_count": 15,
   "id": "eaec1ade",
   "metadata": {},
   "outputs": [
    {
     "name": "stdout",
     "output_type": "stream",
     "text": [
      "Abbott's babbler\n",
      "['https://en.wikipedia.org/wiki/Abbott%27s_babbler', \"https://en.wikipedia.org/wiki/Abbott's_babbler\", 'https://ebird.org/species/abbbab1']\n",
      "Abbott's booby\n",
      "['https://en.wikipedia.org/wiki/Abbott%27s_booby', \"https://en.wikipedia.org/wiki/Abbott's_booby\", 'https://en.wikipedia.org/wiki/Abbott%27s_booby#Description']\n",
      "Abbott's starling\n",
      "['https://ebird.org/species/abbsta2', \"https://en.wikipedia.org/wiki/Abbott's_starling\", 'https://en.wikipedia.org/wiki/Abbott%27s_starling']\n"
     ]
    },
    {
     "ename": "KeyboardInterrupt",
     "evalue": "",
     "output_type": "error",
     "traceback": [
      "\u001b[1;31m---------------------------------------------------------------------------\u001b[0m",
      "\u001b[1;31mKeyboardInterrupt\u001b[0m                         Traceback (most recent call last)",
      "\u001b[1;32md:\\Internships\\IndicWiki IIITH\\birds repo\\birds\\Scraping4birds.ipynb Cell 16'\u001b[0m in \u001b[0;36m<cell line: 2>\u001b[1;34m()\u001b[0m\n\u001b[0;32m      <a href='vscode-notebook-cell:/d%3A/Internships/IndicWiki%20IIITH/birds%20repo/birds/Scraping4birds.ipynb#ch0000015?line=4'>5</a>\u001b[0m no_of_links \u001b[39m=\u001b[39m \u001b[39m3\u001b[39m\n\u001b[0;32m      <a href='vscode-notebook-cell:/d%3A/Internships/IndicWiki%20IIITH/birds%20repo/birds/Scraping4birds.ipynb#ch0000015?line=5'>6</a>\u001b[0m res \u001b[39m=\u001b[39m search(query,  tld\u001b[39m=\u001b[39m\u001b[39m'\u001b[39m\u001b[39mcom\u001b[39m\u001b[39m'\u001b[39m, lang\u001b[39m=\u001b[39m\u001b[39m'\u001b[39m\u001b[39men\u001b[39m\u001b[39m'\u001b[39m, tbs\u001b[39m=\u001b[39m\u001b[39m'\u001b[39m\u001b[39m0\u001b[39m\u001b[39m'\u001b[39m, safe\u001b[39m=\u001b[39m\u001b[39m'\u001b[39m\u001b[39moff\u001b[39m\u001b[39m'\u001b[39m, num\u001b[39m=\u001b[39mno_of_links, start\u001b[39m=\u001b[39m\u001b[39m0\u001b[39m, stop\u001b[39m=\u001b[39mno_of_links, pause\u001b[39m=\u001b[39m\u001b[39m2.0\u001b[39m,country\u001b[39m=\u001b[39m\u001b[39m'\u001b[39m\u001b[39m'\u001b[39m, extra_params\u001b[39m=\u001b[39m\u001b[39mNone\u001b[39;00m, user_agent\u001b[39m=\u001b[39m\u001b[39mNone\u001b[39;00m)\n\u001b[1;32m----> <a href='vscode-notebook-cell:/d%3A/Internships/IndicWiki%20IIITH/birds%20repo/birds/Scraping4birds.ipynb#ch0000015?line=6'>7</a>\u001b[0m \u001b[39mfor\u001b[39;00m k \u001b[39min\u001b[39;00m res:\n\u001b[0;32m      <a href='vscode-notebook-cell:/d%3A/Internships/IndicWiki%20IIITH/birds%20repo/birds/Scraping4birds.ipynb#ch0000015?line=7'>8</a>\u001b[0m     result\u001b[39m.\u001b[39mappend(k)\n\u001b[0;32m      <a href='vscode-notebook-cell:/d%3A/Internships/IndicWiki%20IIITH/birds%20repo/birds/Scraping4birds.ipynb#ch0000015?line=8'>9</a>\u001b[0m \u001b[39mprint\u001b[39m(i)\n",
      "File \u001b[1;32m~\\anaconda3\\envs\\indicwiki\\lib\\site-packages\\googlesearch\\__init__.py:302\u001b[0m, in \u001b[0;36msearch\u001b[1;34m(query, tld, lang, tbs, safe, num, start, stop, pause, country, extra_params, user_agent, verify_ssl)\u001b[0m\n\u001b[0;32m    <a href='file:///c%3A/Users/akshi/anaconda3/envs/indicwiki/lib/site-packages/googlesearch/__init__.py?line=297'>298</a>\u001b[0m     url \u001b[39m=\u001b[39m url \u001b[39m+\u001b[39m (\u001b[39m'\u001b[39m\u001b[39m&\u001b[39m\u001b[39m%s\u001b[39;00m\u001b[39m=\u001b[39m\u001b[39m%s\u001b[39;00m\u001b[39m'\u001b[39m \u001b[39m%\u001b[39m (k, v))\n\u001b[0;32m    <a href='file:///c%3A/Users/akshi/anaconda3/envs/indicwiki/lib/site-packages/googlesearch/__init__.py?line=299'>300</a>\u001b[0m \u001b[39m# Sleep between requests.\u001b[39;00m\n\u001b[0;32m    <a href='file:///c%3A/Users/akshi/anaconda3/envs/indicwiki/lib/site-packages/googlesearch/__init__.py?line=300'>301</a>\u001b[0m \u001b[39m# Keeps Google from banning you for making too many requests.\u001b[39;00m\n\u001b[1;32m--> <a href='file:///c%3A/Users/akshi/anaconda3/envs/indicwiki/lib/site-packages/googlesearch/__init__.py?line=301'>302</a>\u001b[0m time\u001b[39m.\u001b[39;49msleep(pause)\n\u001b[0;32m    <a href='file:///c%3A/Users/akshi/anaconda3/envs/indicwiki/lib/site-packages/googlesearch/__init__.py?line=303'>304</a>\u001b[0m \u001b[39m# Request the Google Search results page.\u001b[39;00m\n\u001b[0;32m    <a href='file:///c%3A/Users/akshi/anaconda3/envs/indicwiki/lib/site-packages/googlesearch/__init__.py?line=304'>305</a>\u001b[0m html \u001b[39m=\u001b[39m get_page(url, user_agent, verify_ssl)\n",
      "\u001b[1;31mKeyboardInterrupt\u001b[0m: "
     ]
    }
   ],
   "source": [
    "from googlesearch import search\n",
    "for i in list_of_bird_names:\n",
    "    query = i\n",
    "    result = []\n",
    "    no_of_links = 3\n",
    "    res = search(query,  tld='com', lang='en', tbs='0', safe='off', num=no_of_links, start=0, stop=no_of_links, pause=2.0,country='', extra_params=None, user_agent=None)\n",
    "    for k in res:\n",
    "        result.append(k)\n",
    "    print(i)\n",
    "    print(result)"
   ]
  },
  {
   "cell_type": "code",
   "execution_count": 11,
   "id": "b63eebb6",
   "metadata": {},
   "outputs": [],
   "source": [
    "import requests\n",
    "from bs4 import BeautifulSoup\n",
    "URL = \"https://eol.org/pages/695\"\n",
    "def scrape(URL):\n",
    "    page = requests.get(URL)\n",
    "    soup = BeautifulSoup(page.content, \"html.parser\")\n",
    "    results = soup.find_all(\"div\",class_=\"sample-trait-val\")\n",
    "    keys = soup.find_all(\"div\",class_=\"sample-trait-key\")\n",
    "    for i,j in zip(results,keys):\n",
    "        print(j.get_text(),\"-\",end=\" \")\n",
    "        print(i.get_text())\n",
    "        print()\n"
   ]
  },
  {
   "cell_type": "code",
   "execution_count": 10,
   "id": "5684eab2",
   "metadata": {},
   "outputs": [
    {
     "name": "stdout",
     "output_type": "stream",
     "text": [
      "auditory system - tympanic middle ear\n",
      "\n",
      "known marine species - 641\n",
      "\n",
      "ecomorphological guild - nectonic\n",
      "\n",
      "first appearance - bathonian age\n",
      "\n",
      "geographic distribution includes - Mozambique\n",
      "\n",
      "habitat - terrestrial\n",
      "\n",
      "locomotion - flight\n",
      "\n",
      "number of fossil occurrences - 15310\n",
      "\n",
      "trophic level - carnivore\n",
      "\n",
      "type specimen repository - Staatliches Museum fuer Naturkund Stuttgart\n",
      "\n",
      "undescribed marine species present in museum collections - 30\n",
      "\n",
      "visual system - corneal eyes\n",
      "\n"
     ]
    }
   ],
   "source": []
  },
  {
   "cell_type": "code",
   "execution_count": null,
   "id": "70e65fa4",
   "metadata": {},
   "outputs": [],
   "source": []
  }
 ],
 "metadata": {
  "kernelspec": {
   "display_name": "Akwiki",
   "language": "python",
   "name": "indicwiki"
  },
  "language_info": {
   "codemirror_mode": {
    "name": "ipython",
    "version": 3
   },
   "file_extension": ".py",
   "mimetype": "text/x-python",
   "name": "python",
   "nbconvert_exporter": "python",
   "pygments_lexer": "ipython3",
   "version": "3.9.7"
  }
 },
 "nbformat": 4,
 "nbformat_minor": 5
}
