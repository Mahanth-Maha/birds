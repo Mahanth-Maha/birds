{
 "cells": [
  {
   "cell_type": "markdown",
   "id": "0da0b336",
   "metadata": {},
   "source": [
    "# Scraping about Birds\n",
    "\n",
    "## About Birds classification\n",
    "\n",
    "getting all the types of birds"
   ]
  },
  {
   "cell_type": "code",
   "execution_count": null,
   "id": "ee1e53bc",
   "metadata": {},
   "outputs": [],
   "source": [
    "#!pip install beautifulsoup4\n",
    "#!pip install selenium\n",
    "#!pip install scrapy"
   ]
  },
  {
   "cell_type": "code",
   "execution_count": null,
   "id": "e74f740a",
   "metadata": {},
   "outputs": [],
   "source": [
    "from bs4 import BeautifulSoup\n",
    "from selenium import webdriver\n",
    "import scrapy\n",
    "import pandas as pd"
   ]
  },
  {
   "cell_type": "code",
   "execution_count": null,
   "id": "eadafb2e",
   "metadata": {},
   "outputs": [],
   "source": [
    "types_of_birds_df = pd.read_csv('assets/birds.csv',index_col='ID')\n",
    "types_of_birds_df.head(4)"
   ]
  },
  {
   "cell_type": "code",
   "execution_count": null,
   "id": "f8596127",
   "metadata": {},
   "outputs": [],
   "source": [
    "list_of_bird_names = [ types_of_birds_df.loc[ _ ,'Common Bird Names'] for _ in range(1,types_of_birds_df.shape[0]) ]\n",
    "print(list_of_bird_names[444:455])\n",
    "print(len(list_of_bird_names))"
   ]
  },
  {
   "cell_type": "code",
   "execution_count": null,
   "id": "a6689fb7",
   "metadata": {},
   "outputs": [],
   "source": [
    "#testing for parrots [checking if we got all data or not]\n",
    "import re\n",
    "parrot = []\n",
    "for _ in list_of_bird_names:\n",
    "    k = re.findall('parrot',_)\n",
    "    if k:\n",
    "        parrot.append(_)\n",
    "print(len(parrot))\n",
    "parrot[:10]"
   ]
  },
  {
   "cell_type": "code",
   "execution_count": null,
   "id": "02e203d4",
   "metadata": {},
   "outputs": [],
   "source": [
    "# !pip install google"
   ]
  },
  {
   "cell_type": "code",
   "execution_count": null,
   "id": "a05f384f",
   "metadata": {},
   "outputs": [],
   "source": [
    "from googlesearch import search\n",
    "query = 'Black-throated parrotbill'\n",
    "result = []\n",
    "no_of_links = 30\n",
    "res = search(query,  tld='com', lang='en', tbs='0', safe='off', num=no_of_links, start=0, stop=no_of_links, pause=2.0,country='', extra_params=None, user_agent=None)\n",
    "for i in res:\n",
    "    result.append(i)\n",
    "len(result)"
   ]
  },
  {
   "cell_type": "code",
   "execution_count": null,
   "id": "aa393d44",
   "metadata": {},
   "outputs": [],
   "source": [
    "import re\n",
    "photos = []\n",
    "res_copy = [_ for _ in result]\n",
    "for i in res_copy:\n",
    "    k = (re.findall('.*.jpg$',i), re.findall('.*.png$',i),re.findall('Photo'.lower(),i.lower()))\n",
    "    if any(k):\n",
    "        photos.append(i)\n",
    "        result.remove(i)\n",
    "\n",
    "result\n",
    "    "
   ]
  },
  {
   "cell_type": "code",
   "execution_count": null,
   "id": "aece5366",
   "metadata": {},
   "outputs": [],
   "source": [
    "from googlesearch import search\n",
    "import re\n",
    "def get_urls_from_google(query,no_of_links):\n",
    "    result = []\n",
    "    res = search(query,  tld='com', lang='en', tbs='0', safe='off', num=no_of_links, start=0, stop=no_of_links, pause=4.0,country='', extra_params=None, user_agent=None)\n",
    "    for i in res:\n",
    "        result.append(i)\n",
    "    photos = []\n",
    "    res_copy = [_ for _ in result]\n",
    "    # return result\n",
    "    for i in res_copy:\n",
    "        k = (re.findall('.*.jpg$',i), re.findall('.*.png$',i),re.findall('Photo'.lower(),i.lower()))\n",
    "        if any(k):\n",
    "            photos.append(i)\n",
    "            result.remove(i)\n",
    "\n",
    "    return result , photos\n",
    "get_urls_from_google('Black-throated parrotbill',30)"
   ]
  },
  {
   "cell_type": "code",
   "execution_count": null,
   "id": "2e3f4420",
   "metadata": {},
   "outputs": [],
   "source": [
    "'''\n",
    "# FAILING due to too many requests , HTTPError 439 \n",
    "\n",
    "Search_upto = 30\n",
    "\n",
    "list_of_urls_links = []\n",
    "list_of_urls_pics = []\n",
    "for i in list_of_bird_names:\n",
    "    try:\n",
    "        res_for_bird ,res_for_pic = get_urls_from_google(i,Search_upto)\n",
    "        print(res_for_bird,res_for_pic)\n",
    "        list_of_urls_links.append(res_for_bird.join(';'))\n",
    "        list_of_urls_pics.append(res_for_pic.join(';'))\n",
    "        print(len(list_of_urls_links))\n",
    "    except Exception:\n",
    "        print('Error for bird',i)\n",
    "(list_of_urls_links,list_of_urls_links)\n",
    "'''"
   ]
  },
  {
   "cell_type": "code",
   "execution_count": null,
   "id": "14af1448",
   "metadata": {},
   "outputs": [],
   "source": [
    "# types_of_birds_df = types_of_birds_df.assign(Links=list_of_urls_links)\n",
    "# types_of_birds_df = types_of_birds_df.assign(PicsLinks=list_of_urls_pics)\n",
    "# types_of_birds_df.head(9)"
   ]
  }
 ],
 "metadata": {
  "kernelspec": {
   "display_name": "TeWiki",
   "language": "python",
   "name": "indicwiki"
  },
  "language_info": {
   "codemirror_mode": {
    "name": "ipython",
    "version": 3
   },
   "file_extension": ".py",
   "mimetype": "text/x-python",
   "name": "python",
   "nbconvert_exporter": "python",
   "pygments_lexer": "ipython3",
   "version": "3.9.7"
  }
 },
 "nbformat": 4,
 "nbformat_minor": 5
}
