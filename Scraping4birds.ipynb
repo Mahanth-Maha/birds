{
 "cells": [
  {
   "cell_type": "markdown",
   "id": "0da0b336",
   "metadata": {},
   "source": [
    "# Scraping about Birds\n",
    "\n",
    "## About Birds classification\n",
    "\n",
    "getting all the types of birds"
   ]
  },
  {
   "cell_type": "code",
   "execution_count": null,
   "id": "ee1e53bc",
   "metadata": {},
   "outputs": [],
   "source": [
    "#!pip install beautifulsoup4\n",
    "#!pip install selenium\n",
    "#!pip install scrapy"
   ]
  },
  {
   "cell_type": "code",
   "execution_count": null,
   "id": "e74f740a",
   "metadata": {},
   "outputs": [],
   "source": [
    "from bs4 import BeautifulSoup\n",
    "from selenium import webdriver\n",
    "import scrapy\n",
    "import pandas as pd"
   ]
  },
  {
   "cell_type": "code",
   "execution_count": null,
   "id": "eadafb2e",
   "metadata": {},
   "outputs": [],
   "source": [
    "df = pd.read_csv('assets/birds.csv',index_col='ID')\n",
    "df.head(4)"
   ]
  },
  {
   "cell_type": "code",
   "execution_count": null,
   "id": "f8596127",
   "metadata": {},
   "outputs": [],
   "source": [
    "list_of_bird_names = [ df.loc[ _ ,'Common Bird Names'] for _ in range(1,df.shape[0]) ]\n",
    "print(list_of_bird_names[444:455])\n",
    "print(len(list_of_bird_names))"
   ]
  },
  {
   "cell_type": "code",
   "execution_count": null,
   "id": "a6689fb7",
   "metadata": {},
   "outputs": [],
   "source": [
    "#testing for parrots [checking if we got all data or not]\n",
    "import re\n",
    "parrot = []\n",
    "for _ in list_of_bird_names:\n",
    "    k = re.findall('parrot',_)\n",
    "    if k:\n",
    "        parrot.append(_)\n",
    "print(len(parrot))\n",
    "parrot[:10]"
   ]
  },
  {
   "cell_type": "code",
   "execution_count": 12,
   "id": "02e203d4",
   "metadata": {},
   "outputs": [
    {
     "name": "stdout",
     "output_type": "stream",
     "text": [
      "Requirement already satisfied: google in c:\\users\\legion\\anaconda3\\envs\\indicwiki\\lib\\site-packages (3.0.0)\n",
      "Requirement already satisfied: beautifulsoup4 in c:\\users\\legion\\anaconda3\\envs\\indicwiki\\lib\\site-packages (from google) (4.10.0)\n",
      "Requirement already satisfied: soupsieve>1.2 in c:\\users\\legion\\anaconda3\\envs\\indicwiki\\lib\\site-packages (from beautifulsoup4->google) (2.3.1)\n"
     ]
    }
   ],
   "source": [
    "# !pip install google"
   ]
  },
  {
   "cell_type": "code",
   "execution_count": 23,
   "id": "a05f384f",
   "metadata": {},
   "outputs": [
    {
     "data": {
      "text/plain": [
       "30"
      ]
     },
     "execution_count": 23,
     "metadata": {},
     "output_type": "execute_result"
    }
   ],
   "source": [
    "from googlesearch import search\n",
    "query = 'Black-throated parrotbill'\n",
    "result = []\n",
    "no_of_links = 30\n",
    "res = search(query,  tld='com', lang='en', tbs='0', safe='off', num=no_of_links, start=0, stop=no_of_links, pause=2.0,country='', extra_params=None, user_agent=None)\n",
    "for i in res:\n",
    "    result.append(i)\n",
    "len(result)"
   ]
  },
  {
   "cell_type": "code",
   "execution_count": 30,
   "id": "aa393d44",
   "metadata": {},
   "outputs": [
    {
     "data": {
      "text/plain": [
       "['https://ebird.org/species/bltpar1',\n",
       " 'https://en.wikipedia.org/wiki/Black-throated_parrotbill',\n",
       " 'https://ebird.org/species/bltpar1?siteLanguage=en_IN',\n",
       " 'https://birdsoftheworld.org/bow/species/bltpar1/cur/introduction',\n",
       " 'https://birdsoftheworld.org/bow/species/bltpar1/cur/introduction#idsum',\n",
       " 'https://birdsoftheworld.org/bow/species/bltpar1/cur/introduction#sys',\n",
       " 'https://birdsoftheworld.org/bow/species/bltpar1/cur/introduction#subsp',\n",
       " 'https://birdsoftheworld.org/bow/species/bltpar1/cur/introduction#food',\n",
       " 'https://xeno-canto.org/species/Suthora-nipalensis',\n",
       " 'https://avibase.bsc-eoc.org/species.jsp?avibaseid=F1ED1492397A0722',\n",
       " 'http://datazone.birdlife.org/species/factsheet/black-throated-parrotbill-suthora-nipalensis',\n",
       " 'https://www.oiseaux.net/birds/black-throated.parrotbill.html',\n",
       " 'https://biodiversityofwestbengal.wildwingsindia.in/description.php?sname=Suthora%20nipalensis',\n",
       " 'https://dibird.com/species/blackthroated-parrotbill/',\n",
       " 'https://www.birdsofindia.org/#!/sp/1674/Suthora-nipalensis',\n",
       " 'https://www.stateofindiasbirds.in/species/bltpar1/',\n",
       " 'https://www.natureweb.net/taxa/birds/blackthroatedparrotbill',\n",
       " 'https://www.birdguides.com/species-guide/ioc/suthora-nipalensis',\n",
       " 'https://www.discoverlife.org/mp/20q?search=Paradoxornis+nipalensis',\n",
       " 'https://animalia.bio/black-throated-parrotbill',\n",
       " 'https://in.pinterest.com/pin/335870084686935343/',\n",
       " 'https://clementfrancis.com/portfolio/black-throated-parrotbill/',\n",
       " 'https://www.inaturalist.org/taxa/718959-Suthora-nipalensis-humii',\n",
       " 'https://www.wikidata.org/wiki/Q27075564',\n",
       " 'https://www.researchgate.net/publication/339704309_Black-throated_Parrotbill_Suthora_nipalensis',\n",
       " 'https://www.itis.gov/servlet/SingleRpt/SingleRpt?search_topic=TSN&search_value=915931',\n",
       " 'https://thewebsiteofeverything.com/animals/birds/Passeriformes/Timaliidae/Paradoxornis-nipalensis']"
      ]
     },
     "execution_count": 30,
     "metadata": {},
     "output_type": "execute_result"
    }
   ],
   "source": [
    "import re\n",
    "photos = []\n",
    "res_copy = [_ for _ in result]\n",
    "for i in res_copy:\n",
    "    k = (re.findall('.*.jpg$',i), re.findall('.*.png$',i),re.findall('Photo'.lower(),i.lower()))\n",
    "    if any(k):\n",
    "        photos.append(i)\n",
    "        result.remove(i)\n",
    "\n",
    "result\n",
    "    "
   ]
  },
  {
   "cell_type": "code",
   "execution_count": null,
   "id": "2e3f4420",
   "metadata": {},
   "outputs": [],
   "source": []
  }
 ],
 "metadata": {
  "kernelspec": {
   "display_name": "TeWiki",
   "language": "python",
   "name": "indicwiki"
  },
  "language_info": {
   "codemirror_mode": {
    "name": "ipython",
    "version": 3
   },
   "file_extension": ".py",
   "mimetype": "text/x-python",
   "name": "python",
   "nbconvert_exporter": "python",
   "pygments_lexer": "ipython3",
   "version": "3.9.7"
  }
 },
 "nbformat": 4,
 "nbformat_minor": 5
}
