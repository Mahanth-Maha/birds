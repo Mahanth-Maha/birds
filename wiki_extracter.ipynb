{
 "cells": [
  {
   "cell_type": "code",
   "execution_count": 1,
   "metadata": {},
   "outputs": [],
   "source": [
    "from tkinter import N\n",
    "from selenium import webdriver\n",
    "from selenium.webdriver.common.keys import Keys\n",
    "from selenium.webdriver.support import expected_conditions as EC\n",
    "from selenium.webdriver.common.by import By\n",
    "from selenium.webdriver.support.wait import WebDriverWait\n",
    "from bs4 import BeautifulSoup\n",
    "import pandas as pd\n",
    "import csv\n",
    "import requests\n",
    "import time\n",
    "from datetime import datetime\n",
    "import logging\n",
    "from timeit import default_timer as timer  \n",
    "import pandas as pd\n",
    "import wikipedia\n",
    "import numpy as np\n",
    "import pycountry\n"
   ]
  },
  {
   "cell_type": "code",
   "execution_count": 2,
   "metadata": {},
   "outputs": [],
   "source": [
    "habitats_list = ['forest', 'forests', 'woods', 'woods', 'woodland', 'woodlands', 'bog', 'bogs', 'fen', 'fens', 'marsh', 'marshes', 'swamp', 'swamps', 'wetland', 'grasslands', 'prairie', 'scrubs','shrubs', 'backyards']\n",
    "def get_conservation_status(df1):\n",
    "    for i in range(0,len(list(df1.index))):\n",
    "        if list(df1.index)[i] == 'Conservation status':\n",
    "            return (list(df1.index)[i+1])\n",
    "    if 'Conservation status' not in list(df1.index):\n",
    "        return np.NaN\n",
    "def get_kingdom(df1):\n",
    "    if 'Kingdom:' in list(df1.index):\n",
    "        return (df1.loc['Kingdom:'][0])\n",
    "    else:\n",
    "        return np.NaN\n",
    "def get_phylum(df1):\n",
    "    if 'Phylum:' in list(df1.index):\n",
    "        return (df1.loc['Phylum:'][0])\n",
    "    else:\n",
    "        return np.NaN\n",
    "def get_class(df1):\n",
    "    if 'Class:' in list(df1.index):\n",
    "        return (df1.loc['Class:'][0])\n",
    "    else:\n",
    "        return np.NaN\n",
    "def get_order(df1):\n",
    "    if 'Order:' in list(df1.index):\n",
    "        return (df1.loc['Order:'][0])\n",
    "    else:\n",
    "        return np.NaN\n",
    "def get_family(df1):\n",
    "    if 'Family:' in list(df1.index):\n",
    "        return (df1.loc['Family:'][0])\n",
    "    else:\n",
    "        return np.NaN\n",
    "def get_genus(df1):\n",
    "    if 'Genus:' in list(df1.index):\n",
    "        return (df1.loc['Genus:'][0])\n",
    "    else:\n",
    "        return np.NaN\n",
    "def get_species(df1):\n",
    "    if 'Species:' in list(df1.index):\n",
    "        return (df1.loc['Species:'][0])\n",
    "    else:\n",
    "        return np.NaN\n",
    "def get_binomial_name(df1):\n",
    "    for i in range(0,len(list(df1.index))):\n",
    "        if list(df1.index)[i] == 'Binomial name':\n",
    "            return(list(df1.index)[i+1])\n",
    "    if 'Binomial name' not in list(df1.index):\n",
    "        return np.NaN\n",
    "def get_synonyms(df1):\n",
    "    for i in range(0,len(list(df1.index))):\n",
    "        if list(df1.index)[i] == 'Synonyms':\n",
    "            return(list(df1.index)[i+1])\n",
    "    if 'Synonyms' not in list(df1.index):\n",
    "        return np.NaN\n",
    "def get_summary(name):\n",
    "    return(wikipedia.summary(name, sentences=2))\n",
    "def get_categories(name):\n",
    "    categories = wikipedia.page(name)\n",
    "    return(categories.categories[0:3])\n",
    "def get_references(name):\n",
    "    refs = wikipedia.page(name)\n",
    "    return(refs.references[0:3])\n",
    "def get_url(name):\n",
    "    url = wikipedia.page(name)\n",
    "    return(url.url)\n",
    "def get_image(name):\n",
    "    image = wikipedia.page(name)\n",
    "    return(image.images[0])\n",
    "def findCountry(data):\n",
    "    countries = sorted([country.name for country in pycountry.countries] , key=lambda x: -len(x))\n",
    "    for country in countries:\n",
    "        if country.lower() in data.lower():\n",
    "            return country\n",
    "    return None\n",
    "def findHabitat(data):\n",
    "    for habitat in habitats_list:\n",
    "        if habitat in data.lower():\n",
    "            return habitat\n",
    "    return None\n",
    "def extract_data(infobox):\n",
    "    df = pd.DataFrame(infobox)\n",
    "    df = df.dropna()\n",
    "    row = [list(df.columns)[0]]\n",
    "    \n",
    "    df = df.set_index(list(df.columns)[0])\n",
    "    \n",
    "    row.append(get_conservation_status(df))\n",
    "    row.append(get_kingdom(df))\n",
    "    row.append(get_phylum(df))\n",
    "    row.append(get_class(df))\n",
    "    row.append(get_order(df))\n",
    "    row.append(get_family(df))\n",
    "    row.append(get_genus(df))\n",
    "    row.append(get_species(df))\n",
    "    row.append(get_binomial_name(df))\n",
    "    row.append(get_synonyms(df))\n",
    "    row.append(get_summary(row[0]))\n",
    "    row.append(get_categories(row[0]))\n",
    "    row.append(get_references(row[0]))\n",
    "    row.append(get_url(row[0]))\n",
    "    row.append(get_image(row[0]))\n",
    "    \n",
    "    birds_length = len(birds)\n",
    "    birds.loc[birds_length] = row"
   ]
  },
  {
   "cell_type": "code",
   "execution_count": 3,
   "metadata": {},
   "outputs": [
    {
     "name": "stderr",
     "output_type": "stream",
     "text": [
      "C:\\Users\\LEGION\\AppData\\Local\\Temp\\ipykernel_24316\\2716060403.py:2: DeprecationWarning: executable_path has been deprecated, please pass in a Service object\n",
      "  driver = webdriver.Chrome('./chromedriver.exe')\n"
     ]
    }
   ],
   "source": [
    "startTime = datetime.now()\n",
    "driver = webdriver.Chrome('./chromedriver.exe')"
   ]
  },
  {
   "cell_type": "code",
   "execution_count": 4,
   "metadata": {},
   "outputs": [],
   "source": [
    "types_of_birds_df = pd.read_csv('assets/wiki_list_to.csv')\n",
    "list_of_bird_names = [ types_of_birds_df.loc[ _ ,'Common Name'] for _ in range(1,types_of_birds_df.shape[0]) ]\n",
    "# f = 1\n",
    "# t = len(list_of_bird_names)\n",
    "# # f = 235\n",
    "# # t = 237\n",
    "# list_of_bird_names = list_of_bird_names[f:t]"
   ]
  },
  {
   "cell_type": "code",
   "execution_count": 5,
   "metadata": {},
   "outputs": [],
   "source": [
    "# bird = 'Arabian scops owl'\n",
    "# driver = webdriver.Chrome('./chromedriver.exe')\n",
    "def get_page_of_bird(bird_name,driver):\n",
    "    wiki = 'https://wikipedia.org/'\n",
    "    driver.get(wiki)\n",
    "    input_wiki = WebDriverWait(driver,5).until(EC.element_to_be_clickable((By.CSS_SELECTOR,\"input[name='search']\")))\n",
    "    input_wiki.send_keys(bird_name)\n",
    "    input_wiki.send_keys(Keys.ENTER)\n",
    "    bird_url = driver.current_url\n",
    "    l = bird_url.lower()\n",
    "    if bird_url != wiki and 'search' not in l :\n",
    "        return bird_url\n",
    "    return None\n",
    "# get_page_of_bird('ashjvcasjh ajhdfbasj',driver)\n"
   ]
  },
  {
   "cell_type": "code",
   "execution_count": 6,
   "metadata": {},
   "outputs": [],
   "source": [
    "birds = pd.DataFrame(columns=['Name','Conservation status','Kingdom','Phylum','Class','Order','Family', 'Genus', 'Species', 'Binomial Name', 'Synonyms', 'Summary', 'Categories', 'References', 'Wiki URL', 'Image'])"
   ]
  },
  {
   "cell_type": "code",
   "execution_count": 7,
   "metadata": {},
   "outputs": [],
   "source": [
    "pages = []\n",
    "for i in list_of_bird_names:\n",
    "    link = get_page_of_bird(i,driver)\n",
    "    if link != None:\n",
    "        pages.append(link)\n",
    "\n",
    "len(pages)"
   ]
  },
  {
   "cell_type": "code",
   "execution_count": null,
   "metadata": {},
   "outputs": [],
   "source": [
    "driver.close()\n",
    "pages_df = pd.DataFrame(pages)\n",
    "pages_df.to_pickle('pages.pkl')"
   ]
  },
  {
   "cell_type": "code",
   "execution_count": null,
   "metadata": {},
   "outputs": [
    {
     "data": {
      "text/html": [
       "<div>\n",
       "<style scoped>\n",
       "    .dataframe tbody tr th:only-of-type {\n",
       "        vertical-align: middle;\n",
       "    }\n",
       "\n",
       "    .dataframe tbody tr th {\n",
       "        vertical-align: top;\n",
       "    }\n",
       "\n",
       "    .dataframe thead th {\n",
       "        text-align: right;\n",
       "    }\n",
       "</style>\n",
       "<table border=\"1\" class=\"dataframe\">\n",
       "  <thead>\n",
       "    <tr style=\"text-align: right;\">\n",
       "      <th></th>\n",
       "      <th>Name</th>\n",
       "      <th>Conservation status</th>\n",
       "      <th>Kingdom</th>\n",
       "      <th>Phylum</th>\n",
       "      <th>Class</th>\n",
       "      <th>Order</th>\n",
       "      <th>Family</th>\n",
       "      <th>Genus</th>\n",
       "      <th>Species</th>\n",
       "      <th>Binomial Name</th>\n",
       "      <th>Synonyms</th>\n",
       "      <th>Summary</th>\n",
       "      <th>Categories</th>\n",
       "      <th>References</th>\n",
       "      <th>Wiki URL</th>\n",
       "      <th>Image</th>\n",
       "    </tr>\n",
       "  </thead>\n",
       "  <tbody>\n",
       "    <tr>\n",
       "      <th>0</th>\n",
       "      <td>Cinnamon weaver</td>\n",
       "      <td>Least Concern (IUCN 3.1)[1]</td>\n",
       "      <td>Animalia</td>\n",
       "      <td>Chordata</td>\n",
       "      <td>Aves</td>\n",
       "      <td>Passeriformes</td>\n",
       "      <td>Ploceidae</td>\n",
       "      <td>Ploceus</td>\n",
       "      <td>P. badius</td>\n",
       "      <td>Ploceus badius(Cassin, 1850)</td>\n",
       "      <td>NaN</td>\n",
       "      <td>The cinnamon weaver (Ploceus badius) is a spec...</td>\n",
       "      <td>[All stub articles, Articles with 'species' mi...</td>\n",
       "      <td>[http://www.hbw.com/species/cinnamon-weaver-pl...</td>\n",
       "      <td>https://en.wikipedia.org/wiki/Cinnamon_weaver</td>\n",
       "      <td>https://upload.wikimedia.org/wikipedia/commons...</td>\n",
       "    </tr>\n",
       "  </tbody>\n",
       "</table>\n",
       "</div>"
      ],
      "text/plain": [
       "              Name          Conservation status   Kingdom    Phylum Class  \\\n",
       "0  Cinnamon weaver  Least Concern (IUCN 3.1)[1]  Animalia  Chordata  Aves   \n",
       "\n",
       "           Order     Family    Genus    Species                 Binomial Name  \\\n",
       "0  Passeriformes  Ploceidae  Ploceus  P. badius  Ploceus badius(Cassin, 1850)   \n",
       "\n",
       "   Synonyms                                            Summary  \\\n",
       "0       NaN  The cinnamon weaver (Ploceus badius) is a spec...   \n",
       "\n",
       "                                          Categories  \\\n",
       "0  [All stub articles, Articles with 'species' mi...   \n",
       "\n",
       "                                          References  \\\n",
       "0  [http://www.hbw.com/species/cinnamon-weaver-pl...   \n",
       "\n",
       "                                        Wiki URL  \\\n",
       "0  https://en.wikipedia.org/wiki/Cinnamon_weaver   \n",
       "\n",
       "                                               Image  \n",
       "0  https://upload.wikimedia.org/wikipedia/commons...  "
      ]
     },
     "execution_count": 26,
     "metadata": {},
     "output_type": "execute_result"
    }
   ],
   "source": [
    "failed = []\n",
    "for i in pages:\n",
    "    infoboxes = pd.read_html(i, attrs={\"class\":\"infobox biota\"})\n",
    "    if len(infoboxes)==1:\n",
    "        try:\n",
    "            extract_data(infoboxes[0])\n",
    "        except Exception:\n",
    "            failed.append(i)\n",
    "\n",
    "birds.head(5)"
   ]
  },
  {
   "cell_type": "code",
   "execution_count": null,
   "metadata": {},
   "outputs": [],
   "source": [
    "# !pip install pycountry\n",
    "birds['Countries'] = np.NaN\n",
    "birds['Habitat'] = np.NaN"
   ]
  },
  {
   "cell_type": "code",
   "execution_count": null,
   "metadata": {},
   "outputs": [
    {
     "name": "stderr",
     "output_type": "stream",
     "text": [
      "C:\\Users\\LEGION\\AppData\\Local\\Temp\\ipykernel_23528\\1130164129.py:4: SettingWithCopyWarning: \n",
      "A value is trying to be set on a copy of a slice from a DataFrame\n",
      "\n",
      "See the caveats in the documentation: https://pandas.pydata.org/pandas-docs/stable/user_guide/indexing.html#returning-a-view-versus-a-copy\n",
      "  birds.Countries[i] = findCountry(summary)\n",
      "C:\\Users\\LEGION\\AppData\\Local\\Temp\\ipykernel_23528\\1130164129.py:5: SettingWithCopyWarning: \n",
      "A value is trying to be set on a copy of a slice from a DataFrame\n",
      "\n",
      "See the caveats in the documentation: https://pandas.pydata.org/pandas-docs/stable/user_guide/indexing.html#returning-a-view-versus-a-copy\n",
      "  birds.Habitat[i] = findHabitat(summary)\n"
     ]
    },
    {
     "data": {
      "text/html": [
       "<div>\n",
       "<style scoped>\n",
       "    .dataframe tbody tr th:only-of-type {\n",
       "        vertical-align: middle;\n",
       "    }\n",
       "\n",
       "    .dataframe tbody tr th {\n",
       "        vertical-align: top;\n",
       "    }\n",
       "\n",
       "    .dataframe thead th {\n",
       "        text-align: right;\n",
       "    }\n",
       "</style>\n",
       "<table border=\"1\" class=\"dataframe\">\n",
       "  <thead>\n",
       "    <tr style=\"text-align: right;\">\n",
       "      <th></th>\n",
       "      <th>Name</th>\n",
       "      <th>Conservation status</th>\n",
       "      <th>Kingdom</th>\n",
       "      <th>Phylum</th>\n",
       "      <th>Class</th>\n",
       "      <th>Order</th>\n",
       "      <th>Family</th>\n",
       "      <th>Genus</th>\n",
       "      <th>Species</th>\n",
       "      <th>Binomial Name</th>\n",
       "      <th>Synonyms</th>\n",
       "      <th>Summary</th>\n",
       "      <th>Categories</th>\n",
       "      <th>References</th>\n",
       "      <th>Wiki URL</th>\n",
       "      <th>Image</th>\n",
       "      <th>Countries</th>\n",
       "      <th>Habitat</th>\n",
       "    </tr>\n",
       "  </thead>\n",
       "  <tbody>\n",
       "    <tr>\n",
       "      <th>0</th>\n",
       "      <td>Cinnamon weaver</td>\n",
       "      <td>Least Concern (IUCN 3.1)[1]</td>\n",
       "      <td>Animalia</td>\n",
       "      <td>Chordata</td>\n",
       "      <td>Aves</td>\n",
       "      <td>Passeriformes</td>\n",
       "      <td>Ploceidae</td>\n",
       "      <td>Ploceus</td>\n",
       "      <td>P. badius</td>\n",
       "      <td>Ploceus badius(Cassin, 1850)</td>\n",
       "      <td>NaN</td>\n",
       "      <td>The cinnamon weaver (Ploceus badius) is a spec...</td>\n",
       "      <td>[All stub articles, Articles with 'species' mi...</td>\n",
       "      <td>[http://www.hbw.com/species/cinnamon-weaver-pl...</td>\n",
       "      <td>https://en.wikipedia.org/wiki/Cinnamon_weaver</td>\n",
       "      <td>https://upload.wikimedia.org/wikipedia/commons...</td>\n",
       "      <td>South Sudan</td>\n",
       "      <td>NaN</td>\n",
       "    </tr>\n",
       "  </tbody>\n",
       "</table>\n",
       "</div>"
      ],
      "text/plain": [
       "              Name          Conservation status   Kingdom    Phylum Class  \\\n",
       "0  Cinnamon weaver  Least Concern (IUCN 3.1)[1]  Animalia  Chordata  Aves   \n",
       "\n",
       "           Order     Family    Genus    Species                 Binomial Name  \\\n",
       "0  Passeriformes  Ploceidae  Ploceus  P. badius  Ploceus badius(Cassin, 1850)   \n",
       "\n",
       "   Synonyms                                            Summary  \\\n",
       "0       NaN  The cinnamon weaver (Ploceus badius) is a spec...   \n",
       "\n",
       "                                          Categories  \\\n",
       "0  [All stub articles, Articles with 'species' mi...   \n",
       "\n",
       "                                          References  \\\n",
       "0  [http://www.hbw.com/species/cinnamon-weaver-pl...   \n",
       "\n",
       "                                        Wiki URL  \\\n",
       "0  https://en.wikipedia.org/wiki/Cinnamon_weaver   \n",
       "\n",
       "                                               Image    Countries  Habitat  \n",
       "0  https://upload.wikimedia.org/wikipedia/commons...  South Sudan      NaN  "
      ]
     },
     "execution_count": 28,
     "metadata": {},
     "output_type": "execute_result"
    }
   ],
   "source": [
    "for i in range(0, len(birds)):\n",
    "    name = birds.Name[i]\n",
    "    summary = wikipedia.summary(name)\n",
    "    birds.Countries[i] = findCountry(summary)\n",
    "    birds.Habitat[i] = findHabitat(summary)\n",
    "birds"
   ]
  },
  {
   "cell_type": "code",
   "execution_count": null,
   "metadata": {},
   "outputs": [
    {
     "name": "stdout",
     "output_type": "stream",
     "text": [
      "\n",
      "\n",
      "Time taken :  0:00:46.777429\n"
     ]
    }
   ],
   "source": [
    "ds = 'wiki_'+str(f)+'_'+str(t)\n",
    "logging.basicConfig(filename=\"assets/rescrape_wiki/Log_\"+ds+\".log\",format='%(asctime)s - %(levelname)s - %(message)s',filemode='a')\n",
    "birds.to_pickle(\"assets/rescrape_wiki/Pick_\"+ds+\".pkl\")\n",
    "birds.to_csv(\"assets/rescrape_wiki/csv_\"+ds+\".csv\")\n",
    "birds.to_csv(\"assets/rescrape_wiki/failed_\"+ds+\".csv\")\n",
    "logging.info('\\n\\nTime taken : ',datetime.now() - startTime)\n",
    "print('\\n\\nTime taken : ',datetime.now() - startTime) "
   ]
  },
  {
   "cell_type": "code",
   "execution_count": null,
   "metadata": {},
   "outputs": [
    {
     "data": {
      "text/html": [
       "<div>\n",
       "<style scoped>\n",
       "    .dataframe tbody tr th:only-of-type {\n",
       "        vertical-align: middle;\n",
       "    }\n",
       "\n",
       "    .dataframe tbody tr th {\n",
       "        vertical-align: top;\n",
       "    }\n",
       "\n",
       "    .dataframe thead th {\n",
       "        text-align: right;\n",
       "    }\n",
       "</style>\n",
       "<table border=\"1\" class=\"dataframe\">\n",
       "  <thead>\n",
       "    <tr style=\"text-align: right;\">\n",
       "      <th></th>\n",
       "      <th>Name</th>\n",
       "      <th>Conservation status</th>\n",
       "      <th>Kingdom</th>\n",
       "      <th>Phylum</th>\n",
       "      <th>Class</th>\n",
       "      <th>Order</th>\n",
       "      <th>Family</th>\n",
       "      <th>Genus</th>\n",
       "      <th>Species</th>\n",
       "      <th>Binomial Name</th>\n",
       "      <th>Summary</th>\n",
       "      <th>Categories</th>\n",
       "      <th>References</th>\n",
       "      <th>Wiki URL</th>\n",
       "      <th>Image</th>\n",
       "      <th>Countries</th>\n",
       "      <th>Habitat</th>\n",
       "    </tr>\n",
       "  </thead>\n",
       "  <tbody>\n",
       "    <tr>\n",
       "      <th>0</th>\n",
       "      <td>Cinnamon weaver</td>\n",
       "      <td>Least Concern (IUCN 3.1)[1]</td>\n",
       "      <td>Animalia</td>\n",
       "      <td>Chordata</td>\n",
       "      <td>Aves</td>\n",
       "      <td>Passeriformes</td>\n",
       "      <td>Ploceidae</td>\n",
       "      <td>Ploceus</td>\n",
       "      <td>P. badius</td>\n",
       "      <td>Ploceus badius(Cassin, 1850)</td>\n",
       "      <td>The cinnamon weaver (Ploceus badius) is a spec...</td>\n",
       "      <td>[All stub articles, Articles with 'species' mi...</td>\n",
       "      <td>[http://www.hbw.com/species/cinnamon-weaver-pl...</td>\n",
       "      <td>https://en.wikipedia.org/wiki/Cinnamon_weaver</td>\n",
       "      <td>https://upload.wikimedia.org/wikipedia/commons...</td>\n",
       "      <td>South Sudan</td>\n",
       "      <td>NaN</td>\n",
       "    </tr>\n",
       "  </tbody>\n",
       "</table>\n",
       "</div>"
      ],
      "text/plain": [
       "              Name          Conservation status   Kingdom    Phylum Class  \\\n",
       "0  Cinnamon weaver  Least Concern (IUCN 3.1)[1]  Animalia  Chordata  Aves   \n",
       "\n",
       "           Order     Family    Genus    Species                 Binomial Name  \\\n",
       "0  Passeriformes  Ploceidae  Ploceus  P. badius  Ploceus badius(Cassin, 1850)   \n",
       "\n",
       "                                             Summary  \\\n",
       "0  The cinnamon weaver (Ploceus badius) is a spec...   \n",
       "\n",
       "                                          Categories  \\\n",
       "0  [All stub articles, Articles with 'species' mi...   \n",
       "\n",
       "                                          References  \\\n",
       "0  [http://www.hbw.com/species/cinnamon-weaver-pl...   \n",
       "\n",
       "                                        Wiki URL  \\\n",
       "0  https://en.wikipedia.org/wiki/Cinnamon_weaver   \n",
       "\n",
       "                                               Image    Countries  Habitat  \n",
       "0  https://upload.wikimedia.org/wikipedia/commons...  South Sudan      NaN  "
      ]
     },
     "execution_count": 30,
     "metadata": {},
     "output_type": "execute_result"
    }
   ],
   "source": [
    "birds = birds.drop('Synonyms',axis = 1)\n",
    "birds = birds.dropna(thresh=3, axis = 0)\n",
    "birds.head(5)"
   ]
  },
  {
   "cell_type": "code",
   "execution_count": null,
   "metadata": {},
   "outputs": [],
   "source": [
    "def clean_Name(df):\n",
    "    sub_list = [\"Conservation\", \"status\", \"Scientific\", \"classification\"]\n",
    "    for i in range(0, len(df)):\n",
    "        for sub in sub_list:\n",
    "            df.Name[i] = df.Name[i].replace(sub, ' ')\n",
    "        df.Name[i] = df.Name[i].translate(str.maketrans('', '',string.punctuation))\n",
    "        df.Name[i] = df.Name[i].strip()\n",
    "        print(df.Name[i])\n",
    "birds['Conservation status'] = birds['Conservation status'].astype(str)"
   ]
  },
  {
   "cell_type": "code",
   "execution_count": null,
   "metadata": {},
   "outputs": [],
   "source": [
    "def clean_Conservation_Status(df):\n",
    "    for i in range(0, len(df)): \n",
    "        df['Conservation status'][i] = df['Conservation status'][i].split('(',1)[0]\n",
    "        print(df['Conservation status'][i])"
   ]
  },
  {
   "cell_type": "code",
   "execution_count": null,
   "metadata": {},
   "outputs": [],
   "source": [
    "def clean_Categories_and_References(df):\n",
    "    remove_list = '[]\\\"\\''\n",
    "    for i in range(0, len(df)):\n",
    "        df.Categories[i] = df.Categories[i].translate(str.maketrans('', '', remove_list))\n",
    "        df.References[i] = df.References[i].translate(str.maketrans('', '', remove_list))\n",
    "        print(df.Categories[i])\n",
    "        print(df.References[i])"
   ]
  },
  {
   "cell_type": "code",
   "execution_count": null,
   "metadata": {},
   "outputs": [
    {
     "name": "stdout",
     "output_type": "stream",
     "text": [
      "Least Concern \n"
     ]
    },
    {
     "name": "stderr",
     "output_type": "stream",
     "text": [
      "C:\\Users\\LEGION\\AppData\\Local\\Temp\\ipykernel_23528\\255890669.py:3: SettingWithCopyWarning: \n",
      "A value is trying to be set on a copy of a slice from a DataFrame\n",
      "\n",
      "See the caveats in the documentation: https://pandas.pydata.org/pandas-docs/stable/user_guide/indexing.html#returning-a-view-versus-a-copy\n",
      "  df['Conservation status'][i] = df['Conservation status'][i].split('(',1)[0]\n"
     ]
    }
   ],
   "source": [
    "# clean_Categories_and_References(birds)\n",
    "clean_Conservation_Status(birds)\n",
    "# clean_Name(birds)\n",
    "\n",
    "file_name = 'assets/rescrape_wiki/bird_wiki_dataset.xlsx'"
   ]
  },
  {
   "cell_type": "code",
   "execution_count": null,
   "metadata": {},
   "outputs": [
    {
     "name": "stdout",
     "output_type": "stream",
     "text": [
      "DataFrame is written to Excel File successfully.\n"
     ]
    }
   ],
   "source": [
    "birds.to_excel(file_name)\n",
    "print('DataFrame is written to Excel File successfully.')"
   ]
  },
  {
   "cell_type": "code",
   "execution_count": null,
   "metadata": {},
   "outputs": [],
   "source": []
  }
 ],
 "metadata": {
  "kernelspec": {
   "display_name": "TeWiki",
   "language": "python",
   "name": "indicwiki"
  },
  "language_info": {
   "codemirror_mode": {
    "name": "ipython",
    "version": 3
   },
   "file_extension": ".py",
   "mimetype": "text/x-python",
   "name": "python",
   "nbconvert_exporter": "python",
   "pygments_lexer": "ipython3",
   "version": "3.9.7"
  },
  "orig_nbformat": 4
 },
 "nbformat": 4,
 "nbformat_minor": 2
}
