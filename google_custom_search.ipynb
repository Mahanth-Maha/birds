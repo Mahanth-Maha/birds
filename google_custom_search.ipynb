{
 "cells": [
  {
   "cell_type": "code",
   "execution_count": 54,
   "metadata": {},
   "outputs": [
    {
     "name": "stderr",
     "output_type": "stream",
     "text": [
      "C:\\Users\\LEGION\\AppData\\Local\\Temp\\ipykernel_12012\\2655880302.py:7: DeprecationWarning: executable_path has been deprecated, please pass in a Service object\n",
      "  driver = webdriver.Chrome('./chromedriver.exe')\n"
     ]
    }
   ],
   "source": [
    "from selenium import webdriver\n",
    "from selenium.webdriver.common.keys import Keys\n",
    "from selenium.webdriver.support import expected_conditions as EC\n",
    "from selenium.webdriver.common.by import By\n",
    "from selenium.webdriver.support.wait import WebDriverWait\n",
    "\n",
    "driver = webdriver.Chrome('./chromedriver.exe')"
   ]
  },
  {
   "cell_type": "code",
   "execution_count": 55,
   "metadata": {},
   "outputs": [],
   "source": [
    "driver.get('https://www.google.com/')"
   ]
  },
  {
   "cell_type": "code",
   "execution_count": 56,
   "metadata": {},
   "outputs": [],
   "source": [
    "input_goolgle = WebDriverWait(driver,10).until(EC.element_to_be_clickable((By.CSS_SELECTOR,\"input[name='q']\")))"
   ]
  },
  {
   "cell_type": "code",
   "execution_count": 57,
   "metadata": {},
   "outputs": [],
   "source": [
    "input_goolgle.send_keys('Himalayan woodpecker')"
   ]
  },
  {
   "cell_type": "code",
   "execution_count": 58,
   "metadata": {},
   "outputs": [],
   "source": [
    "input_goolgle.send_keys(Keys.ENTER)"
   ]
  },
  {
   "cell_type": "code",
   "execution_count": 59,
   "metadata": {},
   "outputs": [
    {
     "data": {
      "text/plain": [
       "[None,\n",
       " 'https://support.google.com/websearch/answer/181196?hl=en-IN',\n",
       " None,\n",
       " 'https://www.google.com/webhp?hl=en&sa=X&ved=0ahUKEwj_q9y_29z2AhXR7XMBHWxiAtYQPAgI',\n",
       " 'https://www.google.com/search?q=Himalayan+woodpecker&source=hp&ei=-lI7YsfuA5iS0gS6ur7oBQ&iflsig=AHkkrS4AAAAAYjthCs9ywcf3irhzpmQMLU2dKvEeSKeX&ved=0ahUKEwjH04C329z2AhUYiZQKHTqdD10Q4dUDCAc&uact=5&oq=Himalayan+woodpecker&gs_lcp=Cgdnd3Mtd2l6EAMyBQguEIAEMgsILhCABBDHARCvATIGCAAQFhAeUABYYGCwBWgAcAB4AYABmAKIAaYIkgEDMi00mAEAoAEB&sclient=gws-wiz#',\n",
       " 'https://www.google.co.in/intl/en/about/products?tab=wh',\n",
       " 'https://accounts.google.com/ServiceLogin?hl=en&passive=true&continue=https://www.google.com/search%3Fq%3DHimalayan%2Bwoodpecker%26source%3Dhp%26ei%3D-lI7YsfuA5iS0gS6ur7oBQ%26iflsig%3DAHkkrS4AAAAAYjthCs9ywcf3irhzpmQMLU2dKvEeSKeX%26ved%3D0ahUKEwjH04C329z2AhUYiZQKHTqdD10Q4dUDCAc%26uact%3D5%26oq%3DHimalayan%2Bwoodpecker%26gs_lcp%3DCgdnd3Mtd2l6EAMyBQguEIAEMgsILhCABBDHARCvATIGCAAQFhAeUABYYGCwBWgAcAB4AYABmAKIAaYIkgEDMi00mAEAoAEB%26sclient%3Dgws-wiz&ec=GAZAAQ',\n",
       " 'https://www.google.com/search?q=Himalayan+woodpecker&source=lnms&tbm=isch&sa=X&ved=2ahUKEwj_q9y_29z2AhXR7XMBHWxiAtYQ_AUoAXoECAIQAw',\n",
       " 'https://www.google.com/search?q=Himalayan+woodpecker&source=lnms&tbm=shop&sa=X&ved=2ahUKEwj_q9y_29z2AhXR7XMBHWxiAtYQ_AUoAnoECAIQBA',\n",
       " 'https://www.google.com/search?q=Himalayan+woodpecker&source=lnms&tbm=vid&sa=X&ved=2ahUKEwj_q9y_29z2AhXR7XMBHWxiAtYQ_AUoA3oECAIQBQ',\n",
       " 'https://www.google.com/search?q=Himalayan+woodpecker&source=lnms&tbm=nws&sa=X&ved=2ahUKEwj_q9y_29z2AhXR7XMBHWxiAtYQ_AUoBHoECAIQBg',\n",
       " 'https://maps.google.com/maps?q=Himalayan+woodpecker&iflsig=AHkkrS4AAAAAYjthCs9ywcf3irhzpmQMLU2dKvEeSKeX&uact=5&gs_lcp=Cgdnd3Mtd2l6EAMyBQguEIAEMgsILhCABBDHARCvATIGCAAQFhAeUABYYGCwBWgAcAB4AYABmAKIAaYIkgEDMi00mAEAoAEB&um=1&ie=UTF-8&sa=X&ved=2ahUKEwj_q9y_29z2AhXR7XMBHWxiAtYQ_AUoAHoECAIQCg',\n",
       " 'https://www.google.com/search?q=Himalayan+woodpecker&source=lnms&tbm=bks&sa=X&ved=2ahUKEwj_q9y_29z2AhXR7XMBHWxiAtYQ_AUoAXoECAIQCw',\n",
       " 'https://www.google.com/flights?q=Himalayan+woodpecker&source=lnms&tbm=flm&sa=X&ved=2ahUKEwj_q9y_29z2AhXR7XMBHWxiAtYQ_AUoAnoECAIQDA',\n",
       " 'https://www.google.com/finance?sa=X&ved=2ahUKEwj_q9y_29z2AhXR7XMBHWxiAtYQ_AUoA3oECAIQDQ',\n",
       " 'https://www.google.com/search?q=Himalayan+woodpecker&source=lnt&tbs=qdr:h&sa=X&ved=2ahUKEwj_q9y_29z2AhXR7XMBHWxiAtYQpwV6BAgCEBU',\n",
       " 'https://www.google.com/search?q=Himalayan+woodpecker&source=lnt&tbs=qdr:d&sa=X&ved=2ahUKEwj_q9y_29z2AhXR7XMBHWxiAtYQpwV6BAgCEBY',\n",
       " 'https://www.google.com/search?q=Himalayan+woodpecker&source=lnt&tbs=qdr:w&sa=X&ved=2ahUKEwj_q9y_29z2AhXR7XMBHWxiAtYQpwV6BAgCEBc',\n",
       " 'https://www.google.com/search?q=Himalayan+woodpecker&source=lnt&tbs=qdr:m&sa=X&ved=2ahUKEwj_q9y_29z2AhXR7XMBHWxiAtYQpwV6BAgCEBg',\n",
       " 'https://www.google.com/search?q=Himalayan+woodpecker&source=lnt&tbs=qdr:y&sa=X&ved=2ahUKEwj_q9y_29z2AhXR7XMBHWxiAtYQpwV6BAgCEBk',\n",
       " 'https://www.google.com/search?q=Himalayan+woodpecker&source=lnt&tbs=li:1&sa=X&ved=2ahUKEwj_q9y_29z2AhXR7XMBHWxiAtYQpwV6BAgCECA',\n",
       " 'https://www.google.com/preferences?hl=en&prev=https://www.google.com/search?q%3DHimalayan%2Bwoodpecker%26source%3Dhp%26ei%3D-lI7YsfuA5iS0gS6ur7oBQ%26iflsig%3DAHkkrS4AAAAAYjthCs9ywcf3irhzpmQMLU2dKvEeSKeX%26ved%3D0ahUKEwjH04C329z2AhUYiZQKHTqdD10Q4dUDCAc%26uact%3D5%26oq%3DHimalayan%2Bwoodpecker%26gs_lcp%3DCgdnd3Mtd2l6EAMyBQguEIAEMgsILhCABBDHARCvATIGCAAQFhAeUABYYGCwBWgAcAB4AYABmAKIAaYIkgEDMi00mAEAoAEB%26sclient%3Dgws-wiz',\n",
       " 'https://www.google.com/history/optout?hl=en',\n",
       " 'https://www.google.com/history/privacyadvisor/search/unauth?utm_source=googlemenu',\n",
       " 'https://www.google.com/safesearch?prev=https://www.google.com/search?q%3DHimalayan%2Bwoodpecker%26source%3Dhp%26ei%3D-lI7YsfuA5iS0gS6ur7oBQ%26iflsig%3DAHkkrS4AAAAAYjthCs9ywcf3irhzpmQMLU2dKvEeSKeX%26ved%3D0ahUKEwjH04C329z2AhUYiZQKHTqdD10Q4dUDCAc%26uact%3D5%26oq%3DHimalayan%2Bwoodpecker%26gs_lcp%3DCgdnd3Mtd2l6EAMyBQguEIAEMgsILhCABBDHARCvATIGCAAQFhAeUABYYGCwBWgAcAB4AYABmAKIAaYIkgEDMi00mAEAoAEB%26sclient%3Dgws-wiz',\n",
       " 'https://www.google.com/preferences?hl=en&prev=https://www.google.com/search?q%3DHimalayan%2Bwoodpecker%26source%3Dhp%26ei%3D-lI7YsfuA5iS0gS6ur7oBQ%26iflsig%3DAHkkrS4AAAAAYjthCs9ywcf3irhzpmQMLU2dKvEeSKeX%26ved%3D0ahUKEwjH04C329z2AhUYiZQKHTqdD10Q4dUDCAc%26uact%3D5%26oq%3DHimalayan%2Bwoodpecker%26gs_lcp%3DCgdnd3Mtd2l6EAMyBQguEIAEMgsILhCABBDHARCvATIGCAAQFhAeUABYYGCwBWgAcAB4AYABmAKIAaYIkgEDMi00mAEAoAEB%26sclient%3Dgws-wiz#languages',\n",
       " 'https://www.google.com/advanced_search?q=Himalayan+woodpecker&hl=en',\n",
       " 'https://support.google.com/websearch/?p=dsrp_search_hc&hl=en-IN',\n",
       " 'https://www.agoda.com/en-in/pages/agoda/default/DestinationSearchResult.aspx?selectedproperty=9827634&city=9028&hid=9827634',\n",
       " 'https://www.googleadservices.com/pagead/aclk?sa=L&ai=DChcSEwiB4eO_29z2AhUQmWYCHRevDssYABABGgJzbQ&ohost=www.google.com&cid=CAASJeRokG8lVS0t0MWjw3G8x3EelOubu8iib1omW4f-59OK7165M1Y&sig=AOD64_1tB-NCuejRUttetJLsFD4me8OA1g&ved=2ahUKEwj_q9y_29z2AhXR7XMBHWxiAtYQqyQoAHoECAMQBQ&adurl=',\n",
       " 'https://www.googleadservices.com/pagead/aclk?sa=L&ai=DChcSEwiB4eO_29z2AhUQmWYCHRevDssYABACGgJzbQ&ohost=www.google.com&cid=CAASJeRokG8lVS0t0MWjw3G8x3EelOubu8iib1omW4f-59OK7165M1Y&sig=AOD64_3_T8U5hQF4g7lLziODTrzTz_RLcg&ved=2ahUKEwj_q9y_29z2AhXR7XMBHWxiAtYQqyQoAXoECAMQBg&adurl=',\n",
       " 'https://www.googleadservices.com/pagead/aclk?sa=L&ai=DChcSEwiB4eO_29z2AhUQmWYCHRevDssYABADGgJzbQ&ohost=www.google.com&cid=CAASJeRokG8lVS0t0MWjw3G8x3EelOubu8iib1omW4f-59OK7165M1Y&sig=AOD64_0cxkJrbzAaaBGLxc4TNMZnYuNd-Q&ved=2ahUKEwj_q9y_29z2AhXR7XMBHWxiAtYQqyQoAnoECAMQBw&adurl=',\n",
       " 'https://www.googleadservices.com/pagead/aclk?sa=L&ai=DChcSEwiB4eO_29z2AhUQmWYCHRevDssYABAEGgJzbQ&ohost=www.google.com&cid=CAASJeRokG8lVS0t0MWjw3G8x3EelOubu8iib1omW4f-59OK7165M1Y&sig=AOD64_3MHeNzdymlPdvaNjMrljxWmel6TQ&ved=2ahUKEwj_q9y_29z2AhXR7XMBHWxiAtYQqyQoA3oECAMQCA&adurl=',\n",
       " 'https://en.wikipedia.org/wiki/Himalayan_woodpecker',\n",
       " 'https://en.wikipedia.org/wiki/Himalayan_woodpecker#Description',\n",
       " 'https://en.wikipedia.org/wiki/Himalayan_woodpecker#Ecology',\n",
       " 'https://en.wikipedia.org/wiki/Himalayan_woodpecker',\n",
       " 'https://ebird.org/species/himwoo1?siteLanguage=en_IN',\n",
       " 'https://www.airbnb.co.in/rooms/30895371',\n",
       " 'https://indianbirds.thedynamicnature.com/2018/03/himalayan-woodpecker-dendrocopos-himalayensis.html',\n",
       " 'https://indianbirds.thedynamicnature.com/2018/03/himalayan-woodpecker-dendrocopos-himalayensis.html#Overview',\n",
       " 'https://indianbirds.thedynamicnature.com/2018/03/himalayan-woodpecker-dendrocopos-himalayensis.html#Conservation',\n",
       " 'https://indianbirds.thedynamicnature.com/2018/03/himalayan-woodpecker-dendrocopos-himalayensis.html#IUCN',\n",
       " 'https://indianbirds.thedynamicnature.com/2018/03/himalayan-woodpecker-dendrocopos-himalayensis.html',\n",
       " 'https://www.youtube.com/watch?v=-MXizcJvBtc',\n",
       " 'https://www.youtube.com/watch?v=6bYVZbc1tGU',\n",
       " 'https://www.youtube.com/watch?v=s2AupTh7BRA',\n",
       " 'https://www.google.com/search?tbm=vid&q=Himalayan+woodpecker&sa=X&ved=2ahUKEwj_q9y_29z2AhXR7XMBHWxiAtYQ8ccDegQIUBAF',\n",
       " 'http://datazone.birdlife.org/species/factsheet/22681136',\n",
       " 'https://www.agoda.com/en-in/himalayan-woodpecker-a-truly-himalayan-stay/hotel/manali-in.html',\n",
       " 'https://birdsoftheworld.org/bow/species/himwoo1/cur/introduction',\n",
       " 'https://xeno-canto.org/species/Dendrocopos-himalayensis',\n",
       " 'https://xeno-canto.org/species/Dendrocopos-himalayensis',\n",
       " 'https://dibird.com/species/himalayan-woodpecker/',\n",
       " 'https://dibird.com/species/himalayan-woodpecker/',\n",
       " 'https://www.google.com/search?q=Yellow-billed+blue+magpie&stick=H4sIAAAAAAAAAOOQUeLUz9U3MI3PK8gx4s_IzE3MSaxMzFNIyixKKY4S8YALlOfnpxSkJmenFp1iRGiBss3L08qNoWyjSvMKk1OMXGB2WZ5FXjxMIt4yPgXKTi8wzC2Asi1MTItLoGzDlEozIxjbMqsoDaa3ICmn-BcjvweqAxexSkam5uTkl-smZebkpKYoJOWUpirkJqYXZKbeYpNkuCA063zvWdXmI3aRsZL5s7Q9tp1ZkjXjngwAAuiqq_cAAAA&sa=X&ved=2ahUKEwj_q9y_29z2AhXR7XMBHWxiAtYQs9oBKAB6BAhNEAI',\n",
       " 'https://www.google.com/search?q=Slaty-headed+parakeet&stick=H4sIAAAAAAAAAOOQUeLUz9U3MC9PKzc24s_IzE3MSaxMzFNIyixKKY4S8YALlOfnpxSkJmenFp1iBGsxjc8ryIGywdqhbKNK8wqTU4xcYHZZnkVePEwi3jI-BcpOLzDMLYCyLUxMi0ugbMOUSjMjGNsyqygNprcgKaf4FyO_B6oDF7GKBuckllTqZqQmpqSmKBQkFiVmp6aW3GKTZLggNOt871nV5iN2kbGS-bO0PbadWZI1454MAK-_wQjzAAAA&sa=X&ved=2ahUKEwj_q9y_29z2AhXR7XMBHWxiAtYQs9oBKAF6BAhNEAM',\n",
       " 'https://www.google.com/search?q=Monal&stick=H4sIAAAAAAAAAOOQUeLUz9U3MKo0rzAx4s_IzE3MSaxMzFNIyixKKY4S8YALlOfnpxSkJmenFp1iBGsxjc8ryIGyzcvTyo2hbLBRpxi5wOyyPIu8eJhEvGV8CpSdXmCYWwBlW5iYFpdA2YYplWZGMLZlVlEaTG9BUk7xL0Z-D1QHLmJl9c3PS8y5xSbJcEFo1vnes6rNR-wiYyXzZ2l7bDuzJGvGPRkAEYWHBOMAAAA&sa=X&ved=2ahUKEwj_q9y_29z2AhXR7XMBHWxiAtYQs9oBKAJ6BAhNEAQ',\n",
       " 'https://www.google.com/search?q=Great+barbet&stick=H4sIAAAAAAAAAOOQUeLSz9U3MCrLs8iLN-LPyMxNzEmsTMxTSMosSimOEvGAC5Tn56cUpCZnpxadYuQE6TGNzyvIgbLNy9PKjaFso0rzCpNTjEjmwiTiLeNToOz0AsPcAijbwsS0uATKNkypNDOCsS2zitJgeguScop_MfJ7oDpwESuPe1FqYolCUmJRUmrJLTZJhgtCs873nlVtPmIXGSuZP0vbY9uZJVkz7skAALaddxrrAAAA&sa=X&ved=2ahUKEwj_q9y_29z2AhXR7XMBHWxiAtYQs9oBKAN6BAhNEAU',\n",
       " 'https://www.google.com/search?q=Kashmir+flycatcher&stick=H4sIAAAAAAAAAOOQUeLUz9U3MIq3jE8x4s_IzE3MSaxMzFNIyixKKY4S8YALlOfnpxSkJmenFp1iBGsxjc8ryIGyzcvTyo2hbKNK8wqTU4xcYHZZnkVePEwCZAeUnV5gmFsAZVuYmBaXQNmGKZVmRjC2ZVZRGkxvQVJO8S9Gfg9UBy5iFfJOLM7IzSxSSMupTE4sSc5ILbrFJslwQWjW-d6zqs1H7CJjJfNnaXtsO7Mka8Y9GQANR5Pp8AAAAA&sa=X&ved=2ahUKEwj_q9y_29z2AhXR7XMBHWxiAtYQs9oBKAR6BAhNEAY',\n",
       " 'https://www.google.com/search?q=Himalayan+snowcock&stick=H4sIAAAAAAAAAOOQUeLUz9U3SC8wzC0w4s_IzE3MSaxMzFNIyixKKY4S8YALlOfnpxSkJmenFp1iBGsxjc8ryIGyzcvTyo2hbKNK8wqTU4xcYHZZnkVePEwi3jI-BcoG2wdlW5iYFpdA2YYplWZGMLZlVlEaTG9BUk7xL0Z-D1QHLmIVQogU5-WXJ-cnZ99ik2S4IDTrfO9Z1eYjdpGxkvmztD22nVmSNeOeDAB0hICf8AAAAA&sa=X&ved=2ahUKEwj_q9y_29z2AhXR7XMBHWxiAtYQs9oBKAV6BAhNEAc',\n",
       " 'https://www.google.com/search?q=Himalayan+birds&stick=H4sIAAAAAAAAAOOQMeLPyMxNzEmsTMxTSMosSimOEvGAC5Tn56cUpCZnpxadYuTUz9U3MI3PK8iBss3L08qNoWyjSvMKk1OMXGB2WZ5FXjxMIt4yPgXKTi8wzC2Asi1MTItLoGzDlEozIxjbMqsoDaa3ICmn-BcjvweqAxexoovcYpNkuCA063zvWdXmI3aRsZL5s7Q9tp1ZkjXjngwA5HbsiuIAAAA&sa=X&ved=2ahUKEwj_q9y_29z2AhXR7XMBHWxiAtYQ4qYDegQITRAI',\n",
       " 'https://www.google.com/search?q=Grey-headed+Woodpecker&sa=X&ved=2ahUKEwj_q9y_29z2AhXR7XMBHWxiAtYQsZYEegQIVRAF',\n",
       " 'https://www.google.com/search?q=Grey-headed+Woodpecker&tbm=isch&source=iu&ictx=1&vet=1#imgrc=mdlQvSN7i6lgtM',\n",
       " 'https://en.wikipedia.org/wiki/Grey-headed_woodpecker',\n",
       " 'https://www.google.com/search?q=Grey-headed+Woodpecker&sa=X&ved=2ahUKEwj_q9y_29z2AhXR7XMBHWxiAtYQ4qYDegQIVRAJ',\n",
       " 'https://www.google.com/search?q=Bearded+woodpecker&sa=X&ved=2ahUKEwj_q9y_29z2AhXR7XMBHWxiAtYQsZYEegQIThAF',\n",
       " 'https://www.google.com/search?q=Bearded+woodpecker&tbm=isch&source=iu&ictx=1&vet=1#imgrc=E6GghMW9lNrjQM',\n",
       " 'https://en.wikipedia.org/wiki/Bearded_woodpecker',\n",
       " 'https://www.google.com/search?q=Bearded+woodpecker&sa=X&ved=2ahUKEwj_q9y_29z2AhXR7XMBHWxiAtYQ4qYDegQIThAJ',\n",
       " 'https://www.google.com/search?q=White-winged+Woodpecker&sa=X&ved=2ahUKEwj_q9y_29z2AhXR7XMBHWxiAtYQsZYEegQIURAF',\n",
       " 'https://www.google.com/search?q=White-winged+Woodpecker&tbm=isch&source=iu&ictx=1&vet=1#imgrc=_Id4t0iXQK2NCM',\n",
       " 'https://en.wikipedia.org/wiki/White-winged_woodpecker',\n",
       " 'https://www.google.com/search?q=White-winged+Woodpecker&sa=X&ved=2ahUKEwj_q9y_29z2AhXR7XMBHWxiAtYQ4qYDegQIURAJ',\n",
       " 'https://www.google.com/search?q=Okinawa+woodpecker&sa=X&ved=2ahUKEwj_q9y_29z2AhXR7XMBHWxiAtYQsZYEegQIVBAF',\n",
       " 'https://www.google.com/search?q=Okinawa+woodpecker&tbm=isch&source=iu&ictx=1&vet=1#imgrc=JOQfxBP9KEQBmM',\n",
       " 'https://en.wikipedia.org/wiki/Okinawa_woodpecker',\n",
       " 'https://www.google.com/search?q=Okinawa+woodpecker&sa=X&ved=2ahUKEwj_q9y_29z2AhXR7XMBHWxiAtYQ4qYDegQIVBAJ',\n",
       " 'https://www.google.com/search?q=Rufous-bellied+woodpecker&sa=X&ved=2ahUKEwj_q9y_29z2AhXR7XMBHWxiAtYQsZYEegQIUxAF',\n",
       " 'https://www.google.com/search?q=Rufous-bellied+woodpecker&tbm=isch&source=iu&ictx=1&vet=1#imgrc=asAeRNbQUKbz8M',\n",
       " 'https://en.wikipedia.org/wiki/Rufous-bellied_woodpecker',\n",
       " 'https://www.google.com/search?q=Rufous-bellied+woodpecker&sa=X&ved=2ahUKEwj_q9y_29z2AhXR7XMBHWxiAtYQ4qYDegQIUxAJ',\n",
       " 'https://www.google.com/search?q=Nuttall%27s+Woodpecker&sa=X&ved=2ahUKEwj_q9y_29z2AhXR7XMBHWxiAtYQsZYEegQITxAF',\n",
       " 'https://www.google.com/search?q=Nuttall%27s+Woodpecker&tbm=isch&source=iu&ictx=1&vet=1#imgrc=hRpOhsMDNfY8aM',\n",
       " \"https://en.wikipedia.org/wiki/Nuttall's_woodpecker\",\n",
       " 'https://www.google.com/search?q=Nuttall%27s+Woodpecker&sa=X&ved=2ahUKEwj_q9y_29z2AhXR7XMBHWxiAtYQ4qYDegQITxAJ',\n",
       " 'https://www.google.com/search?q=Himalayan+woodpecker&source=hp&ei=-lI7YsfuA5iS0gS6ur7oBQ&iflsig=AHkkrS4AAAAAYjthCs9ywcf3irhzpmQMLU2dKvEeSKeX&ved=0ahUKEwjH04C329z2AhUYiZQKHTqdD10Q4dUDCAc&uact=5&oq=Himalayan+woodpecker&gs_lcp=Cgdnd3Mtd2l6EAMyBQguEIAEMgsILhCABBDHARCvATIGCAAQFhAeUABYYGCwBWgAcAB4AYABmAKIAaYIkgEDMi00mAEAoAEB&sclient=gws-wiz#',\n",
       " 'https://www.google.com/search?q=Himalayan+Woodpecker+Manali&sa=X&ved=2ahUKEwj_q9y_29z2AhXR7XMBHWxiAtYQ1QJ6BAhZEAE',\n",
       " 'https://www.google.com/search?q=Woodpeckers+of+India&sa=X&ved=2ahUKEwj_q9y_29z2AhXR7XMBHWxiAtYQ1QJ6BAhaEAE',\n",
       " 'https://www.google.com/search?q=Himalayan+woodpecker&ei=DFM7Yv_1FNHbz7sP7MSJsA0&start=10&sa=N&ved=2ahUKEwj_q9y_29z2AhXR7XMBHWxiAtYQ8tMDegQIAhA5',\n",
       " 'https://www.google.com/search?q=Himalayan+woodpecker&ei=DFM7Yv_1FNHbz7sP7MSJsA0&start=20&sa=N&ved=2ahUKEwj_q9y_29z2AhXR7XMBHWxiAtYQ8tMDegQIAhA7',\n",
       " 'https://www.google.com/search?q=Himalayan+woodpecker&ei=DFM7Yv_1FNHbz7sP7MSJsA0&start=30&sa=N&ved=2ahUKEwj_q9y_29z2AhXR7XMBHWxiAtYQ8tMDegQIAhA9',\n",
       " 'https://www.google.com/search?q=Himalayan+woodpecker&ei=DFM7Yv_1FNHbz7sP7MSJsA0&start=40&sa=N&ved=2ahUKEwj_q9y_29z2AhXR7XMBHWxiAtYQ8tMDegQIAhA_',\n",
       " 'https://www.google.com/search?q=Himalayan+woodpecker&ei=DFM7Yv_1FNHbz7sP7MSJsA0&start=50&sa=N&ved=2ahUKEwj_q9y_29z2AhXR7XMBHWxiAtYQ8tMDegQIAhBB',\n",
       " 'https://www.google.com/search?q=Himalayan+woodpecker&ei=DFM7Yv_1FNHbz7sP7MSJsA0&start=60&sa=N&ved=2ahUKEwj_q9y_29z2AhXR7XMBHWxiAtYQ8tMDegQIAhBD',\n",
       " 'https://www.google.com/search?q=Himalayan+woodpecker&ei=DFM7Yv_1FNHbz7sP7MSJsA0&start=70&sa=N&ved=2ahUKEwj_q9y_29z2AhXR7XMBHWxiAtYQ8tMDegQIAhBF',\n",
       " 'https://www.google.com/search?q=Himalayan+woodpecker&ei=DFM7Yv_1FNHbz7sP7MSJsA0&start=80&sa=N&ved=2ahUKEwj_q9y_29z2AhXR7XMBHWxiAtYQ8tMDegQIAhBH',\n",
       " 'https://www.google.com/search?q=Himalayan+woodpecker&ei=DFM7Yv_1FNHbz7sP7MSJsA0&start=90&sa=N&ved=2ahUKEwj_q9y_29z2AhXR7XMBHWxiAtYQ8tMDegQIAhBJ',\n",
       " 'https://www.google.com/search?q=Himalayan+woodpecker&ei=DFM7Yv_1FNHbz7sP7MSJsA0&start=10&sa=N&ved=2ahUKEwj_q9y_29z2AhXR7XMBHWxiAtYQ8NMDegQIAhBL',\n",
       " 'https://www.google.com/search?q=Himalayan+woodpecker&tbm=isch&source=iu&ictx=1&vet=1&fir=QVjJ7HnJpH9UAM%252CjzKeHVXSN1VyqM%252C%252Fm%252F02w8tcn%253BtvD1HilrkR76mM%252CYJIYAULVH5gk3M%252C_%253BNMr8WmFcPhWW2M%252CYJIYAULVH5gk3M%252C_%253BpvBWCR3OUWy9WM%252CYJIYAULVH5gk3M%252C_%253BkceHaocsDFSc1M%252CjzKeHVXSN1VyqM%252C_%253BsT00M36NoN5aXM%252CYJIYAULVH5gk3M%252C_%253BQBsD6n4f2n3mkM%252C5M_MCtQ8xeM4GM%252C_&usg=AI4_-kSMovlFGpMquo2vRKQgbZn1dkkqhQ&sa=X&ved=2ahUKEwj_q9y_29z2AhXR7XMBHWxiAtYQ_B16BAghEAE#imgrc=QVjJ7HnJpH9UAM',\n",
       " 'https://www.google.com/search?q=Himalayan+woodpecker&tbm=isch&source=iu&ictx=1&vet=1&fir=QVjJ7HnJpH9UAM%252CjzKeHVXSN1VyqM%252C_%253BtvD1HilrkR76mM%252CYJIYAULVH5gk3M%252C_%253BNMr8WmFcPhWW2M%252CYJIYAULVH5gk3M%252C_%253BpvBWCR3OUWy9WM%252CYJIYAULVH5gk3M%252C_%253BkceHaocsDFSc1M%252CjzKeHVXSN1VyqM%252C_%253BsT00M36NoN5aXM%252CYJIYAULVH5gk3M%252C_%253BQBsD6n4f2n3mkM%252C5M_MCtQ8xeM4GM%252C_&usg=AI4_-kQBlFkbxrkNwINPEmnlrZyQEX2wHw&sa=X&ved=2ahUKEwj_q9y_29z2AhXR7XMBHWxiAtYQ_h16BAgnEAE#imgrc=tvD1HilrkR76mM',\n",
       " 'https://www.google.com/search?q=Himalayan+woodpecker&tbm=isch&source=iu&ictx=1&vet=1&fir=QVjJ7HnJpH9UAM%252CjzKeHVXSN1VyqM%252C_%253BtvD1HilrkR76mM%252CYJIYAULVH5gk3M%252C_%253BNMr8WmFcPhWW2M%252CYJIYAULVH5gk3M%252C_%253BpvBWCR3OUWy9WM%252CYJIYAULVH5gk3M%252C_%253BkceHaocsDFSc1M%252CjzKeHVXSN1VyqM%252C_%253BsT00M36NoN5aXM%252CYJIYAULVH5gk3M%252C_%253BQBsD6n4f2n3mkM%252C5M_MCtQ8xeM4GM%252C_&usg=AI4_-kQBlFkbxrkNwINPEmnlrZyQEX2wHw&sa=X&ved=2ahUKEwj_q9y_29z2AhXR7XMBHWxiAtYQ_h16BAgiEAE#imgrc=NMr8WmFcPhWW2M',\n",
       " 'https://www.google.com/search?q=Himalayan+woodpecker&tbm=isch&source=iu&ictx=1&vet=1&fir=QVjJ7HnJpH9UAM%252CjzKeHVXSN1VyqM%252C_%253BtvD1HilrkR76mM%252CYJIYAULVH5gk3M%252C_%253BNMr8WmFcPhWW2M%252CYJIYAULVH5gk3M%252C_%253BpvBWCR3OUWy9WM%252CYJIYAULVH5gk3M%252C_%253BkceHaocsDFSc1M%252CjzKeHVXSN1VyqM%252C_%253BsT00M36NoN5aXM%252CYJIYAULVH5gk3M%252C_%253BQBsD6n4f2n3mkM%252C5M_MCtQ8xeM4GM%252C_&usg=AI4_-kQBlFkbxrkNwINPEmnlrZyQEX2wHw&sa=X&ved=2ahUKEwj_q9y_29z2AhXR7XMBHWxiAtYQ_h16BAglEAE#imgrc=pvBWCR3OUWy9WM',\n",
       " 'https://www.google.com/search?q=Himalayan+woodpecker&tbm=isch&source=iu&ictx=1&vet=1&fir=QVjJ7HnJpH9UAM%252CjzKeHVXSN1VyqM%252C_%253BtvD1HilrkR76mM%252CYJIYAULVH5gk3M%252C_%253BNMr8WmFcPhWW2M%252CYJIYAULVH5gk3M%252C_%253BpvBWCR3OUWy9WM%252CYJIYAULVH5gk3M%252C_%253BkceHaocsDFSc1M%252CjzKeHVXSN1VyqM%252C_%253BsT00M36NoN5aXM%252CYJIYAULVH5gk3M%252C_%253BQBsD6n4f2n3mkM%252C5M_MCtQ8xeM4GM%252C_&usg=AI4_-kQBlFkbxrkNwINPEmnlrZyQEX2wHw&sa=X&ved=2ahUKEwj_q9y_29z2AhXR7XMBHWxiAtYQ_h16BAgmEAE#imgrc=kceHaocsDFSc1M',\n",
       " 'https://www.google.com/search?q=Himalayan+woodpecker&tbm=isch&source=iu&ictx=1&vet=1&fir=QVjJ7HnJpH9UAM%252CjzKeHVXSN1VyqM%252C_%253BtvD1HilrkR76mM%252CYJIYAULVH5gk3M%252C_%253BNMr8WmFcPhWW2M%252CYJIYAULVH5gk3M%252C_%253BpvBWCR3OUWy9WM%252CYJIYAULVH5gk3M%252C_%253BkceHaocsDFSc1M%252CjzKeHVXSN1VyqM%252C_%253BsT00M36NoN5aXM%252CYJIYAULVH5gk3M%252C_%253BQBsD6n4f2n3mkM%252C5M_MCtQ8xeM4GM%252C_&usg=AI4_-kQBlFkbxrkNwINPEmnlrZyQEX2wHw&sa=X&ved=2ahUKEwj_q9y_29z2AhXR7XMBHWxiAtYQ_h16BAgkEAE#imgrc=sT00M36NoN5aXM',\n",
       " 'https://www.google.com/search?q=Himalayan+woodpecker&tbm=isch&source=iu&ictx=1&vet=1&fir=QVjJ7HnJpH9UAM%252CjzKeHVXSN1VyqM%252C_%253BtvD1HilrkR76mM%252CYJIYAULVH5gk3M%252C_%253BNMr8WmFcPhWW2M%252CYJIYAULVH5gk3M%252C_%253BpvBWCR3OUWy9WM%252CYJIYAULVH5gk3M%252C_%253BkceHaocsDFSc1M%252CjzKeHVXSN1VyqM%252C_%253BsT00M36NoN5aXM%252CYJIYAULVH5gk3M%252C_%253BQBsD6n4f2n3mkM%252C5M_MCtQ8xeM4GM%252C_&usg=AI4_-kQBlFkbxrkNwINPEmnlrZyQEX2wHw&sa=X&ved=2ahUKEwj_q9y_29z2AhXR7XMBHWxiAtYQ_h16BAggEAE#imgrc=QBsD6n4f2n3mkM',\n",
       " 'https://www.google.com/search?source=univ&tbm=isch&q=Himalayan+woodpecker&fir=QVjJ7HnJpH9UAM%252CjzKeHVXSN1VyqM%252C_%253BtvD1HilrkR76mM%252CYJIYAULVH5gk3M%252C_%253BNMr8WmFcPhWW2M%252CYJIYAULVH5gk3M%252C_%253BpvBWCR3OUWy9WM%252CYJIYAULVH5gk3M%252C_%253BkceHaocsDFSc1M%252CjzKeHVXSN1VyqM%252C_%253BsT00M36NoN5aXM%252CYJIYAULVH5gk3M%252C_%253BQBsD6n4f2n3mkM%252C5M_MCtQ8xeM4GM%252C_&usg=AI4_-kQBlFkbxrkNwINPEmnlrZyQEX2wHw&sa=X&ved=2ahUKEwj_q9y_29z2AhXR7XMBHWxiAtYQiR56BAgfEAI',\n",
       " 'https://www.google.com/search?q=Himalayan+woodpecker&source=hp&ei=-lI7YsfuA5iS0gS6ur7oBQ&iflsig=AHkkrS4AAAAAYjthCs9ywcf3irhzpmQMLU2dKvEeSKeX&ved=0ahUKEwjH04C329z2AhUYiZQKHTqdD10Q4dUDCAc&uact=5&oq=Himalayan+woodpecker&gs_lcp=Cgdnd3Mtd2l6EAMyBQguEIAEMgsILhCABBDHARCvATIGCAAQFhAeUABYYGCwBWgAcAB4AYABmAKIAaYIkgEDMi00mAEAoAEB&sclient=gws-wiz#',\n",
       " 'https://www.google.com/search?q=Himalayan+woodpecker&source=hp&ei=-lI7YsfuA5iS0gS6ur7oBQ&iflsig=AHkkrS4AAAAAYjthCs9ywcf3irhzpmQMLU2dKvEeSKeX&ved=0ahUKEwjH04C329z2AhUYiZQKHTqdD10Q4dUDCAc&uact=5&oq=Himalayan+woodpecker&gs_lcp=Cgdnd3Mtd2l6EAMyBQguEIAEMgsILhCABBDHARCvATIGCAAQFhAeUABYYGCwBWgAcAB4AYABmAKIAaYIkgEDMi00mAEAoAEB&sclient=gws-wiz#',\n",
       " 'https://www.google.com/search?q=Himalayan+woodpecker&source=hp&ei=-lI7YsfuA5iS0gS6ur7oBQ&iflsig=AHkkrS4AAAAAYjthCs9ywcf3irhzpmQMLU2dKvEeSKeX&ved=0ahUKEwjH04C329z2AhUYiZQKHTqdD10Q4dUDCAc&uact=5&oq=Himalayan+woodpecker&gs_lcp=Cgdnd3Mtd2l6EAMyBQguEIAEMgsILhCABBDHARCvATIGCAAQFhAeUABYYGCwBWgAcAB4AYABmAKIAaYIkgEDMi00mAEAoAEB&sclient=gws-wiz#',\n",
       " None,\n",
       " None,\n",
       " None,\n",
       " None,\n",
       " 'https://en.wikipedia.org/wiki/Himalayan_woodpecker',\n",
       " 'https://www.google.com/search?q=himalayan+woodpecker+scientific+name&stick=H4sIAAAAAAAAAOPgE-LSz9U3MCq3KEnO07LPTrbST8rMz8lPr9TPL0pPzMsszo1PzkksLs5My0xOLMnMz7MqTs5MzSsB8RXyEnNTFRLzUhRyU4FK89IXsapkZOYm5iRWJuYplOfnpxSkJmenFimgaQEABqgpm3YAAAA&sa=X&ved=2ahUKEwj_q9y_29z2AhXR7XMBHWxiAtYQ6BMoAHoECBoQAg',\n",
       " 'https://www.google.com/search?q=himalayan+woodpecker+conservation+status&stick=H4sIAAAAAAAAAOPgE-LSz9U3MCq3KEnO0zLPTrbST8rMz8lPr9TPL0pPzMsszo1PzkksLs5My0xOLMnMz7NKzs8rTi0qA3MUiksSS0qLF7FqZGTmJuYkVibmKZTn56cUpCZnpxYpYFEKAHLwDoVyAAAA&sa=X&ved=2ahUKEwj_q9y_29z2AhXR7XMBHWxiAtYQ6BMoAHoECBgQAg',\n",
       " 'http://eol.org/',\n",
       " 'https://www.google.com/search?q=himalayan+woodpecker+rank&stick=H4sIAAAAAAAAAOPgE-LSz9U3MCq3KEnO09LITrbST8rMz8lPr9TPL0pPzMsszo1PzkksLs5My0xOLMnMz7MqSszLXsQqmZGZm5iTWJmYp1Cen59SkJqcnVqkAJIDAIrbrWBUAAAA&sa=X&ved=2ahUKEwj_q9y_29z2AhXR7XMBHWxiAtYQ6BMoAHoECBkQAg',\n",
       " 'https://www.google.com/search?q=himalayan+woodpecker+higher+classification&stick=H4sIAAAAAAAAAOPgE-LSz9U3MCq3KEnO07LMTrbST8rMz8lPr9TPL0pPzMsszo1PzkksLs5My0xOLMnMz7PKyEzPSC1SQBVdxKqVkZmbmJNYmZinUJ6fn1KQmpwNVIVVMQB2NNaWdgAAAA&sa=X&ved=2ahUKEwj_q9y_29z2AhXR7XMBHWxiAtYQ6BMoAHoECBwQAg',\n",
       " 'https://www.google.com/search?q=Dendrocopos&stick=H4sIAAAAAAAAAOPgE-LSz9U3MCq3KEnOU4KwzSxKssq1LLOTrfSTMvNz8tMr9fOL0hPzMotz45NzEouLM9MykxNLMvPzrDIy0zNSixRQRRexcruk5qUU5SfnF-QX72Bl3MXOxMEAAJ1rdKtrAAAA&sa=X&ved=2ahUKEwj_q9y_29z2AhXR7XMBHWxiAtYQmxMoAXoECBwQAw',\n",
       " 'https://www.google.com/search?q=Himalayan+woodpecker&stick=H4sIAAAAAAAAAONgFuLSz9U3MCq3KEnOU0JiawkGZ6aklidWFvulVpQEl6QWFC9iFfHIzE3MSaxMzFMoz89PKUhNzk4t2sHKCAAV6_crRwAAAA&sa=X&ved=2ahUKEwj_q9y_29z2AhXR7XMBHWxiAtYQMSgAegQIHhAB',\n",
       " 'https://www.google.com/search?q=Himalayan+woodpecker&stick=H4sIAAAAAAAAAONgFuLSz9U3MCq3KEnOU0JiawkGZ6aklidWFvulVpQEl6QWFC9iFfHIzE3MSaxMzFMoz89PKUhNzk4t2sHKCAAV6_crRwAAAA&sa=X&ved=2ahUKEwj_q9y_29z2AhXR7XMBHWxiAtYQzTooAXoECB4QAg',\n",
       " 'https://www.google.com/search?q=Sind+woodpecker&si=ANhW_NrBwbdpNHyNEAdL3p7xUv5AGJEN9h9MzGfi7qZ1Ph8M88dFbpk2p4YmSY2hyqtiz03ToXFkTN43l8qtBnBkMBvKE9bufYyWlFgMreL-61TM-Q1fWn8nXo5890b-8W6ytsK3PkLpNtRNWAfW8BUo_dfIrMF60dWz51QXqkPQMPdWtx5cdvO9dCQwSlkQI6G3t-COg3Q9LgMF4QmwJwQpAADB3HgAW-WiRLW7aXdhpZVk2DMeBN_G-rZuYiyI0Ltx9izp2vDD_JwOIBb9vBz-69BQLBH49sIu_xTE5ev2VBwkJrFVnPo%3D&sa=X&ved=2ahUKEwj_q9y_29z2AhXR7XMBHWxiAtYQxA16BAgeEAU',\n",
       " 'https://www.google.com/search?q=Darjeeling+woodpecker&si=ANhW_NrBwbdpNHyNEAdL3p7xUv5AGJEN9h9MzGfi7qZ1Ph8M86dt72H3kKrRugnaoXWqQ2a09tR0QYxwdL013bMHShZxU62FZS892wWI_zFg98JLHF6lZlpw1rsyfdyJqvUWtqWsVFM-n-xaKFRd4--gAMcyKMWitzSy2Bk-V3qNtx-gKVpraJ0ueCLitNOV7tEohv86ld1dAeAxAOz2vEdtpebkNA-KmqLA1u0lbw6yW2q7OUh-qL-8xh0VRmGVnImZ6PCol8LaFsQnjtrTcvCr5_pmeXfm_sOOonuewfXvzWKJPwEqa3k7cyk_UjtgVVIqeTDt64oV&sa=X&ved=2ahUKEwj_q9y_29z2AhXR7XMBHWxiAtYQxA16BAgeEAc',\n",
       " 'https://www.google.com/search?q=Freckle-breasted+woodpecker&si=ANhW_NrBwbdpNHyNEAdL3p7xUv5AGJEN9h9MzGfi7qZ1Ph8M88kR3idvW3QQXkyPkJPj0L0vcYIxHpuIBcw03xtllZvinw22z6YW6g5giU89OR_X5Wx-ZYupcOhxVaNrKOJ82nke9fLKNXd8pQw8Dk8ofcF-TelavdreESmo5itpENGZxHXLC2rgP3DA8YnXoOSxxTzZQhw9rmg_Fw3hNcUEWULNj2RrBcYsocDqnFj5405gP39bSDUfbRmpow1lSYDpclHytOr4c66U1JHer5N9OvZ4GoKGeYDXk2XPZFDxYwAODC6isTCRjQTqsF2pVAYVpDrAkfWX&sa=X&ved=2ahUKEwj_q9y_29z2AhXR7XMBHWxiAtYQxA16BAgeEAk',\n",
       " 'https://www.google.com/search?q=Brown-fronted+woodpecker&si=ANhW_NrBwbdpNHyNEAdL3p7xUv5AGJEN9h9MzGfi7qZ1Ph8M804O7kujT79V1w2ugEbOn-oTN50MWDxrH352LSzej6sXuXdjnl94kI-xN4k5nVMhatuCGUWDGzlfwtFctzwb9fXUfuX7_d5R1aJDyXU2Okxyk6MaLdIK3lgTVEztf6okpKGJA9bApUwJjtsctDz_8JVoBQeqzWuidvnjGl5sRmJT8OUsgt3lK_MwQfAf8AiCN-3aPcsXpwTdogpghIDy625GntvbDuDfd1UWEArNpKW2rmgmnuC2AFxsgp56EQ91gAE2onFEUHqTVwpBA-nQEXCMUNpz&sa=X&ved=2ahUKEwj_q9y_29z2AhXR7XMBHWxiAtYQxA16BAgeEAs',\n",
       " 'https://www.google.com/search?q=Stripe-breasted+woodpecker&si=ANhW_NrBwbdpNHyNEAdL3p7xUv5AGJEN9h9MzGfi7qZ1Ph8M81S8cZd81lkgs3ToPJ_ld7SK-wjZAIfMXkcsQ7-poOcaRUGtMxLeNhyAY1yOcu3fzykdCi85GSjN80pHQlS3_Mb6UvnBWDi4U26K1mw1zKXVXymqKZ9SZPqy81x3K2fRIoYxQblRNq_v3eNDoe5u-31UfdHtrQI6_ROrS8vf07E4-hd5otV9zn-WeyibrqA0XMhs8FeFVPef3s1W1Mitd1RnTP_uqrfNNKxBNa5jmz7UATBS7Bgu4ADFhN1CUHcz65GPpIDdqqEAtwA7977yC62Ohmvg&sa=X&ved=2ahUKEwj_q9y_29z2AhXR7XMBHWxiAtYQxA16BAgeEA0',\n",
       " 'https://www.google.com/search?q=Himalayan+woodpecker&source=hp&ei=-lI7YsfuA5iS0gS6ur7oBQ&iflsig=AHkkrS4AAAAAYjthCs9ywcf3irhzpmQMLU2dKvEeSKeX&ved=0ahUKEwjH04C329z2AhUYiZQKHTqdD10Q4dUDCAc&uact=5&oq=Himalayan+woodpecker&gs_lcp=Cgdnd3Mtd2l6EAMyBQguEIAEMgsILhCABBDHARCvATIGCAAQFhAeUABYYGCwBWgAcAB4AYABmAKIAaYIkgEDMi00mAEAoAEB&sclient=gws-wiz#',\n",
       " 'https://www.google.com/search?q=Himalayan+woodpecker&source=hp&ei=-lI7YsfuA5iS0gS6ur7oBQ&iflsig=AHkkrS4AAAAAYjthCs9ywcf3irhzpmQMLU2dKvEeSKeX&ved=0ahUKEwjH04C329z2AhUYiZQKHTqdD10Q4dUDCAc&uact=5&oq=Himalayan+woodpecker&gs_lcp=Cgdnd3Mtd2l6EAMyBQguEIAEMgsILhCABBDHARCvATIGCAAQFhAeUABYYGCwBWgAcAB4AYABmAKIAaYIkgEDMi00mAEAoAEB&sclient=gws-wiz#',\n",
       " 'https://support.google.com/websearch/?p=ws_results_help&hl=en-IN&fg=1',\n",
       " 'https://www.google.com/search?q=Himalayan+woodpecker&source=hp&ei=-lI7YsfuA5iS0gS6ur7oBQ&iflsig=AHkkrS4AAAAAYjthCs9ywcf3irhzpmQMLU2dKvEeSKeX&ved=0ahUKEwjH04C329z2AhUYiZQKHTqdD10Q4dUDCAc&uact=5&oq=Himalayan+woodpecker&gs_lcp=Cgdnd3Mtd2l6EAMyBQguEIAEMgsILhCABBDHARCvATIGCAAQFhAeUABYYGCwBWgAcAB4AYABmAKIAaYIkgEDMi00mAEAoAEB&sclient=gws-wiz#',\n",
       " 'https://policies.google.com/privacy?hl=en-IN&fg=1',\n",
       " 'https://policies.google.com/terms?hl=en-IN&fg=1']"
      ]
     },
     "execution_count": 59,
     "metadata": {},
     "output_type": "execute_result"
    }
   ],
   "source": [
    "links = [elem.get_attribute(\"href\") for elem in driver.find_elements(by=By.TAG_NAME, value='a')]\n",
    "# driver.find_element(by=By.TAG_NAME, value=\"a\")\n",
    "links"
   ]
  },
  {
   "cell_type": "code",
   "execution_count": 44,
   "metadata": {},
   "outputs": [],
   "source": [
    "import re\n",
    "def GoogleLinksScraperMaha(links):\n",
    "    doms = []\n",
    "    for j in links:\n",
    "        if j:\n",
    "            doms.append(j.split('/')[2])\n",
    "        else:\n",
    "            links.remove(j)\n",
    "    unq_dom = set(doms)\n",
    "    unq_dom_copy = [_ for _ in unq_dom]\n",
    "    pics = []\n",
    "    for i in unq_dom_copy:\n",
    "        k = (re.findall('google',i),re.findall('youtube',i),re.findall('wikipedia',i),re.findall('pinterest',i),re.findall('.*.jpg$',i), re.findall('.*.png$',i),re.findall('Photo'.lower(),i.lower()))\n",
    "        p = (re.findall('.*.jpg$',i), re.findall('.*.png$',i),re.findall('Photo'.lower(),i.lower()))\n",
    "        if any(p):\n",
    "            pics.append(p)\n",
    "        if any(k):\n",
    "            unq_dom.remove(i)\n",
    "    itt = list(unq_dom)\n",
    "    # return {\"links\":links,\"unqdom\":unq_dom,\"pics\":pics,\"domstr\":''.join([itt[_]+',' for _ in range(len(itt)-1)])}\n",
    "    # \"links\"- Original Links List\n",
    "    # \"unqdom\" - unique domains List \n",
    "    # \"domstr\" - Domains Concatinated String \n",
    "    return {\"links\":links,\"unqdom\":unq_dom,\"domstr\":''.join([itt[_]+',' for _ in range(len(itt)-1)])}\n",
    "\n",
    "    \n",
    "def DuckduckgoLinksScraperMaha(links):\n",
    "    doms = []\n",
    "    links = list(filter(None, links))\n",
    "    for j in links:\n",
    "        # if j:\n",
    "        if j != 'javascript:;':\n",
    "            doms.append(j.split('/')[2])\n",
    "        # except:\n",
    "            # print(j)\n",
    "    unq_dom = set(doms)\n",
    "    unq_dom_copy = [_ for _ in unq_dom]\n",
    "    pics = []\n",
    "    for i in unq_dom_copy:\n",
    "        k = (re.findall('duckduckgo',i),re.findall('youtube',i),re.findall('wikipedia',i),re.findall('pinterest',i),re.findall('spreadprivacy',i),re.findall('.*.jpg$',i), re.findall('.*.png$',i),re.findall('Photo'.lower(),i.lower()))\n",
    "        p = (re.findall('.*.jpg$',i), re.findall('.*.png$',i),re.findall('Photo'.lower(),i.lower()))\n",
    "        if any(p):\n",
    "            pics.append(p)\n",
    "        if any(k):\n",
    "            unq_dom.remove(i)\n",
    "    itt = list(unq_dom)\n",
    "    # return {\"links\":links,\"unqdom\":unq_dom,\"pics\":pics,\"domstr\":''.join([itt[_]+',' for _ in range(len(itt)-1)])}\n",
    "    # \"links\"- Original Links List\n",
    "    # \"unqdom\" - unique domains List \n",
    "    # \"domstr\" - Domains Concatinated String\n",
    "    return {\"links\":links,\"unqdom\":unq_dom,\"domstr\":''.join([itt[_]+',' for _ in range(len(itt)-1)])}"
   ]
  },
  {
   "cell_type": "code",
   "execution_count": 47,
   "metadata": {},
   "outputs": [
    {
     "name": "stderr",
     "output_type": "stream",
     "text": [
      "C:\\Users\\LEGION\\AppData\\Local\\Temp\\ipykernel_12012\\1636284928.py:9: DeprecationWarning: executable_path has been deprecated, please pass in a Service object\n",
      "  driver = webdriver.Chrome('./chromedriver.exe')\n"
     ]
    }
   ],
   "source": [
    "from selenium import webdriver\n",
    "from selenium.webdriver.common.keys import Keys\n",
    "from selenium.webdriver.support import expected_conditions as EC\n",
    "from selenium.webdriver.common.by import By\n",
    "from selenium.webdriver.support.wait import WebDriverWait\n",
    "import time\n",
    "import random \n",
    "\n",
    "driver = webdriver.Chrome('./chromedriver.exe')\n",
    "def brute_force_on_google(q):\n",
    "    driver.get('https://www.google.com/')\n",
    "    input_google = WebDriverWait(driver,10).until(EC.element_to_be_clickable((By.CSS_SELECTOR,\"input[name='q']\")))\n",
    "    input_google.send_keys(q)\n",
    "    input_google.send_keys(Keys.ENTER)\n",
    "    links = [elem.get_attribute(\"href\") for elem in driver.find_elements(by=By.TAG_NAME, value='a')]\n",
    "    # return links\n",
    "    return GoogleLinksScraperMaha(links)\n",
    "\n",
    "def google_search_on_data(birds):\n",
    "    Data = {}\n",
    "    for bird in birds:\n",
    "        Data[bird] = brute_force_on_google(bird)\n",
    "        time.sleep(random.randint(1,10))\n",
    "    return Data\n",
    "        \n",
    "def brute_force_on_duckduckgo(q):\n",
    "    driver.get('https://duckduckgo.com/')\n",
    "    input_duckduckgo = WebDriverWait(driver,10).until(EC.element_to_be_clickable((By.CSS_SELECTOR,\"input[id='search_form_input_homepage']\")))\n",
    "    input_duckduckgo.send_keys(q)\n",
    "    input_duckduckgo.send_keys(Keys.ENTER)\n",
    "    links = [elem.get_attribute(\"href\") for elem in driver.find_elements(by=By.TAG_NAME, value='a')]\n",
    "    # return links\n",
    "    return DuckduckgoLinksScraperMaha(links)\n",
    "\n",
    "def duckduckgo_search_on_data(birds):\n",
    "    Data = {}\n",
    "    for bird in birds:\n",
    "        Data[bird] = brute_force_on_duckduckgo(bird)\n",
    "        time.sleep(random.randint(1,10))\n",
    "    return Data\n"
   ]
  },
  {
   "cell_type": "code",
   "execution_count": 24,
   "metadata": {},
   "outputs": [
    {
     "data": {
      "text/plain": [
       "9"
      ]
     },
     "execution_count": 24,
     "metadata": {},
     "output_type": "execute_result"
    }
   ],
   "source": [
    "# len(GoogleLinksScraperMaha(links)['unqdom'])"
   ]
  },
  {
   "cell_type": "code",
   "execution_count": 63,
   "metadata": {},
   "outputs": [
    {
     "name": "stderr",
     "output_type": "stream",
     "text": [
      "C:\\Users\\LEGION\\AppData\\Local\\Temp\\ipykernel_12012\\3891062935.py:1: DeprecationWarning: executable_path has been deprecated, please pass in a Service object\n",
      "  driver = webdriver.Chrome('./chromedriver.exe')\n"
     ]
    }
   ],
   "source": [
    "driver = webdriver.Chrome('./chromedriver.exe')\n",
    "driver.get('https://duckduckgo.com/')\n",
    "input_duckduckgo = WebDriverWait(driver,10).until(EC.element_to_be_clickable((By.CSS_SELECTOR,\"input[id='search_form_input_homepage']\")))"
   ]
  },
  {
   "cell_type": "code",
   "execution_count": 64,
   "metadata": {},
   "outputs": [],
   "source": [
    "input_duckduckgo.send_keys('Himalayan woodpecker')\n",
    "input_duckduckgo.send_keys(Keys.ENTER)"
   ]
  },
  {
   "cell_type": "code",
   "execution_count": 65,
   "metadata": {},
   "outputs": [
    {
     "data": {
      "text/plain": [
       "['https://duckduckgo.com/?t=h_',\n",
       " 'javascript:;',\n",
       " 'https://duckduckgo.com/bang',\n",
       " 'https://duckduckgo.com/?q=Himalayan+woodpecker&t=h_&ia=web#',\n",
       " 'https://duckduckgo.com/app',\n",
       " 'https://duckduckgo.com/app',\n",
       " 'https://duckduckgo.com/newsletter',\n",
       " 'https://duckduckgo.com/newsletter',\n",
       " 'https://spreadprivacy.com/tag/device-privacy-tips/',\n",
       " 'https://spreadprivacy.com/tag/device-privacy-tips/',\n",
       " 'https://duckduckgo.com/spread',\n",
       " 'https://duckduckgo.com/spread',\n",
       " 'https://duckduckgo.com/donations',\n",
       " 'https://duckduckgo.com/donations',\n",
       " 'https://duckduckgo.com/traffic',\n",
       " 'https://duckduckgo.com/traffic',\n",
       " 'https://donttrack.us/',\n",
       " 'https://donttrack.us/',\n",
       " 'https://twitter.com/duckduckgo',\n",
       " 'https://reddit.com/r/duckduckgo',\n",
       " 'https://spreadprivacy.com/',\n",
       " 'https://duckduckgo.com/newsletter',\n",
       " 'https://duckduckgo.com/?q=Himalayan+woodpecker&t=h_&ia=web#',\n",
       " 'https://duckduckgo.com/?q=Himalayan+woodpecker&t=h_&ia=web#',\n",
       " 'https://duckduckgo.com/?q=Himalayan+woodpecker&t=h_&ia=web#',\n",
       " 'https://duckduckgo.com/?q=Himalayan+woodpecker&t=h_&ia=web#',\n",
       " 'https://duckduckgo.com/?q=Himalayan+woodpecker&t=h_&ia=web#',\n",
       " None,\n",
       " 'javascript:;',\n",
       " 'javascript:;',\n",
       " 'javascript:;',\n",
       " None,\n",
       " 'https://duckduckgo.com/?q=Himalayan+woodpecker&t=h_&ia=web#',\n",
       " 'https://duckduckgo.com/?q=Himalayan+woodpecker&t=h_&ia=web#',\n",
       " 'https://en.wikipedia.org/wiki/Himalayan_woodpecker',\n",
       " 'https://en.wikipedia.org/wiki/Himalayan_woodpecker',\n",
       " 'https://duckduckgo.com/?q=Himalayan%20woodpecker+site:en.wikipedia.org&t=h_',\n",
       " 'https://en.wikipedia.org/wiki/Himalayan_woodpecker',\n",
       " 'https://www.youtube.com/watch?v=iMnAqD_Tl5M',\n",
       " 'https://www.youtube.com/watch?v=6bYVZbc1tGU',\n",
       " 'https://www.youtube.com/watch?v=FWbR1D_9Lmc',\n",
       " 'https://www.youtube.com/watch?v=e48gPxovSC4',\n",
       " 'https://www.youtube.com/watch?v=iKgKVRGYLkQ',\n",
       " 'https://www.youtube.com/watch?v=FH_UfMYSdTA',\n",
       " 'https://www.youtube.com/watch?v=j015DumQp-o',\n",
       " 'https://www.youtube.com/watch?v=uElQXkdtRCs',\n",
       " 'https://www.youtube.com/watch?v=3Zzt_O_XCvI',\n",
       " 'https://www.youtube.com/watch?v=8KMXiiQrnzg',\n",
       " 'https://duckduckgo.com/?q=Himalayan+woodpecker&t=h_&ia=web#',\n",
       " 'https://duckduckgo.com/?q=Himalayan+woodpecker&t=h_&ia=web#',\n",
       " 'https://duckduckgo.com/?q=Himalayan+woodpecker&t=h_&ia=web#',\n",
       " 'https://ebird.org/species/himwoo1',\n",
       " 'https://ebird.org/species/himwoo1',\n",
       " 'https://duckduckgo.com/?q=Himalayan%20woodpecker+site:ebird.org&t=h_',\n",
       " 'https://ebird.org/species/himwoo1',\n",
       " 'https://animalia.bio/himalayan-woodpecker',\n",
       " 'https://animalia.bio/himalayan-woodpecker',\n",
       " 'https://duckduckgo.com/?q=Himalayan%20woodpecker+site:animalia.bio&t=h_',\n",
       " 'https://animalia.bio/himalayan-woodpecker',\n",
       " 'https://www.expedia.com/Manali-Hotels-Vrbo-Property.h41050209.Hotel-Information',\n",
       " 'https://www.expedia.com/Manali-Hotels-Vrbo-Property.h41050209.Hotel-Information',\n",
       " 'https://duckduckgo.com/?q=Himalayan%20woodpecker+site:www.expedia.com&t=h_',\n",
       " 'https://www.expedia.com/Manali-Hotels-Vrbo-Property.h41050209.Hotel-Information',\n",
       " 'https://ebird.org/species/himfla1/',\n",
       " 'https://ebird.org/species/himfla1/',\n",
       " 'https://duckduckgo.com/?q=Himalayan%20woodpecker+site:ebird.org&t=h_',\n",
       " 'https://ebird.org/species/himfla1/',\n",
       " 'https://www.oiseaux.net/birds/himalayan.woodpecker.html',\n",
       " 'https://www.oiseaux.net/birds/himalayan.woodpecker.html',\n",
       " 'https://duckduckgo.com/?q=Himalayan%20woodpecker+site:www.oiseaux.net&t=h_',\n",
       " 'https://www.oiseaux.net/birds/himalayan.woodpecker.html',\n",
       " 'https://www.vrbo.com/9125624ha',\n",
       " 'https://www.vrbo.com/9125624ha',\n",
       " 'https://duckduckgo.com/?q=Himalayan%20woodpecker+site:www.vrbo.com&t=h_',\n",
       " 'https://www.vrbo.com/9125624ha',\n",
       " 'https://www.airbnb.co.in/rooms/30895371',\n",
       " 'https://www.airbnb.co.in/rooms/30895371',\n",
       " 'https://duckduckgo.com/?q=Himalayan%20woodpecker+site:www.airbnb.co.in&t=h_',\n",
       " 'https://www.airbnb.co.in/rooms/30895371',\n",
       " 'https://en.wikipedia.org/wiki/Himalayan_Flameback',\n",
       " 'https://en.wikipedia.org/wiki/Himalayan_Flameback',\n",
       " 'https://duckduckgo.com/?q=Himalayan%20woodpecker+site:en.wikipedia.org&t=h_',\n",
       " 'https://en.wikipedia.org/wiki/Himalayan_Flameback',\n",
       " 'https://www.airbnb.co.in/rooms/38196172',\n",
       " 'https://www.airbnb.co.in/rooms/38196172',\n",
       " 'https://duckduckgo.com/?q=Himalayan%20woodpecker+site:www.airbnb.co.in&t=h_',\n",
       " 'https://www.airbnb.co.in/rooms/38196172',\n",
       " 'javascript:;',\n",
       " 'https://en.wikipedia.org/wiki/Himalayan_woodpecker',\n",
       " 'https://en.wikipedia.org/wiki/Himalayan_woodpecker',\n",
       " 'https://en.wikipedia.org/wiki/Himalayan_woodpecker',\n",
       " 'https://duckduckgo.com/?q=Himalayan+woodpecker&t=h_&ia=web#',\n",
       " 'https://duckduckgo.com/settings#theme',\n",
       " 'https://duckduckgo.com/settings',\n",
       " 'https://duckduckgo.com/bangs',\n",
       " 'https://duckduckgo.com/',\n",
       " 'https://duckduckgo.com/app',\n",
       " 'https://spreadprivacy.com/',\n",
       " 'https://duckduckgo.com/newsletter',\n",
       " 'https://duckduckgo.com/spread',\n",
       " 'https://duckduckgo.com/about',\n",
       " 'https://duckduckgo.com/privacy',\n",
       " 'https://duckduckgo.com/hiring',\n",
       " 'https://duckduckgo.com/press',\n",
       " 'https://twitter.com/duckduckgo',\n",
       " 'https://reddit.com/r/duckduckgo',\n",
       " 'https://help.duckduckgo.com/',\n",
       " 'https://start.duckduckgo.com/',\n",
       " 'https://duckduckgo.com/about',\n",
       " 'https://spreadprivacy.com/how-to-remove-google/',\n",
       " 'https://duckduckgo.com/settings#theme',\n",
       " 'https://spreadprivacy.com/',\n",
       " 'https://twitter.com/duckduckgo',\n",
       " 'https://reddit.com/r/duckduckgo',\n",
       " 'https://duckduckgo.com/newsletter']"
      ]
     },
     "execution_count": 65,
     "metadata": {},
     "output_type": "execute_result"
    }
   ],
   "source": [
    "# data-testid=\"result-title-a\"\n",
    "links_ddgo = [elem.get_attribute(\"href\") for elem in driver.find_elements(by=By.TAG_NAME, value='a')]\n",
    "links_ddgo"
   ]
  },
  {
   "cell_type": "code",
   "execution_count": 66,
   "metadata": {},
   "outputs": [
    {
     "data": {
      "text/plain": [
       "{'animalia.bio',\n",
       " 'donttrack.us',\n",
       " 'ebird.org',\n",
       " 'reddit.com',\n",
       " 'twitter.com',\n",
       " 'www.airbnb.co.in',\n",
       " 'www.expedia.com',\n",
       " 'www.oiseaux.net',\n",
       " 'www.vrbo.com'}"
      ]
     },
     "execution_count": 66,
     "metadata": {},
     "output_type": "execute_result"
    }
   ],
   "source": [
    "DuckduckgoLinksScraperMaha(links_ddgo)['unqdom']"
   ]
  },
  {
   "cell_type": "code",
   "execution_count": 49,
   "metadata": {},
   "outputs": [],
   "source": [
    "import pandas as pd\n",
    "types_of_birds_df = pd.read_csv('assets/birds.csv',index_col='ID')\n",
    "list_of_bird_names = [ types_of_birds_df.loc[ _ ,'Common Bird Names'] for _ in range(1,types_of_birds_df.shape[0]) ]"
   ]
  },
  {
   "cell_type": "code",
   "execution_count": 52,
   "metadata": {},
   "outputs": [],
   "source": [
    "result_top_50 = google_search_on_data(list_of_bird_names[:25])"
   ]
  },
  {
   "cell_type": "code",
   "execution_count": 53,
   "metadata": {},
   "outputs": [],
   "source": [
    "result_top_50"
   ]
  },
  {
   "cell_type": "code",
   "execution_count": null,
   "metadata": {},
   "outputs": [],
   "source": []
  }
 ],
 "metadata": {
  "kernelspec": {
   "display_name": "TeWiki",
   "language": "python",
   "name": "indicwiki"
  },
  "language_info": {
   "codemirror_mode": {
    "name": "ipython",
    "version": 3
   },
   "file_extension": ".py",
   "mimetype": "text/x-python",
   "name": "python",
   "nbconvert_exporter": "python",
   "pygments_lexer": "ipython3",
   "version": "3.9.7"
  },
  "orig_nbformat": 4
 },
 "nbformat": 4,
 "nbformat_minor": 2
}
