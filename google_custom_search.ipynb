{
 "cells": [
  {
   "cell_type": "code",
   "execution_count": 2,
   "metadata": {},
   "outputs": [
    {
     "name": "stderr",
     "output_type": "stream",
     "text": [
      "C:\\Users\\LEGION\\AppData\\Local\\Temp\\ipykernel_32992\\2655880302.py:7: DeprecationWarning: executable_path has been deprecated, please pass in a Service object\n",
      "  driver = webdriver.Chrome('./chromedriver.exe')\n"
     ]
    }
   ],
   "source": [
    "from selenium import webdriver\n",
    "from selenium.webdriver.common.keys import Keys\n",
    "from selenium.webdriver.support import expected_conditions as EC\n",
    "from selenium.webdriver.common.by import By\n",
    "from selenium.webdriver.support.wait import WebDriverWait\n",
    "\n",
    "# driver = webdriver.Chrome('./chromedriver.exe')"
   ]
  },
  {
   "cell_type": "code",
   "execution_count": 3,
   "metadata": {},
   "outputs": [],
   "source": [
    "# driver.get('https://www.google.com/')"
   ]
  },
  {
   "cell_type": "code",
   "execution_count": 4,
   "metadata": {},
   "outputs": [],
   "source": [
    "# input_goolgle = WebDriverWait(driver,10).until(EC.element_to_be_clickable((By.CSS_SELECTOR,\"input[name='q']\")))"
   ]
  },
  {
   "cell_type": "code",
   "execution_count": 5,
   "metadata": {},
   "outputs": [],
   "source": [
    "# input_goolgle.send_keys('Himalayan woodpecker')"
   ]
  },
  {
   "cell_type": "code",
   "execution_count": 6,
   "metadata": {},
   "outputs": [],
   "source": [
    "# input_goolgle.send_keys(Keys.ENTER)"
   ]
  },
  {
   "cell_type": "code",
   "execution_count": 7,
   "metadata": {},
   "outputs": [],
   "source": [
    "# links = [elem.get_attribute(\"href\") for elem in driver.find_elements(by=By.TAG_NAME, value='a')]\n",
    "# driver.find_element(by=By.TAG_NAME, value=\"a\")\n",
    "# links"
   ]
  },
  {
   "cell_type": "code",
   "execution_count": 8,
   "metadata": {},
   "outputs": [],
   "source": [
    "import re\n",
    "def GoogleLinksScraperMaha(links):\n",
    "    doms = []\n",
    "    for j in links:\n",
    "        if j:\n",
    "            doms.append(j.split('/')[2])\n",
    "        else:\n",
    "            links.remove(j)\n",
    "    unq_dom = set(doms)\n",
    "    unq_dom_copy = [_ for _ in unq_dom]\n",
    "    pics = []\n",
    "    for i in unq_dom_copy:\n",
    "        k = (re.findall('google',i),re.findall('youtube',i),re.findall('wikipedia',i),re.findall('pinterest',i),re.findall('.*.jpg$',i), re.findall('.*.png$',i),re.findall('Photo'.lower(),i.lower()))\n",
    "        p = (re.findall('.*.jpg$',i), re.findall('.*.png$',i),re.findall('Photo'.lower(),i.lower()))\n",
    "        if any(p):\n",
    "            pics.append(p)\n",
    "        if any(k):\n",
    "            unq_dom.remove(i)\n",
    "    itt = list(unq_dom)\n",
    "    # return {\"links\":links,\"unqdom\":unq_dom,\"pics\":pics,\"domstr\":''.join([itt[_]+',' for _ in range(len(itt)-1)])}\n",
    "    # \"links\"- Original Links List\n",
    "    # \"unqdom\" - unique domains List \n",
    "    # \"domstr\" - Domains Concatinated String \n",
    "    return {\"links\":links,\"unqdom\":unq_dom,\"domstr\":''.join([itt[_]+',' for _ in range(len(itt)-1)])}\n",
    "\n",
    "    \n",
    "def DuckduckgoLinksScraperMaha(links):\n",
    "    doms = []\n",
    "    links = list(filter(None, links))\n",
    "    for j in links:\n",
    "        # if j:\n",
    "        if j != 'javascript:;':\n",
    "            doms.append(j.split('/')[2])\n",
    "        # except:\n",
    "            # print(j)\n",
    "    unq_dom = set(doms)\n",
    "    unq_dom_copy = [_ for _ in unq_dom]\n",
    "    pics = []\n",
    "    for i in unq_dom_copy:\n",
    "        k = (re.findall('duckduckgo',i),re.findall('youtube',i),re.findall('wikipedia',i),re.findall('pinterest',i),re.findall('spreadprivacy',i),re.findall('.*.jpg$',i), re.findall('.*.png$',i),re.findall('Photo'.lower(),i.lower()))\n",
    "        p = (re.findall('.*.jpg$',i), re.findall('.*.png$',i),re.findall('Photo'.lower(),i.lower()))\n",
    "        if any(p):\n",
    "            pics.append(p)\n",
    "        if any(k):\n",
    "            unq_dom.remove(i)\n",
    "    itt = list(unq_dom)\n",
    "    # return {\"links\":links,\"unqdom\":unq_dom,\"pics\":pics,\"domstr\":''.join([itt[_]+',' for _ in range(len(itt)-1)])}\n",
    "    # \"links\"- Original Links List\n",
    "    # \"unqdom\" - unique domains List \n",
    "    # \"domstr\" - Domains Concatinated String\n",
    "    return {\"links\":links,\"unqdom\":unq_dom,\"domstr\":''.join([itt[_]+',' for _ in range(len(itt)-1)])}"
   ]
  },
  {
   "cell_type": "code",
   "execution_count": 9,
   "metadata": {},
   "outputs": [
    {
     "name": "stderr",
     "output_type": "stream",
     "text": [
      "C:\\Users\\LEGION\\AppData\\Local\\Temp\\ipykernel_32992\\2129956860.py:9: DeprecationWarning: executable_path has been deprecated, please pass in a Service object\n",
      "  driver = webdriver.Chrome('./chromedriver.exe')\n"
     ]
    }
   ],
   "source": [
    "from selenium import webdriver\n",
    "from selenium.webdriver.common.keys import Keys\n",
    "from selenium.webdriver.support import expected_conditions as EC\n",
    "from selenium.webdriver.common.by import By\n",
    "from selenium.webdriver.support.wait import WebDriverWait\n",
    "import time\n",
    "import random \n",
    "import csv \n",
    "\n",
    "driver = webdriver.Chrome('./chromedriver.exe')\n",
    "def brute_force_on_google(q):\n",
    "    driver.get('https://www.google.com/')\n",
    "    input_google = WebDriverWait(driver,10).until(EC.element_to_be_clickable((By.CSS_SELECTOR,\"input[name='q']\")))\n",
    "    input_google.send_keys(q)\n",
    "    input_google.send_keys(Keys.ENTER)\n",
    "    links = [elem.get_attribute(\"href\") for elem in driver.find_elements(by=By.TAG_NAME, value='a')]\n",
    "    # return links\n",
    "    return GoogleLinksScraperMaha(links)\n",
    "\n",
    "def google_search_on_data(birds):\n",
    "    writer = csv.writer(open('assets/google_out.csv',\"w\",newline=''))\n",
    "    Data = {}\n",
    "    for bird in birds:\n",
    "        Data[bird] = brute_force_on_google(bird)\n",
    "        writer.writerow([bird,Data[bird]])\n",
    "        time.sleep(random.randint(1,10))\n",
    "    print('[+] ',bird)\n",
    "    return Data\n",
    "        \n",
    "def brute_force_on_duckduckgo(q):\n",
    "    try:\n",
    "        driver.get('https://duckduckgo.com/')\n",
    "        input_duckduckgo = WebDriverWait(driver,10).until(EC.element_to_be_clickable((By.CSS_SELECTOR,\"input[id='search_form_input_homepage']\")))\n",
    "        input_duckduckgo.send_keys(q)\n",
    "        input_duckduckgo.send_keys(Keys.ENTER)\n",
    "        links = [elem.get_attribute(\"href\") for elem in driver.find_elements(by=By.TAG_NAME, value='a')]\n",
    "        # return links\n",
    "        return DuckduckgoLinksScraperMaha(links)\n",
    "    except Exception:\n",
    "        print(\"---->\",q)\n",
    "        return {\"links\":\"NODATA\",\"unqdom\":\"NODATA\",\"domstr\":'NODATA'}\n",
    "import pandas as pd\n",
    "import csv\n",
    "def duckduckgo_search_on_data(birds):\n",
    "    Data = {}\n",
    "    writer = csv.writer(open('assets/duckduckgo_out.csv',\"a\",newline=''))\n",
    "    for bird in birds:\n",
    "        try:\n",
    "            Data[bird] = brute_force_on_duckduckgo(bird)\n",
    "            writer.writerow([bird,Data[bird]['links'],Data[bird]['unqdom'],Data[bird]['domstr']])\n",
    "            time.sleep(random.randint(1,5))\n",
    "            print('+ ',bird)\n",
    "        except Exception:\n",
    "            print('------------> ',bird)\n",
    "    # return Data\n"
   ]
  },
  {
   "cell_type": "code",
   "execution_count": 10,
   "metadata": {},
   "outputs": [],
   "source": [
    "# len(GoogleLinksScraperMaha(links)['unqdom'])"
   ]
  },
  {
   "cell_type": "code",
   "execution_count": 11,
   "metadata": {},
   "outputs": [],
   "source": [
    "# driver = webdriver.Chrome('./chromedriver.exe')\n",
    "# driver.get('https://duckduckgo.com/')\n",
    "# input_duckduckgo = WebDriverWait(driver,10).until(EC.element_to_be_clickable((By.CSS_SELECTOR,\"input[id='search_form_input_homepage']\")))"
   ]
  },
  {
   "cell_type": "code",
   "execution_count": 12,
   "metadata": {},
   "outputs": [],
   "source": [
    "# input_duckduckgo.send_keys('Himalayan woodpecker')\n",
    "# input_duckduckgo.send_keys(Keys.ENTER)"
   ]
  },
  {
   "cell_type": "code",
   "execution_count": 13,
   "metadata": {},
   "outputs": [],
   "source": [
    "# data-testid=\"result-title-a\"\n",
    "# links_ddgo = [elem.get_attribute(\"href\") for elem in driver.find_elements(by=By.TAG_NAME, value='a')]\n",
    "# links_ddgo"
   ]
  },
  {
   "cell_type": "code",
   "execution_count": 14,
   "metadata": {},
   "outputs": [],
   "source": [
    "# DuckduckgoLinksScraperMaha(links_ddgo)['unqdom']"
   ]
  },
  {
   "cell_type": "code",
   "execution_count": 23,
   "metadata": {},
   "outputs": [],
   "source": [
    "import pandas as pd\n",
    "types_of_birds_df = pd.read_csv('assets/birds.csv',index_col='ID')\n",
    "list_of_bird_names = [ types_of_birds_df.loc[ _ ,'Common Bird Names'] for _ in range(1,types_of_birds_df.shape[0]) ]"
   ]
  },
  {
   "cell_type": "code",
   "execution_count": 16,
   "metadata": {},
   "outputs": [],
   "source": [
    "# result_top_2 = google_search_on_data(list_of_bird_names[:2])"
   ]
  },
  {
   "cell_type": "code",
   "execution_count": 24,
   "metadata": {},
   "outputs": [
    {
     "data": {
      "text/plain": [
       "'Acacia pied barbet'"
      ]
     },
     "execution_count": 24,
     "metadata": {},
     "output_type": "execute_result"
    }
   ],
   "source": [
    "# result_top_2\n",
    "list_of_bird_names[23]"
   ]
  },
  {
   "cell_type": "code",
   "execution_count": 18,
   "metadata": {},
   "outputs": [
    {
     "name": "stdout",
     "output_type": "stream",
     "text": [
      "+  Abbott's booby\n",
      "+  Abbott's starling\n",
      "+  Abbott's sunbird\n",
      "+  Abd al-Kuri sparrow\n",
      "+  Abdim's stork\n",
      "+  Aberdare cisticola\n",
      "+  Aberrant bush warbler\n",
      "+  Abert's towhee\n",
      "+  Abyssinian catbird\n",
      "+  Abyssinian crimsonwing\n",
      "+  Abyssinian ground hornbill\n",
      "+  Abyssinian ground thrush\n",
      "+  Abyssinian longclaw\n",
      "+  Abyssinian owl\n",
      "+  Abyssinian roller\n",
      "+  Abyssinian scimitarbill\n",
      "+  Abyssinian slaty flycatcher\n",
      "+  Abyssinian thrush\n",
      "+  Abyssinian waxbill\n"
     ]
    }
   ],
   "source": [
    "def ddg(fro,to):\n",
    "    duckduckgo_search_on_data(list_of_bird_names[fro:to])\n",
    "\n",
    "ddg(1,20)"
   ]
  },
  {
   "cell_type": "code",
   "execution_count": 28,
   "metadata": {},
   "outputs": [],
   "source": [
    "import random\n",
    "def rand_ddg():\n",
    "    prev = 20\n",
    "    curr = random.randint(1,100)\n",
    "    while(prev < 10500):\n",
    "        try:\n",
    "            curr = random.randint(1,25)\n",
    "            prev += curr\n",
    "            print('@ ',prev)\n",
    "            duckduckgo_search_on_data(list_of_bird_names[prev:prev+3])\n",
    "        except Exception:\n",
    "            print('----> ',list_of_bird_names[prev])\n",
    "    print('Done !')\n",
    "# rand_ddg()"
   ]
  },
  {
   "cell_type": "code",
   "execution_count": null,
   "metadata": {},
   "outputs": [],
   "source": []
  }
 ],
 "metadata": {
  "kernelspec": {
   "display_name": "TeWiki",
   "language": "python",
   "name": "indicwiki"
  },
  "language_info": {
   "codemirror_mode": {
    "name": "ipython",
    "version": 3
   },
   "file_extension": ".py",
   "mimetype": "text/x-python",
   "name": "python",
   "nbconvert_exporter": "python",
   "pygments_lexer": "ipython3",
   "version": "3.9.7"
  },
  "orig_nbformat": 4
 },
 "nbformat": 4,
 "nbformat_minor": 2
}
