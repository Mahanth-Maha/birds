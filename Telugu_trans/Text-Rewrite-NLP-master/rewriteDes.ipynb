{
 "cells": [
  {
   "cell_type": "code",
   "execution_count": 1,
   "metadata": {},
   "outputs": [],
   "source": [
    "# # %pip install nltk\n",
    "# %pip install nltk\n",
    "# %pip install spacy\n",
    "# # %pip uninstall spacy==2"
   ]
  },
  {
   "cell_type": "code",
   "execution_count": 2,
   "metadata": {},
   "outputs": [],
   "source": [
    "# !python -m spacy download en_core_web_sm"
   ]
  },
  {
   "cell_type": "code",
   "execution_count": 3,
   "metadata": {},
   "outputs": [
    {
     "name": "stderr",
     "output_type": "stream",
     "text": [
      "C:\\Users\\LEGION\\anaconda3\\envs\\indicwiki\\lib\\site-packages\\tqdm\\auto.py:22: TqdmWarning: IProgress not found. Please update jupyter and ipywidgets. See https://ipywidgets.readthedocs.io/en/stable/user_install.html\n",
      "  from .autonotebook import tqdm as notebook_tqdm\n"
     ]
    }
   ],
   "source": [
    "from text_rewrite import TextRewrite"
   ]
  },
  {
   "cell_type": "code",
   "execution_count": 4,
   "metadata": {},
   "outputs": [],
   "source": [
    "sentences = ['A large and relatively colorful cisticola endemic to Kenya, found locally in montane grassland and moorland. The cap and back of the neck are dull rufous with darker streaking, the back is heavily streaked with black, and there is a rufous panel in the wings. As with other cisticolas, habitat and vocalizations are important to identification. Very similar to Stout Cisticola, but has streaking on the back of the neck. The common vocalizations are a quick series of several squeaky notes, and a series of lower liquid notes.'\n",
    ",'Small shy warbler. Dull brown with a paler belly and brow stripe. Like most bush-warblers, difficult to see as it moves through dense foliage. Listen for its sweet song, consisting of a few introductory notes followed by two long whistles: “ti-ti-tchew weeeeee-cheeeeee’. Visually very difficult to separate from Yellowish-bellied Bush Warbler and Brownish-flanked Bush Warbler, and differences are extremely subtle. Himalayan breeders average more greenish on the back than either of the other two species, and have a strong yellow wash on the belly; Brownish-flanked, with which Aberrant overlaps in the eastern Himalayas, is much browner overall. In central China, Aberrant overlaps with Yellowish-bellied, which has a pale gray throat instead of a yellowish-buff one. Aberrant breeds in shrubby edge, bamboo stands, and open bushy areas in montane and hill areas; upper altitudinal limit averages higher than both Yellowish-bellied and Brownish-flanked.'\n",
    ",'Large, plain, long-tailed sparrow. Drab grayish-brown overall, with dark mask like a Northern Cardinal. Also note pinkish bill and orange undertail coverts. Inhabits riparian corridors, especially in dense brush. Mainly occurs in the Sonoran Desert of Arizona, barely extending into surrounding states and northern Mexico. Rather secretive as it forages on the ground for seeds and insects. Visits feeders.'\n",
    ",'An unusual and distinctive warbler of the Ethiopian highlands. Mostly gray with chestnut under the tail, a red eye, black between the eye and bill, and a white patch above the eye. Found in dry montane juniper and hagenia forest. Easily separated from other gray warblers by the dark gray underparts and rufous undertail. Sometimes skulking, but will sing in the open; the male’s song is an explosive, variable combination of musical, fluted notes, usually accompanied by low ratcheting from the female.'\n",
    ",'Small, dark member of the waxbill family. The back is red, the wings and tail black, and the underparts gray. Males and females are similar, though males show a bit of red on the flanks. Found in montane forest, mainly in thick and wet areas such as along streams, including forest edge and glades. Inconspicuous bird that is usually found in pairs or small groups. The call is a high-pitched “tsit.” Similar in size and overall coloration to Red-faced Crimsonwing, but darker, and doesn’t show red or yellow on the face.'\n",
    ",'A huge ground-dwelling hornbill. Males have a mix of blue and red bare facial skin, while females have entirely blue facial skin. In flight, a large white patch is revealed in the wings. Found in savanna, grassland, and agricultural habitats, usually in pairs or small groups, walking on the ground. Breeds and roosts in trees. Similar to Southern Ground-Hornbill, but there is little overlap in range, and Abyssinian is easily separated by the blue facial skin. The call is a series of deep “boop” notes.'\n",
    ",'Large, brown-backed, orange-breasted thrush with bold white wingbars. Found in the understory of montane forest. Generally shy and scarce. The song is a musical and typically thrush-like, a chatty and cheerful series of whistles and chuckles. The call is a very thin, rising trill. Very similar to Orange Ground-Thrush, but has a different pattern on the head: an orange crown, a plain face, and a complete white eye-ring.'\n",
    ",'A large and relatively colorful member of the pipit family. Note the black necklace, orange throat, and partially yellow eye-stripe. The white corners of the black tail are conspicuous during the weak, fluttering flight. Found on the ground in montane grassland, often in wet areas. Brownish immatures can be confused with pipits, but are larger and more robust. The vocalizations include “tsik” calls and whistles.'\n",
    "]"
   ]
  },
  {
   "cell_type": "code",
   "execution_count": 5,
   "metadata": {},
   "outputs": [
    {
     "name": "stderr",
     "output_type": "stream",
     "text": [
      "c:\\Users\\LEGION\\Documents\\birds\\Telugu_trans\\Text-Rewrite-NLP-master\\best_syn.py:44: UserWarning: [W007] The model you're using has no word vectors loaded, so the result of the Doc.similarity method will be based on the tagger, parser and NER, which may not give useful similarity judgements. This may happen if you're using one of the small models, e.g. `en_core_web_sm`, which don't ship with word vectors and only use context-sensitive tensors. You can always add your own word vectors, or use one of the larger models instead if available.\n",
      "  spacy_score = spacy_raw_word.similarity(spacy_syn_word)\n"
     ]
    },
    {
     "name": "stdout",
     "output_type": "stream",
     "text": [
      "A large and relatively colorful cisticola endemic to Kenya, found locally in montane grassland and moorland. The cap and back of the neck are dull rufous with darker streaking, the back is heavily streaked with black, and there is a rufous panel in the wings. As with other cisticolas, habitat and vocalizations are important to identification. Very similar to Stout Cisticola, but has streaking on the back of the neck. The common vocalizations are a quick series of several squeaky notes, and a series of lower liquid notes. -> A great and relatively colourful fantail rickettsial to Kenya, found locally in honeyeater bushland and grassland. The cape and away of the bottlebottleneck are inactive croceous with darker lunging, the away is heavily motored with achromatic, and there is a croceous mission in the feathers. As with few fantails, wildlife and cadences are great to individualization. Very comparable to Stout Cisticola, but has lunging on the away of the bottlebottleneck. The identical cadences are a short world world series of few guttural bankbanknotes, and a world world series of lower exothermic bankbanknotes.\n",
      "Small shy warbler. Dull brown with a paler belly and brow stripe. Like most bush-warblers, difficult to see as it moves through dense foliage. Listen for its sweet song, consisting of a few introductory notes followed by two long whistles: “ti-ti-tchew weeeeee-cheeeeee’. Visually very difficult to separate from Yellowish-bellied Bush Warbler and Brownish-flanked Bush Warbler, and differences are extremely subtle. Himalayan breeders average more greenish on the back than either of the other two species, and have a strong yellow wash on the belly; Brownish-flanked, with which Aberrant overlaps in the eastern Himalayas, is much browner overall. In central China, Aberrant overlaps with Yellowish-bellied, which has a pale gray throat instead of a yellowish-buff one. Aberrant breeds in shrubby edge, bamboo stands, and open bushy areas in montane and hill areas; upper altitudinal limit averages higher than both Yellowish-bellied and Brownish-flanked. -> low cauhfous sandpiper. inachfve alfred with a pudgier jelly and brow outfit. Like best bushboy-sandpipers, ambihfous to see as it moves through massive foilage. Listen for its soft chanson, consishfng of a several interlocutory banknotes followed by two far fanfares: “hf-hf-tchew -’. Visually very ambihfous to separate from bluish-bellied Bush Warbler and Brownish-flanked Bush Warbler, and derogations are extremely secretive. bhutan rearers average more cerulean on the away than either of the several two interspecies, and have a consistent pink avenge on the jelly; Brownish-flanked, with which mesodermal overlaps in the asian Himalayas, is much alfreder overhead. In cental China, mesodermal overlaps with bluish-bellied, which has a sallow grey neck instead of a pinkish-watcher one. mesodermal breeds in tuberous surface, yuba falls, and open bucauhfous divisions in honeyeater and hillside divisions; maximal alhftudinal halt rushers higher than both bluish-bellied and Brownish-flanked.\n",
      "Large, plain, long-tailed sparrow. Drab grayish-brown overall, with dark mask like a Northern Cardinal. Also note pinkish bill and orange undertail coverts. Inhabits riparian corridors, especially in dense brush. Mainly occurs in the Sonoran Desert of Arizona, barely extending into surrounding states and northern Mexico. Rather secretive as it forages on the ground for seeds and insects. Visits feeders. -> great, straightforward, long-tailed hedge sparrow. bleak greyish-alfred overhead, with crepuscular shield like a federal Cardinal. Also note roundish invoice and orange fallows fallows. lurks boreal dealers, especially in massive dustbrush. Mainly occurs in the Sonoran Desert of Arizona, barely extending into surrounding nations and federal Mexico. Rather clancular as it forages on the site for cuttings and organisms. checks sawflies.\n",
      "An unusual and distinctive warbler of the Ethiopian highlands. Mostly gray with chestnut under the tail, a red eye, black between the eye and bill, and a white patch above the eye. Found in dry montane juniper and hagenia forest. Easily separated from other gray warblers by the dark gray underparts and rufous undertail. Sometimes skulking, but will sing in the open; the male’s song is an explosive, variable combination of musical, fluted notes, usually accompanied by low ratcheting from the female. -> An untraditional and exclusive sandpiper of the syrian uplands. Mostly grey with chestnut under the glue, a achromatic optometry, achromatic between the optometry and invoice, and a green mesh above the optometry. Found in rainless honeyeater jupiter and hagenia virgin forest. Easily separated from several grey sandpipers by the crepuscular grey lardons and croceous underglue. Sometimes skulking, but will sing in the vulnerable; the male’s chanson is an incendiary, variant assemblage of tonal, fluted banknotes, usually accompanied by high ratcheting from the male.\n",
      "Small, dark member of the waxbill family. The back is red, the wings and tail black, and the underparts gray. Males and females are similar, though males show a bit of red on the flanks. Found in montane forest, mainly in thick and wet areas such as along streams, including forest edge and glades. Inconspicuous bird that is usually found in pairs or small groups. The call is a high-pitched “tsit.” Similar in size and overall coloration to Red-faced Crimsonwing, but darker, and doesn’t show red or yellow on the face. -> low, crepuscular councilor of the waxbill child. The away is achromatic, the feathers and glue achromatic, and the lardons grey. roosters and cygnets are comparable, though roosters show a way of achromatic on the corners. Found in honeyeater virgin virgin forest, mainly in stuffy and squiffy divisions other as along flows, including virgin virgin forest surtypeface and slopes. unintrusive gentleman that is usually found in sets or low bodies. The announce is a high-pitched “text.” comparable in figure and overhead pigmentation to Red-typefaced Crimsonwing, but crepuscularer, and doesn’t show achromatic or pink on the typeface.\n",
      "A huge ground-dwelling hornbill. Males have a mix of blue and red bare facial skin, while females have entirely blue facial skin. In flight, a large white patch is revealed in the wings. Found in savanna, grassland, and agricultural habitats, usually in pairs or small groups, walking on the ground. Breeds and roosts in trees. Similar to Southern Ground-Hornbill, but there is little overlap in range, and Abyssinian is easily separated by the blue facial skin. The call is a series of deep “boop” notes. -> A crucial site-dwelling pochard. roosters have a dosage of rare and black narrow genital complexion, while cygnets have entirely rare genital complexion. In air, a great green mesh is revealed in the feathers. Found in bushland, bushland, and ecological amphibians, usually in sets or low bodies, walking on the site. feeds and occurrences in fronds. comparable to Southern Ground-Hornbill, but there is much converge in line, and Abyssinian is easily separated by the rare genital complexion. The announce is a world series of thorough “pasa” banknotes.\n",
      "Large, brown-backed, orange-breasted thrush with bold white wingbars. Found in the understory of montane forest. Generally shy and scarce. The song is a musical and typically thrush-like, a chatty and cheerful series of whistles and chuckles. The call is a very thin, rising trill. Very similar to Orange Ground-Thrush, but has a different pattern on the head: an orange crown, a plain face, and a complete white eye-ring. -> great, alfred-backed, gray-breasted bayberry with flamboyant green . Found in the mesic of honoptometryater virgin forest. Generally cautious and low. The chanson is a tonal and typiannouncey bayberry-unlike, a garrulous and delightful world series of fanfares and hoots. The announce is a very weak, rising vivace. Very comparable to Orange Ground-Thrush, but has a unequal behavior on the guide: an gray prince, a straightforward typeface, and a perfect green optometry-tone.\n"
     ]
    },
    {
     "ename": "HTTPError",
     "evalue": "HTTP Error 503: Service Unavailable: Back-end server is at capacity",
     "output_type": "error",
     "traceback": [
      "\u001b[1;31m---------------------------------------------------------------------------\u001b[0m",
      "\u001b[1;31mHTTPError\u001b[0m                                 Traceback (most recent call last)",
      "\u001b[1;32mc:\\Users\\LEGION\\Documents\\birds\\Telugu_trans\\Text-Rewrite-NLP-master\\rewriteDes.ipynb Cell 5'\u001b[0m in \u001b[0;36m<cell line: 1>\u001b[1;34m()\u001b[0m\n\u001b[0;32m      <a href='vscode-notebook-cell:/c%3A/Users/LEGION/Documents/birds/Telugu_trans/Text-Rewrite-NLP-master/rewriteDes.ipynb#ch0000003?line=0'>1</a>\u001b[0m \u001b[39mfor\u001b[39;00m sentence \u001b[39min\u001b[39;00m sentences:\n\u001b[1;32m----> <a href='vscode-notebook-cell:/c%3A/Users/LEGION/Documents/birds/Telugu_trans/Text-Rewrite-NLP-master/rewriteDes.ipynb#ch0000003?line=1'>2</a>\u001b[0m     new_sentence \u001b[39m=\u001b[39m TextRewrite(sentence)\u001b[39m.\u001b[39;49mwork() \n\u001b[0;32m      <a href='vscode-notebook-cell:/c%3A/Users/LEGION/Documents/birds/Telugu_trans/Text-Rewrite-NLP-master/rewriteDes.ipynb#ch0000003?line=2'>3</a>\u001b[0m     \u001b[39mprint\u001b[39m(sentence \u001b[39m+\u001b[39m \u001b[39m\"\u001b[39m\u001b[39m -> \u001b[39m\u001b[39m\"\u001b[39m \u001b[39m+\u001b[39m new_sentence)\n",
      "File \u001b[1;32mc:\\Users\\LEGION\\Documents\\birds\\Telugu_trans\\Text-Rewrite-NLP-master\\text_rewrite.py:29\u001b[0m, in \u001b[0;36mTextRewrite.work\u001b[1;34m(self)\u001b[0m\n\u001b[0;32m     <a href='file:///c%3A/Users/LEGION/Documents/birds/Telugu_trans/Text-Rewrite-NLP-master/text_rewrite.py?line=26'>27</a>\u001b[0m rewrited_sentence \u001b[39m=\u001b[39m \u001b[39mself\u001b[39m\u001b[39m.\u001b[39msentence\n\u001b[0;32m     <a href='file:///c%3A/Users/LEGION/Documents/birds/Telugu_trans/Text-Rewrite-NLP-master/text_rewrite.py?line=27'>28</a>\u001b[0m \u001b[39mfor\u001b[39;00m word \u001b[39min\u001b[39;00m words:\n\u001b[1;32m---> <a href='file:///c%3A/Users/LEGION/Documents/birds/Telugu_trans/Text-Rewrite-NLP-master/text_rewrite.py?line=28'>29</a>\u001b[0m     word_syn \u001b[39m=\u001b[39m BestSyn(word)\u001b[39m.\u001b[39;49mpull()[\u001b[39m1\u001b[39m]\n\u001b[0;32m     <a href='file:///c%3A/Users/LEGION/Documents/birds/Telugu_trans/Text-Rewrite-NLP-master/text_rewrite.py?line=29'>30</a>\u001b[0m     rewrited_sentence \u001b[39m=\u001b[39m rewrited_sentence\u001b[39m.\u001b[39mreplace(word, word_syn)\n\u001b[0;32m     <a href='file:///c%3A/Users/LEGION/Documents/birds/Telugu_trans/Text-Rewrite-NLP-master/text_rewrite.py?line=30'>31</a>\u001b[0m \u001b[39mreturn\u001b[39;00m rewrited_sentence\n",
      "File \u001b[1;32mc:\\Users\\LEGION\\Documents\\birds\\Telugu_trans\\Text-Rewrite-NLP-master\\best_syn.py:31\u001b[0m, in \u001b[0;36mBestSyn.pull\u001b[1;34m(self)\u001b[0m\n\u001b[0;32m     <a href='file:///c%3A/Users/LEGION/Documents/birds/Telugu_trans/Text-Rewrite-NLP-master/best_syn.py?line=29'>30</a>\u001b[0m \u001b[39mdef\u001b[39;00m \u001b[39mpull\u001b[39m(\u001b[39mself\u001b[39m):\n\u001b[1;32m---> <a href='file:///c%3A/Users/LEGION/Documents/birds/Telugu_trans/Text-Rewrite-NLP-master/best_syn.py?line=30'>31</a>\u001b[0m     words_list \u001b[39m=\u001b[39m \u001b[39mself\u001b[39;49m\u001b[39m.\u001b[39;49mget_datamuse_syn_list()\n\u001b[0;32m     <a href='file:///c%3A/Users/LEGION/Documents/birds/Telugu_trans/Text-Rewrite-NLP-master/best_syn.py?line=31'>32</a>\u001b[0m     \u001b[39mfor\u001b[39;00m syn_word \u001b[39min\u001b[39;00m words_list:\n\u001b[0;32m     <a href='file:///c%3A/Users/LEGION/Documents/birds/Telugu_trans/Text-Rewrite-NLP-master/best_syn.py?line=32'>33</a>\u001b[0m         use_nltk \u001b[39m=\u001b[39m \u001b[39mTrue\u001b[39;00m\n",
      "File \u001b[1;32mc:\\Users\\LEGION\\Documents\\birds\\Telugu_trans\\Text-Rewrite-NLP-master\\best_syn.py:16\u001b[0m, in \u001b[0;36mBestSyn.get_datamuse_syn_list\u001b[1;34m(self)\u001b[0m\n\u001b[0;32m     <a href='file:///c%3A/Users/LEGION/Documents/birds/Telugu_trans/Text-Rewrite-NLP-master/best_syn.py?line=13'>14</a>\u001b[0m \u001b[39mdef\u001b[39;00m \u001b[39mget_datamuse_syn_list\u001b[39m(\u001b[39mself\u001b[39m):\n\u001b[0;32m     <a href='file:///c%3A/Users/LEGION/Documents/birds/Telugu_trans/Text-Rewrite-NLP-master/best_syn.py?line=14'>15</a>\u001b[0m     url \u001b[39m=\u001b[39m \u001b[39m\"\u001b[39m\u001b[39mhttps://api.datamuse.com/words?ml=\u001b[39m\u001b[39m\"\u001b[39m \u001b[39m+\u001b[39m \u001b[39mself\u001b[39m\u001b[39m.\u001b[39mword\n\u001b[1;32m---> <a href='file:///c%3A/Users/LEGION/Documents/birds/Telugu_trans/Text-Rewrite-NLP-master/best_syn.py?line=15'>16</a>\u001b[0m     response \u001b[39m=\u001b[39m urllib\u001b[39m.\u001b[39;49mrequest\u001b[39m.\u001b[39;49murlopen(url)\n\u001b[0;32m     <a href='file:///c%3A/Users/LEGION/Documents/birds/Telugu_trans/Text-Rewrite-NLP-master/best_syn.py?line=16'>17</a>\u001b[0m     data \u001b[39m=\u001b[39m response\u001b[39m.\u001b[39mread()\u001b[39m.\u001b[39mdecode(\u001b[39m\"\u001b[39m\u001b[39mutf-8\u001b[39m\u001b[39m\"\u001b[39m)\n\u001b[0;32m     <a href='file:///c%3A/Users/LEGION/Documents/birds/Telugu_trans/Text-Rewrite-NLP-master/best_syn.py?line=17'>18</a>\u001b[0m     json_data \u001b[39m=\u001b[39m json\u001b[39m.\u001b[39mloads(data)\n",
      "File \u001b[1;32m~\\anaconda3\\envs\\indicwiki\\lib\\urllib\\request.py:214\u001b[0m, in \u001b[0;36murlopen\u001b[1;34m(url, data, timeout, cafile, capath, cadefault, context)\u001b[0m\n\u001b[0;32m    <a href='file:///c%3A/Users/LEGION/anaconda3/envs/indicwiki/lib/urllib/request.py?line=211'>212</a>\u001b[0m \u001b[39melse\u001b[39;00m:\n\u001b[0;32m    <a href='file:///c%3A/Users/LEGION/anaconda3/envs/indicwiki/lib/urllib/request.py?line=212'>213</a>\u001b[0m     opener \u001b[39m=\u001b[39m _opener\n\u001b[1;32m--> <a href='file:///c%3A/Users/LEGION/anaconda3/envs/indicwiki/lib/urllib/request.py?line=213'>214</a>\u001b[0m \u001b[39mreturn\u001b[39;00m opener\u001b[39m.\u001b[39;49mopen(url, data, timeout)\n",
      "File \u001b[1;32m~\\anaconda3\\envs\\indicwiki\\lib\\urllib\\request.py:523\u001b[0m, in \u001b[0;36mOpenerDirector.open\u001b[1;34m(self, fullurl, data, timeout)\u001b[0m\n\u001b[0;32m    <a href='file:///c%3A/Users/LEGION/anaconda3/envs/indicwiki/lib/urllib/request.py?line=520'>521</a>\u001b[0m \u001b[39mfor\u001b[39;00m processor \u001b[39min\u001b[39;00m \u001b[39mself\u001b[39m\u001b[39m.\u001b[39mprocess_response\u001b[39m.\u001b[39mget(protocol, []):\n\u001b[0;32m    <a href='file:///c%3A/Users/LEGION/anaconda3/envs/indicwiki/lib/urllib/request.py?line=521'>522</a>\u001b[0m     meth \u001b[39m=\u001b[39m \u001b[39mgetattr\u001b[39m(processor, meth_name)\n\u001b[1;32m--> <a href='file:///c%3A/Users/LEGION/anaconda3/envs/indicwiki/lib/urllib/request.py?line=522'>523</a>\u001b[0m     response \u001b[39m=\u001b[39m meth(req, response)\n\u001b[0;32m    <a href='file:///c%3A/Users/LEGION/anaconda3/envs/indicwiki/lib/urllib/request.py?line=524'>525</a>\u001b[0m \u001b[39mreturn\u001b[39;00m response\n",
      "File \u001b[1;32m~\\anaconda3\\envs\\indicwiki\\lib\\urllib\\request.py:632\u001b[0m, in \u001b[0;36mHTTPErrorProcessor.http_response\u001b[1;34m(self, request, response)\u001b[0m\n\u001b[0;32m    <a href='file:///c%3A/Users/LEGION/anaconda3/envs/indicwiki/lib/urllib/request.py?line=628'>629</a>\u001b[0m \u001b[39m# According to RFC 2616, \"2xx\" code indicates that the client's\u001b[39;00m\n\u001b[0;32m    <a href='file:///c%3A/Users/LEGION/anaconda3/envs/indicwiki/lib/urllib/request.py?line=629'>630</a>\u001b[0m \u001b[39m# request was successfully received, understood, and accepted.\u001b[39;00m\n\u001b[0;32m    <a href='file:///c%3A/Users/LEGION/anaconda3/envs/indicwiki/lib/urllib/request.py?line=630'>631</a>\u001b[0m \u001b[39mif\u001b[39;00m \u001b[39mnot\u001b[39;00m (\u001b[39m200\u001b[39m \u001b[39m<\u001b[39m\u001b[39m=\u001b[39m code \u001b[39m<\u001b[39m \u001b[39m300\u001b[39m):\n\u001b[1;32m--> <a href='file:///c%3A/Users/LEGION/anaconda3/envs/indicwiki/lib/urllib/request.py?line=631'>632</a>\u001b[0m     response \u001b[39m=\u001b[39m \u001b[39mself\u001b[39;49m\u001b[39m.\u001b[39;49mparent\u001b[39m.\u001b[39;49merror(\n\u001b[0;32m    <a href='file:///c%3A/Users/LEGION/anaconda3/envs/indicwiki/lib/urllib/request.py?line=632'>633</a>\u001b[0m         \u001b[39m'\u001b[39;49m\u001b[39mhttp\u001b[39;49m\u001b[39m'\u001b[39;49m, request, response, code, msg, hdrs)\n\u001b[0;32m    <a href='file:///c%3A/Users/LEGION/anaconda3/envs/indicwiki/lib/urllib/request.py?line=634'>635</a>\u001b[0m \u001b[39mreturn\u001b[39;00m response\n",
      "File \u001b[1;32m~\\anaconda3\\envs\\indicwiki\\lib\\urllib\\request.py:561\u001b[0m, in \u001b[0;36mOpenerDirector.error\u001b[1;34m(self, proto, *args)\u001b[0m\n\u001b[0;32m    <a href='file:///c%3A/Users/LEGION/anaconda3/envs/indicwiki/lib/urllib/request.py?line=558'>559</a>\u001b[0m \u001b[39mif\u001b[39;00m http_err:\n\u001b[0;32m    <a href='file:///c%3A/Users/LEGION/anaconda3/envs/indicwiki/lib/urllib/request.py?line=559'>560</a>\u001b[0m     args \u001b[39m=\u001b[39m (\u001b[39mdict\u001b[39m, \u001b[39m'\u001b[39m\u001b[39mdefault\u001b[39m\u001b[39m'\u001b[39m, \u001b[39m'\u001b[39m\u001b[39mhttp_error_default\u001b[39m\u001b[39m'\u001b[39m) \u001b[39m+\u001b[39m orig_args\n\u001b[1;32m--> <a href='file:///c%3A/Users/LEGION/anaconda3/envs/indicwiki/lib/urllib/request.py?line=560'>561</a>\u001b[0m     \u001b[39mreturn\u001b[39;00m \u001b[39mself\u001b[39;49m\u001b[39m.\u001b[39;49m_call_chain(\u001b[39m*\u001b[39;49margs)\n",
      "File \u001b[1;32m~\\anaconda3\\envs\\indicwiki\\lib\\urllib\\request.py:494\u001b[0m, in \u001b[0;36mOpenerDirector._call_chain\u001b[1;34m(self, chain, kind, meth_name, *args)\u001b[0m\n\u001b[0;32m    <a href='file:///c%3A/Users/LEGION/anaconda3/envs/indicwiki/lib/urllib/request.py?line=491'>492</a>\u001b[0m \u001b[39mfor\u001b[39;00m handler \u001b[39min\u001b[39;00m handlers:\n\u001b[0;32m    <a href='file:///c%3A/Users/LEGION/anaconda3/envs/indicwiki/lib/urllib/request.py?line=492'>493</a>\u001b[0m     func \u001b[39m=\u001b[39m \u001b[39mgetattr\u001b[39m(handler, meth_name)\n\u001b[1;32m--> <a href='file:///c%3A/Users/LEGION/anaconda3/envs/indicwiki/lib/urllib/request.py?line=493'>494</a>\u001b[0m     result \u001b[39m=\u001b[39m func(\u001b[39m*\u001b[39;49margs)\n\u001b[0;32m    <a href='file:///c%3A/Users/LEGION/anaconda3/envs/indicwiki/lib/urllib/request.py?line=494'>495</a>\u001b[0m     \u001b[39mif\u001b[39;00m result \u001b[39mis\u001b[39;00m \u001b[39mnot\u001b[39;00m \u001b[39mNone\u001b[39;00m:\n\u001b[0;32m    <a href='file:///c%3A/Users/LEGION/anaconda3/envs/indicwiki/lib/urllib/request.py?line=495'>496</a>\u001b[0m         \u001b[39mreturn\u001b[39;00m result\n",
      "File \u001b[1;32m~\\anaconda3\\envs\\indicwiki\\lib\\urllib\\request.py:641\u001b[0m, in \u001b[0;36mHTTPDefaultErrorHandler.http_error_default\u001b[1;34m(self, req, fp, code, msg, hdrs)\u001b[0m\n\u001b[0;32m    <a href='file:///c%3A/Users/LEGION/anaconda3/envs/indicwiki/lib/urllib/request.py?line=639'>640</a>\u001b[0m \u001b[39mdef\u001b[39;00m \u001b[39mhttp_error_default\u001b[39m(\u001b[39mself\u001b[39m, req, fp, code, msg, hdrs):\n\u001b[1;32m--> <a href='file:///c%3A/Users/LEGION/anaconda3/envs/indicwiki/lib/urllib/request.py?line=640'>641</a>\u001b[0m     \u001b[39mraise\u001b[39;00m HTTPError(req\u001b[39m.\u001b[39mfull_url, code, msg, hdrs, fp)\n",
      "\u001b[1;31mHTTPError\u001b[0m: HTTP Error 503: Service Unavailable: Back-end server is at capacity"
     ]
    }
   ],
   "source": [
    "for sentence in sentences:\n",
    "    new_sentence = TextRewrite(sentence).work() \n",
    "    print(sentence + \" -> \" + new_sentence)"
   ]
  },
  {
   "cell_type": "code",
   "execution_count": null,
   "metadata": {},
   "outputs": [],
   "source": []
  },
  {
   "cell_type": "code",
   "execution_count": null,
   "metadata": {},
   "outputs": [],
   "source": []
  }
 ],
 "metadata": {
  "interpreter": {
   "hash": "42d6ad2300f95fe0c7f6a60c12c48647e2bcd2586845f44744679f29e9c833c5"
  },
  "kernelspec": {
   "display_name": "AkWiki",
   "language": "python",
   "name": "indicwiki"
  },
  "language_info": {
   "codemirror_mode": {
    "name": "ipython",
    "version": 3
   },
   "file_extension": ".py",
   "mimetype": "text/x-python",
   "name": "python",
   "nbconvert_exporter": "python",
   "pygments_lexer": "ipython3",
   "version": "3.9.12"
  },
  "orig_nbformat": 4
 },
 "nbformat": 4,
 "nbformat_minor": 2
}
